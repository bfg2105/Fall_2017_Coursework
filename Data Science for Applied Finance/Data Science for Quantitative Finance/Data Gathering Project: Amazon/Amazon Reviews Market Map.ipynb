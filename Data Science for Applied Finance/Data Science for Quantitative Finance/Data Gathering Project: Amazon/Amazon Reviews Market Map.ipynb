{
 "cells": [
  {
   "cell_type": "markdown",
   "metadata": {},
   "source": [
    "# Data Gathering Project: Amazon Reviews\n",
    "### MATH-GA 2047-001 Data Science in Quantetative Finance\n",
    "Group Member Names:  \n",
    "\n",
    "**Author A: Binqian Zeng **\n",
    "\n",
    "**NetID: bz866**\n",
    "\n",
    "**Email: bz866@nyu.edu**\n",
    "<br>\n",
    "<br>\n",
    "\n",
    "**Author B: Bailey Griswold **  \n",
    "**NetID: bg1672**  \n",
    "**Email: bg1672@nyu.edu**  \n",
    "<br>\n",
    "<br>\n",
    "**Author C: Shouxi Wei **  \n",
    "**NetID: sw3558**  \n",
    "**Email: sw3558@nyu.edu**\n",
    "<br>\n",
    "<br>\n",
    "\n",
    "BQPlotting  \n",
    "Part 1:  \n",
    "What are the top 200 most reviewed items in each category?  \n",
    "Part 2:  \n",
    "Use BQPlot MarketMap widget and have a grid map of the top 200 most reviewed items at a given point of time.  \n",
    "Hovering over each cell on the map shows a plot of the number of reviews as a function of time for that item.  \n",
    "Using either a slider or using an IndexSelector on top of the chart of the total number of reviews, have the user dynamically select the calendar date at which the MarketMap shows the top 200 most reviewed items. In general you expect the list of top 200 to be different as the calendar date changes."
   ]
  },
  {
   "cell_type": "code",
   "execution_count": 1,
   "metadata": {
    "collapsed": true
   },
   "outputs": [],
   "source": [
    "import pandas as pd\n",
    "import numpy as np\n",
    "import os\n",
    "\n",
    "from bqplot import (\n",
    "    LogScale, LinearScale, ColorScale, OrdinalColorScale, ColorAxis,\n",
    "    Axis, Scatter, Lines, CATEGORY10, Label, Figure, Tooltip, DateScale, toolbar\n",
    ")\n",
    "\n",
    "from bqplot.market_map import MarketMap\n",
    "\n",
    "from ipywidgets import HBox, VBox, IntSlider, Play, jslink, Layout"
   ]
  },
  {
   "cell_type": "code",
   "execution_count": 40,
   "metadata": {
    "collapsed": true
   },
   "outputs": [],
   "source": [
    "# define category\n",
    "cat = 'Beauty'"
   ]
  },
  {
   "cell_type": "code",
   "execution_count": 41,
   "metadata": {
    "collapsed": true
   },
   "outputs": [],
   "source": [
    "# read in data\n",
    "df = pd.read_pickle('./DataFrame_Pickle/df_reviews_'+cat+'.pkl')\n",
    "df_products = pd.read_pickle('./DataFrame_Pickle/df_products_'+cat+'.pkl')"
   ]
  },
  {
   "cell_type": "code",
   "execution_count": 42,
   "metadata": {
    "collapsed": true
   },
   "outputs": [],
   "source": [
    "# Get a count of reviews as a function of time for all products\n",
    "\n",
    "# count occurances of reviews for each date\n",
    "date_counts = pd.DataFrame(df.groupby('productid').timestamp.value_counts())\n",
    "\n",
    "#sort dates for each product\n",
    "date_counts.sort_index(level='productid', inplace=True)\n",
    "\n",
    "#rename count column from timestamp to date tally\n",
    "date_counts.rename(columns={'timestamp':'date_tally'}, inplace=True)\n",
    "\n",
    "#alternate way to make the cumulative counts\n",
    "date_counts.reset_index(inplace=True) #resets index\n",
    "tally = date_counts.set_index(['timestamp','productid']).unstack(level=1).copy() #transposes df\n",
    "\n",
    "tally.columns = tally.columns.droplevel(0) #drops multiindex from columns\n",
    "tally = tally.cumsum() #cumulatively sums the daily counts\n",
    "\n",
    "tally = tally.fillna(method='ffill', axis=0)"
   ]
  },
  {
   "cell_type": "code",
   "execution_count": 43,
   "metadata": {
    "collapsed": true
   },
   "outputs": [],
   "source": [
    "def get_top200(year):\n",
    "    df_yr = df[df['timestamp'].dt.year <= year]\n",
    "    counts = pd.DataFrame(df_yr.groupby(['productid']).size()).sort_values(by=0, ascending=False)\n",
    "    counts.rename(columns={0:'total_reviews'}, inplace=True)\n",
    "    \n",
    "    \n",
    "    df_names = pd.merge(counts, df_products, left_index=True, right_on='productid', how='left')\n",
    "    df_names.drop(['imUrl'], axis=1, inplace=True)\n",
    "    \n",
    "    top_200 = df_names.head(200)\n",
    "    return top_200.productid.values, top_200"
   ]
  },
  {
   "cell_type": "code",
   "execution_count": 44,
   "metadata": {
    "collapsed": true
   },
   "outputs": [],
   "source": [
    "initial_year = 1995"
   ]
  },
  {
   "cell_type": "code",
   "execution_count": 45,
   "metadata": {
    "collapsed": true
   },
   "outputs": [],
   "source": [
    "# Creating the figure to be displayed as the tooltip\n",
    "sc_x = DateScale()\n",
    "sc_y = LinearScale()\n",
    "\n",
    "ax_x = Axis(scale=sc_x, grid_lines='dashed', label='Date')\n",
    "ax_y = Axis(scale=sc_y, orientation='vertical', grid_lines='dashed',\n",
    "         label='Number of Reviews')\n",
    "\n",
    "line = Lines(x= tally.index.values, y=[], scales={'x': sc_x, 'y': sc_y}, colors=['orange'])\n",
    "fig_tooltip = Figure(marks=[line], axes=[ax_x, ax_y])"
   ]
  },
  {
   "cell_type": "code",
   "execution_count": 51,
   "metadata": {},
   "outputs": [],
   "source": [
    "# make the market map for the initial year of reviews\n",
    "products, data = get_top200(1995)\n",
    "col = ColorScale(scheme='Greens')\n",
    "ax_c = ColorAxis(scale=col, label='tally', visible=False)\n",
    "market_map = MarketMap(names=data.productid.values,      \n",
    "                       # basic data which needs to set for each map\n",
    "                       ref_data=data,            \n",
    "                       # Data frame which can be used for different properties of the map\n",
    "                       # Axis and scale for color data\n",
    "                        tooltip_widget=fig_tooltip,\n",
    "                       scales={'color': col}, axes=[ax_c],\n",
    "                       layout=Layout(min_width='1000px', min_height='800px'))\n",
    "\n",
    "market_map.colors = ['MediumSeaGreen']\n",
    "market_map.font_style = {'font-size': '10px', 'fill':'white'}\n",
    "market_map.title = cat\n",
    "market_map.title_style = {'fill': 'Red'}\n",
    "\n",
    "# Update the tooltip chart\n",
    "hovered_symbol = ''\n",
    "def hover_handler(self, content):\n",
    "    global hovered_symbol\n",
    "    symbol = content.get('data', '') #what is this function? what is data?\n",
    "    \n",
    "    if(symbol != hovered_symbol):\n",
    "        hovered_symbol = symbol\n",
    "        if(tally.get(hovered_symbol) is not None):\n",
    "            line.y = tally[hovered_symbol].values\n",
    "            fig_tooltip.title = content.get('ref_data', {}).get('title', '')\n",
    "            \n"
   ]
  },
  {
   "cell_type": "code",
   "execution_count": 52,
   "metadata": {},
   "outputs": [],
   "source": [
    "# Add in a slider bar that responds to being changed\n",
    "year_slider = IntSlider(min=1995, max=2014, step=1, description='Year', value=initial_year)\n",
    "\n",
    "def year_changed(change):\n",
    "    market_map.names, market_map.ref_data = get_top200(year_slider.value)\n",
    "    #year_label.text = [str(year_slider.value)]\n",
    "\n",
    "year_slider.observe(year_changed, 'value')"
   ]
  },
  {
   "cell_type": "code",
   "execution_count": 53,
   "metadata": {
    "scrolled": true
   },
   "outputs": [
    {
     "data": {
      "application/vnd.jupyter.widget-view+json": {
       "model_id": "bf84b06ffeb04d709b424d30801840ae",
       "version_major": 2,
       "version_minor": 0
      },
      "text/plain": [
       "A Jupyter Widget"
      ]
     },
     "metadata": {},
     "output_type": "display_data"
    }
   ],
   "source": [
    "# Show the interative plot\n",
    "market_map.on_hover(hover_handler)\n",
    "VBox([HBox([year_slider]), market_map])"
   ]
  },
  {
   "cell_type": "code",
   "execution_count": null,
   "metadata": {
    "collapsed": true
   },
   "outputs": [],
   "source": []
  },
  {
   "cell_type": "code",
   "execution_count": null,
   "metadata": {
    "collapsed": true
   },
   "outputs": [],
   "source": []
  },
  {
   "cell_type": "code",
   "execution_count": 11,
   "metadata": {
    "collapsed": true
   },
   "outputs": [],
   "source": [
    "# define category\n",
    "cat = 'Elec'"
   ]
  },
  {
   "cell_type": "code",
   "execution_count": 12,
   "metadata": {
    "collapsed": true
   },
   "outputs": [],
   "source": [
    "# read in data\n",
    "df = pd.read_pickle('./DataFrame_Pickle/df_reviews_'+cat+'.pkl')\n",
    "df_products = pd.read_pickle('./DataFrame_Pickle/df_products_'+cat+'.pkl')"
   ]
  },
  {
   "cell_type": "code",
   "execution_count": 13,
   "metadata": {
    "collapsed": true
   },
   "outputs": [],
   "source": [
    "# Get a count of reviews as a function of time for all products\n",
    "\n",
    "# count occurances of reviews for each date\n",
    "date_counts = pd.DataFrame(df.groupby('productid').timestamp.value_counts())\n",
    "\n",
    "#sort dates for each product\n",
    "date_counts.sort_index(level='productid', inplace=True)\n",
    "\n",
    "#rename count column from timestamp to date tally\n",
    "date_counts.rename(columns={'timestamp':'date_tally'}, inplace=True)\n",
    "\n",
    "#alternate way to make the cumulative counts\n",
    "date_counts.reset_index(inplace=True) #resets index\n",
    "tally = date_counts.set_index(['timestamp','productid']).unstack(level=1).copy() #transposes df\n",
    "\n",
    "tally.columns = tally.columns.droplevel(0) #drops multiindex from columns\n",
    "tally = tally.cumsum() #cumulatively sums the daily counts\n",
    "\n",
    "tally = tally.fillna(method='ffill', axis=0)"
   ]
  },
  {
   "cell_type": "code",
   "execution_count": 14,
   "metadata": {
    "collapsed": true
   },
   "outputs": [],
   "source": [
    "def get_top200(year):\n",
    "    df_yr = df[df['timestamp'].dt.year <= year]\n",
    "    counts = pd.DataFrame(df_yr.groupby(['productid']).size()).sort_values(by=0, ascending=False)\n",
    "    counts.rename(columns={0:'total_reviews'}, inplace=True)\n",
    "    \n",
    "    \n",
    "    df_names = pd.merge(counts, df_products, left_index=True, right_on='productid', how='left')\n",
    "    df_names.drop(['imUrl'], axis=1, inplace=True)\n",
    "    \n",
    "    top_200 = df_names.head(200)\n",
    "    return top_200.productid.values, top_200"
   ]
  },
  {
   "cell_type": "code",
   "execution_count": 15,
   "metadata": {
    "collapsed": true
   },
   "outputs": [],
   "source": [
    "initial_year = 1995"
   ]
  },
  {
   "cell_type": "code",
   "execution_count": 16,
   "metadata": {
    "collapsed": true
   },
   "outputs": [],
   "source": [
    "# Creating the figure to be displayed as the tooltip\n",
    "sc_x = DateScale()\n",
    "sc_y = LinearScale()\n",
    "\n",
    "ax_x = Axis(scale=sc_x, grid_lines='dashed', label='Date')\n",
    "ax_y = Axis(scale=sc_y, orientation='vertical', grid_lines='dashed',\n",
    "         label='Number of Reviews')\n",
    "\n",
    "line = Lines(x= tally.index.values, y=[], scales={'x': sc_x, 'y': sc_y}, colors=['orange'])\n",
    "fig_tooltip = Figure(marks=[line], axes=[ax_x, ax_y])"
   ]
  },
  {
   "cell_type": "code",
   "execution_count": 17,
   "metadata": {
    "collapsed": true
   },
   "outputs": [],
   "source": [
    "# make the market map for the initial year of reviews\n",
    "products, data = get_top200(1995)\n",
    "col = ColorScale(scheme='Greens')\n",
    "ax_c = ColorAxis(scale=col, label='tally', visible=False)\n",
    "market_map = MarketMap(names=data.productid.values,      \n",
    "                       # basic data which needs to set for each map\n",
    "                       ref_data=data,            \n",
    "                       # Data frame which can be used for different properties of the map\n",
    "                       # Axis and scale for color data\n",
    "                        tooltip_widget=fig_tooltip,\n",
    "                       scales={'color': col}, axes=[ax_c],\n",
    "                       layout=Layout(min_width='1000px', min_height='800px'))\n",
    "\n",
    "market_map.colors = ['MediumSeaGreen']\n",
    "market_map.font_style = {'font-size': '10px', 'fill':'white'}\n",
    "market_map.title = cat\n",
    "market_map.title_style = {'fill': 'Red'}\n",
    "\n",
    "# Update the tooltip chart\n",
    "hovered_symbol = ''\n",
    "def hover_handler(self, content):\n",
    "    global hovered_symbol\n",
    "    symbol = content.get('data', '') #what is this function? what is data?\n",
    "    \n",
    "    if(symbol != hovered_symbol):\n",
    "        hovered_symbol = symbol\n",
    "        if(tally.get(hovered_symbol) is not None):\n",
    "            line.y = tally[hovered_symbol].values\n",
    "            fig_tooltip.title = content.get('ref_data', {}).get('title', '')\n",
    "            \n"
   ]
  },
  {
   "cell_type": "code",
   "execution_count": 18,
   "metadata": {
    "collapsed": true
   },
   "outputs": [],
   "source": [
    "# Add in a slider bar that responds to being changed\n",
    "year_slider = IntSlider(min=1995, max=2014, step=1, description='Year', value=initial_year)\n",
    "\n",
    "def year_changed(change):\n",
    "    market_map.names, market_map.ref_data = get_top200(year_slider.value)\n",
    "    #year_label.text = [str(year_slider.value)]\n",
    "\n",
    "year_slider.observe(year_changed, 'value')"
   ]
  },
  {
   "cell_type": "code",
   "execution_count": 19,
   "metadata": {
    "scrolled": true
   },
   "outputs": [
    {
     "data": {
      "application/vnd.jupyter.widget-view+json": {
       "model_id": "55877d93ab81457cba8d275f19008212",
       "version_major": 2,
       "version_minor": 0
      },
      "text/plain": [
       "A Jupyter Widget"
      ]
     },
     "metadata": {},
     "output_type": "display_data"
    }
   ],
   "source": [
    "# Show the interative plot\n",
    "market_map.on_hover(hover_handler)\n",
    "VBox([HBox([year_slider]), market_map])"
   ]
  },
  {
   "cell_type": "code",
   "execution_count": null,
   "metadata": {
    "collapsed": true
   },
   "outputs": [],
   "source": []
  },
  {
   "cell_type": "code",
   "execution_count": null,
   "metadata": {
    "collapsed": true
   },
   "outputs": [],
   "source": []
  },
  {
   "cell_type": "code",
   "execution_count": 20,
   "metadata": {
    "collapsed": true
   },
   "outputs": [],
   "source": [
    "# define category\n",
    "cat = 'Books'"
   ]
  },
  {
   "cell_type": "code",
   "execution_count": 21,
   "metadata": {},
   "outputs": [
    {
     "ename": "FileNotFoundError",
     "evalue": "[Errno 2] No such file or directory: './DataFrame_Pickle/df_reviews_Books.pkl'",
     "output_type": "error",
     "traceback": [
      "\u001b[0;31m---------------------------------------------------------------------------\u001b[0m",
      "\u001b[0;31mFileNotFoundError\u001b[0m                         Traceback (most recent call last)",
      "\u001b[0;32m~/anaconda3/lib/python3.6/site-packages/pandas/io/pickle.py\u001b[0m in \u001b[0;36mtry_read\u001b[0;34m(path, encoding)\u001b[0m\n\u001b[1;32m     82\u001b[0m         \u001b[0;32mtry\u001b[0m\u001b[0;34m:\u001b[0m\u001b[0;34m\u001b[0m\u001b[0m\n\u001b[0;32m---> 83\u001b[0;31m             \u001b[0;32mreturn\u001b[0m \u001b[0mread_wrapper\u001b[0m\u001b[0;34m(\u001b[0m\u001b[0;32mlambda\u001b[0m \u001b[0mf\u001b[0m\u001b[0;34m:\u001b[0m \u001b[0mpkl\u001b[0m\u001b[0;34m.\u001b[0m\u001b[0mload\u001b[0m\u001b[0;34m(\u001b[0m\u001b[0mf\u001b[0m\u001b[0;34m)\u001b[0m\u001b[0;34m)\u001b[0m\u001b[0;34m\u001b[0m\u001b[0m\n\u001b[0m\u001b[1;32m     84\u001b[0m         \u001b[0;32mexcept\u001b[0m \u001b[0mException\u001b[0m\u001b[0;34m:\u001b[0m\u001b[0;34m\u001b[0m\u001b[0m\n",
      "\u001b[0;32m~/anaconda3/lib/python3.6/site-packages/pandas/io/pickle.py\u001b[0m in \u001b[0;36mread_wrapper\u001b[0;34m(func)\u001b[0m\n\u001b[1;32m     65\u001b[0m                             \u001b[0mcompression\u001b[0m\u001b[0;34m=\u001b[0m\u001b[0minferred_compression\u001b[0m\u001b[0;34m,\u001b[0m\u001b[0;34m\u001b[0m\u001b[0m\n\u001b[0;32m---> 66\u001b[0;31m                             is_text=False)\n\u001b[0m\u001b[1;32m     67\u001b[0m         \u001b[0;32mtry\u001b[0m\u001b[0;34m:\u001b[0m\u001b[0;34m\u001b[0m\u001b[0m\n",
      "\u001b[0;32m~/anaconda3/lib/python3.6/site-packages/pandas/io/common.py\u001b[0m in \u001b[0;36m_get_handle\u001b[0;34m(path_or_buf, mode, encoding, compression, memory_map, is_text)\u001b[0m\n\u001b[1;32m    387\u001b[0m             \u001b[0;31m# Python 3 and binary mode\u001b[0m\u001b[0;34m\u001b[0m\u001b[0;34m\u001b[0m\u001b[0m\n\u001b[0;32m--> 388\u001b[0;31m             \u001b[0mf\u001b[0m \u001b[0;34m=\u001b[0m \u001b[0mopen\u001b[0m\u001b[0;34m(\u001b[0m\u001b[0mpath_or_buf\u001b[0m\u001b[0;34m,\u001b[0m \u001b[0mmode\u001b[0m\u001b[0;34m)\u001b[0m\u001b[0;34m\u001b[0m\u001b[0m\n\u001b[0m\u001b[1;32m    389\u001b[0m         \u001b[0mhandles\u001b[0m\u001b[0;34m.\u001b[0m\u001b[0mappend\u001b[0m\u001b[0;34m(\u001b[0m\u001b[0mf\u001b[0m\u001b[0;34m)\u001b[0m\u001b[0;34m\u001b[0m\u001b[0m\n",
      "\u001b[0;31mFileNotFoundError\u001b[0m: [Errno 2] No such file or directory: './DataFrame_Pickle/df_reviews_Books.pkl'",
      "\nDuring handling of the above exception, another exception occurred:\n",
      "\u001b[0;31mFileNotFoundError\u001b[0m                         Traceback (most recent call last)",
      "\u001b[0;32m~/anaconda3/lib/python3.6/site-packages/pandas/io/pickle.py\u001b[0m in \u001b[0;36mtry_read\u001b[0;34m(path, encoding)\u001b[0m\n\u001b[1;32m     87\u001b[0m                 return read_wrapper(\n\u001b[0;32m---> 88\u001b[0;31m                     lambda f: pc.load(f, encoding=encoding, compat=False))\n\u001b[0m\u001b[1;32m     89\u001b[0m             \u001b[0;31m# compat pickle\u001b[0m\u001b[0;34m\u001b[0m\u001b[0;34m\u001b[0m\u001b[0m\n",
      "\u001b[0;32m~/anaconda3/lib/python3.6/site-packages/pandas/io/pickle.py\u001b[0m in \u001b[0;36mread_wrapper\u001b[0;34m(func)\u001b[0m\n\u001b[1;32m     65\u001b[0m                             \u001b[0mcompression\u001b[0m\u001b[0;34m=\u001b[0m\u001b[0minferred_compression\u001b[0m\u001b[0;34m,\u001b[0m\u001b[0;34m\u001b[0m\u001b[0m\n\u001b[0;32m---> 66\u001b[0;31m                             is_text=False)\n\u001b[0m\u001b[1;32m     67\u001b[0m         \u001b[0;32mtry\u001b[0m\u001b[0;34m:\u001b[0m\u001b[0;34m\u001b[0m\u001b[0m\n",
      "\u001b[0;32m~/anaconda3/lib/python3.6/site-packages/pandas/io/common.py\u001b[0m in \u001b[0;36m_get_handle\u001b[0;34m(path_or_buf, mode, encoding, compression, memory_map, is_text)\u001b[0m\n\u001b[1;32m    387\u001b[0m             \u001b[0;31m# Python 3 and binary mode\u001b[0m\u001b[0;34m\u001b[0m\u001b[0;34m\u001b[0m\u001b[0m\n\u001b[0;32m--> 388\u001b[0;31m             \u001b[0mf\u001b[0m \u001b[0;34m=\u001b[0m \u001b[0mopen\u001b[0m\u001b[0;34m(\u001b[0m\u001b[0mpath_or_buf\u001b[0m\u001b[0;34m,\u001b[0m \u001b[0mmode\u001b[0m\u001b[0;34m)\u001b[0m\u001b[0;34m\u001b[0m\u001b[0m\n\u001b[0m\u001b[1;32m    389\u001b[0m         \u001b[0mhandles\u001b[0m\u001b[0;34m.\u001b[0m\u001b[0mappend\u001b[0m\u001b[0;34m(\u001b[0m\u001b[0mf\u001b[0m\u001b[0;34m)\u001b[0m\u001b[0;34m\u001b[0m\u001b[0m\n",
      "\u001b[0;31mFileNotFoundError\u001b[0m: [Errno 2] No such file or directory: './DataFrame_Pickle/df_reviews_Books.pkl'",
      "\nDuring handling of the above exception, another exception occurred:\n",
      "\u001b[0;31mFileNotFoundError\u001b[0m                         Traceback (most recent call last)",
      "\u001b[0;32m~/anaconda3/lib/python3.6/site-packages/pandas/io/pickle.py\u001b[0m in \u001b[0;36mread_pickle\u001b[0;34m(path, compression)\u001b[0m\n\u001b[1;32m     93\u001b[0m     \u001b[0;32mtry\u001b[0m\u001b[0;34m:\u001b[0m\u001b[0;34m\u001b[0m\u001b[0m\n\u001b[0;32m---> 94\u001b[0;31m         \u001b[0;32mreturn\u001b[0m \u001b[0mtry_read\u001b[0m\u001b[0;34m(\u001b[0m\u001b[0mpath\u001b[0m\u001b[0;34m)\u001b[0m\u001b[0;34m\u001b[0m\u001b[0m\n\u001b[0m\u001b[1;32m     95\u001b[0m     \u001b[0;32mexcept\u001b[0m\u001b[0;34m:\u001b[0m\u001b[0;34m\u001b[0m\u001b[0m\n",
      "\u001b[0;32m~/anaconda3/lib/python3.6/site-packages/pandas/io/pickle.py\u001b[0m in \u001b[0;36mtry_read\u001b[0;34m(path, encoding)\u001b[0m\n\u001b[1;32m     91\u001b[0m                 return read_wrapper(\n\u001b[0;32m---> 92\u001b[0;31m                     lambda f: pc.load(f, encoding=encoding, compat=True))\n\u001b[0m\u001b[1;32m     93\u001b[0m     \u001b[0;32mtry\u001b[0m\u001b[0;34m:\u001b[0m\u001b[0;34m\u001b[0m\u001b[0m\n",
      "\u001b[0;32m~/anaconda3/lib/python3.6/site-packages/pandas/io/pickle.py\u001b[0m in \u001b[0;36mread_wrapper\u001b[0;34m(func)\u001b[0m\n\u001b[1;32m     65\u001b[0m                             \u001b[0mcompression\u001b[0m\u001b[0;34m=\u001b[0m\u001b[0minferred_compression\u001b[0m\u001b[0;34m,\u001b[0m\u001b[0;34m\u001b[0m\u001b[0m\n\u001b[0;32m---> 66\u001b[0;31m                             is_text=False)\n\u001b[0m\u001b[1;32m     67\u001b[0m         \u001b[0;32mtry\u001b[0m\u001b[0;34m:\u001b[0m\u001b[0;34m\u001b[0m\u001b[0m\n",
      "\u001b[0;32m~/anaconda3/lib/python3.6/site-packages/pandas/io/common.py\u001b[0m in \u001b[0;36m_get_handle\u001b[0;34m(path_or_buf, mode, encoding, compression, memory_map, is_text)\u001b[0m\n\u001b[1;32m    387\u001b[0m             \u001b[0;31m# Python 3 and binary mode\u001b[0m\u001b[0;34m\u001b[0m\u001b[0;34m\u001b[0m\u001b[0m\n\u001b[0;32m--> 388\u001b[0;31m             \u001b[0mf\u001b[0m \u001b[0;34m=\u001b[0m \u001b[0mopen\u001b[0m\u001b[0;34m(\u001b[0m\u001b[0mpath_or_buf\u001b[0m\u001b[0;34m,\u001b[0m \u001b[0mmode\u001b[0m\u001b[0;34m)\u001b[0m\u001b[0;34m\u001b[0m\u001b[0m\n\u001b[0m\u001b[1;32m    389\u001b[0m         \u001b[0mhandles\u001b[0m\u001b[0;34m.\u001b[0m\u001b[0mappend\u001b[0m\u001b[0;34m(\u001b[0m\u001b[0mf\u001b[0m\u001b[0;34m)\u001b[0m\u001b[0;34m\u001b[0m\u001b[0m\n",
      "\u001b[0;31mFileNotFoundError\u001b[0m: [Errno 2] No such file or directory: './DataFrame_Pickle/df_reviews_Books.pkl'",
      "\nDuring handling of the above exception, another exception occurred:\n",
      "\u001b[0;31mFileNotFoundError\u001b[0m                         Traceback (most recent call last)",
      "\u001b[0;32m~/anaconda3/lib/python3.6/site-packages/pandas/io/pickle.py\u001b[0m in \u001b[0;36mtry_read\u001b[0;34m(path, encoding)\u001b[0m\n\u001b[1;32m     82\u001b[0m         \u001b[0;32mtry\u001b[0m\u001b[0;34m:\u001b[0m\u001b[0;34m\u001b[0m\u001b[0m\n\u001b[0;32m---> 83\u001b[0;31m             \u001b[0;32mreturn\u001b[0m \u001b[0mread_wrapper\u001b[0m\u001b[0;34m(\u001b[0m\u001b[0;32mlambda\u001b[0m \u001b[0mf\u001b[0m\u001b[0;34m:\u001b[0m \u001b[0mpkl\u001b[0m\u001b[0;34m.\u001b[0m\u001b[0mload\u001b[0m\u001b[0;34m(\u001b[0m\u001b[0mf\u001b[0m\u001b[0;34m)\u001b[0m\u001b[0;34m)\u001b[0m\u001b[0;34m\u001b[0m\u001b[0m\n\u001b[0m\u001b[1;32m     84\u001b[0m         \u001b[0;32mexcept\u001b[0m \u001b[0mException\u001b[0m\u001b[0;34m:\u001b[0m\u001b[0;34m\u001b[0m\u001b[0m\n",
      "\u001b[0;32m~/anaconda3/lib/python3.6/site-packages/pandas/io/pickle.py\u001b[0m in \u001b[0;36mread_wrapper\u001b[0;34m(func)\u001b[0m\n\u001b[1;32m     65\u001b[0m                             \u001b[0mcompression\u001b[0m\u001b[0;34m=\u001b[0m\u001b[0minferred_compression\u001b[0m\u001b[0;34m,\u001b[0m\u001b[0;34m\u001b[0m\u001b[0m\n\u001b[0;32m---> 66\u001b[0;31m                             is_text=False)\n\u001b[0m\u001b[1;32m     67\u001b[0m         \u001b[0;32mtry\u001b[0m\u001b[0;34m:\u001b[0m\u001b[0;34m\u001b[0m\u001b[0m\n",
      "\u001b[0;32m~/anaconda3/lib/python3.6/site-packages/pandas/io/common.py\u001b[0m in \u001b[0;36m_get_handle\u001b[0;34m(path_or_buf, mode, encoding, compression, memory_map, is_text)\u001b[0m\n\u001b[1;32m    387\u001b[0m             \u001b[0;31m# Python 3 and binary mode\u001b[0m\u001b[0;34m\u001b[0m\u001b[0;34m\u001b[0m\u001b[0m\n\u001b[0;32m--> 388\u001b[0;31m             \u001b[0mf\u001b[0m \u001b[0;34m=\u001b[0m \u001b[0mopen\u001b[0m\u001b[0;34m(\u001b[0m\u001b[0mpath_or_buf\u001b[0m\u001b[0;34m,\u001b[0m \u001b[0mmode\u001b[0m\u001b[0;34m)\u001b[0m\u001b[0;34m\u001b[0m\u001b[0m\n\u001b[0m\u001b[1;32m    389\u001b[0m         \u001b[0mhandles\u001b[0m\u001b[0;34m.\u001b[0m\u001b[0mappend\u001b[0m\u001b[0;34m(\u001b[0m\u001b[0mf\u001b[0m\u001b[0;34m)\u001b[0m\u001b[0;34m\u001b[0m\u001b[0m\n",
      "\u001b[0;31mFileNotFoundError\u001b[0m: [Errno 2] No such file or directory: './DataFrame_Pickle/df_reviews_Books.pkl'",
      "\nDuring handling of the above exception, another exception occurred:\n",
      "\u001b[0;31mFileNotFoundError\u001b[0m                         Traceback (most recent call last)",
      "\u001b[0;32m~/anaconda3/lib/python3.6/site-packages/pandas/io/pickle.py\u001b[0m in \u001b[0;36mtry_read\u001b[0;34m(path, encoding)\u001b[0m\n\u001b[1;32m     87\u001b[0m                 return read_wrapper(\n\u001b[0;32m---> 88\u001b[0;31m                     lambda f: pc.load(f, encoding=encoding, compat=False))\n\u001b[0m\u001b[1;32m     89\u001b[0m             \u001b[0;31m# compat pickle\u001b[0m\u001b[0;34m\u001b[0m\u001b[0;34m\u001b[0m\u001b[0m\n",
      "\u001b[0;32m~/anaconda3/lib/python3.6/site-packages/pandas/io/pickle.py\u001b[0m in \u001b[0;36mread_wrapper\u001b[0;34m(func)\u001b[0m\n\u001b[1;32m     65\u001b[0m                             \u001b[0mcompression\u001b[0m\u001b[0;34m=\u001b[0m\u001b[0minferred_compression\u001b[0m\u001b[0;34m,\u001b[0m\u001b[0;34m\u001b[0m\u001b[0m\n\u001b[0;32m---> 66\u001b[0;31m                             is_text=False)\n\u001b[0m\u001b[1;32m     67\u001b[0m         \u001b[0;32mtry\u001b[0m\u001b[0;34m:\u001b[0m\u001b[0;34m\u001b[0m\u001b[0m\n",
      "\u001b[0;32m~/anaconda3/lib/python3.6/site-packages/pandas/io/common.py\u001b[0m in \u001b[0;36m_get_handle\u001b[0;34m(path_or_buf, mode, encoding, compression, memory_map, is_text)\u001b[0m\n\u001b[1;32m    387\u001b[0m             \u001b[0;31m# Python 3 and binary mode\u001b[0m\u001b[0;34m\u001b[0m\u001b[0;34m\u001b[0m\u001b[0m\n\u001b[0;32m--> 388\u001b[0;31m             \u001b[0mf\u001b[0m \u001b[0;34m=\u001b[0m \u001b[0mopen\u001b[0m\u001b[0;34m(\u001b[0m\u001b[0mpath_or_buf\u001b[0m\u001b[0;34m,\u001b[0m \u001b[0mmode\u001b[0m\u001b[0;34m)\u001b[0m\u001b[0;34m\u001b[0m\u001b[0m\n\u001b[0m\u001b[1;32m    389\u001b[0m         \u001b[0mhandles\u001b[0m\u001b[0;34m.\u001b[0m\u001b[0mappend\u001b[0m\u001b[0;34m(\u001b[0m\u001b[0mf\u001b[0m\u001b[0;34m)\u001b[0m\u001b[0;34m\u001b[0m\u001b[0m\n",
      "\u001b[0;31mFileNotFoundError\u001b[0m: [Errno 2] No such file or directory: './DataFrame_Pickle/df_reviews_Books.pkl'",
      "\nDuring handling of the above exception, another exception occurred:\n",
      "\u001b[0;31mFileNotFoundError\u001b[0m                         Traceback (most recent call last)",
      "\u001b[0;32m<ipython-input-21-bf4d7d72354d>\u001b[0m in \u001b[0;36m<module>\u001b[0;34m()\u001b[0m\n\u001b[1;32m      1\u001b[0m \u001b[0;31m# read in data\u001b[0m\u001b[0;34m\u001b[0m\u001b[0;34m\u001b[0m\u001b[0m\n\u001b[0;32m----> 2\u001b[0;31m \u001b[0mdf\u001b[0m \u001b[0;34m=\u001b[0m \u001b[0mpd\u001b[0m\u001b[0;34m.\u001b[0m\u001b[0mread_pickle\u001b[0m\u001b[0;34m(\u001b[0m\u001b[0;34m'./DataFrame_Pickle/df_reviews_'\u001b[0m\u001b[0;34m+\u001b[0m\u001b[0mcat\u001b[0m\u001b[0;34m+\u001b[0m\u001b[0;34m'.pkl'\u001b[0m\u001b[0;34m)\u001b[0m\u001b[0;34m\u001b[0m\u001b[0m\n\u001b[0m\u001b[1;32m      3\u001b[0m \u001b[0mdf_products\u001b[0m \u001b[0;34m=\u001b[0m \u001b[0mpd\u001b[0m\u001b[0;34m.\u001b[0m\u001b[0mread_pickle\u001b[0m\u001b[0;34m(\u001b[0m\u001b[0;34m'./DataFrame_Pickle/df_products_'\u001b[0m\u001b[0;34m+\u001b[0m\u001b[0mcat\u001b[0m\u001b[0;34m+\u001b[0m\u001b[0;34m'.pkl'\u001b[0m\u001b[0;34m)\u001b[0m\u001b[0;34m\u001b[0m\u001b[0m\n",
      "\u001b[0;32m~/anaconda3/lib/python3.6/site-packages/pandas/io/pickle.py\u001b[0m in \u001b[0;36mread_pickle\u001b[0;34m(path, compression)\u001b[0m\n\u001b[1;32m     95\u001b[0m     \u001b[0;32mexcept\u001b[0m\u001b[0;34m:\u001b[0m\u001b[0;34m\u001b[0m\u001b[0m\n\u001b[1;32m     96\u001b[0m         \u001b[0;32mif\u001b[0m \u001b[0mPY3\u001b[0m\u001b[0;34m:\u001b[0m\u001b[0;34m\u001b[0m\u001b[0m\n\u001b[0;32m---> 97\u001b[0;31m             \u001b[0;32mreturn\u001b[0m \u001b[0mtry_read\u001b[0m\u001b[0;34m(\u001b[0m\u001b[0mpath\u001b[0m\u001b[0;34m,\u001b[0m \u001b[0mencoding\u001b[0m\u001b[0;34m=\u001b[0m\u001b[0;34m'latin1'\u001b[0m\u001b[0;34m)\u001b[0m\u001b[0;34m\u001b[0m\u001b[0m\n\u001b[0m\u001b[1;32m     98\u001b[0m         \u001b[0;32mraise\u001b[0m\u001b[0;34m\u001b[0m\u001b[0m\n\u001b[1;32m     99\u001b[0m \u001b[0;34m\u001b[0m\u001b[0m\n",
      "\u001b[0;32m~/anaconda3/lib/python3.6/site-packages/pandas/io/pickle.py\u001b[0m in \u001b[0;36mtry_read\u001b[0;34m(path, encoding)\u001b[0m\n\u001b[1;32m     90\u001b[0m             \u001b[0;32mexcept\u001b[0m\u001b[0;34m:\u001b[0m\u001b[0;34m\u001b[0m\u001b[0m\n\u001b[1;32m     91\u001b[0m                 return read_wrapper(\n\u001b[0;32m---> 92\u001b[0;31m                     lambda f: pc.load(f, encoding=encoding, compat=True))\n\u001b[0m\u001b[1;32m     93\u001b[0m     \u001b[0;32mtry\u001b[0m\u001b[0;34m:\u001b[0m\u001b[0;34m\u001b[0m\u001b[0m\n\u001b[1;32m     94\u001b[0m         \u001b[0;32mreturn\u001b[0m \u001b[0mtry_read\u001b[0m\u001b[0;34m(\u001b[0m\u001b[0mpath\u001b[0m\u001b[0;34m)\u001b[0m\u001b[0;34m\u001b[0m\u001b[0m\n",
      "\u001b[0;32m~/anaconda3/lib/python3.6/site-packages/pandas/io/pickle.py\u001b[0m in \u001b[0;36mread_wrapper\u001b[0;34m(func)\u001b[0m\n\u001b[1;32m     64\u001b[0m         f, fh = _get_handle(path, 'rb',\n\u001b[1;32m     65\u001b[0m                             \u001b[0mcompression\u001b[0m\u001b[0;34m=\u001b[0m\u001b[0minferred_compression\u001b[0m\u001b[0;34m,\u001b[0m\u001b[0;34m\u001b[0m\u001b[0m\n\u001b[0;32m---> 66\u001b[0;31m                             is_text=False)\n\u001b[0m\u001b[1;32m     67\u001b[0m         \u001b[0;32mtry\u001b[0m\u001b[0;34m:\u001b[0m\u001b[0;34m\u001b[0m\u001b[0m\n\u001b[1;32m     68\u001b[0m             \u001b[0;32mreturn\u001b[0m \u001b[0mfunc\u001b[0m\u001b[0;34m(\u001b[0m\u001b[0mf\u001b[0m\u001b[0;34m)\u001b[0m\u001b[0;34m\u001b[0m\u001b[0m\n",
      "\u001b[0;32m~/anaconda3/lib/python3.6/site-packages/pandas/io/common.py\u001b[0m in \u001b[0;36m_get_handle\u001b[0;34m(path_or_buf, mode, encoding, compression, memory_map, is_text)\u001b[0m\n\u001b[1;32m    386\u001b[0m         \u001b[0;32melse\u001b[0m\u001b[0;34m:\u001b[0m\u001b[0;34m\u001b[0m\u001b[0m\n\u001b[1;32m    387\u001b[0m             \u001b[0;31m# Python 3 and binary mode\u001b[0m\u001b[0;34m\u001b[0m\u001b[0;34m\u001b[0m\u001b[0m\n\u001b[0;32m--> 388\u001b[0;31m             \u001b[0mf\u001b[0m \u001b[0;34m=\u001b[0m \u001b[0mopen\u001b[0m\u001b[0;34m(\u001b[0m\u001b[0mpath_or_buf\u001b[0m\u001b[0;34m,\u001b[0m \u001b[0mmode\u001b[0m\u001b[0;34m)\u001b[0m\u001b[0;34m\u001b[0m\u001b[0m\n\u001b[0m\u001b[1;32m    389\u001b[0m         \u001b[0mhandles\u001b[0m\u001b[0;34m.\u001b[0m\u001b[0mappend\u001b[0m\u001b[0;34m(\u001b[0m\u001b[0mf\u001b[0m\u001b[0;34m)\u001b[0m\u001b[0;34m\u001b[0m\u001b[0m\n\u001b[1;32m    390\u001b[0m \u001b[0;34m\u001b[0m\u001b[0m\n",
      "\u001b[0;31mFileNotFoundError\u001b[0m: [Errno 2] No such file or directory: './DataFrame_Pickle/df_reviews_Books.pkl'"
     ]
    }
   ],
   "source": [
    "# read in data\n",
    "df = pd.read_pickle('./DataFrame_Pickle/df_reviews_'+cat+'.pkl')\n",
    "df_products = pd.read_pickle('./DataFrame_Pickle/df_products_'+cat+'.pkl')"
   ]
  },
  {
   "cell_type": "code",
   "execution_count": null,
   "metadata": {
    "collapsed": true
   },
   "outputs": [],
   "source": [
    "# Get a count of reviews as a function of time for all products\n",
    "\n",
    "# count occurances of reviews for each date\n",
    "date_counts = pd.DataFrame(df.groupby('productid').timestamp.value_counts())\n",
    "\n",
    "#sort dates for each product\n",
    "date_counts.sort_index(level='productid', inplace=True)\n",
    "\n",
    "#rename count column from timestamp to date tally\n",
    "date_counts.rename(columns={'timestamp':'date_tally'}, inplace=True)\n",
    "\n",
    "#alternate way to make the cumulative counts\n",
    "date_counts.reset_index(inplace=True) #resets index\n",
    "tally = date_counts.set_index(['timestamp','productid']).unstack(level=1).copy() #transposes df\n",
    "\n",
    "tally.columns = tally.columns.droplevel(0) #drops multiindex from columns\n",
    "tally = tally.cumsum() #cumulatively sums the daily counts\n",
    "\n",
    "tally = tally.fillna(method='ffill', axis=0)"
   ]
  },
  {
   "cell_type": "code",
   "execution_count": null,
   "metadata": {
    "collapsed": true
   },
   "outputs": [],
   "source": [
    "def get_top200(year):\n",
    "    df_yr = df[df['timestamp'].dt.year <= year]\n",
    "    counts = pd.DataFrame(df_yr.groupby(['productid']).size()).sort_values(by=0, ascending=False)\n",
    "    counts.rename(columns={0:'total_reviews'}, inplace=True)\n",
    "    \n",
    "    \n",
    "    df_names = pd.merge(counts, df_products, left_index=True, right_on='productid', how='left')\n",
    "    df_names.drop(['imUrl'], axis=1, inplace=True)\n",
    "    \n",
    "    top_200 = df_names.head(200)\n",
    "    return top_200.productid.values, top_200"
   ]
  },
  {
   "cell_type": "code",
   "execution_count": null,
   "metadata": {
    "collapsed": true
   },
   "outputs": [],
   "source": [
    "initial_year = 1995"
   ]
  },
  {
   "cell_type": "code",
   "execution_count": null,
   "metadata": {
    "collapsed": true
   },
   "outputs": [],
   "source": [
    "# Creating the figure to be displayed as the tooltip\n",
    "sc_x = DateScale()\n",
    "sc_y = LinearScale()\n",
    "\n",
    "ax_x = Axis(scale=sc_x, grid_lines='dashed', label='Date')\n",
    "ax_y = Axis(scale=sc_y, orientation='vertical', grid_lines='dashed',\n",
    "         label='Number of Reviews')\n",
    "\n",
    "line = Lines(x= tally.index.values, y=[], scales={'x': sc_x, 'y': sc_y}, colors=['orange'])\n",
    "fig_tooltip = Figure(marks=[line], axes=[ax_x, ax_y])"
   ]
  },
  {
   "cell_type": "code",
   "execution_count": null,
   "metadata": {
    "collapsed": true
   },
   "outputs": [],
   "source": [
    "# make the market map for the initial year of reviews\n",
    "products, data = get_top200(1995)\n",
    "col = ColorScale(scheme='Greens')\n",
    "ax_c = ColorAxis(scale=col, label='tally', visible=False)\n",
    "market_map = MarketMap(names=data.productid.values,      \n",
    "                       # basic data which needs to set for each map\n",
    "                       ref_data=data,            \n",
    "                       # Data frame which can be used for different properties of the map\n",
    "                       # Axis and scale for color data\n",
    "                        tooltip_widget=fig_tooltip,\n",
    "                       scales={'color': col}, axes=[ax_c],\n",
    "                       layout=Layout(min_width='1000px', min_height='800px'))\n",
    "\n",
    "market_map.colors = ['MediumSeaGreen']\n",
    "market_map.font_style = {'font-size': '10px', 'fill':'white'}\n",
    "market_map.title = cat\n",
    "market_map.title_style = {'fill': 'Red'}\n",
    "\n",
    "# Update the tooltip chart\n",
    "hovered_symbol = ''\n",
    "def hover_handler(self, content):\n",
    "    global hovered_symbol\n",
    "    symbol = content.get('data', '') #what is this function? what is data?\n",
    "    \n",
    "    if(symbol != hovered_symbol):\n",
    "        hovered_symbol = symbol\n",
    "        if(tally.get(hovered_symbol) is not None):\n",
    "            line.y = tally[hovered_symbol].values\n",
    "            fig_tooltip.title = content.get('ref_data', {}).get('title', '')\n",
    "            \n"
   ]
  },
  {
   "cell_type": "code",
   "execution_count": null,
   "metadata": {
    "collapsed": true
   },
   "outputs": [],
   "source": [
    "# Add in a slider bar that responds to being changed\n",
    "year_slider = IntSlider(min=1995, max=2014, step=1, description='Year', value=initial_year)\n",
    "\n",
    "def year_changed(change):\n",
    "    market_map.names, market_map.ref_data = get_top200(year_slider.value)\n",
    "    #year_label.text = [str(year_slider.value)]\n",
    "\n",
    "year_slider.observe(year_changed, 'value')"
   ]
  },
  {
   "cell_type": "code",
   "execution_count": null,
   "metadata": {
    "scrolled": false
   },
   "outputs": [],
   "source": [
    "# Show the interative plot\n",
    "market_map.on_hover(hover_handler)\n",
    "VBox([HBox([year_slider]), market_map])"
   ]
  },
  {
   "cell_type": "code",
   "execution_count": null,
   "metadata": {
    "collapsed": true
   },
   "outputs": [],
   "source": []
  },
  {
   "cell_type": "code",
   "execution_count": null,
   "metadata": {
    "collapsed": true
   },
   "outputs": [],
   "source": []
  },
  {
   "cell_type": "code",
   "execution_count": null,
   "metadata": {
    "collapsed": true
   },
   "outputs": [],
   "source": []
  },
  {
   "cell_type": "code",
   "execution_count": 22,
   "metadata": {
    "collapsed": true
   },
   "outputs": [],
   "source": [
    "# define category\n",
    "cat = 'Cell'"
   ]
  },
  {
   "cell_type": "code",
   "execution_count": 23,
   "metadata": {
    "collapsed": true
   },
   "outputs": [],
   "source": [
    "# read in data\n",
    "df = pd.read_pickle('./DataFrame_Pickle/df_reviews_'+cat+'.pkl')\n",
    "df_products = pd.read_pickle('./DataFrame_Pickle/df_products_'+cat+'.pkl')"
   ]
  },
  {
   "cell_type": "code",
   "execution_count": 24,
   "metadata": {
    "collapsed": true
   },
   "outputs": [],
   "source": [
    "# Get a count of reviews as a function of time for all products\n",
    "\n",
    "# count occurances of reviews for each date\n",
    "date_counts = pd.DataFrame(df.groupby('productid').timestamp.value_counts())\n",
    "\n",
    "#sort dates for each product\n",
    "date_counts.sort_index(level='productid', inplace=True)\n",
    "\n",
    "#rename count column from timestamp to date tally\n",
    "date_counts.rename(columns={'timestamp':'date_tally'}, inplace=True)\n",
    "\n",
    "#alternate way to make the cumulative counts\n",
    "date_counts.reset_index(inplace=True) #resets index\n",
    "tally = date_counts.set_index(['timestamp','productid']).unstack(level=1).copy() #transposes df\n",
    "\n",
    "tally.columns = tally.columns.droplevel(0) #drops multiindex from columns\n",
    "tally = tally.cumsum() #cumulatively sums the daily counts\n",
    "\n",
    "tally = tally.fillna(method='ffill', axis=0)"
   ]
  },
  {
   "cell_type": "code",
   "execution_count": 25,
   "metadata": {
    "collapsed": true
   },
   "outputs": [],
   "source": [
    "def get_top200(year):\n",
    "    df_yr = df[df['timestamp'].dt.year <= year]\n",
    "    counts = pd.DataFrame(df_yr.groupby(['productid']).size()).sort_values(by=0, ascending=False)\n",
    "    counts.rename(columns={0:'total_reviews'}, inplace=True)\n",
    "    \n",
    "    \n",
    "    df_names = pd.merge(counts, df_products, left_index=True, right_on='productid', how='left')\n",
    "    df_names.drop(['imUrl'], axis=1, inplace=True)\n",
    "    \n",
    "    top_200 = df_names.head(200)\n",
    "    return top_200.productid.values, top_200"
   ]
  },
  {
   "cell_type": "code",
   "execution_count": 26,
   "metadata": {
    "collapsed": true
   },
   "outputs": [],
   "source": [
    "initial_year = 1995"
   ]
  },
  {
   "cell_type": "code",
   "execution_count": 27,
   "metadata": {
    "collapsed": true
   },
   "outputs": [],
   "source": [
    "# Creating the figure to be displayed as the tooltip\n",
    "sc_x = DateScale()\n",
    "sc_y = LinearScale()\n",
    "\n",
    "ax_x = Axis(scale=sc_x, grid_lines='dashed', label='Date')\n",
    "ax_y = Axis(scale=sc_y, orientation='vertical', grid_lines='dashed',\n",
    "         label='Number of Reviews')\n",
    "\n",
    "line = Lines(x= tally.index.values, y=[], scales={'x': sc_x, 'y': sc_y}, colors=['orange'])\n",
    "fig_tooltip = Figure(marks=[line], axes=[ax_x, ax_y])"
   ]
  },
  {
   "cell_type": "code",
   "execution_count": 28,
   "metadata": {
    "collapsed": true
   },
   "outputs": [],
   "source": [
    "# make the market map for the initial year of reviews\n",
    "products, data = get_top200(1995)\n",
    "col = ColorScale(scheme='Greens')\n",
    "ax_c = ColorAxis(scale=col, label='tally', visible=False)\n",
    "market_map = MarketMap(names=data.productid.values,      \n",
    "                       # basic data which needs to set for each map\n",
    "                       ref_data=data,            \n",
    "                       # Data frame which can be used for different properties of the map\n",
    "                       # Axis and scale for color data\n",
    "                        tooltip_widget=fig_tooltip,\n",
    "                       scales={'color': col}, axes=[ax_c],\n",
    "                       layout=Layout(min_width='1000px', min_height='800px'))\n",
    "\n",
    "market_map.colors = ['MediumSeaGreen']\n",
    "market_map.font_style = {'font-size': '10px', 'fill':'white'}\n",
    "market_map.title = cat\n",
    "market_map.title_style = {'fill': 'Red'}\n",
    "\n",
    "# Update the tooltip chart\n",
    "hovered_symbol = ''\n",
    "def hover_handler(self, content):\n",
    "    global hovered_symbol\n",
    "    symbol = content.get('data', '') #what is this function? what is data?\n",
    "    \n",
    "    if(symbol != hovered_symbol):\n",
    "        hovered_symbol = symbol\n",
    "        if(tally.get(hovered_symbol) is not None):\n",
    "            line.y = tally[hovered_symbol].values\n",
    "            fig_tooltip.title = content.get('ref_data', {}).get('title', '')\n",
    "            \n"
   ]
  },
  {
   "cell_type": "code",
   "execution_count": 29,
   "metadata": {
    "collapsed": true
   },
   "outputs": [],
   "source": [
    "# Add in a slider bar that responds to being changed\n",
    "year_slider = IntSlider(min=1995, max=2014, step=1, description='Year', value=initial_year)\n",
    "\n",
    "def year_changed(change):\n",
    "    market_map.names, market_map.ref_data = get_top200(year_slider.value)\n",
    "    #year_label.text = [str(year_slider.value)]\n",
    "\n",
    "year_slider.observe(year_changed, 'value')"
   ]
  },
  {
   "cell_type": "code",
   "execution_count": 30,
   "metadata": {
    "scrolled": true
   },
   "outputs": [
    {
     "data": {
      "application/vnd.jupyter.widget-view+json": {
       "model_id": "b13cdb14e6b04ebda5dcff68499a51a2",
       "version_major": 2,
       "version_minor": 0
      },
      "text/plain": [
       "A Jupyter Widget"
      ]
     },
     "metadata": {},
     "output_type": "display_data"
    }
   ],
   "source": [
    "# Show the interative plot\n",
    "market_map.on_hover(hover_handler)\n",
    "VBox([HBox([year_slider]), market_map])"
   ]
  },
  {
   "cell_type": "code",
   "execution_count": null,
   "metadata": {
    "collapsed": true
   },
   "outputs": [],
   "source": []
  }
 ],
 "metadata": {
  "kernelspec": {
   "display_name": "Python 3",
   "language": "python",
   "name": "python3"
  },
  "language_info": {
   "codemirror_mode": {
    "name": "ipython",
    "version": 3
   },
   "file_extension": ".py",
   "mimetype": "text/x-python",
   "name": "python",
   "nbconvert_exporter": "python",
   "pygments_lexer": "ipython3",
   "version": "3.6.2"
  }
 },
 "nbformat": 4,
 "nbformat_minor": 2
}
