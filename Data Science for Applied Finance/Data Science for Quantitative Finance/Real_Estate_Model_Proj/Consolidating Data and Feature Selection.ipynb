{
 "cells": [
  {
   "cell_type": "markdown",
   "metadata": {},
   "source": [
    "Bailey Griswold, bg1672  \n",
    "# Compiling dataframe of alpha and covariance features\n",
    "1. Feature Engineering\n",
    "2. Feature Selection Based on Random Forest and LASSO\n",
    "\n",
    "\n",
    "- Produce two dictionaries: alpha and covariance\n",
    "- each dictionary holds a dataframe of features for each year from 2010-2016\n",
    "- each dataframe has all the features that are most strongly correlated with the output variable: ZHVI (or median home values)\n",
    "- each set of features comes from the following datasets:\n",
    "a. ZHVI   \n",
    "b. geography (lat, long, area)  \n",
    "c. med listing price  \n",
    "d. demographic  \n",
    "e. soc  \n",
    "f. econ  \n",
    "g. housing  \n",
    "h. migration   \n",
    "i. tax89  \n",
    "j. tax10  \n",
    "k. voting  \n",
    "l. crime  \n",
    "m. cnty_mrkts\n",
    "\n",
    "- covar_dict contains all features with high correlation with home values within the same period\n",
    "- alpha-dict contains all features with high correlation with home values from the next period\n",
    "- all datasets for each year were merged on FIPS"
   ]
  },
  {
   "cell_type": "code",
   "execution_count": 1,
   "metadata": {
    "collapsed": true
   },
   "outputs": [],
   "source": [
    "import pandas as pd\n",
    "import numpy as np\n",
    "%matplotlib inline\n",
    "import matplotlib.pyplot as pl\n",
    "import datetime\n",
    "import pickle\n",
    "from bqplot import pyplot as plt\n",
    "from bqplot import *\n",
    "import seaborn as sns\n",
    "\n",
    "from math import ceil\n",
    "\n",
    "from geopandas import GeoDataFrame\n",
    "from fancyimpute import KNN\n",
    "import shapely\n",
    "from fiona.crs import from_epsg\n",
    "\n",
    "from scipy import stats\n",
    "\n",
    "import statsmodels.formula.api as smf  \n",
    "\n",
    "from sklearn.metrics import r2_score\n",
    "\n",
    "from sklearn.model_selection import train_test_split\n",
    "from sklearn.ensemble import RandomForestRegressor\n",
    "from sklearn.datasets import make_classification\n",
    "from sklearn.ensemble import ExtraTreesClassifier\n",
    "\n",
    "from sklearn.linear_model import RandomizedLasso"
   ]
  },
  {
   "cell_type": "markdown",
   "metadata": {},
   "source": [
    "### 1. Defining Functions"
   ]
  },
  {
   "cell_type": "code",
   "execution_count": 2,
   "metadata": {
    "collapsed": true
   },
   "outputs": [],
   "source": [
    "def column_filter(df,phrase):\n",
    "    '''produces a list of columns that contain the phrase'''\n",
    "    start_len = len(df.columns)\n",
    "    keep_cols = []\n",
    "    for i in df.columns:\n",
    "        if phrase in i:\n",
    "            keep_cols.append(i)\n",
    "    print ('Columns matching filter: {}'.format(len(keep_cols)))\n",
    "    return (keep_cols)"
   ]
  },
  {
   "cell_type": "code",
   "execution_count": 3,
   "metadata": {
    "collapsed": true
   },
   "outputs": [],
   "source": [
    "def drop_columns(df,phrase,dropped_cols=False):\n",
    "    '''Drop all columns in dataframe df that contain substring phrase'''\n",
    "    start_len = len(df.columns)\n",
    "    drop_cols = []\n",
    "    for i in df.columns:\n",
    "        if phrase in i:\n",
    "            drop_cols.append(i)\n",
    "            df.drop([i], axis=1, inplace=True)\n",
    "    print ('Total Columns Dropped: {}'.format(len(drop_cols)))\n",
    "    if dropped_cols == True:\n",
    "        print ('Dropped Columns: {}'.format(drop_cols))\n",
    "\n",
    "#could add inplace feature\n",
    "#could add upper/lower case feature\n",
    "    "
   ]
  },
  {
   "cell_type": "code",
   "execution_count": 4,
   "metadata": {
    "collapsed": true
   },
   "outputs": [],
   "source": [
    "def feat_sel(df, output, features, model='rf', alpha=100, feat_num=20):\n",
    "    '''\n",
    "    performs random forest or lasso fit on specified dataframe and produces a list of \n",
    "    the top specified number of features and returns a sorted list of the features and their scores.\n",
    "    '''\n",
    "    regressors = features\n",
    "    #regressors = list(set(df.columns) - set([output]))\n",
    "\n",
    "    y = df[output]\n",
    "    X = df[regressors] #select all the columns after id and geography -- the regressors\n",
    "    names = X.columns\n",
    "\n",
    "    rlasso = RandomizedLasso(alpha=alpha,random_state=0, normalize=True, fit_intercept=True)\n",
    "    rlasso.fit(X, y)\n",
    "\n",
    "    rf = RandomForestRegressor(random_state=0,n_estimators=10)\n",
    "    rf.fit(X, y)\n",
    "\n",
    "    if model == 'lasso':\n",
    "        feat_sort = (sorted(zip(map(lambda x: round(x, 10), rlasso.scores_), names), reverse=True))\n",
    "    else: \n",
    "        feat_sort = (sorted(zip(map(lambda x: round(x, 4), rf.feature_importances_), names), reverse=True))\n",
    "        print ('R-Score', rf.score(X, y))\n",
    "\n",
    "    pl.figure(figsize=(8,6))\n",
    "    pl.title(\"{} Feature importance\".format(model))\n",
    "    pl.bar(np.arange(feat_num), pd.DataFrame(feat_sort)[0][:feat_num], align='center')\n",
    "    pl.xticks(np.arange(feat_num))\n",
    "    pl.ylabel('Importance Score')\n",
    "\n",
    "    print(\"{} Feature ranking:\".format(model), pd.DataFrame(feat_sort)[:5])\n",
    "    return feat_sort"
   ]
  },
  {
   "cell_type": "code",
   "execution_count": 5,
   "metadata": {
    "collapsed": true
   },
   "outputs": [],
   "source": [
    "def mdl_eval(mdl, output, regressors, test, train, color):\n",
    "    ''' For a specific model, produce the in sample R square value, the out of sample r sqaure, \n",
    "        and the median absolute error. Returns the '''\n",
    "    \n",
    "    print ('In Sample RSquared: ', mdl.score(train[regressors], train[output]))\n",
    "    Rout = r2_score(test[output], mdl.predict(test[regressors]))\n",
    "    R = Rout\n",
    "    p = len(regressors)\n",
    "    n = len(test)\n",
    "    Radj = R - ((1 - R)*((p)/(n-p-1)))\n",
    "    print ('Out of sample R-Squared: ', Rout)\n",
    "    print ('Out of sample Adjusted R-Squared: ', Radj)\n",
    "    model_score = median_absolute_error(test[output], mdl.predict(test[regressors]))\n",
    "    print ('Model Eval (Median Absolute Error): ', model_score)\n",
    "    \n",
    "    pl.figure(figsize=(8,6))\n",
    "    pl.title(\"Radj = {}, p = {}\".format(Radj, p), fontsize=16)\n",
    "    pl.plot(test[output], mdl.predict(test[regressors]), 'o', alpha=.5, c=color)\n",
    "    pl.plot(test[output], test[output])\n",
    "    pl.xlabel('Observed Values', fontsize=14)\n",
    "    pl.ylabel('Predicted Values', fontsize=14)\n",
    "    \n",
    "    return (Radj, model_score)"
   ]
  },
  {
   "cell_type": "code",
   "execution_count": 6,
   "metadata": {
    "collapsed": true
   },
   "outputs": [],
   "source": [
    "def merge_check(df1, df2, on1, on2):\n",
    "    '''Input two dataframes to be merged. Returns the percent of \n",
    "    each dataframe that would be preserved on an inner merge. Also\n",
    "    returns merged dataframe.'''\n",
    "    df1_size = len(df1)\n",
    "    df2_size = len(df2)\n",
    "    merged_df = pd.merge(df1, df2, left_on=on1, right_on=on2, how='inner')\n",
    "    inmerge_size = len(merged_df)\n",
    "    print ('df1 = {}%'.format((inmerge_size/df1_size)*100))\n",
    "    print ('df2 = {}%'.format((inmerge_size/df2_size)*100))\n",
    "    return merged_df"
   ]
  },
  {
   "cell_type": "code",
   "execution_count": 7,
   "metadata": {
    "collapsed": true
   },
   "outputs": [],
   "source": [
    "def abs_perc(df, yr):\n",
    "    try:\n",
    "        df = pd.merge(df, census['dem'][yr][['FIPS','Percent__SEX_AND_AGE__Total_population']], \n",
    "                                          on='FIPS', how='left')\n",
    "    except KeyError:\n",
    "        df = pd.merge(df, census['dem'][2010][['FIPS','Percent__SEX_AND_AGE__Total_population']], \n",
    "                                          on='FIPS', how='left')\n",
    "\n",
    "    for i in df.columns:\n",
    "        new_col = str(i+'percent')\n",
    "        try: \n",
    "            df[new_col] = (df[i] / df['Percent__SEX_AND_AGE__Total_population'])*100\n",
    "        except TypeError:\n",
    "            pass\n",
    "        \n",
    "    df.drop(['Percent__SEX_AND_AGE__Total_population', 'Percent__SEX_AND_AGE__Total_populationpercent'], axis=1, inplace=True)\n",
    "\n",
    "    return df"
   ]
  },
  {
   "cell_type": "code",
   "execution_count": 8,
   "metadata": {
    "collapsed": true
   },
   "outputs": [],
   "source": [
    "def log_tform_cols(df):\n",
    "    '''For every column in the dataframe that has numeric values, \n",
    "    take the log transform of it and create a new column.'''\n",
    "    df.replace(to_replace=0, value=1, inplace=True)\n",
    "    for i in df.columns:\n",
    "        try:\n",
    "            df[i+'_log'] = np.log(df[i])\n",
    "        except AttributeError:\n",
    "            pass\n",
    "    return df"
   ]
  },
  {
   "cell_type": "code",
   "execution_count": 9,
   "metadata": {
    "collapsed": true
   },
   "outputs": [],
   "source": [
    "def feature_selection(yname,df,featuers_selvalue,rows,cols,threshold=0.5):\n",
    "    '''\n",
    "    df: dataframe containing all features and y (may contain unused ones)\n",
    "    featuers_selvalue: feature names to use in this selection\n",
    "    threshold: correlation threshold for screening. Function written by Kaili Li.\n",
    "    '''\n",
    "\n",
    "    \n",
    "    feature_list = []\n",
    "    corr_dict = {}\n",
    "    \n",
    "    fig, axes = pl.subplots(rows,cols, figsize = (16,rows*2.5))\n",
    "    for idx in range(len(featuers_selvalue)):\n",
    "\n",
    "        left = int(idx/cols)\n",
    "        right = idx - int(idx/cols)*cols\n",
    "        data = df[[yname]+ featuers_selvalue]\n",
    "        axes[left, right].scatter(data.iloc[:,idx],data.iloc[:,0],alpha=0.5)\n",
    "\n",
    "        #data = data.dropna()\n",
    "        #corr = np.corrcoef(data.T)[0,1]\n",
    "        #corr_dict[featuers_selvalue[idx]] = corr\n",
    "\n",
    "        #if (abs(corr)>=threshold):\n",
    "        #    feature_list.append(featuers_selvalue[idx])\n",
    "\n",
    "        #axes[left,right].set_title('corr: '+str(round(corr,3)))\n",
    "        #axes[left,right].set_xlabel(featuers_selvalue)\n",
    "        axes[left,right].set_ylabel(yname)\n",
    "\n",
    "        pl.tight_layout()\n",
    "\n",
    "    pl.show()\n",
    "    \n",
    "    return feature_list,corr_dict"
   ]
  },
  {
   "cell_type": "code",
   "execution_count": 10,
   "metadata": {
    "collapsed": true
   },
   "outputs": [],
   "source": [
    "covar_dict = {}\n",
    "alpha_dict = {}"
   ]
  },
  {
   "cell_type": "code",
   "execution_count": 11,
   "metadata": {
    "collapsed": true
   },
   "outputs": [],
   "source": [
    "#making a list of potential output variables\n",
    "home_value_indicators = ['Med_Listing_Price_Sfr','ZHVI_SingleFamilyResidence',\n",
    "                         'Med_Listing_Price_AllHomes', \n",
    "                         'ZHVI_AllHomes', 'County_MedianValuePerSqft_AllHomes']"
   ]
  },
  {
   "cell_type": "code",
   "execution_count": 12,
   "metadata": {
    "collapsed": true
   },
   "outputs": [],
   "source": [
    "zillow_feats = [word+'_next' for word in home_value_indicators] + [word+'_current' for word in home_value_indicators]"
   ]
  },
  {
   "cell_type": "code",
   "execution_count": null,
   "metadata": {
    "collapsed": true
   },
   "outputs": [],
   "source": []
  },
  {
   "cell_type": "markdown",
   "metadata": {},
   "source": [
    "## 2)  Loading Data\n",
    "a. Zillow Data   \n",
    "b. Census Data (housing, economic, social, demographic, and migration)  \n",
    "c. geography (lat, long, area)    \n",
    "d. tax data   \n",
    "e. voting  \n",
    "f. crime  "
   ]
  },
  {
   "cell_type": "markdown",
   "metadata": {},
   "source": [
    "### a. Zillow Data\n",
    "(data from Zillow)"
   ]
  },
  {
   "cell_type": "code",
   "execution_count": 13,
   "metadata": {
    "scrolled": true
   },
   "outputs": [
    {
     "data": {
      "text/html": [
       "<div>\n",
       "<style>\n",
       "    .dataframe thead tr:only-child th {\n",
       "        text-align: right;\n",
       "    }\n",
       "\n",
       "    .dataframe thead th {\n",
       "        text-align: left;\n",
       "    }\n",
       "\n",
       "    .dataframe tbody tr th {\n",
       "        vertical-align: top;\n",
       "    }\n",
       "</style>\n",
       "<table border=\"1\" class=\"dataframe\">\n",
       "  <thead>\n",
       "    <tr style=\"text-align: right;\">\n",
       "      <th></th>\n",
       "      <th>FIPS</th>\n",
       "      <th>RegionName</th>\n",
       "      <th>State</th>\n",
       "      <th>feature</th>\n",
       "      <th>1996</th>\n",
       "      <th>1997</th>\n",
       "      <th>1998</th>\n",
       "      <th>1999</th>\n",
       "      <th>2000</th>\n",
       "      <th>2001</th>\n",
       "      <th>...</th>\n",
       "      <th>2008</th>\n",
       "      <th>2009</th>\n",
       "      <th>2010</th>\n",
       "      <th>2011</th>\n",
       "      <th>2012</th>\n",
       "      <th>2013</th>\n",
       "      <th>2014</th>\n",
       "      <th>2015</th>\n",
       "      <th>2016</th>\n",
       "      <th>2017</th>\n",
       "    </tr>\n",
       "  </thead>\n",
       "  <tbody>\n",
       "    <tr>\n",
       "      <th>0</th>\n",
       "      <td>06037</td>\n",
       "      <td>Los Angeles</td>\n",
       "      <td>CA</td>\n",
       "      <td>ZHVI_1bedroom</td>\n",
       "      <td>93422.222222</td>\n",
       "      <td>94383.333333</td>\n",
       "      <td>105166.666667</td>\n",
       "      <td>113266.666667</td>\n",
       "      <td>127108.333333</td>\n",
       "      <td>144191.666667</td>\n",
       "      <td>...</td>\n",
       "      <td>324808.333333</td>\n",
       "      <td>272375.0</td>\n",
       "      <td>260958.333333</td>\n",
       "      <td>242525.000000</td>\n",
       "      <td>234208.333333</td>\n",
       "      <td>284983.333333</td>\n",
       "      <td>319741.666667</td>\n",
       "      <td>345475.000000</td>\n",
       "      <td>378241.666667</td>\n",
       "      <td>405955.555556</td>\n",
       "    </tr>\n",
       "    <tr>\n",
       "      <th>1</th>\n",
       "      <td>17031</td>\n",
       "      <td>Cook</td>\n",
       "      <td>IL</td>\n",
       "      <td>ZHVI_1bedroom</td>\n",
       "      <td>89411.111111</td>\n",
       "      <td>92375.000000</td>\n",
       "      <td>99258.333333</td>\n",
       "      <td>110450.000000</td>\n",
       "      <td>129041.666667</td>\n",
       "      <td>148541.666667</td>\n",
       "      <td>...</td>\n",
       "      <td>195833.333333</td>\n",
       "      <td>174325.0</td>\n",
       "      <td>160983.333333</td>\n",
       "      <td>141366.666667</td>\n",
       "      <td>130341.666667</td>\n",
       "      <td>140666.666667</td>\n",
       "      <td>152991.666667</td>\n",
       "      <td>156933.333333</td>\n",
       "      <td>164616.666667</td>\n",
       "      <td>171544.444444</td>\n",
       "    </tr>\n",
       "  </tbody>\n",
       "</table>\n",
       "<p>2 rows × 26 columns</p>\n",
       "</div>"
      ],
      "text/plain": [
       "    FIPS   RegionName State        feature          1996          1997  \\\n",
       "0  06037  Los Angeles    CA  ZHVI_1bedroom  93422.222222  94383.333333   \n",
       "1  17031         Cook    IL  ZHVI_1bedroom  89411.111111  92375.000000   \n",
       "\n",
       "            1998           1999           2000           2001      ...        \\\n",
       "0  105166.666667  113266.666667  127108.333333  144191.666667      ...         \n",
       "1   99258.333333  110450.000000  129041.666667  148541.666667      ...         \n",
       "\n",
       "            2008      2009           2010           2011           2012  \\\n",
       "0  324808.333333  272375.0  260958.333333  242525.000000  234208.333333   \n",
       "1  195833.333333  174325.0  160983.333333  141366.666667  130341.666667   \n",
       "\n",
       "            2013           2014           2015           2016           2017  \n",
       "0  284983.333333  319741.666667  345475.000000  378241.666667  405955.555556  \n",
       "1  140666.666667  152991.666667  156933.333333  164616.666667  171544.444444  \n",
       "\n",
       "[2 rows x 26 columns]"
      ]
     },
     "execution_count": 13,
     "metadata": {},
     "output_type": "execute_result"
    }
   ],
   "source": [
    "path = './data/dataframes/z_yrly.csv'\n",
    "zil = pd.read_csv(path)\n",
    "zil.drop(['Unnamed: 0'], axis=1, inplace=True)\n",
    "zil.FIPS = zil.FIPS.apply(str)\n",
    "zil.FIPS = zil.FIPS.str.zfill(5)\n",
    "zil.head(2)"
   ]
  },
  {
   "cell_type": "code",
   "execution_count": 14,
   "metadata": {
    "collapsed": true
   },
   "outputs": [],
   "source": [
    "zillow = {}\n",
    "for yr in zil.columns[4:]:\n",
    "    zillow[yr] = zil.pivot(index='FIPS', columns='feature', values=yr)#.reset_index()\n",
    "    zillow[yr].drop_duplicates(inplace=True)\n",
    "    zillow[yr].dropna(how='all', inplace=True)\n",
    "    zillow[yr].dropna(axis=1, how='all', inplace=True)\n",
    "    try: \n",
    "        zillow[yr].drop(['ZHVI_BottomTier_yoy'], axis=1,  inplace=True)\n",
    "    except ValueError:\n",
    "        pass\n",
    "    try: \n",
    "        zillow[yr].drop(['ZHVI_MiddleTier_yoy'], axis=1,  inplace=True)\n",
    "    except ValueError:\n",
    "        pass\n",
    "    try: \n",
    "        zillow[yr].drop(['ZHVI_TopTier_yoy'], axis=1,  inplace=True)\n",
    "    except ValueError:\n",
    "        pass\n",
    "    zillow[yr].drop(['ZHVI_2bedroom',\n",
    "       'ZHVI_3bedroom', 'ZHVI_4bedroom', 'ZHVI_5BedroomOrMore',\n",
    "       'ZHVI_BottomTier', 'ZHVI_Condominum','ZHVI_1bedroom',\n",
    "        'ZHVI_TopTier', 'ZHVI_MiddleTier'], axis=1,  inplace=True)\n",
    "    zillow[yr] = zillow[yr].reset_index()\n",
    "    \n",
    "    \n",
    "#dropping these fields because they are redundant for home prices"
   ]
  },
  {
   "cell_type": "code",
   "execution_count": 15,
   "metadata": {
    "collapsed": true
   },
   "outputs": [],
   "source": [
    "mrkt = {}\n",
    "for yr in np.arange(1996, 2018):\n",
    "    mrkt[yr] = zillow[str(yr)]"
   ]
  },
  {
   "cell_type": "code",
   "execution_count": 16,
   "metadata": {},
   "outputs": [
    {
     "data": {
      "application/vnd.jupyter.widget-view+json": {
       "model_id": "6ab3f5c6a73a442bac1b23cd331b3fe6",
       "version_major": 2,
       "version_minor": 0
      },
      "text/plain": [
       "A Jupyter Widget"
      ]
     },
     "metadata": {},
     "output_type": "display_data"
    }
   ],
   "source": [
    "mrkt[2016]['FIPS'] = mrkt[2016]['FIPS'].str.strip('0')\n",
    "map_fig = plt.figure(title='Med Listing Price by County', min_width=1300, min_height=800)\n",
    "map_tt = Tooltip(fields=['name', 'color'], labels=['COUNTY'])\n",
    "map_res = plt.geo(map_data=topo_load('map_data/USCountiesMap.json'), stroke_color='black',\n",
    "                 colors={'default_color': 'Black'},\n",
    "                  scales={'projection': AlbersUSA(),\n",
    "                         'color': ColorScale(scheme='RdYlBu')},\n",
    "                  color=dict(zip(mrkt[2016]['FIPS'], mrkt[2016]['Med_Listing_Price_AllHomes'])), tooltip=map_tt)\n",
    "mrkt[2016]['FIPS'] = mrkt[2016]['FIPS'].str.zfill(5)\n",
    "map_fig"
   ]
  },
  {
   "cell_type": "code",
   "execution_count": 17,
   "metadata": {},
   "outputs": [
    {
     "data": {
      "application/vnd.jupyter.widget-view+json": {
       "model_id": "644486cf6f4a453d8f90ad0f3d6f167b",
       "version_major": 2,
       "version_minor": 0
      },
      "text/plain": [
       "A Jupyter Widget"
      ]
     },
     "metadata": {},
     "output_type": "display_data"
    }
   ],
   "source": [
    "mrkt[2016]['FIPS'] = mrkt[2016]['FIPS'].str.strip('0')\n",
    "map_fig = plt.figure(title='ZHVI by County', min_width=1300, min_height=800)\n",
    "map_tt = Tooltip(fields=['name', 'color'], labels=['COUNTY'])\n",
    "map_res = plt.geo(map_data=topo_load('map_data/USCountiesMap.json'), stroke_color='black',\n",
    "                 colors={'default_color': 'Black'},\n",
    "                  scales={'projection': AlbersUSA(),\n",
    "                         'color': ColorScale(scheme='RdYlBu')},\n",
    "                  color=dict(zip(mrkt[2016]['FIPS'], mrkt[2016]['ZHVI_AllHomes'])), tooltip=map_tt)\n",
    "mrkt[2016]['FIPS'] = mrkt[2016]['FIPS'].str.zfill(5)\n",
    "map_fig"
   ]
  },
  {
   "cell_type": "markdown",
   "metadata": {},
   "source": [
    "Median Listing Price covers more counties but there aren't values for it in early years, while there are values for ZHVI.  Going to use ZHVI as the output, and fillin missing counites with Median Listing Price."
   ]
  },
  {
   "cell_type": "markdown",
   "metadata": {},
   "source": [
    "### b. Census Data"
   ]
  },
  {
   "cell_type": "code",
   "execution_count": 82,
   "metadata": {
    "collapsed": true
   },
   "outputs": [],
   "source": [
    "pkl_file = open('./data/dataframes/CensusData.pkl', 'rb')\n",
    "census = pickle.load(pkl_file)\n",
    "pkl_file.close()"
   ]
  },
  {
   "cell_type": "code",
   "execution_count": 83,
   "metadata": {},
   "outputs": [
    {
     "name": "stdout",
     "output_type": "stream",
     "text": [
      "econ\n",
      "soc\n",
      "migr\n",
      "dem\n",
      "hous\n"
     ]
    }
   ],
   "source": [
    "for k in census.keys():\n",
    "    print (k)\n",
    "    for yr in census[k].keys():\n",
    "        census[k][yr]['FIPS'] =  census[k][yr].FIPS.apply(int)\n",
    "        census[k][yr]['FIPS'] =  census[k][yr].FIPS.apply(str)\n",
    "        census[k][yr]['FIPS'] = census[k][yr].FIPS.str.zfill(5)"
   ]
  },
  {
   "cell_type": "markdown",
   "metadata": {},
   "source": [
    "### c. Geography"
   ]
  },
  {
   "cell_type": "code",
   "execution_count": 84,
   "metadata": {},
   "outputs": [
    {
     "data": {
      "text/html": [
       "<div>\n",
       "<style>\n",
       "    .dataframe thead tr:only-child th {\n",
       "        text-align: right;\n",
       "    }\n",
       "\n",
       "    .dataframe thead th {\n",
       "        text-align: left;\n",
       "    }\n",
       "\n",
       "    .dataframe tbody tr th {\n",
       "        vertical-align: top;\n",
       "    }\n",
       "</style>\n",
       "<table border=\"1\" class=\"dataframe\">\n",
       "  <thead>\n",
       "    <tr style=\"text-align: right;\">\n",
       "      <th></th>\n",
       "      <th>long</th>\n",
       "      <th>lat</th>\n",
       "      <th>FIPS</th>\n",
       "      <th>area</th>\n",
       "    </tr>\n",
       "  </thead>\n",
       "  <tbody>\n",
       "    <tr>\n",
       "      <th>0</th>\n",
       "      <td>-92.178640</td>\n",
       "      <td>41.336455</td>\n",
       "      <td>19107</td>\n",
       "      <td>579.930853</td>\n",
       "    </tr>\n",
       "    <tr>\n",
       "      <th>1</th>\n",
       "      <td>-93.734124</td>\n",
       "      <td>43.377519</td>\n",
       "      <td>19189</td>\n",
       "      <td>402.084843</td>\n",
       "    </tr>\n",
       "    <tr>\n",
       "      <th>2</th>\n",
       "      <td>-101.319890</td>\n",
       "      <td>38.000252</td>\n",
       "      <td>20093</td>\n",
       "      <td>872.855670</td>\n",
       "    </tr>\n",
       "  </tbody>\n",
       "</table>\n",
       "</div>"
      ],
      "text/plain": [
       "         long        lat   FIPS        area\n",
       "0  -92.178640  41.336455  19107  579.930853\n",
       "1  -93.734124  43.377519  19189  402.084843\n",
       "2 -101.319890  38.000252  20093  872.855670"
      ]
     },
     "execution_count": 84,
     "metadata": {},
     "output_type": "execute_result"
    }
   ],
   "source": [
    "shape_path=\"./data/cb_2016_us_county_500k/cb_2016_us_county_500k.shp\"\n",
    "ct_shape = GeoDataFrame.from_file(shape_path)\n",
    "\n",
    "#pull out lat and long from geometry \n",
    "ct_shape['long'] = ct_shape.geometry.centroid.x\n",
    "ct_shape['lat'] = ct_shape.geometry.centroid.y\n",
    "\n",
    "#create properly formatted FIPS codes\n",
    "ct_shape['FIPS'] =ct_shape.STATEFP + ct_shape.COUNTYFP\n",
    "\n",
    "\n",
    "ct_shape.crs = from_epsg(4326) # epsg=4326: lat/on | 26918: NAD83/UTM zone 18N | epsg=2263 is US feet\n",
    "ct_shape['area'] = ct_shape.to_crs(epsg=2263).geometry.area/(2.788*10**7) #area in mi^2\n",
    "\n",
    "ct_shape.drop(['STATEFP', 'COUNTYFP', 'COUNTYNS', 'AFFGEOID', 'GEOID', 'NAME', 'LSAD',\n",
    "       'ALAND', 'AWATER', 'geometry'], axis=1, inplace=True)\n",
    "ct_shape.head(3)"
   ]
  },
  {
   "cell_type": "markdown",
   "metadata": {},
   "source": [
    "### d. Tax"
   ]
  },
  {
   "cell_type": "code",
   "execution_count": 85,
   "metadata": {},
   "outputs": [
    {
     "data": {
      "text/html": [
       "<div>\n",
       "<style>\n",
       "    .dataframe thead tr:only-child th {\n",
       "        text-align: right;\n",
       "    }\n",
       "\n",
       "    .dataframe thead th {\n",
       "        text-align: left;\n",
       "    }\n",
       "\n",
       "    .dataframe tbody tr th {\n",
       "        vertical-align: top;\n",
       "    }\n",
       "</style>\n",
       "<table border=\"1\" class=\"dataframe\">\n",
       "  <thead>\n",
       "    <tr style=\"text-align: right;\">\n",
       "      <th></th>\n",
       "      <th>STATE</th>\n",
       "      <th>YEAR</th>\n",
       "      <th>FIPS</th>\n",
       "      <th>A00100</th>\n",
       "      <th>A00101</th>\n",
       "      <th>A00200</th>\n",
       "      <th>A00300</th>\n",
       "      <th>A00600</th>\n",
       "      <th>A00650</th>\n",
       "      <th>A00700</th>\n",
       "      <th>...</th>\n",
       "      <th>NUMDEP</th>\n",
       "      <th>PREP</th>\n",
       "      <th>RAC</th>\n",
       "      <th>RAL</th>\n",
       "      <th>SCHF</th>\n",
       "      <th>STATEFIPS</th>\n",
       "      <th>TCE</th>\n",
       "      <th>TOTAL_VITA</th>\n",
       "      <th>VITA</th>\n",
       "      <th>VITA_EIC</th>\n",
       "    </tr>\n",
       "  </thead>\n",
       "  <tbody>\n",
       "    <tr>\n",
       "      <th>0</th>\n",
       "      <td>AL</td>\n",
       "      <td>2010</td>\n",
       "      <td>01000</td>\n",
       "      <td>97604671.0</td>\n",
       "      <td>NaN</td>\n",
       "      <td>72276379.0</td>\n",
       "      <td>1508016.0</td>\n",
       "      <td>1438543.0</td>\n",
       "      <td>1103934.0</td>\n",
       "      <td>NaN</td>\n",
       "      <td>...</td>\n",
       "      <td>1388578.0</td>\n",
       "      <td>1273772.0</td>\n",
       "      <td>NaN</td>\n",
       "      <td>NaN</td>\n",
       "      <td>49990.0</td>\n",
       "      <td>1</td>\n",
       "      <td>NaN</td>\n",
       "      <td>NaN</td>\n",
       "      <td>NaN</td>\n",
       "      <td>NaN</td>\n",
       "    </tr>\n",
       "    <tr>\n",
       "      <th>1</th>\n",
       "      <td>AL</td>\n",
       "      <td>2010</td>\n",
       "      <td>01001</td>\n",
       "      <td>1141741.0</td>\n",
       "      <td>NaN</td>\n",
       "      <td>898499.0</td>\n",
       "      <td>10302.0</td>\n",
       "      <td>6121.0</td>\n",
       "      <td>4010.0</td>\n",
       "      <td>NaN</td>\n",
       "      <td>...</td>\n",
       "      <td>17506.0</td>\n",
       "      <td>11995.0</td>\n",
       "      <td>NaN</td>\n",
       "      <td>NaN</td>\n",
       "      <td>419.0</td>\n",
       "      <td>1</td>\n",
       "      <td>NaN</td>\n",
       "      <td>NaN</td>\n",
       "      <td>NaN</td>\n",
       "      <td>NaN</td>\n",
       "    </tr>\n",
       "    <tr>\n",
       "      <th>2</th>\n",
       "      <td>AL</td>\n",
       "      <td>2010</td>\n",
       "      <td>01003</td>\n",
       "      <td>4331432.0</td>\n",
       "      <td>NaN</td>\n",
       "      <td>2944594.0</td>\n",
       "      <td>76050.0</td>\n",
       "      <td>85725.0</td>\n",
       "      <td>61562.0</td>\n",
       "      <td>NaN</td>\n",
       "      <td>...</td>\n",
       "      <td>52276.0</td>\n",
       "      <td>47626.0</td>\n",
       "      <td>NaN</td>\n",
       "      <td>NaN</td>\n",
       "      <td>1196.0</td>\n",
       "      <td>1</td>\n",
       "      <td>NaN</td>\n",
       "      <td>NaN</td>\n",
       "      <td>NaN</td>\n",
       "      <td>NaN</td>\n",
       "    </tr>\n",
       "  </tbody>\n",
       "</table>\n",
       "<p>3 rows × 136 columns</p>\n",
       "</div>"
      ],
      "text/plain": [
       "  STATE  YEAR   FIPS      A00100  A00101      A00200     A00300     A00600  \\\n",
       "0    AL  2010  01000  97604671.0     NaN  72276379.0  1508016.0  1438543.0   \n",
       "1    AL  2010  01001   1141741.0     NaN    898499.0    10302.0     6121.0   \n",
       "2    AL  2010  01003   4331432.0     NaN   2944594.0    76050.0    85725.0   \n",
       "\n",
       "      A00650  A00700    ...        NUMDEP       PREP  RAC  RAL     SCHF  \\\n",
       "0  1103934.0     NaN    ...     1388578.0  1273772.0  NaN  NaN  49990.0   \n",
       "1     4010.0     NaN    ...       17506.0    11995.0  NaN  NaN    419.0   \n",
       "2    61562.0     NaN    ...       52276.0    47626.0  NaN  NaN   1196.0   \n",
       "\n",
       "   STATEFIPS  TCE  TOTAL_VITA  VITA  VITA_EIC  \n",
       "0          1  NaN         NaN   NaN       NaN  \n",
       "1          1  NaN         NaN   NaN       NaN  \n",
       "2          1  NaN         NaN   NaN       NaN  \n",
       "\n",
       "[3 rows x 136 columns]"
      ]
     },
     "execution_count": 85,
     "metadata": {},
     "output_type": "execute_result"
    }
   ],
   "source": [
    "path = './data/tax/County_Tax_2010-2015.csv'\n",
    "tax10 = pd.read_csv(path,  encoding = \"ISO-8859-1\")\n",
    "tax10['FIPS'] = tax10['FIPS'].apply(str)\n",
    "tax10['FIPS'] = tax10['FIPS'].str.zfill(5)\n",
    "tax10.head(3)"
   ]
  },
  {
   "cell_type": "code",
   "execution_count": 86,
   "metadata": {
    "collapsed": true
   },
   "outputs": [],
   "source": [
    "for i in list(tax10.columns)[3:]:\n",
    "    amnt = 'A' + i[-5:]\n",
    "    nmbr = 'N' + i[-5:]\n",
    "    try: \n",
    "        tax10[i[-5:]] = tax10[amnt] / tax10[nmbr]\n",
    "    except KeyError:\n",
    "        pass"
   ]
  },
  {
   "cell_type": "code",
   "execution_count": 87,
   "metadata": {},
   "outputs": [
    {
     "name": "stderr",
     "output_type": "stream",
     "text": [
      "/Users/baileygriswold/anaconda3/lib/python3.6/site-packages/IPython/core/interactiveshell.py:2698: DtypeWarning: Columns (6,7,8,9,10,11) have mixed types. Specify dtype option on import or set low_memory=False.\n",
      "  interactivity=interactivity, compiler=compiler, result=result)\n"
     ]
    },
    {
     "data": {
      "text/html": [
       "<div>\n",
       "<style>\n",
       "    .dataframe thead tr:only-child th {\n",
       "        text-align: right;\n",
       "    }\n",
       "\n",
       "    .dataframe thead th {\n",
       "        text-align: left;\n",
       "    }\n",
       "\n",
       "    .dataframe tbody tr th {\n",
       "        vertical-align: top;\n",
       "    }\n",
       "</style>\n",
       "<table border=\"1\" class=\"dataframe\">\n",
       "  <thead>\n",
       "    <tr style=\"text-align: right;\">\n",
       "      <th></th>\n",
       "      <th>STATE</th>\n",
       "      <th>YEAR</th>\n",
       "      <th>FIPS</th>\n",
       "      <th>STATEFIPS</th>\n",
       "      <th>COUNTYFIPS</th>\n",
       "      <th>COUNTY</th>\n",
       "      <th>Number_of_returns</th>\n",
       "      <th>Number_of_exemptions</th>\n",
       "      <th>Adjusted_gross_income</th>\n",
       "      <th>Wages_and_salaries</th>\n",
       "      <th>Dividends_before_exclusion</th>\n",
       "      <th>Interest_received</th>\n",
       "    </tr>\n",
       "  </thead>\n",
       "  <tbody>\n",
       "    <tr>\n",
       "      <th>0</th>\n",
       "      <td>AL</td>\n",
       "      <td>1989</td>\n",
       "      <td>1000</td>\n",
       "      <td>1</td>\n",
       "      <td>0</td>\n",
       "      <td>ALABAMA</td>\n",
       "      <td>1595185.0</td>\n",
       "      <td>3557069.0</td>\n",
       "      <td>39454560.0</td>\n",
       "      <td>31125750.0</td>\n",
       "      <td>638076.0</td>\n",
       "      <td>2392059.0</td>\n",
       "    </tr>\n",
       "    <tr>\n",
       "      <th>1</th>\n",
       "      <td>AL</td>\n",
       "      <td>1989</td>\n",
       "      <td>1001</td>\n",
       "      <td>1</td>\n",
       "      <td>1</td>\n",
       "      <td>Autauga</td>\n",
       "      <td>13674.0</td>\n",
       "      <td>31869.0</td>\n",
       "      <td>333060.0</td>\n",
       "      <td>279230.0</td>\n",
       "      <td>3115.0</td>\n",
       "      <td>13269.0</td>\n",
       "    </tr>\n",
       "    <tr>\n",
       "      <th>2</th>\n",
       "      <td>AL</td>\n",
       "      <td>1989</td>\n",
       "      <td>1003</td>\n",
       "      <td>1</td>\n",
       "      <td>3</td>\n",
       "      <td>Baldwin</td>\n",
       "      <td>39202.0</td>\n",
       "      <td>86819.0</td>\n",
       "      <td>957370.0</td>\n",
       "      <td>673040.0</td>\n",
       "      <td>24108.0</td>\n",
       "      <td>82778.0</td>\n",
       "    </tr>\n",
       "    <tr>\n",
       "      <th>3</th>\n",
       "      <td>AL</td>\n",
       "      <td>1989</td>\n",
       "      <td>1005</td>\n",
       "      <td>1</td>\n",
       "      <td>5</td>\n",
       "      <td>Barbour</td>\n",
       "      <td>9367.0</td>\n",
       "      <td>21385.0</td>\n",
       "      <td>193510.0</td>\n",
       "      <td>153190.0</td>\n",
       "      <td>2729.0</td>\n",
       "      <td>12946.0</td>\n",
       "    </tr>\n",
       "    <tr>\n",
       "      <th>4</th>\n",
       "      <td>AL</td>\n",
       "      <td>1989</td>\n",
       "      <td>1007</td>\n",
       "      <td>1</td>\n",
       "      <td>7</td>\n",
       "      <td>Bibb</td>\n",
       "      <td>6347.0</td>\n",
       "      <td>15087.0</td>\n",
       "      <td>129680.0</td>\n",
       "      <td>107400.0</td>\n",
       "      <td>924.0</td>\n",
       "      <td>5794.0</td>\n",
       "    </tr>\n",
       "  </tbody>\n",
       "</table>\n",
       "</div>"
      ],
      "text/plain": [
       "  STATE  YEAR  FIPS  STATEFIPS  COUNTYFIPS   COUNTY Number_of_returns  \\\n",
       "0    AL  1989  1000          1           0  ALABAMA         1595185.0   \n",
       "1    AL  1989  1001          1           1  Autauga           13674.0   \n",
       "2    AL  1989  1003          1           3  Baldwin           39202.0   \n",
       "3    AL  1989  1005          1           5  Barbour            9367.0   \n",
       "4    AL  1989  1007          1           7     Bibb            6347.0   \n",
       "\n",
       "  Number_of_exemptions Adjusted_gross_income Wages_and_salaries  \\\n",
       "0            3557069.0            39454560.0         31125750.0   \n",
       "1              31869.0              333060.0           279230.0   \n",
       "2              86819.0              957370.0           673040.0   \n",
       "3              21385.0              193510.0           153190.0   \n",
       "4              15087.0              129680.0           107400.0   \n",
       "\n",
       "  Dividends_before_exclusion Interest_received  \n",
       "0                   638076.0         2392059.0  \n",
       "1                     3115.0           13269.0  \n",
       "2                    24108.0           82778.0  \n",
       "3                     2729.0           12946.0  \n",
       "4                      924.0            5794.0  "
      ]
     },
     "execution_count": 87,
     "metadata": {},
     "output_type": "execute_result"
    }
   ],
   "source": [
    "path = './data/tax/County_Tax_1989-2009.csv'\n",
    "tax89 = pd.read_csv(path)\n",
    "tax89.head()"
   ]
  },
  {
   "cell_type": "code",
   "execution_count": 88,
   "metadata": {
    "collapsed": true
   },
   "outputs": [],
   "source": [
    "tax89.iloc[:, 6:] = tax89.iloc[:, 6:].apply(pd.to_numeric, errors='coerce')"
   ]
  },
  {
   "cell_type": "code",
   "execution_count": 89,
   "metadata": {
    "collapsed": true
   },
   "outputs": [],
   "source": [
    "tax89['FIPS'] = tax89['FIPS'].apply(str)\n",
    "tax89['FIPS'] = tax89['FIPS'].str.zfill(5)"
   ]
  },
  {
   "cell_type": "code",
   "execution_count": 90,
   "metadata": {
    "collapsed": true
   },
   "outputs": [],
   "source": [
    "for i in tax89.columns[7:]:\n",
    "        tax89[i+'_per_return'] = (tax89[i] / tax89.Number_of_returns)"
   ]
  },
  {
   "cell_type": "code",
   "execution_count": 91,
   "metadata": {
    "collapsed": true
   },
   "outputs": [],
   "source": [
    "taxes = {}\n",
    "for yr in tax10.YEAR.value_counts().index:\n",
    "    taxes[yr] = tax10[tax10.YEAR == yr]\n",
    "for yr in tax89.YEAR.value_counts().index:\n",
    "    taxes[yr] = tax89[tax89.YEAR == yr]"
   ]
  },
  {
   "cell_type": "code",
   "execution_count": null,
   "metadata": {
    "collapsed": true
   },
   "outputs": [],
   "source": []
  },
  {
   "cell_type": "code",
   "execution_count": 137,
   "metadata": {
    "scrolled": true
   },
   "outputs": [
    {
     "name": "stderr",
     "output_type": "stream",
     "text": [
      "/Users/baileygriswold/anaconda3/lib/python3.6/site-packages/ipykernel_launcher.py:1: SettingWithCopyWarning: \n",
      "A value is trying to be set on a copy of a slice from a DataFrame.\n",
      "Try using .loc[row_indexer,col_indexer] = value instead\n",
      "\n",
      "See the caveats in the documentation: http://pandas.pydata.org/pandas-docs/stable/indexing.html#indexing-view-versus-copy\n",
      "  \"\"\"Entry point for launching an IPython kernel.\n"
     ]
    },
    {
     "data": {
      "application/vnd.jupyter.widget-view+json": {
       "model_id": "9b6c75f90807463cb0c75e695903465e",
       "version_major": 2,
       "version_minor": 0
      },
      "text/plain": [
       "A Jupyter Widget"
      ]
     },
     "metadata": {},
     "output_type": "display_data"
    }
   ],
   "source": [
    "taxes[2005]['FIPS'] = taxes[2005]['FIPS'].str.strip('0')\n",
    "\n",
    "map_fig = pl.figure(title='AGI by County', min_width=1300, min_height=800)\n",
    "map_tt = Tooltip(fields=['name', 'color'], labels=['COUNTY'])\n",
    "map_res = pl.geo(map_data=topo_load('map_data/USCountiesMap.json'), stroke_color='black',\n",
    "                 colors={'default_color': 'Black'},\n",
    "                  scales={'projection': AlbersUSA(),\n",
    "                         'color': ColorScale(scheme='RdYlBu')},\n",
    "                  color=dict(zip(taxes[2005]['FIPS'], taxes[2005]['Adjusted_gross_income_per_return'])), tooltip=map_tt)\n",
    "map_fig"
   ]
  },
  {
   "cell_type": "code",
   "execution_count": 30,
   "metadata": {},
   "outputs": [
    {
     "name": "stderr",
     "output_type": "stream",
     "text": [
      "/Users/baileygriswold/anaconda3/lib/python3.6/site-packages/ipykernel_launcher.py:1: SettingWithCopyWarning: \n",
      "A value is trying to be set on a copy of a slice from a DataFrame.\n",
      "Try using .loc[row_indexer,col_indexer] = value instead\n",
      "\n",
      "See the caveats in the documentation: http://pandas.pydata.org/pandas-docs/stable/indexing.html#indexing-view-versus-copy\n",
      "  \"\"\"Entry point for launching an IPython kernel.\n"
     ]
    }
   ],
   "source": [
    "taxes[2005]['FIPS'] = taxes[2005]['FIPS'].str.zfill(5)"
   ]
  },
  {
   "cell_type": "markdown",
   "metadata": {},
   "source": [
    "### e. Voting"
   ]
  },
  {
   "cell_type": "code",
   "execution_count": 92,
   "metadata": {},
   "outputs": [
    {
     "data": {
      "text/html": [
       "<div>\n",
       "<style>\n",
       "    .dataframe thead tr:only-child th {\n",
       "        text-align: right;\n",
       "    }\n",
       "\n",
       "    .dataframe thead th {\n",
       "        text-align: left;\n",
       "    }\n",
       "\n",
       "    .dataframe tbody tr th {\n",
       "        vertical-align: top;\n",
       "    }\n",
       "</style>\n",
       "<table border=\"1\" class=\"dataframe\">\n",
       "  <thead>\n",
       "    <tr style=\"text-align: right;\">\n",
       "      <th></th>\n",
       "      <th>State</th>\n",
       "      <th>RegionName</th>\n",
       "      <th>FIPS</th>\n",
       "      <th>feature</th>\n",
       "      <th>2000</th>\n",
       "      <th>2004</th>\n",
       "      <th>2008</th>\n",
       "      <th>2012</th>\n",
       "      <th>2016</th>\n",
       "    </tr>\n",
       "  </thead>\n",
       "  <tbody>\n",
       "    <tr>\n",
       "      <th>0</th>\n",
       "      <td>AL</td>\n",
       "      <td>Autauga</td>\n",
       "      <td>1001</td>\n",
       "      <td>TotalVotes</td>\n",
       "      <td>17208.00</td>\n",
       "      <td>20081.0</td>\n",
       "      <td>23489.0</td>\n",
       "      <td>23856.000</td>\n",
       "      <td>24556.000</td>\n",
       "    </tr>\n",
       "    <tr>\n",
       "      <th>1</th>\n",
       "      <td>AL</td>\n",
       "      <td>Autauga</td>\n",
       "      <td>1001</td>\n",
       "      <td>Rpct</td>\n",
       "      <td>69.69</td>\n",
       "      <td>75.7</td>\n",
       "      <td>74.0</td>\n",
       "      <td>0.726</td>\n",
       "      <td>0.734</td>\n",
       "    </tr>\n",
       "    <tr>\n",
       "      <th>2</th>\n",
       "      <td>AL</td>\n",
       "      <td>Autauga</td>\n",
       "      <td>1001</td>\n",
       "      <td>Dpct</td>\n",
       "      <td>28.72</td>\n",
       "      <td>23.7</td>\n",
       "      <td>26.0</td>\n",
       "      <td>0.266</td>\n",
       "      <td>0.240</td>\n",
       "    </tr>\n",
       "  </tbody>\n",
       "</table>\n",
       "</div>"
      ],
      "text/plain": [
       "  State RegionName  FIPS     feature      2000     2004     2008       2012  \\\n",
       "0    AL    Autauga  1001  TotalVotes  17208.00  20081.0  23489.0  23856.000   \n",
       "1    AL    Autauga  1001        Rpct     69.69     75.7     74.0      0.726   \n",
       "2    AL    Autauga  1001        Dpct     28.72     23.7     26.0      0.266   \n",
       "\n",
       "        2016  \n",
       "0  24556.000  \n",
       "1      0.734  \n",
       "2      0.240  "
      ]
     },
     "execution_count": 92,
     "metadata": {},
     "output_type": "execute_result"
    }
   ],
   "source": [
    "path = './data/dataframes/voting.csv'\n",
    "vot = pd.read_csv(path)\n",
    "\n",
    "vot.drop(['Unnamed: 0'], axis = 1, inplace=True)\n",
    "vot.FIPS = vot.FIPS.apply(str)\n",
    "vot.FIPS = vot.FIPS.str.zfill(4)\n",
    "\n",
    "vot.head(3)"
   ]
  },
  {
   "cell_type": "code",
   "execution_count": 93,
   "metadata": {
    "collapsed": true
   },
   "outputs": [],
   "source": [
    "for yr in  [2000, 2004, 2008, 2012, 2016]:\n",
    "    vot[str(yr+1)] = vot[str(yr)]\n",
    "    vot[str(yr+2)] = vot[str(yr)]\n",
    "    vot[str(yr+3)] = vot[str(yr)]"
   ]
  },
  {
   "cell_type": "code",
   "execution_count": 94,
   "metadata": {
    "collapsed": true
   },
   "outputs": [],
   "source": [
    "vot.iloc[:, 4:] = vot.iloc[:, 4:].fillna(method='ffill', axis=1)"
   ]
  },
  {
   "cell_type": "code",
   "execution_count": 95,
   "metadata": {
    "collapsed": true
   },
   "outputs": [],
   "source": [
    "voting = {}\n",
    "for yr in np.arange(2000, 2017):\n",
    "    voting[yr] = vot.pivot(index='FIPS', columns='feature', values=str(yr)).reset_index()"
   ]
  },
  {
   "cell_type": "code",
   "execution_count": 35,
   "metadata": {},
   "outputs": [
    {
     "data": {
      "application/vnd.jupyter.widget-view+json": {
       "model_id": "b910b65f8e494e72b8c20d3dee8884be",
       "version_major": 2,
       "version_minor": 0
      },
      "text/plain": [
       "A Jupyter Widget"
      ]
     },
     "metadata": {},
     "output_type": "display_data"
    }
   ],
   "source": [
    "voting[2005]['FIPS'] = voting[2005]['FIPS'].str.strip('0')\n",
    "\n",
    "map_fig = pl.figure(title='% Democratic Votes by County', min_width=1300, min_height=800)\n",
    "map_tt = Tooltip(fields=['name', 'color'], labels=['COUNTY'])\n",
    "map_res = pl.geo(map_data=topo_load('map_data/USCountiesMap.json'), stroke_color='black',\n",
    "                 colors={'default_color': 'Black'},\n",
    "                  scales={'projection': AlbersUSA(),\n",
    "                         'color': ColorScale(scheme='RdYlBu')},\n",
    "                  color=dict(zip(voting[2005]['FIPS'], voting[2005]['Dpct'])), tooltip=map_tt)\n",
    "voting[2005]['FIPS'] = voting[2005]['FIPS'].str.zfill(5)\n",
    "\n",
    "map_fig"
   ]
  },
  {
   "cell_type": "markdown",
   "metadata": {},
   "source": [
    "### f. Crime"
   ]
  },
  {
   "cell_type": "code",
   "execution_count": 96,
   "metadata": {},
   "outputs": [
    {
     "data": {
      "text/html": [
       "<div>\n",
       "<style>\n",
       "    .dataframe thead tr:only-child th {\n",
       "        text-align: right;\n",
       "    }\n",
       "\n",
       "    .dataframe thead th {\n",
       "        text-align: left;\n",
       "    }\n",
       "\n",
       "    .dataframe tbody tr th {\n",
       "        vertical-align: top;\n",
       "    }\n",
       "</style>\n",
       "<table border=\"1\" class=\"dataframe\">\n",
       "  <thead>\n",
       "    <tr style=\"text-align: right;\">\n",
       "      <th></th>\n",
       "      <th>FIPS</th>\n",
       "      <th>RegionName</th>\n",
       "      <th>State</th>\n",
       "      <th>feature</th>\n",
       "      <th>1985</th>\n",
       "      <th>1986</th>\n",
       "      <th>1987</th>\n",
       "      <th>1988</th>\n",
       "      <th>1989</th>\n",
       "      <th>1990</th>\n",
       "      <th>...</th>\n",
       "      <th>2005</th>\n",
       "      <th>2006</th>\n",
       "      <th>2007</th>\n",
       "      <th>2008</th>\n",
       "      <th>2009</th>\n",
       "      <th>2010</th>\n",
       "      <th>2011</th>\n",
       "      <th>2012</th>\n",
       "      <th>2013</th>\n",
       "      <th>2014</th>\n",
       "    </tr>\n",
       "  </thead>\n",
       "  <tbody>\n",
       "    <tr>\n",
       "      <th>0</th>\n",
       "      <td>01001</td>\n",
       "      <td>Autauga County</td>\n",
       "      <td>AL</td>\n",
       "      <td>Property_crime</td>\n",
       "      <td>2927.4</td>\n",
       "      <td>3940.9</td>\n",
       "      <td>3562.0</td>\n",
       "      <td>4257.1</td>\n",
       "      <td>5078.4</td>\n",
       "      <td>5396.4</td>\n",
       "      <td>...</td>\n",
       "      <td>4611.8</td>\n",
       "      <td>4344.4</td>\n",
       "      <td>4072.1</td>\n",
       "      <td>3930.1</td>\n",
       "      <td>2512.1</td>\n",
       "      <td>3816.3</td>\n",
       "      <td>3777.5</td>\n",
       "      <td>3814.6</td>\n",
       "      <td>3652.5</td>\n",
       "      <td>3585.7</td>\n",
       "    </tr>\n",
       "    <tr>\n",
       "      <th>1</th>\n",
       "      <td>01001</td>\n",
       "      <td>Autauga County</td>\n",
       "      <td>AL</td>\n",
       "      <td>Total_crime</td>\n",
       "      <td>3304.3</td>\n",
       "      <td>4765.3</td>\n",
       "      <td>4149.4</td>\n",
       "      <td>5136.1</td>\n",
       "      <td>5850.6</td>\n",
       "      <td>6611.5</td>\n",
       "      <td>...</td>\n",
       "      <td>4926.2</td>\n",
       "      <td>4753.4</td>\n",
       "      <td>4353.8</td>\n",
       "      <td>4216.3</td>\n",
       "      <td>3047.0</td>\n",
       "      <td>4081.3</td>\n",
       "      <td>3953.3</td>\n",
       "      <td>3988.4</td>\n",
       "      <td>3897.1</td>\n",
       "      <td>3813.7</td>\n",
       "    </tr>\n",
       "    <tr>\n",
       "      <th>2</th>\n",
       "      <td>01001</td>\n",
       "      <td>Autauga County</td>\n",
       "      <td>AL</td>\n",
       "      <td>Violent_crime</td>\n",
       "      <td>376.9</td>\n",
       "      <td>824.4</td>\n",
       "      <td>587.4</td>\n",
       "      <td>879.0</td>\n",
       "      <td>772.2</td>\n",
       "      <td>1215.1</td>\n",
       "      <td>...</td>\n",
       "      <td>314.4</td>\n",
       "      <td>409.0</td>\n",
       "      <td>281.7</td>\n",
       "      <td>286.2</td>\n",
       "      <td>534.9</td>\n",
       "      <td>265.0</td>\n",
       "      <td>175.8</td>\n",
       "      <td>173.8</td>\n",
       "      <td>244.6</td>\n",
       "      <td>228.0</td>\n",
       "    </tr>\n",
       "  </tbody>\n",
       "</table>\n",
       "<p>3 rows × 34 columns</p>\n",
       "</div>"
      ],
      "text/plain": [
       "    FIPS      RegionName State         feature    1985    1986    1987  \\\n",
       "0  01001  Autauga County    AL  Property_crime  2927.4  3940.9  3562.0   \n",
       "1  01001  Autauga County    AL     Total_crime  3304.3  4765.3  4149.4   \n",
       "2  01001  Autauga County    AL   Violent_crime   376.9   824.4   587.4   \n",
       "\n",
       "     1988    1989    1990   ...      2005    2006    2007    2008    2009  \\\n",
       "0  4257.1  5078.4  5396.4   ...    4611.8  4344.4  4072.1  3930.1  2512.1   \n",
       "1  5136.1  5850.6  6611.5   ...    4926.2  4753.4  4353.8  4216.3  3047.0   \n",
       "2   879.0   772.2  1215.1   ...     314.4   409.0   281.7   286.2   534.9   \n",
       "\n",
       "     2010    2011    2012    2013    2014  \n",
       "0  3816.3  3777.5  3814.6  3652.5  3585.7  \n",
       "1  4081.3  3953.3  3988.4  3897.1  3813.7  \n",
       "2   265.0   175.8   173.8   244.6   228.0  \n",
       "\n",
       "[3 rows x 34 columns]"
      ]
     },
     "execution_count": 96,
     "metadata": {},
     "output_type": "execute_result"
    }
   ],
   "source": [
    "path = './data/dataframes/df_crime.csv'\n",
    "crime = pd.read_csv(path)\n",
    "\n",
    "crime.drop(['Unnamed: 0'], axis = 1, inplace=True)\n",
    "crime.FIPS = crime.FIPS.apply(str)\n",
    "crime.FIPS = crime.FIPS.str.zfill(5)\n",
    "\n",
    "crime.head(3)"
   ]
  },
  {
   "cell_type": "code",
   "execution_count": 97,
   "metadata": {},
   "outputs": [
    {
     "data": {
      "text/plain": [
       "Index(['1985', '1986', '1987', '1988', '1989', '1990', '1991', '1992', '1993',\n",
       "       '1994', '1995', '1996', '1997', '1998', '1999', '2000', '2001', '2002',\n",
       "       '2003', '2004', '2005', '2006', '2007', '2008', '2009', '2010', '2011',\n",
       "       '2012', '2013', '2014'],\n",
       "      dtype='object')"
      ]
     },
     "execution_count": 97,
     "metadata": {},
     "output_type": "execute_result"
    }
   ],
   "source": [
    "crime.columns[4:]"
   ]
  },
  {
   "cell_type": "code",
   "execution_count": 98,
   "metadata": {
    "collapsed": true
   },
   "outputs": [],
   "source": [
    "crime_dict = {}\n",
    "for yr in crime.columns[4:]:\n",
    "    crime_dict[int(yr)] = crime.pivot(index='FIPS', columns='feature', values=yr).reset_index()\n"
   ]
  },
  {
   "cell_type": "code",
   "execution_count": 39,
   "metadata": {},
   "outputs": [
    {
     "data": {
      "application/vnd.jupyter.widget-view+json": {
       "model_id": "eea2bfbf7c1a46d7a73ec0fa1eaae351",
       "version_major": 2,
       "version_minor": 0
      },
      "text/plain": [
       "A Jupyter Widget"
      ]
     },
     "metadata": {},
     "output_type": "display_data"
    }
   ],
   "source": [
    "crime_dict[2005]['FIPS'] = crime_dict[2005]['FIPS'].str.strip('0')\n",
    "\n",
    "map_fig = pl.figure(title='Property Crime by County', min_width=1300, min_height=800)\n",
    "map_tt = Tooltip(fields=['name', 'color'], labels=['COUNTY'])\n",
    "map_res = pl.geo(map_data=topo_load('map_data/USCountiesMap.json'), stroke_color='black',\n",
    "                 colors={'default_color': 'Black'},\n",
    "                  scales={'projection': AlbersUSA(),\n",
    "                         'color': ColorScale(scheme='RdYlBu')},\n",
    "                  color=dict(zip(crime_dict[2005]['FIPS'], crime_dict[2005]['Property_crime'])), tooltip=map_tt)\n",
    "crime_dict[2005]['FIPS'] = crime_dict[2005]['FIPS'].str.zfill(5)\n",
    "\n",
    "map_fig"
   ]
  },
  {
   "cell_type": "markdown",
   "metadata": {},
   "source": [
    "## 3. Feature Engineering\n",
    "- normalizing abosolute values\n",
    "- taking the log transform\n",
    "- calculating growth from year to year"
   ]
  },
  {
   "cell_type": "markdown",
   "metadata": {},
   "source": [
    "** *Normalize Absolutes * **"
   ]
  },
  {
   "cell_type": "code",
   "execution_count": 99,
   "metadata": {
    "collapsed": true
   },
   "outputs": [],
   "source": [
    "for yr in crime_dict.keys():\n",
    "    crime_dict[yr] = abs_perc(crime_dict[yr], yr)"
   ]
  },
  {
   "cell_type": "code",
   "execution_count": 100,
   "metadata": {
    "collapsed": true
   },
   "outputs": [],
   "source": [
    "for yr in census['migr'].keys():\n",
    "    census['migr'][yr] = abs_perc(census['migr'][yr], yr)"
   ]
  },
  {
   "cell_type": "code",
   "execution_count": 101,
   "metadata": {
    "collapsed": true,
    "scrolled": true
   },
   "outputs": [],
   "source": [
    "for yr in voting.keys():\n",
    "    voting[yr]= abs_perc(voting[yr], yr)"
   ]
  },
  {
   "cell_type": "code",
   "execution_count": 102,
   "metadata": {
    "collapsed": true
   },
   "outputs": [],
   "source": [
    "for yr in census['hous'].keys():\n",
    "    census['hous'][yr] = pd.merge(census['hous'][yr], ct_shape, on='FIPS', how='left')\n",
    "    census['hous'][yr]['housing_density'] = census['hous'][yr]['Percent__HOUSING_OCCUPANCY__Total_housing_units'] / census['hous'][yr]['area']"
   ]
  },
  {
   "cell_type": "code",
   "execution_count": 103,
   "metadata": {
    "collapsed": true
   },
   "outputs": [],
   "source": [
    "for yr in census['dem'].keys():\n",
    "    census['dem'][yr] = pd.merge(census['dem'][yr], ct_shape, on='FIPS', how='left')\n",
    "    census['dem'][yr]['pop_density'] = census['dem'][yr]['Percent__SEX_AND_AGE__Total_population'] / census['dem'][yr]['area']"
   ]
  },
  {
   "cell_type": "markdown",
   "metadata": {},
   "source": [
    "** * Percent Change * **"
   ]
  },
  {
   "cell_type": "code",
   "execution_count": 104,
   "metadata": {
    "collapsed": true,
    "scrolled": false
   },
   "outputs": [],
   "source": [
    "for yr in np.arange(1986,2015):\n",
    "    for i in crime_dict[yr].columns[1:]:\n",
    "        crime_dict[yr][i+'_pctch'] = (crime_dict[yr][i] - \n",
    "                                      crime_dict[yr-1][i]) / crime_dict[yr-1][i] * 100"
   ]
  },
  {
   "cell_type": "code",
   "execution_count": 105,
   "metadata": {
    "collapsed": true
   },
   "outputs": [],
   "source": [
    "for k in census.keys():\n",
    "    for yr in census[k].keys():\n",
    "        census[k][yr].replace(to_replace=0, value=1, inplace=True)"
   ]
  },
  {
   "cell_type": "code",
   "execution_count": 106,
   "metadata": {
    "collapsed": true
   },
   "outputs": [],
   "source": [
    "for k in census.keys():\n",
    "    for yr in np.arange(2011, 2016):\n",
    "        for i in census[k][yr].columns[census[k][yr].columns != 'FIPS']:\n",
    "            try:\n",
    "                census[k][yr][i+'_pctch'] = (census[k][yr][i] - \n",
    "                    census[k][yr-1][i]) / census[k][yr-1][i] * 100\n",
    "            except KeyError:\n",
    "                pass"
   ]
  },
  {
   "cell_type": "markdown",
   "metadata": {},
   "source": [
    "** * Log Transform * **"
   ]
  },
  {
   "cell_type": "code",
   "execution_count": 107,
   "metadata": {
    "collapsed": true
   },
   "outputs": [],
   "source": [
    "for k in census.keys():\n",
    "    for yr in census[k].keys():\n",
    "        census[k][yr] = log_tform_cols(census[k][yr])\n",
    "        "
   ]
  },
  {
   "cell_type": "code",
   "execution_count": 108,
   "metadata": {},
   "outputs": [
    {
     "name": "stderr",
     "output_type": "stream",
     "text": [
      "/Users/baileygriswold/anaconda3/lib/python3.6/site-packages/ipykernel_launcher.py:4: SettingWithCopyWarning: \n",
      "A value is trying to be set on a copy of a slice from a DataFrame\n",
      "\n",
      "See the caveats in the documentation: http://pandas.pydata.org/pandas-docs/stable/indexing.html#indexing-view-versus-copy\n",
      "  after removing the cwd from sys.path.\n",
      "/Users/baileygriswold/anaconda3/lib/python3.6/site-packages/ipykernel_launcher.py:7: SettingWithCopyWarning: \n",
      "A value is trying to be set on a copy of a slice from a DataFrame.\n",
      "Try using .loc[row_indexer,col_indexer] = value instead\n",
      "\n",
      "See the caveats in the documentation: http://pandas.pydata.org/pandas-docs/stable/indexing.html#indexing-view-versus-copy\n",
      "  import sys\n"
     ]
    }
   ],
   "source": [
    "for yr in crime_dict.keys():\n",
    "    crime_dict[yr] = log_tform_cols(crime_dict[yr])\n",
    "for yr in voting.keys():\n",
    "    voting[yr] = log_tform_cols(voting[yr])\n",
    "for yr in taxes.keys():\n",
    "    taxes[yr] = log_tform_cols(taxes[yr])"
   ]
  },
  {
   "cell_type": "markdown",
   "metadata": {},
   "source": [
    "## 4. Create consolidated dataframe"
   ]
  },
  {
   "cell_type": "markdown",
   "metadata": {},
   "source": [
    "** * Combine output variables with feature dataframes. * **\n",
    "actuall, take this section out and just merge everything in the next section."
   ]
  },
  {
   "cell_type": "code",
   "execution_count": 439,
   "metadata": {},
   "outputs": [
    {
     "data": {
      "text/plain": [
       "Index(['FIPS', 'County_MedianValuePerSqft_AllHomes',\n",
       "       'County_PctOfHomesDecreasingInValues_AllHomes',\n",
       "       'County_PriceToRentRatio_AllHomes', 'DaysOnZillow_Public_County',\n",
       "       'InventoryMeasure_County_Public', 'InventoryMeasure_SSA_County_Public',\n",
       "       'Med_Listing_Price_1bedroom', 'Med_Listing_Price_2bedroom',\n",
       "       'Med_Listing_Price_3bedroom', 'Med_Listing_Price_4bedroom',\n",
       "       'Med_Listing_Price_5BedroomOrMore', 'Med_Listing_Price_AllHomes',\n",
       "       'Med_Listing_Price_CondoCoop', 'Med_Listing_Price_DuplexTriplex',\n",
       "       'Med_Listing_Price_Sfr', 'ZHVI_AllHomes', 'ZHVI_SingleFamilyResidence',\n",
       "       'med_rental_1bedroom', 'med_rental_2bedroom', 'med_rental_3bedroom',\n",
       "       'med_rental_4bedroom', 'med_rental_5BedroomOrMore',\n",
       "       'med_rental_AllHomes', 'med_rental_CondoCoop',\n",
       "       'med_rental_DuplexTriplex', 'med_rental_Mfr5Plus', 'med_rental_Sfr',\n",
       "       'med_rental_Studio', 'rent_price_persqft_1bedroom',\n",
       "       'rent_price_persqft_2bedroom', 'rent_price_persqft_3bedroom',\n",
       "       'rent_price_persqft_4bedroom', 'rent_price_persqft_5BedroomOrMore',\n",
       "       'rent_price_persqft_AllHomes', 'rent_price_persqft_CondoCoop',\n",
       "       'rent_price_persqft_DuplexTriplex', 'rent_price_persqft_Mfr5Plus',\n",
       "       'rent_price_persqft_Sfr', 'rent_price_persqft_Studio'],\n",
       "      dtype='object', name='feature')"
      ]
     },
     "execution_count": 439,
     "metadata": {},
     "output_type": "execute_result"
    }
   ],
   "source": [
    "mrkt[yr].columns"
   ]
  },
  {
   "cell_type": "code",
   "execution_count": 18,
   "metadata": {},
   "outputs": [
    {
     "name": "stdout",
     "output_type": "stream",
     "text": [
      "% obs this yr with home val for next year:  100.0\n",
      "% obs this yr with home val for next year:  99.93252361673414\n",
      "% obs this yr with home val for next year:  99.93514915693905\n",
      "% obs this yr with home val for next year:  100.0\n",
      "% obs this yr with home val for next year:  100.0\n",
      "% obs this yr with home val for next year:  100.0\n",
      "% obs this yr with home val for next year:  99.93815708101423\n",
      "% obs this yr with home val for next year:  100.0\n",
      "% obs this yr with home val for next year:  100.0\n",
      "% obs this yr with home val for next year:  99.81927710843374\n",
      "% obs this yr with home val for next year:  100.0\n",
      "% obs this yr with home val for next year:  100.0\n",
      "% obs this yr with home val for next year:  100.0\n",
      "% obs this yr with home val for next year:  100.0\n",
      "% obs this yr with home val for next year:  99.91564740615773\n",
      "% obs this yr with home val for next year:  99.91645781119465\n",
      "% obs this yr with home val for next year:  99.87593052109182\n",
      "% obs this yr with home val for next year:  100.0\n",
      "% obs this yr with home val for next year:  100.0\n",
      "% obs this yr with home val for next year:  98.43321582452018\n",
      "% obs this yr with home val for next year:  98.4333205961024\n",
      "% obs this yr with home val for next year:  100.0\n"
     ]
    }
   ],
   "source": [
    "#For every year of zillow housing data, add the next year's value to it for the key indicators\n",
    "for yr in mrkt.keys():\n",
    "    if yr != 2017:\n",
    "        zhvi_next = mrkt[yr+1]\n",
    "    print ('% obs this yr with home val for next year: ',\n",
    "           (len(pd.merge(mrkt[yr], zhvi_next, on='FIPS', how='inner'))/len(mrkt[yr]))*100)\n",
    "    mrkt[yr] = pd.merge(mrkt[yr], zhvi_next, on='FIPS', how='inner', suffixes=('_current', '_next'))"
   ]
  },
  {
   "cell_type": "markdown",
   "metadata": {},
   "source": [
    "** * Concat all the yearly dataframes for each dataset * **\n",
    "- need to add a column for the year\n",
    "- watch out for mis/matched columns by gettinga . count of NaNs"
   ]
  },
  {
   "cell_type": "code",
   "execution_count": 111,
   "metadata": {
    "collapsed": true
   },
   "outputs": [],
   "source": [
    "for yr in crime_dict.keys():\n",
    "    crime_dict[yr]['YEAR'] = yr\n",
    "crime_all = pd.concat(crime_dict)"
   ]
  },
  {
   "cell_type": "code",
   "execution_count": 112,
   "metadata": {
    "collapsed": true
   },
   "outputs": [],
   "source": [
    "for yr in voting.keys():\n",
    "    voting[yr]['YEAR'] = yr\n",
    "vot_all = pd.concat(voting)"
   ]
  },
  {
   "cell_type": "code",
   "execution_count": 21,
   "metadata": {
    "collapsed": true
   },
   "outputs": [],
   "source": [
    "for yr in mrkt.keys():\n",
    "    mrkt[yr]['YEAR'] = yr\n",
    "mrkt_all = pd.concat(mrkt)"
   ]
  },
  {
   "cell_type": "code",
   "execution_count": 114,
   "metadata": {
    "collapsed": true
   },
   "outputs": [],
   "source": [
    "tax_all = pd.concat(taxes)"
   ]
  },
  {
   "cell_type": "code",
   "execution_count": 115,
   "metadata": {
    "collapsed": true
   },
   "outputs": [],
   "source": [
    "for k in census.keys():\n",
    "    for yr in census[k].keys():\n",
    "        census[k][yr]['YEAR'] = yr"
   ]
  },
  {
   "cell_type": "code",
   "execution_count": 116,
   "metadata": {},
   "outputs": [
    {
     "data": {
      "text/plain": [
       "dict_keys(['econ', 'soc', 'migr', 'dem', 'hous'])"
      ]
     },
     "execution_count": 116,
     "metadata": {},
     "output_type": "execute_result"
    }
   ],
   "source": [
    "census.keys()"
   ]
  },
  {
   "cell_type": "code",
   "execution_count": null,
   "metadata": {
    "collapsed": true
   },
   "outputs": [],
   "source": [
    "econ_all = pd.concat(census['econ'])\n",
    "soc_all = pd.concat(census['soc'])\n",
    "migr_all = pd.concat(census['migr'])\n",
    "dem_all = pd.concat(census['dem'])\n",
    "hous_all = pd.concat(census['hous'])"
   ]
  },
  {
   "cell_type": "code",
   "execution_count": 22,
   "metadata": {
    "collapsed": true
   },
   "outputs": [],
   "source": [
    "mrkt_all.ZHVI_AllHomes_current.fillna(mrkt_all.Med_Listing_Price_AllHomes_current, inplace=True)\n",
    "mrkt_all.ZHVI_AllHomes_next.fillna(mrkt_all.Med_Listing_Price_AllHomes_next, inplace=True)"
   ]
  },
  {
   "cell_type": "markdown",
   "metadata": {},
   "source": [
    "** * Merge all dataset dataframes into one consolidated dataframe * **\n",
    "- merge on inner to have only samples that have all the features"
   ]
  },
  {
   "cell_type": "code",
   "execution_count": 369,
   "metadata": {},
   "outputs": [
    {
     "name": "stdout",
     "output_type": "stream",
     "text": [
      "df1 = 13.402354947996873%\n",
      "df2 = 99.15863277826467%\n"
     ]
    }
   ],
   "source": [
    "df_m = merge_check(mrkt_all, econ_all,['FIPS', 'YEAR'], ['FIPS', 'YEAR']) "
   ]
  },
  {
   "cell_type": "code",
   "execution_count": 370,
   "metadata": {},
   "outputs": [
    {
     "name": "stdout",
     "output_type": "stream",
     "text": [
      "df1 = 83.4541276294856%\n",
      "df2 = 9.174294098214112%\n"
     ]
    }
   ],
   "source": [
    "df_m = merge_check(df_m, vot_all, ['FIPS', 'YEAR'], ['FIPS', 'YEAR']) "
   ]
  },
  {
   "cell_type": "code",
   "execution_count": 371,
   "metadata": {},
   "outputs": [
    {
     "name": "stdout",
     "output_type": "stream",
     "text": [
      "df1 = 85.63863588222834%\n",
      "df2 = 4.679614796981342%\n"
     ]
    }
   ],
   "source": [
    "df_m = merge_check(df_m, tax_all, ['FIPS', 'YEAR'], ['FIPS', 'YEAR']) "
   ]
  },
  {
   "cell_type": "code",
   "execution_count": 372,
   "metadata": {},
   "outputs": [
    {
     "name": "stdout",
     "output_type": "stream",
     "text": [
      "df1 = 100.0%\n",
      "df2 = 70.86765994741455%\n"
     ]
    }
   ],
   "source": [
    "df_m = merge_check(df_m, soc_all, ['FIPS', 'YEAR'], ['FIPS', 'YEAR'])"
   ]
  },
  {
   "cell_type": "code",
   "execution_count": 373,
   "metadata": {},
   "outputs": [
    {
     "name": "stdout",
     "output_type": "stream",
     "text": [
      "df1 = 83.52708384862726%\n",
      "df2 = 17.910368602492706%\n"
     ]
    }
   ],
   "source": [
    "df_m = merge_check(df_m, migr_all, ['FIPS', 'YEAR'], ['FIPS', 'YEAR'])"
   ]
  },
  {
   "cell_type": "code",
   "execution_count": 374,
   "metadata": {},
   "outputs": [
    {
     "name": "stdout",
     "output_type": "stream",
     "text": [
      "df1 = 100.0%\n",
      "df2 = 59.193689745836984%\n"
     ]
    }
   ],
   "source": [
    "df_m = merge_check(df_m, dem_all, ['FIPS', 'YEAR'], ['FIPS', 'YEAR'])"
   ]
  },
  {
   "cell_type": "code",
   "execution_count": 375,
   "metadata": {},
   "outputs": [
    {
     "name": "stdout",
     "output_type": "stream",
     "text": [
      "df1 = 100.0%\n",
      "df2 = 59.193689745836984%\n"
     ]
    }
   ],
   "source": [
    "df_m = merge_check(df_m, hous_all, ['FIPS', 'YEAR'], ['FIPS', 'YEAR'])"
   ]
  },
  {
   "cell_type": "code",
   "execution_count": 376,
   "metadata": {},
   "outputs": [
    {
     "data": {
      "text/plain": [
       "3780696"
      ]
     },
     "execution_count": 376,
     "metadata": {},
     "output_type": "execute_result"
    }
   ],
   "source": [
    "df_m.isnull().sum().sum()"
   ]
  },
  {
   "cell_type": "code",
   "execution_count": 377,
   "metadata": {
    "collapsed": true
   },
   "outputs": [],
   "source": [
    "df_m.dropna(how='all', axis=1,inplace=True)"
   ]
  },
  {
   "cell_type": "code",
   "execution_count": 378,
   "metadata": {
    "scrolled": false
   },
   "outputs": [
    {
     "data": {
      "text/plain": [
       "3507159"
      ]
     },
     "execution_count": 378,
     "metadata": {},
     "output_type": "execute_result"
    }
   ],
   "source": [
    "df_m.isnull().sum().sum()"
   ]
  },
  {
   "cell_type": "code",
   "execution_count": 379,
   "metadata": {
    "collapsed": true
   },
   "outputs": [
    {
     "name": "stdout",
     "output_type": "stream",
     "text": [
      "Imputing row 1/3377 with 1175 missing, elapsed time: 227.551\n",
      "Imputing row 101/3377 with 1263 missing, elapsed time: 231.483\n",
      "Imputing row 201/3377 with 1186 missing, elapsed time: 235.450\n",
      "Imputing row 301/3377 with 1205 missing, elapsed time: 239.398\n",
      "Imputing row 401/3377 with 1247 missing, elapsed time: 243.365\n",
      "Imputing row 501/3377 with 1168 missing, elapsed time: 247.351\n",
      "Imputing row 601/3377 with 1197 missing, elapsed time: 251.321\n",
      "Imputing row 701/3377 with 1104 missing, elapsed time: 255.250\n",
      "Imputing row 801/3377 with 1180 missing, elapsed time: 259.173\n",
      "Imputing row 901/3377 with 1197 missing, elapsed time: 262.949\n",
      "Imputing row 1001/3377 with 1130 missing, elapsed time: 266.664\n",
      "Imputing row 1101/3377 with 1200 missing, elapsed time: 270.429\n",
      "Imputing row 1201/3377 with 1120 missing, elapsed time: 274.179\n",
      "Imputing row 1301/3377 with 1153 missing, elapsed time: 277.917\n",
      "Imputing row 1401/3377 with 1158 missing, elapsed time: 281.603\n",
      "Imputing row 1501/3377 with 1172 missing, elapsed time: 285.221\n",
      "Imputing row 1601/3377 with 1086 missing, elapsed time: 288.805\n",
      "Imputing row 1701/3377 with 1079 missing, elapsed time: 292.411\n",
      "Imputing row 1801/3377 with 1049 missing, elapsed time: 296.061\n",
      "Imputing row 1901/3377 with 1105 missing, elapsed time: 299.696\n",
      "Imputing row 2001/3377 with 1075 missing, elapsed time: 303.331\n",
      "Imputing row 2101/3377 with 768 missing, elapsed time: 306.211\n",
      "Imputing row 2201/3377 with 820 missing, elapsed time: 308.953\n",
      "Imputing row 2301/3377 with 790 missing, elapsed time: 311.630\n",
      "Imputing row 2401/3377 with 808 missing, elapsed time: 314.254\n",
      "Imputing row 2501/3377 with 792 missing, elapsed time: 316.938\n",
      "Imputing row 2601/3377 with 876 missing, elapsed time: 319.612\n",
      "Imputing row 2701/3377 with 889 missing, elapsed time: 315.316\n",
      "Imputing row 2801/3377 with 844 missing, elapsed time: 318.142\n",
      "Imputing row 2901/3377 with 785 missing, elapsed time: 320.968\n",
      "Imputing row 3001/3377 with 837 missing, elapsed time: 323.824\n",
      "Imputing row 3101/3377 with 919 missing, elapsed time: 326.630\n",
      "Imputing row 3201/3377 with 868 missing, elapsed time: 329.480\n",
      "Imputing row 3301/3377 with 837 missing, elapsed time: 332.276\n"
     ]
    }
   ],
   "source": [
    "data_labels = df_m[['FIPS', 'STATE', 'COUNTYNAME'] + zillow_feats]\n",
    "data_data = df_m.drop(data_labels, axis=1)\n",
    "col_names = data_data.columns\n",
    "data_data = KNN(k=3).complete(data_data)\n",
    "data_data = pd.DataFrame(data_data)\n",
    "data_data.columns = col_names\n",
    "df_m = pd.merge(data_labels, data_data, left_index=True, right_index=True)"
   ]
  },
  {
   "cell_type": "markdown",
   "metadata": {},
   "source": [
    "Problem: not every feature dataframe had the same features, so when they get concatonated, they turn into Nans for the year that doesn't have the feature. Will need to either fill the nans or felete the columns that have them."
   ]
  },
  {
   "cell_type": "code",
   "execution_count": 134,
   "metadata": {},
   "outputs": [
    {
     "data": {
      "application/vnd.jupyter.widget-view+json": {
       "model_id": "504a13f131764a189f1a4959e9a2819a",
       "version_major": 2,
       "version_minor": 0
      },
      "text/plain": [
       "A Jupyter Widget"
      ]
     },
     "metadata": {},
     "output_type": "display_data"
    }
   ],
   "source": [
    "df_m['FIPS'] = df_m['FIPS'].str.strip('0')\n",
    "\n",
    "map_fig = pl.figure(title='Visualizing Home Value, Home Values', min_width=1300, min_height=800)\n",
    "map_tt = Tooltip(fields=['name', 'color'], labels=['COUNTY'])\n",
    "map_res = pl.geo(map_data=topo_load('map_data/USCountiesMap.json'), stroke_color='black',\n",
    "                 colors={'default_color': 'Black'},\n",
    "                  scales={'projection': AlbersUSA(),\n",
    "                         'color': ColorScale(scheme='RdYlBu')},\n",
    "                  color=dict(zip(df_m['FIPS'], df_m['ZHVI_AllHomes_current'])), tooltip=map_tt)\n",
    "map_fig"
   ]
  },
  {
   "cell_type": "code",
   "execution_count": null,
   "metadata": {
    "collapsed": true
   },
   "outputs": [],
   "source": [
    "df_m['FIPS'] = df_m['FIPS'].str.zfill(5)"
   ]
  },
  {
   "cell_type": "markdown",
   "metadata": {},
   "source": [
    "After merging all the cnesus datasets with the zillow home value data, and keeping only the shared counties, there are not many counties left in the dataframe.  Instead, the data will be merged to keep all the counties that have an output variable, and the NaNs will be filled by K Nearest Neighbor. "
   ]
  },
  {
   "cell_type": "code",
   "execution_count": 91,
   "metadata": {
    "collapsed": true
   },
   "outputs": [],
   "source": [
    "df_m = pd.merge(mrkt_all, econ_all, on=['FIPS', 'YEAR'], how='left')"
   ]
  },
  {
   "cell_type": "code",
   "execution_count": 92,
   "metadata": {
    "collapsed": true
   },
   "outputs": [],
   "source": [
    "df_m = pd.merge(df_m, vot_all, on=['FIPS', 'YEAR'], how='left')"
   ]
  },
  {
   "cell_type": "code",
   "execution_count": 93,
   "metadata": {
    "collapsed": true
   },
   "outputs": [],
   "source": [
    "df_m = pd.merge(df_m, tax_all, on=['FIPS', 'YEAR'], how='left')\n",
    "df_m = pd.merge(df_m, soc_all, on=['FIPS', 'YEAR'], how='left')\n",
    "df_m = pd.merge(df_m, dem_all, on=['FIPS', 'YEAR'], how='left')\n",
    "df_m = pd.merge(df_m, migr_all, on=['FIPS', 'YEAR'], how='left')\n",
    "df_m = pd.merge(df_m, hous_all, on=['FIPS', 'YEAR'], how='left')"
   ]
  },
  {
   "cell_type": "code",
   "execution_count": 94,
   "metadata": {},
   "outputs": [
    {
     "data": {
      "application/vnd.jupyter.widget-view+json": {
       "model_id": "c5ac2b5fd156422faee6148d256f5c66",
       "version_major": 2,
       "version_minor": 0
      },
      "text/plain": [
       "A Jupyter Widget"
      ]
     },
     "metadata": {},
     "output_type": "display_data"
    }
   ],
   "source": [
    "df_m['FIPS'] = df_m['FIPS'].str.strip('0')\n",
    "\n",
    "map_fig = pl.figure(title='Visualizing Home Value, Median Listing', min_width=1300, min_height=800)\n",
    "map_tt = Tooltip(fields=['name', 'color'], labels=['COUNTY'])\n",
    "map_res = pl.geo(map_data=topo_load('map_data/USCountiesMap.json'), stroke_color='black',\n",
    "                 colors={'default_color': 'Black'},\n",
    "                  scales={'projection': AlbersUSA(),\n",
    "                         'color': ColorScale(scheme='RdYlBu')},\n",
    "                  color=dict(zip(df_m['FIPS'], df_m['Med_Listing_Price_AllHomes_current'])), tooltip=map_tt)\n",
    "df_m['FIPS'] = df_m['FIPS'].str.zfill(5)\n",
    "map_fig"
   ]
  },
  {
   "cell_type": "code",
   "execution_count": 380,
   "metadata": {
    "collapsed": true
   },
   "outputs": [],
   "source": [
    "#df_m.to_csv('./data/dataframes/all_feats10_16.csv')"
   ]
  },
  {
   "cell_type": "markdown",
   "metadata": {},
   "source": [
    "** * Merge only dataframes that have the most counties * **"
   ]
  },
  {
   "cell_type": "code",
   "execution_count": 381,
   "metadata": {
    "scrolled": true
   },
   "outputs": [
    {
     "name": "stdout",
     "output_type": "stream",
     "text": [
      "df1 = 87.73010495391979%\n",
      "df2 = 42.86078059169406%\n"
     ]
    }
   ],
   "source": [
    "df_m = merge_check(mrkt_all, tax_all,['FIPS', 'YEAR'], ['FIPS', 'YEAR']) "
   ]
  },
  {
   "cell_type": "code",
   "execution_count": 382,
   "metadata": {},
   "outputs": [
    {
     "name": "stdout",
     "output_type": "stream",
     "text": [
      "df1 = 73.37834188495815%\n",
      "df2 = 52.8032025496026%\n"
     ]
    }
   ],
   "source": [
    "df_m = merge_check(df_m, vot_all, ['FIPS', 'YEAR'], ['FIPS', 'YEAR'])"
   ]
  },
  {
   "cell_type": "code",
   "execution_count": 383,
   "metadata": {},
   "outputs": [
    {
     "name": "stdout",
     "output_type": "stream",
     "text": [
      "df1 = 44.36920359193287%\n",
      "df2 = 37.769423558897245%\n"
     ]
    }
   ],
   "source": [
    "df_m = merge_check(df_m, crime_all, ['FIPS', 'YEAR'], ['FIPS', 'YEAR'])"
   ]
  },
  {
   "cell_type": "code",
   "execution_count": 384,
   "metadata": {
    "collapsed": true
   },
   "outputs": [],
   "source": [
    "df_m = pd.merge(mrkt_all, tax_all,on=['FIPS', 'YEAR'], how='left') \n",
    "df_m = pd.merge(df_m, vot_all,on=['FIPS', 'YEAR'], how='left') \n",
    "df_m = pd.merge(df_m, crime_all,on=['FIPS', 'YEAR'], how='left') "
   ]
  },
  {
   "cell_type": "code",
   "execution_count": 102,
   "metadata": {},
   "outputs": [
    {
     "data": {
      "application/vnd.jupyter.widget-view+json": {
       "model_id": "ca2a4d12101f4afdbdb8389b7fff0b6b",
       "version_major": 2,
       "version_minor": 0
      },
      "text/plain": [
       "A Jupyter Widget"
      ]
     },
     "metadata": {},
     "output_type": "display_data"
    }
   ],
   "source": [
    "df_m['FIPS'] = df_m['FIPS'].str.strip('0')\n",
    "\n",
    "map_fig = pl.figure(title='Visualizing Home Value, Median Listing', min_width=1300, min_height=800)\n",
    "map_tt = Tooltip(fields=['name', 'color'], labels=['COUNTY'])\n",
    "map_res = pl.geo(map_data=topo_load('map_data/USCountiesMap.json'), stroke_color='black',\n",
    "                 colors={'default_color': 'Black'},\n",
    "                  scales={'projection': AlbersUSA(),\n",
    "                         'color': ColorScale(scheme='RdYlBu')},\n",
    "                  color=dict(zip(df_m['FIPS'], df_m['Med_Listing_Price_AllHomes_current'])), tooltip=map_tt)\n",
    "df_m['FIPS'] = df_m['FIPS'].str.zfill(5)\n",
    "map_fig"
   ]
  },
  {
   "cell_type": "code",
   "execution_count": 142,
   "metadata": {},
   "outputs": [
    {
     "data": {
      "text/plain": [
       "4816506"
      ]
     },
     "execution_count": 142,
     "metadata": {},
     "output_type": "execute_result"
    }
   ],
   "source": [
    "df_m.isnull().sum().sum()"
   ]
  },
  {
   "cell_type": "code",
   "execution_count": 385,
   "metadata": {
    "collapsed": true
   },
   "outputs": [],
   "source": [
    "df_m.dropna(how='all', axis=1,inplace=True)"
   ]
  },
  {
   "cell_type": "code",
   "execution_count": 386,
   "metadata": {
    "scrolled": true
   },
   "outputs": [
    {
     "data": {
      "text/plain": [
       "17551237"
      ]
     },
     "execution_count": 386,
     "metadata": {},
     "output_type": "execute_result"
    }
   ],
   "source": [
    "df_m.isnull().sum().sum()"
   ]
  },
  {
   "cell_type": "code",
   "execution_count": 387,
   "metadata": {
    "collapsed": true
   },
   "outputs": [],
   "source": [
    "df_m.dropna(how='all',inplace=True)"
   ]
  },
  {
   "cell_type": "code",
   "execution_count": 389,
   "metadata": {
    "collapsed": true
   },
   "outputs": [
    {
     "ename": "KeyboardInterrupt",
     "evalue": "",
     "output_type": "error",
     "traceback": [
      "\u001b[0;31m---------------------------------------------------------------------------\u001b[0m",
      "\u001b[0;31mKeyboardInterrupt\u001b[0m                         Traceback (most recent call last)",
      "\u001b[0;32m<ipython-input-389-ffa0e0fd8740>\u001b[0m in \u001b[0;36m<module>\u001b[0;34m()\u001b[0m\n\u001b[1;32m      2\u001b[0m \u001b[0mdata_data\u001b[0m \u001b[0;34m=\u001b[0m \u001b[0mdf_m\u001b[0m\u001b[0;34m.\u001b[0m\u001b[0mdrop\u001b[0m\u001b[0;34m(\u001b[0m\u001b[0mdata_labels\u001b[0m\u001b[0;34m,\u001b[0m \u001b[0maxis\u001b[0m\u001b[0;34m=\u001b[0m\u001b[0;36m1\u001b[0m\u001b[0;34m)\u001b[0m\u001b[0;34m\u001b[0m\u001b[0m\n\u001b[1;32m      3\u001b[0m \u001b[0mcol_names\u001b[0m \u001b[0;34m=\u001b[0m \u001b[0mdata_data\u001b[0m\u001b[0;34m.\u001b[0m\u001b[0mcolumns\u001b[0m\u001b[0;34m\u001b[0m\u001b[0m\n\u001b[0;32m----> 4\u001b[0;31m \u001b[0mdata_data\u001b[0m \u001b[0;34m=\u001b[0m \u001b[0mKNN\u001b[0m\u001b[0;34m(\u001b[0m\u001b[0mk\u001b[0m\u001b[0;34m=\u001b[0m\u001b[0;36m3\u001b[0m\u001b[0;34m)\u001b[0m\u001b[0;34m.\u001b[0m\u001b[0mcomplete\u001b[0m\u001b[0;34m(\u001b[0m\u001b[0mdata_data\u001b[0m\u001b[0;34m)\u001b[0m\u001b[0;34m\u001b[0m\u001b[0m\n\u001b[0m\u001b[1;32m      5\u001b[0m \u001b[0mdata_data\u001b[0m \u001b[0;34m=\u001b[0m \u001b[0mpd\u001b[0m\u001b[0;34m.\u001b[0m\u001b[0mDataFrame\u001b[0m\u001b[0;34m(\u001b[0m\u001b[0mdata_data\u001b[0m\u001b[0;34m)\u001b[0m\u001b[0;34m\u001b[0m\u001b[0m\n\u001b[1;32m      6\u001b[0m \u001b[0mdata_data\u001b[0m\u001b[0;34m.\u001b[0m\u001b[0mcolumns\u001b[0m \u001b[0;34m=\u001b[0m \u001b[0mcol_names\u001b[0m\u001b[0;34m\u001b[0m\u001b[0m\n",
      "\u001b[0;32m~/anaconda3/lib/python3.6/site-packages/fancyimpute/solver.py\u001b[0m in \u001b[0;36mcomplete\u001b[0;34m(self, X)\u001b[0m\n\u001b[1;32m    205\u001b[0m         \u001b[0mReturns\u001b[0m \u001b[0mcompleted\u001b[0m \u001b[0mmatrix\u001b[0m \u001b[0mwithout\u001b[0m \u001b[0many\u001b[0m \u001b[0mNaNs\u001b[0m\u001b[0;34m.\u001b[0m\u001b[0;34m\u001b[0m\u001b[0m\n\u001b[1;32m    206\u001b[0m         \"\"\"\n\u001b[0;32m--> 207\u001b[0;31m         \u001b[0mimputations\u001b[0m \u001b[0;34m=\u001b[0m \u001b[0mself\u001b[0m\u001b[0;34m.\u001b[0m\u001b[0mmultiple_imputations\u001b[0m\u001b[0;34m(\u001b[0m\u001b[0mX\u001b[0m\u001b[0;34m)\u001b[0m\u001b[0;34m\u001b[0m\u001b[0m\n\u001b[0m\u001b[1;32m    208\u001b[0m         \u001b[0;32mif\u001b[0m \u001b[0mlen\u001b[0m\u001b[0;34m(\u001b[0m\u001b[0mimputations\u001b[0m\u001b[0;34m)\u001b[0m \u001b[0;34m==\u001b[0m \u001b[0;36m1\u001b[0m\u001b[0;34m:\u001b[0m\u001b[0;34m\u001b[0m\u001b[0m\n\u001b[1;32m    209\u001b[0m             \u001b[0;32mreturn\u001b[0m \u001b[0mimputations\u001b[0m\u001b[0;34m[\u001b[0m\u001b[0;36m0\u001b[0m\u001b[0;34m]\u001b[0m\u001b[0;34m\u001b[0m\u001b[0m\n",
      "\u001b[0;32m~/anaconda3/lib/python3.6/site-packages/fancyimpute/solver.py\u001b[0m in \u001b[0;36mmultiple_imputations\u001b[0;34m(self, X)\u001b[0m\n\u001b[1;32m    197\u001b[0m         \u001b[0mGenerate\u001b[0m \u001b[0mmultiple\u001b[0m \u001b[0mimputations\u001b[0m \u001b[0mof\u001b[0m \u001b[0mthe\u001b[0m \u001b[0msame\u001b[0m \u001b[0mincomplete\u001b[0m \u001b[0mmatrix\u001b[0m\u001b[0;34m\u001b[0m\u001b[0m\n\u001b[1;32m    198\u001b[0m         \"\"\"\n\u001b[0;32m--> 199\u001b[0;31m         \u001b[0;32mreturn\u001b[0m \u001b[0;34m[\u001b[0m\u001b[0mself\u001b[0m\u001b[0;34m.\u001b[0m\u001b[0msingle_imputation\u001b[0m\u001b[0;34m(\u001b[0m\u001b[0mX\u001b[0m\u001b[0;34m)\u001b[0m \u001b[0;32mfor\u001b[0m \u001b[0m_\u001b[0m \u001b[0;32min\u001b[0m \u001b[0mrange\u001b[0m\u001b[0;34m(\u001b[0m\u001b[0mself\u001b[0m\u001b[0;34m.\u001b[0m\u001b[0mn_imputations\u001b[0m\u001b[0;34m)\u001b[0m\u001b[0;34m]\u001b[0m\u001b[0;34m\u001b[0m\u001b[0m\n\u001b[0m\u001b[1;32m    200\u001b[0m \u001b[0;34m\u001b[0m\u001b[0m\n\u001b[1;32m    201\u001b[0m     \u001b[0;32mdef\u001b[0m \u001b[0mcomplete\u001b[0m\u001b[0;34m(\u001b[0m\u001b[0mself\u001b[0m\u001b[0;34m,\u001b[0m \u001b[0mX\u001b[0m\u001b[0;34m)\u001b[0m\u001b[0;34m:\u001b[0m\u001b[0;34m\u001b[0m\u001b[0m\n",
      "\u001b[0;32m~/anaconda3/lib/python3.6/site-packages/fancyimpute/solver.py\u001b[0m in \u001b[0;36m<listcomp>\u001b[0;34m(.0)\u001b[0m\n\u001b[1;32m    197\u001b[0m         \u001b[0mGenerate\u001b[0m \u001b[0mmultiple\u001b[0m \u001b[0mimputations\u001b[0m \u001b[0mof\u001b[0m \u001b[0mthe\u001b[0m \u001b[0msame\u001b[0m \u001b[0mincomplete\u001b[0m \u001b[0mmatrix\u001b[0m\u001b[0;34m\u001b[0m\u001b[0m\n\u001b[1;32m    198\u001b[0m         \"\"\"\n\u001b[0;32m--> 199\u001b[0;31m         \u001b[0;32mreturn\u001b[0m \u001b[0;34m[\u001b[0m\u001b[0mself\u001b[0m\u001b[0;34m.\u001b[0m\u001b[0msingle_imputation\u001b[0m\u001b[0;34m(\u001b[0m\u001b[0mX\u001b[0m\u001b[0;34m)\u001b[0m \u001b[0;32mfor\u001b[0m \u001b[0m_\u001b[0m \u001b[0;32min\u001b[0m \u001b[0mrange\u001b[0m\u001b[0;34m(\u001b[0m\u001b[0mself\u001b[0m\u001b[0;34m.\u001b[0m\u001b[0mn_imputations\u001b[0m\u001b[0;34m)\u001b[0m\u001b[0;34m]\u001b[0m\u001b[0;34m\u001b[0m\u001b[0m\n\u001b[0m\u001b[1;32m    200\u001b[0m \u001b[0;34m\u001b[0m\u001b[0m\n\u001b[1;32m    201\u001b[0m     \u001b[0;32mdef\u001b[0m \u001b[0mcomplete\u001b[0m\u001b[0;34m(\u001b[0m\u001b[0mself\u001b[0m\u001b[0;34m,\u001b[0m \u001b[0mX\u001b[0m\u001b[0;34m)\u001b[0m\u001b[0;34m:\u001b[0m\u001b[0;34m\u001b[0m\u001b[0m\n",
      "\u001b[0;32m~/anaconda3/lib/python3.6/site-packages/fancyimpute/solver.py\u001b[0m in \u001b[0;36msingle_imputation\u001b[0;34m(self, X)\u001b[0m\n\u001b[1;32m    182\u001b[0m                     type(X_filled)))\n\u001b[1;32m    183\u001b[0m \u001b[0;34m\u001b[0m\u001b[0m\n\u001b[0;32m--> 184\u001b[0;31m         \u001b[0mX_result\u001b[0m \u001b[0;34m=\u001b[0m \u001b[0mself\u001b[0m\u001b[0;34m.\u001b[0m\u001b[0msolve\u001b[0m\u001b[0;34m(\u001b[0m\u001b[0mX_filled\u001b[0m\u001b[0;34m,\u001b[0m \u001b[0mmissing_mask\u001b[0m\u001b[0;34m)\u001b[0m\u001b[0;34m\u001b[0m\u001b[0m\n\u001b[0m\u001b[1;32m    185\u001b[0m         \u001b[0;32mif\u001b[0m \u001b[0;32mnot\u001b[0m \u001b[0misinstance\u001b[0m\u001b[0;34m(\u001b[0m\u001b[0mX_result\u001b[0m\u001b[0;34m,\u001b[0m \u001b[0mnp\u001b[0m\u001b[0;34m.\u001b[0m\u001b[0mndarray\u001b[0m\u001b[0;34m)\u001b[0m\u001b[0;34m:\u001b[0m\u001b[0;34m\u001b[0m\u001b[0m\n\u001b[1;32m    186\u001b[0m             raise TypeError(\n",
      "\u001b[0;32m~/anaconda3/lib/python3.6/site-packages/fancyimpute/knn.py\u001b[0m in \u001b[0;36msolve\u001b[0;34m(self, X, missing_mask)\u001b[0m\n\u001b[1;32m     93\u001b[0m             \u001b[0mk\u001b[0m\u001b[0;34m=\u001b[0m\u001b[0mself\u001b[0m\u001b[0;34m.\u001b[0m\u001b[0mk\u001b[0m\u001b[0;34m,\u001b[0m\u001b[0;34m\u001b[0m\u001b[0m\n\u001b[1;32m     94\u001b[0m             \u001b[0mverbose\u001b[0m\u001b[0;34m=\u001b[0m\u001b[0mself\u001b[0m\u001b[0;34m.\u001b[0m\u001b[0mverbose\u001b[0m\u001b[0;34m,\u001b[0m\u001b[0;34m\u001b[0m\u001b[0m\n\u001b[0;32m---> 95\u001b[0;31m             print_interval=self.print_interval)\n\u001b[0m\u001b[1;32m     96\u001b[0m \u001b[0;34m\u001b[0m\u001b[0m\n\u001b[1;32m     97\u001b[0m         \u001b[0mfailed_to_impute\u001b[0m \u001b[0;34m=\u001b[0m \u001b[0mnp\u001b[0m\u001b[0;34m.\u001b[0m\u001b[0misnan\u001b[0m\u001b[0;34m(\u001b[0m\u001b[0mX_imputed\u001b[0m\u001b[0;34m)\u001b[0m\u001b[0;34m\u001b[0m\u001b[0m\n",
      "\u001b[0;32m~/anaconda3/lib/python3.6/site-packages/knnimpute/few_observed_entries.py\u001b[0m in \u001b[0;36mknn_impute_few_observed\u001b[0;34m(X, missing_mask, k, verbose, print_interval)\u001b[0m\n\u001b[1;32m     49\u001b[0m     \u001b[0mX_column_major\u001b[0m \u001b[0;34m=\u001b[0m \u001b[0mX\u001b[0m\u001b[0;34m.\u001b[0m\u001b[0mcopy\u001b[0m\u001b[0;34m(\u001b[0m\u001b[0morder\u001b[0m\u001b[0;34m=\u001b[0m\u001b[0;34m\"F\"\u001b[0m\u001b[0;34m)\u001b[0m\u001b[0;34m\u001b[0m\u001b[0m\n\u001b[1;32m     50\u001b[0m     \u001b[0mX_row_major\u001b[0m\u001b[0;34m,\u001b[0m \u001b[0mD\u001b[0m\u001b[0;34m,\u001b[0m \u001b[0meffective_infinity\u001b[0m \u001b[0;34m=\u001b[0m\u001b[0;31m \u001b[0m\u001b[0;31m\\\u001b[0m\u001b[0;34m\u001b[0m\u001b[0m\n\u001b[0;32m---> 51\u001b[0;31m         \u001b[0mknn_initialize\u001b[0m\u001b[0;34m(\u001b[0m\u001b[0mX\u001b[0m\u001b[0;34m,\u001b[0m \u001b[0mmissing_mask\u001b[0m\u001b[0;34m,\u001b[0m \u001b[0mverbose\u001b[0m\u001b[0;34m=\u001b[0m\u001b[0mverbose\u001b[0m\u001b[0;34m)\u001b[0m\u001b[0;34m\u001b[0m\u001b[0m\n\u001b[0m\u001b[1;32m     52\u001b[0m     \u001b[0;31m# get rid of infinities, replace them with a very large number\u001b[0m\u001b[0;34m\u001b[0m\u001b[0;34m\u001b[0m\u001b[0m\n\u001b[1;32m     53\u001b[0m     \u001b[0mD_sorted\u001b[0m \u001b[0;34m=\u001b[0m \u001b[0mnp\u001b[0m\u001b[0;34m.\u001b[0m\u001b[0margsort\u001b[0m\u001b[0;34m(\u001b[0m\u001b[0mD\u001b[0m\u001b[0;34m,\u001b[0m \u001b[0maxis\u001b[0m\u001b[0;34m=\u001b[0m\u001b[0;36m1\u001b[0m\u001b[0;34m)\u001b[0m\u001b[0;34m\u001b[0m\u001b[0m\n",
      "\u001b[0;32m~/anaconda3/lib/python3.6/site-packages/knnimpute/common.py\u001b[0m in \u001b[0;36mknn_initialize\u001b[0;34m(X, missing_mask, verbose, min_dist, max_dist_multiplier)\u001b[0m\n\u001b[1;32m     37\u001b[0m         \u001b[0;31m# to put NaN's back in the data matrix for the distances function\u001b[0m\u001b[0;34m\u001b[0m\u001b[0;34m\u001b[0m\u001b[0m\n\u001b[1;32m     38\u001b[0m         \u001b[0mX_row_major\u001b[0m\u001b[0;34m[\u001b[0m\u001b[0mmissing_mask\u001b[0m\u001b[0;34m]\u001b[0m \u001b[0;34m=\u001b[0m \u001b[0mnp\u001b[0m\u001b[0;34m.\u001b[0m\u001b[0mnan\u001b[0m\u001b[0;34m\u001b[0m\u001b[0m\n\u001b[0;32m---> 39\u001b[0;31m     \u001b[0mD\u001b[0m \u001b[0;34m=\u001b[0m \u001b[0mall_pairs_normalized_distances\u001b[0m\u001b[0;34m(\u001b[0m\u001b[0mX_row_major\u001b[0m\u001b[0;34m)\u001b[0m\u001b[0;34m\u001b[0m\u001b[0m\n\u001b[0m\u001b[1;32m     40\u001b[0m     \u001b[0mD_finite_flat\u001b[0m \u001b[0;34m=\u001b[0m \u001b[0mD\u001b[0m\u001b[0;34m[\u001b[0m\u001b[0mnp\u001b[0m\u001b[0;34m.\u001b[0m\u001b[0misfinite\u001b[0m\u001b[0;34m(\u001b[0m\u001b[0mD\u001b[0m\u001b[0;34m)\u001b[0m\u001b[0;34m]\u001b[0m\u001b[0;34m\u001b[0m\u001b[0m\n\u001b[1;32m     41\u001b[0m     \u001b[0;32mif\u001b[0m \u001b[0mlen\u001b[0m\u001b[0;34m(\u001b[0m\u001b[0mD_finite_flat\u001b[0m\u001b[0;34m)\u001b[0m \u001b[0;34m>\u001b[0m \u001b[0;36m0\u001b[0m\u001b[0;34m:\u001b[0m\u001b[0;34m\u001b[0m\u001b[0m\n",
      "\u001b[0;32m~/anaconda3/lib/python3.6/site-packages/knnimpute/normalized_distance.py\u001b[0m in \u001b[0;36mall_pairs_normalized_distances\u001b[0;34m(X)\u001b[0m\n\u001b[1;32m     60\u001b[0m     \u001b[0;32mfor\u001b[0m \u001b[0mi\u001b[0m \u001b[0;32min\u001b[0m \u001b[0mvalid_row_indices\u001b[0m\u001b[0;34m:\u001b[0m\u001b[0;34m\u001b[0m\u001b[0m\n\u001b[1;32m     61\u001b[0m         \u001b[0mx\u001b[0m \u001b[0;34m=\u001b[0m \u001b[0mX\u001b[0m\u001b[0;34m[\u001b[0m\u001b[0mi\u001b[0m\u001b[0;34m,\u001b[0m \u001b[0;34m:\u001b[0m\u001b[0;34m]\u001b[0m\u001b[0;34m\u001b[0m\u001b[0m\n\u001b[0;32m---> 62\u001b[0;31m         \u001b[0mnp\u001b[0m\u001b[0;34m.\u001b[0m\u001b[0msubtract\u001b[0m\u001b[0;34m(\u001b[0m\u001b[0mX\u001b[0m\u001b[0;34m,\u001b[0m \u001b[0mx\u001b[0m\u001b[0;34m.\u001b[0m\u001b[0mreshape\u001b[0m\u001b[0;34m(\u001b[0m\u001b[0;34m(\u001b[0m\u001b[0;36m1\u001b[0m\u001b[0;34m,\u001b[0m \u001b[0mn_cols\u001b[0m\u001b[0;34m)\u001b[0m\u001b[0;34m)\u001b[0m\u001b[0;34m,\u001b[0m \u001b[0mout\u001b[0m\u001b[0;34m=\u001b[0m\u001b[0mdiffs\u001b[0m\u001b[0;34m)\u001b[0m\u001b[0;34m\u001b[0m\u001b[0m\n\u001b[0m\u001b[1;32m     63\u001b[0m         \u001b[0mnp\u001b[0m\u001b[0;34m.\u001b[0m\u001b[0misnan\u001b[0m\u001b[0;34m(\u001b[0m\u001b[0mdiffs\u001b[0m\u001b[0;34m,\u001b[0m \u001b[0mout\u001b[0m\u001b[0;34m=\u001b[0m\u001b[0mmissing_differences\u001b[0m\u001b[0;34m)\u001b[0m\u001b[0;34m\u001b[0m\u001b[0m\n\u001b[1;32m     64\u001b[0m \u001b[0;34m\u001b[0m\u001b[0m\n",
      "\u001b[0;31mKeyboardInterrupt\u001b[0m: "
     ]
    }
   ],
   "source": [
    "data_labels = df_m[['FIPS', 'STATE', 'COUNTYNAME', 'COUNTY'] + zillow_feats]\n",
    "data_data = df_m.drop(data_labels, axis=1)\n",
    "col_names = data_data.columns\n",
    "data_data = KNN(k=3).complete(data_data)\n",
    "data_data = pd.DataFrame(data_data)\n",
    "data_data.columns = col_names\n",
    "df_m = pd.merge(data_labels, data_data, left_index=True, right_index=True)"
   ]
  },
  {
   "cell_type": "code",
   "execution_count": 151,
   "metadata": {
    "collapsed": true
   },
   "outputs": [
    {
     "data": {
      "text/plain": [
       "COUNTYNAME                                    7731\n",
       "COUNTY                                        4325\n",
       "Violent_crimepercent_pctch_log                   0\n",
       "10300_log                                        0\n",
       "09750_log                                        0\n",
       "09750                                            0\n",
       "09600_log                                        0\n",
       "09600                                            0\n",
       "09400_log                                        0\n",
       "09400                                            0\n",
       "07300_log                                        0\n",
       "07300                                            0\n",
       "07260_log                                        0\n",
       "07260                                            0\n",
       "07240_log                                        0\n",
       "07240                                            0\n",
       "07230_log                                        0\n",
       "10300                                            0\n",
       "10600                                            0\n",
       "02500_log                                        0\n",
       "10600_log                                        0\n",
       "10960                                            0\n",
       "10960_log                                        0\n",
       "11070                                            0\n",
       "11070_log                                        0\n",
       "11560                                            0\n",
       "11560_log                                        0\n",
       "11901                                            0\n",
       "11901_log                                        0\n",
       "11902                                            0\n",
       "                                              ... \n",
       "A85775_log                                       0\n",
       "AGI_STUB                                         0\n",
       "AGI_STUB_log                                     0\n",
       "Adjusted_gross_income                            0\n",
       "Adjusted_gross_income_log                        0\n",
       "Adjusted_gross_income_per_return                 0\n",
       "Adjusted_gross_income_per_return_log             0\n",
       "COUNTYFIPS                                       0\n",
       "COUNTYFIPS_log                                   0\n",
       "Dividends_before_exclusion                       0\n",
       "Dividends_before_exclusion_log                   0\n",
       "Dividends_before_exclusion_per_return            0\n",
       "Dividends_before_exclusion_per_return_log        0\n",
       "Interest_received_log                            0\n",
       "N00650                                           0\n",
       "Interest_received_per_return                     0\n",
       "Interest_received_per_return_log                 0\n",
       "MARS1                                            0\n",
       "MARS1_log                                        0\n",
       "MARS2                                            0\n",
       "MARS2_log                                        0\n",
       "MARS4                                            0\n",
       "MARS4_log                                        0\n",
       "N00200                                           0\n",
       "N00200_log                                       0\n",
       "N00300                                           0\n",
       "N00300_log                                       0\n",
       "N00600                                           0\n",
       "N00600_log                                       0\n",
       "County_MedianValuePerSqft_AllHomes_current       0\n",
       "Length: 545, dtype: int64"
      ]
     },
     "execution_count": 151,
     "metadata": {},
     "output_type": "execute_result"
    }
   ],
   "source": [
    "df_m.isnull().sum().sort_values(ascending=False)"
   ]
  },
  {
   "cell_type": "code",
   "execution_count": null,
   "metadata": {
    "collapsed": true
   },
   "outputs": [],
   "source": [
    "#df_m.to_csv('./data/dataframes/all_feats_85_16.csv')"
   ]
  },
  {
   "cell_type": "code",
   "execution_count": null,
   "metadata": {
    "collapsed": true
   },
   "outputs": [],
   "source": []
  },
  {
   "cell_type": "markdown",
   "metadata": {},
   "source": [
    "# Feature Selection"
   ]
  },
  {
   "cell_type": "code",
   "execution_count": 23,
   "metadata": {},
   "outputs": [
    {
     "data": {
      "text/html": [
       "<div>\n",
       "<style>\n",
       "    .dataframe thead tr:only-child th {\n",
       "        text-align: right;\n",
       "    }\n",
       "\n",
       "    .dataframe thead th {\n",
       "        text-align: left;\n",
       "    }\n",
       "\n",
       "    .dataframe tbody tr th {\n",
       "        vertical-align: top;\n",
       "    }\n",
       "</style>\n",
       "<table border=\"1\" class=\"dataframe\">\n",
       "  <thead>\n",
       "    <tr style=\"text-align: right;\">\n",
       "      <th></th>\n",
       "      <th>FIPS</th>\n",
       "      <th>STATE</th>\n",
       "      <th>COUNTYNAME</th>\n",
       "      <th>Med_Listing_Price_Sfr_next</th>\n",
       "      <th>ZHVI_SingleFamilyResidence_next</th>\n",
       "      <th>ZHVI_AllHomes_next</th>\n",
       "      <th>County_MedianValuePerSqft_AllHomes_next</th>\n",
       "      <th>Med_Listing_Price_Sfr_current</th>\n",
       "      <th>ZHVI_SingleFamilyResidence_current</th>\n",
       "      <th>ZHVI_AllHomes_current</th>\n",
       "      <th>...</th>\n",
       "      <th>housing_density_log</th>\n",
       "      <th>housing_density_pctch</th>\n",
       "      <th>housing_density_pctch_log</th>\n",
       "      <th>lat_y</th>\n",
       "      <th>lat_log_y</th>\n",
       "      <th>lat_pctch_y</th>\n",
       "      <th>lat_pctch_log_y</th>\n",
       "      <th>long_y</th>\n",
       "      <th>long_pctch_y</th>\n",
       "      <th>long_pctch_log_y</th>\n",
       "    </tr>\n",
       "  </thead>\n",
       "  <tbody>\n",
       "    <tr>\n",
       "      <th>0</th>\n",
       "      <td>10001</td>\n",
       "      <td>DE</td>\n",
       "      <td>Kent County</td>\n",
       "      <td>194274.166667</td>\n",
       "      <td>157725.000000</td>\n",
       "      <td>157241.666667</td>\n",
       "      <td>99.583333</td>\n",
       "      <td>192570.833333</td>\n",
       "      <td>163166.666667</td>\n",
       "      <td>162683.333333</td>\n",
       "      <td>...</td>\n",
       "      <td>4.706752</td>\n",
       "      <td>1.165170</td>\n",
       "      <td>0.152867</td>\n",
       "      <td>39.086166</td>\n",
       "      <td>3.665769</td>\n",
       "      <td>1.0</td>\n",
       "      <td>0.0</td>\n",
       "      <td>-75.568421</td>\n",
       "      <td>1.0</td>\n",
       "      <td>0.0</td>\n",
       "    </tr>\n",
       "    <tr>\n",
       "      <th>1</th>\n",
       "      <td>10003</td>\n",
       "      <td>DE</td>\n",
       "      <td>New Castle County</td>\n",
       "      <td>NaN</td>\n",
       "      <td>196625.000000</td>\n",
       "      <td>196608.333333</td>\n",
       "      <td>129.333333</td>\n",
       "      <td>NaN</td>\n",
       "      <td>201691.666667</td>\n",
       "      <td>201633.333333</td>\n",
       "      <td>...</td>\n",
       "      <td>6.218791</td>\n",
       "      <td>0.366674</td>\n",
       "      <td>-1.003282</td>\n",
       "      <td>39.576829</td>\n",
       "      <td>3.678244</td>\n",
       "      <td>1.0</td>\n",
       "      <td>0.0</td>\n",
       "      <td>-75.652691</td>\n",
       "      <td>1.0</td>\n",
       "      <td>0.0</td>\n",
       "    </tr>\n",
       "    <tr>\n",
       "      <th>2</th>\n",
       "      <td>10005</td>\n",
       "      <td>DE</td>\n",
       "      <td>Sussex County</td>\n",
       "      <td>267640.833333</td>\n",
       "      <td>NaN</td>\n",
       "      <td>NaN</td>\n",
       "      <td>NaN</td>\n",
       "      <td>286131.708333</td>\n",
       "      <td>NaN</td>\n",
       "      <td>NaN</td>\n",
       "      <td>...</td>\n",
       "      <td>4.849512</td>\n",
       "      <td>1.401441</td>\n",
       "      <td>0.337501</td>\n",
       "      <td>38.660552</td>\n",
       "      <td>3.654820</td>\n",
       "      <td>1.0</td>\n",
       "      <td>0.0</td>\n",
       "      <td>-75.390038</td>\n",
       "      <td>1.0</td>\n",
       "      <td>0.0</td>\n",
       "    </tr>\n",
       "    <tr>\n",
       "      <th>3</th>\n",
       "      <td>11001</td>\n",
       "      <td>DC</td>\n",
       "      <td>District of Columbia</td>\n",
       "      <td>NaN</td>\n",
       "      <td>374891.666667</td>\n",
       "      <td>374191.666667</td>\n",
       "      <td>352.500000</td>\n",
       "      <td>NaN</td>\n",
       "      <td>360550.000000</td>\n",
       "      <td>358558.333333</td>\n",
       "      <td>...</td>\n",
       "      <td>8.382725</td>\n",
       "      <td>0.698029</td>\n",
       "      <td>-0.359495</td>\n",
       "      <td>38.904734</td>\n",
       "      <td>3.661116</td>\n",
       "      <td>1.0</td>\n",
       "      <td>0.0</td>\n",
       "      <td>-77.016294</td>\n",
       "      <td>1.0</td>\n",
       "      <td>0.0</td>\n",
       "    </tr>\n",
       "    <tr>\n",
       "      <th>4</th>\n",
       "      <td>12001</td>\n",
       "      <td>FL</td>\n",
       "      <td>Alachua County</td>\n",
       "      <td>NaN</td>\n",
       "      <td>138633.333333</td>\n",
       "      <td>128783.333333</td>\n",
       "      <td>84.166667</td>\n",
       "      <td>NaN</td>\n",
       "      <td>144208.333333</td>\n",
       "      <td>136316.666667</td>\n",
       "      <td>...</td>\n",
       "      <td>4.726250</td>\n",
       "      <td>0.471426</td>\n",
       "      <td>-0.751992</td>\n",
       "      <td>29.674752</td>\n",
       "      <td>3.390297</td>\n",
       "      <td>1.0</td>\n",
       "      <td>0.0</td>\n",
       "      <td>-82.357725</td>\n",
       "      <td>1.0</td>\n",
       "      <td>0.0</td>\n",
       "    </tr>\n",
       "  </tbody>\n",
       "</table>\n",
       "<p>5 rows × 2925 columns</p>\n",
       "</div>"
      ],
      "text/plain": [
       "    FIPS STATE            COUNTYNAME  Med_Listing_Price_Sfr_next  \\\n",
       "0  10001    DE           Kent County               194274.166667   \n",
       "1  10003    DE     New Castle County                         NaN   \n",
       "2  10005    DE         Sussex County               267640.833333   \n",
       "3  11001    DC  District of Columbia                         NaN   \n",
       "4  12001    FL        Alachua County                         NaN   \n",
       "\n",
       "   ZHVI_SingleFamilyResidence_next  ZHVI_AllHomes_next  \\\n",
       "0                    157725.000000       157241.666667   \n",
       "1                    196625.000000       196608.333333   \n",
       "2                              NaN                 NaN   \n",
       "3                    374891.666667       374191.666667   \n",
       "4                    138633.333333       128783.333333   \n",
       "\n",
       "   County_MedianValuePerSqft_AllHomes_next  Med_Listing_Price_Sfr_current  \\\n",
       "0                                99.583333                  192570.833333   \n",
       "1                               129.333333                            NaN   \n",
       "2                                      NaN                  286131.708333   \n",
       "3                               352.500000                            NaN   \n",
       "4                                84.166667                            NaN   \n",
       "\n",
       "   ZHVI_SingleFamilyResidence_current  ZHVI_AllHomes_current  \\\n",
       "0                       163166.666667          162683.333333   \n",
       "1                       201691.666667          201633.333333   \n",
       "2                                 NaN                    NaN   \n",
       "3                       360550.000000          358558.333333   \n",
       "4                       144208.333333          136316.666667   \n",
       "\n",
       "         ...         housing_density_log  housing_density_pctch  \\\n",
       "0        ...                    4.706752               1.165170   \n",
       "1        ...                    6.218791               0.366674   \n",
       "2        ...                    4.849512               1.401441   \n",
       "3        ...                    8.382725               0.698029   \n",
       "4        ...                    4.726250               0.471426   \n",
       "\n",
       "   housing_density_pctch_log      lat_y  lat_log_y  lat_pctch_y  \\\n",
       "0                   0.152867  39.086166   3.665769          1.0   \n",
       "1                  -1.003282  39.576829   3.678244          1.0   \n",
       "2                   0.337501  38.660552   3.654820          1.0   \n",
       "3                  -0.359495  38.904734   3.661116          1.0   \n",
       "4                  -0.751992  29.674752   3.390297          1.0   \n",
       "\n",
       "   lat_pctch_log_y     long_y  long_pctch_y  long_pctch_log_y  \n",
       "0              0.0 -75.568421           1.0               0.0  \n",
       "1              0.0 -75.652691           1.0               0.0  \n",
       "2              0.0 -75.390038           1.0               0.0  \n",
       "3              0.0 -77.016294           1.0               0.0  \n",
       "4              0.0 -82.357725           1.0               0.0  \n",
       "\n",
       "[5 rows x 2925 columns]"
      ]
     },
     "execution_count": 23,
     "metadata": {},
     "output_type": "execute_result"
    }
   ],
   "source": [
    "# For 10-16 Data\n",
    "path = './data/dataframes/all_feats10_16.csv'\n",
    "ddf10 = pd.read_csv(path)\n",
    "ddf10.drop(['Unnamed: 0'], axis=1, inplace = True)\n",
    "\n",
    "ddf10.head()"
   ]
  },
  {
   "cell_type": "code",
   "execution_count": 24,
   "metadata": {
    "collapsed": true
   },
   "outputs": [],
   "source": [
    "#merge the 10-16 dataframe with the ZHVI column that had NaNs filled in with median listing prices"
   ]
  },
  {
   "cell_type": "code",
   "execution_count": 25,
   "metadata": {
    "collapsed": true
   },
   "outputs": [],
   "source": [
    "zf = mrkt_all[['FIPS', 'YEAR', 'ZHVI_AllHomes_current', 'ZHVI_AllHomes_next']].reset_index().drop(['level_0', 'level_1'], axis=1)"
   ]
  },
  {
   "cell_type": "code",
   "execution_count": 26,
   "metadata": {},
   "outputs": [
    {
     "name": "stdout",
     "output_type": "stream",
     "text": [
      "Columns matching filter: 4\n"
     ]
    },
    {
     "data": {
      "text/plain": [
       "['ZHVI_SingleFamilyResidence_next',\n",
       " 'ZHVI_AllHomes_next',\n",
       " 'ZHVI_SingleFamilyResidence_current',\n",
       " 'ZHVI_AllHomes_current']"
      ]
     },
     "execution_count": 26,
     "metadata": {},
     "output_type": "execute_result"
    }
   ],
   "source": [
    "column_filter(ddf10, 'ZHVI')"
   ]
  },
  {
   "cell_type": "code",
   "execution_count": 27,
   "metadata": {
    "collapsed": true
   },
   "outputs": [],
   "source": [
    "ddf10.drop(['ZHVI_AllHomes_next', 'ZHVI_AllHomes_current',\n",
    "        'Med_Listing_Price_AllHomes_current',\n",
    "        'Med_Listing_Price_AllHomes_next'], axis=1, inplace=True)"
   ]
  },
  {
   "cell_type": "code",
   "execution_count": 28,
   "metadata": {
    "collapsed": true
   },
   "outputs": [],
   "source": [
    "zf.FIPS = zf.FIPS.apply(int)"
   ]
  },
  {
   "cell_type": "code",
   "execution_count": 29,
   "metadata": {
    "collapsed": true
   },
   "outputs": [],
   "source": [
    "ddf10 = pd.merge(ddf10, zf, on=['FIPS', 'YEAR'], how='left')"
   ]
  },
  {
   "cell_type": "code",
   "execution_count": 30,
   "metadata": {},
   "outputs": [
    {
     "name": "stderr",
     "output_type": "stream",
     "text": [
      "/Users/baileygriswold/anaconda3/lib/python3.6/site-packages/IPython/core/interactiveshell.py:2698: DtypeWarning: Columns (350,353) have mixed types. Specify dtype option on import or set low_memory=False.\n",
      "  interactivity=interactivity, compiler=compiler, result=result)\n"
     ]
    },
    {
     "data": {
      "text/html": [
       "<div>\n",
       "<style>\n",
       "    .dataframe thead tr:only-child th {\n",
       "        text-align: right;\n",
       "    }\n",
       "\n",
       "    .dataframe thead th {\n",
       "        text-align: left;\n",
       "    }\n",
       "\n",
       "    .dataframe tbody tr th {\n",
       "        vertical-align: top;\n",
       "    }\n",
       "</style>\n",
       "<table border=\"1\" class=\"dataframe\">\n",
       "  <thead>\n",
       "    <tr style=\"text-align: right;\">\n",
       "      <th></th>\n",
       "      <th>County_MedianValuePerSqft_AllHomes_current</th>\n",
       "      <th>County_MedianValuePerSqft_AllHomes_next</th>\n",
       "      <th>County_PctOfHomesDecreasingInValues_AllHomes_current</th>\n",
       "      <th>County_PctOfHomesDecreasingInValues_AllHomes_next</th>\n",
       "      <th>County_PriceToRentRatio_AllHomes</th>\n",
       "      <th>County_PriceToRentRatio_AllHomes_current</th>\n",
       "      <th>County_PriceToRentRatio_AllHomes_next</th>\n",
       "      <th>DaysOnZillow_Public_County</th>\n",
       "      <th>DaysOnZillow_Public_County_current</th>\n",
       "      <th>DaysOnZillow_Public_County_next</th>\n",
       "      <th>...</th>\n",
       "      <th>Total_crimepercent_pctch</th>\n",
       "      <th>Total_crimepercent_pctch_log</th>\n",
       "      <th>Violent_crime</th>\n",
       "      <th>Violent_crime_log</th>\n",
       "      <th>Violent_crime_pctch</th>\n",
       "      <th>Violent_crime_pctch_log</th>\n",
       "      <th>Violent_crimepercent</th>\n",
       "      <th>Violent_crimepercent_log</th>\n",
       "      <th>Violent_crimepercent_pctch</th>\n",
       "      <th>Violent_crimepercent_pctch_log</th>\n",
       "    </tr>\n",
       "  </thead>\n",
       "  <tbody>\n",
       "    <tr>\n",
       "      <th>0</th>\n",
       "      <td>67.250000</td>\n",
       "      <td>70.166667</td>\n",
       "      <td>37.876641</td>\n",
       "      <td>38.241920</td>\n",
       "      <td>10.19634</td>\n",
       "      <td>10.108351</td>\n",
       "      <td>10.092867</td>\n",
       "      <td>137.513108</td>\n",
       "      <td>126.295576</td>\n",
       "      <td>119.853404</td>\n",
       "      <td>...</td>\n",
       "      <td>-10.192376</td>\n",
       "      <td>1.717410</td>\n",
       "      <td>941.600000</td>\n",
       "      <td>6.847581</td>\n",
       "      <td>26.017131</td>\n",
       "      <td>3.258755</td>\n",
       "      <td>0.577981</td>\n",
       "      <td>-0.548215</td>\n",
       "      <td>26.017131</td>\n",
       "      <td>3.258755</td>\n",
       "    </tr>\n",
       "    <tr>\n",
       "      <th>1</th>\n",
       "      <td>88.000000</td>\n",
       "      <td>94.083333</td>\n",
       "      <td>19.962500</td>\n",
       "      <td>15.955000</td>\n",
       "      <td>10.19634</td>\n",
       "      <td>10.108351</td>\n",
       "      <td>10.092867</td>\n",
       "      <td>137.513108</td>\n",
       "      <td>126.295576</td>\n",
       "      <td>119.853404</td>\n",
       "      <td>...</td>\n",
       "      <td>2.174506</td>\n",
       "      <td>0.776802</td>\n",
       "      <td>1187.500000</td>\n",
       "      <td>7.079606</td>\n",
       "      <td>-0.260373</td>\n",
       "      <td>inf</td>\n",
       "      <td>0.220321</td>\n",
       "      <td>-1.512669</td>\n",
       "      <td>-0.260373</td>\n",
       "      <td>inf</td>\n",
       "    </tr>\n",
       "    <tr>\n",
       "      <th>2</th>\n",
       "      <td>62.916667</td>\n",
       "      <td>67.333333</td>\n",
       "      <td>22.689167</td>\n",
       "      <td>12.390000</td>\n",
       "      <td>10.19634</td>\n",
       "      <td>10.108351</td>\n",
       "      <td>10.092867</td>\n",
       "      <td>137.513108</td>\n",
       "      <td>126.295576</td>\n",
       "      <td>119.853404</td>\n",
       "      <td>...</td>\n",
       "      <td>-12.823349</td>\n",
       "      <td>1.717410</td>\n",
       "      <td>1029.900000</td>\n",
       "      <td>6.937217</td>\n",
       "      <td>4.963310</td>\n",
       "      <td>1.602073</td>\n",
       "      <td>0.416126</td>\n",
       "      <td>-0.876767</td>\n",
       "      <td>4.963310</td>\n",
       "      <td>1.602073</td>\n",
       "    </tr>\n",
       "    <tr>\n",
       "      <th>3</th>\n",
       "      <td>72.416667</td>\n",
       "      <td>76.000000</td>\n",
       "      <td>22.142500</td>\n",
       "      <td>26.726667</td>\n",
       "      <td>10.19634</td>\n",
       "      <td>10.108351</td>\n",
       "      <td>10.092867</td>\n",
       "      <td>137.513108</td>\n",
       "      <td>126.295576</td>\n",
       "      <td>119.853404</td>\n",
       "      <td>...</td>\n",
       "      <td>-8.461850</td>\n",
       "      <td>1.717410</td>\n",
       "      <td>710.966667</td>\n",
       "      <td>6.566626</td>\n",
       "      <td>20.686924</td>\n",
       "      <td>3.029502</td>\n",
       "      <td>0.420014</td>\n",
       "      <td>-0.867466</td>\n",
       "      <td>20.686924</td>\n",
       "      <td>3.029502</td>\n",
       "    </tr>\n",
       "    <tr>\n",
       "      <th>4</th>\n",
       "      <td>59.083333</td>\n",
       "      <td>63.833333</td>\n",
       "      <td>22.275833</td>\n",
       "      <td>16.101667</td>\n",
       "      <td>10.19634</td>\n",
       "      <td>10.108351</td>\n",
       "      <td>10.092867</td>\n",
       "      <td>137.513108</td>\n",
       "      <td>126.295576</td>\n",
       "      <td>119.853404</td>\n",
       "      <td>...</td>\n",
       "      <td>-8.493507</td>\n",
       "      <td>1.717410</td>\n",
       "      <td>849.466667</td>\n",
       "      <td>6.744609</td>\n",
       "      <td>4.013901</td>\n",
       "      <td>1.389763</td>\n",
       "      <td>0.156275</td>\n",
       "      <td>-1.856140</td>\n",
       "      <td>4.013901</td>\n",
       "      <td>1.389763</td>\n",
       "    </tr>\n",
       "  </tbody>\n",
       "</table>\n",
       "<p>5 rows × 545 columns</p>\n",
       "</div>"
      ],
      "text/plain": [
       "   County_MedianValuePerSqft_AllHomes_current  \\\n",
       "0                                   67.250000   \n",
       "1                                   88.000000   \n",
       "2                                   62.916667   \n",
       "3                                   72.416667   \n",
       "4                                   59.083333   \n",
       "\n",
       "   County_MedianValuePerSqft_AllHomes_next  \\\n",
       "0                                70.166667   \n",
       "1                                94.083333   \n",
       "2                                67.333333   \n",
       "3                                76.000000   \n",
       "4                                63.833333   \n",
       "\n",
       "   County_PctOfHomesDecreasingInValues_AllHomes_current  \\\n",
       "0                                          37.876641      \n",
       "1                                          19.962500      \n",
       "2                                          22.689167      \n",
       "3                                          22.142500      \n",
       "4                                          22.275833      \n",
       "\n",
       "   County_PctOfHomesDecreasingInValues_AllHomes_next  \\\n",
       "0                                          38.241920   \n",
       "1                                          15.955000   \n",
       "2                                          12.390000   \n",
       "3                                          26.726667   \n",
       "4                                          16.101667   \n",
       "\n",
       "   County_PriceToRentRatio_AllHomes  County_PriceToRentRatio_AllHomes_current  \\\n",
       "0                          10.19634                                 10.108351   \n",
       "1                          10.19634                                 10.108351   \n",
       "2                          10.19634                                 10.108351   \n",
       "3                          10.19634                                 10.108351   \n",
       "4                          10.19634                                 10.108351   \n",
       "\n",
       "   County_PriceToRentRatio_AllHomes_next  DaysOnZillow_Public_County  \\\n",
       "0                              10.092867                  137.513108   \n",
       "1                              10.092867                  137.513108   \n",
       "2                              10.092867                  137.513108   \n",
       "3                              10.092867                  137.513108   \n",
       "4                              10.092867                  137.513108   \n",
       "\n",
       "   DaysOnZillow_Public_County_current  DaysOnZillow_Public_County_next  \\\n",
       "0                          126.295576                       119.853404   \n",
       "1                          126.295576                       119.853404   \n",
       "2                          126.295576                       119.853404   \n",
       "3                          126.295576                       119.853404   \n",
       "4                          126.295576                       119.853404   \n",
       "\n",
       "                ...                Total_crimepercent_pctch  \\\n",
       "0               ...                              -10.192376   \n",
       "1               ...                                2.174506   \n",
       "2               ...                              -12.823349   \n",
       "3               ...                               -8.461850   \n",
       "4               ...                               -8.493507   \n",
       "\n",
       "   Total_crimepercent_pctch_log  Violent_crime  Violent_crime_log  \\\n",
       "0                      1.717410     941.600000           6.847581   \n",
       "1                      0.776802    1187.500000           7.079606   \n",
       "2                      1.717410    1029.900000           6.937217   \n",
       "3                      1.717410     710.966667           6.566626   \n",
       "4                      1.717410     849.466667           6.744609   \n",
       "\n",
       "   Violent_crime_pctch  Violent_crime_pctch_log  Violent_crimepercent  \\\n",
       "0            26.017131                 3.258755              0.577981   \n",
       "1            -0.260373                      inf              0.220321   \n",
       "2             4.963310                 1.602073              0.416126   \n",
       "3            20.686924                 3.029502              0.420014   \n",
       "4             4.013901                 1.389763              0.156275   \n",
       "\n",
       "   Violent_crimepercent_log  Violent_crimepercent_pctch  \\\n",
       "0                 -0.548215                   26.017131   \n",
       "1                 -1.512669                   -0.260373   \n",
       "2                 -0.876767                    4.963310   \n",
       "3                 -0.867466                   20.686924   \n",
       "4                 -1.856140                    4.013901   \n",
       "\n",
       "   Violent_crimepercent_pctch_log  \n",
       "0                        3.258755  \n",
       "1                             inf  \n",
       "2                        1.602073  \n",
       "3                        3.029502  \n",
       "4                        1.389763  \n",
       "\n",
       "[5 rows x 545 columns]"
      ]
     },
     "execution_count": 30,
     "metadata": {},
     "output_type": "execute_result"
    }
   ],
   "source": [
    "# for 85-16 Data\n",
    "path = './data/dataframes/all_feats_85_16.csv'\n",
    "ddf85 = pd.read_csv(path)\n",
    "ddf85.drop(['Unnamed: 0'], axis=1, inplace=True)\n",
    "ddf85.head()"
   ]
  },
  {
   "cell_type": "code",
   "execution_count": 31,
   "metadata": {
    "scrolled": true
   },
   "outputs": [
    {
     "name": "stdout",
     "output_type": "stream",
     "text": [
      "Columns matching filter: 4\n"
     ]
    },
    {
     "data": {
      "text/plain": [
       "['ZHVI_AllHomes_current',\n",
       " 'ZHVI_AllHomes_next',\n",
       " 'ZHVI_SingleFamilyResidence_current',\n",
       " 'ZHVI_SingleFamilyResidence_next']"
      ]
     },
     "execution_count": 31,
     "metadata": {},
     "output_type": "execute_result"
    }
   ],
   "source": [
    "column_filter(ddf85, 'ZHVI')"
   ]
  },
  {
   "cell_type": "code",
   "execution_count": 32,
   "metadata": {
    "collapsed": true
   },
   "outputs": [],
   "source": [
    "ddf85.drop(['ZHVI_AllHomes_next', 'ZHVI_AllHomes_current', \n",
    "          'Med_Listing_Price_AllHomes_current',\n",
    "          'Med_Listing_Price_AllHomes_next'], axis=1, inplace=True)\n",
    "ddf85 = pd.merge(ddf85, zf, on=['FIPS', 'YEAR'], how='left')"
   ]
  },
  {
   "cell_type": "markdown",
   "metadata": {},
   "source": [
    "Factorize the State Data"
   ]
  },
  {
   "cell_type": "code",
   "execution_count": 33,
   "metadata": {
    "collapsed": true
   },
   "outputs": [],
   "source": [
    "#factorize state data\n",
    "ddf85['STATE'] = (pd.factorize(ddf85.STATE))[0]\n",
    "ddf10['STATE'] = (pd.factorize(ddf10.STATE))[0]"
   ]
  },
  {
   "cell_type": "markdown",
   "metadata": {},
   "source": [
    "Remove columns from housing data that gives percentages of homes valued within specific buckets."
   ]
  },
  {
   "cell_type": "code",
   "execution_count": 34,
   "metadata": {
    "scrolled": false
   },
   "outputs": [
    {
     "name": "stdout",
     "output_type": "stream",
     "text": [
      "Columns matching filter: 40\n",
      "10+ data: cols:  2883 rows:  3377\n",
      "Columns matching filter: 0\n",
      "85+ data: cols:  543 rows:  12056\n"
     ]
    }
   ],
   "source": [
    "ddf10.drop(column_filter(ddf10, 'VALUE'), axis=1, inplace=True)\n",
    "#Check row and column length\n",
    "print ('10+ data: cols: ', len(ddf10.columns), 'rows: ', len(ddf10))\n",
    "\n",
    "ddf85.drop(column_filter(ddf85, 'VALUE'), axis=1, inplace=True)\n",
    "#Check row and column length\n",
    "print ('85+ data: cols: ', len(ddf85.columns), 'rows: ', len(ddf85))"
   ]
  },
  {
   "cell_type": "markdown",
   "metadata": {},
   "source": [
    "Drop columns that redundnantly give County label"
   ]
  },
  {
   "cell_type": "code",
   "execution_count": 35,
   "metadata": {
    "collapsed": true
   },
   "outputs": [],
   "source": [
    "ddf10.drop(['COUNTYFIPS',\n",
    " 'COUNTYFIPS_log'], axis = 1, inplace = True)"
   ]
  },
  {
   "cell_type": "code",
   "execution_count": 36,
   "metadata": {
    "collapsed": true
   },
   "outputs": [],
   "source": [
    "#df10.drop(['COUNTY', 'COUNTYFIPS',\n",
    "# 'COUNTYFIPS_log'], axis = 1, inplace = True)\n",
    "ddf85.drop(['COUNTY', 'COUNTYFIPS',\n",
    " 'COUNTYFIPS_log'], axis = 1, inplace = True)"
   ]
  },
  {
   "cell_type": "markdown",
   "metadata": {
    "collapsed": true
   },
   "source": [
    "Some more feature enginerring"
   ]
  },
  {
   "cell_type": "code",
   "execution_count": 37,
   "metadata": {
    "collapsed": true
   },
   "outputs": [],
   "source": [
    "#Average home value per county relative to overall average home value\n",
    "ddf10['Rel_ZHVI'] = (ddf10['ZHVI_AllHomes_current'] - ddf10['ZHVI_AllHomes_current'].mean()) / ddf10['ZHVI_AllHomes_current'].mean() \n",
    "ddf85['Rel_ZHVI'] = (ddf85['ZHVI_AllHomes_current'] - ddf85['ZHVI_AllHomes_current'].mean()) / ddf85['ZHVI_AllHomes_current'].mean() "
   ]
  },
  {
   "cell_type": "code",
   "execution_count": 38,
   "metadata": {},
   "outputs": [
    {
     "ename": "NameError",
     "evalue": "name 'dem_all' is not defined",
     "output_type": "error",
     "traceback": [
      "\u001b[0;31m---------------------------------------------------------------------------\u001b[0m",
      "\u001b[0;31mNameError\u001b[0m                                 Traceback (most recent call last)",
      "\u001b[0;32m<ipython-input-38-643684d13fe2>\u001b[0m in \u001b[0;36m<module>\u001b[0;34m()\u001b[0m\n\u001b[1;32m      1\u001b[0m \u001b[0;31m#population density relative to overall population density\u001b[0m\u001b[0;34m\u001b[0m\u001b[0;34m\u001b[0m\u001b[0m\n\u001b[0;32m----> 2\u001b[0;31m \u001b[0mddf10\u001b[0m\u001b[0;34m[\u001b[0m\u001b[0;34m'Rel_Pop_Dens'\u001b[0m\u001b[0;34m]\u001b[0m \u001b[0;34m=\u001b[0m \u001b[0mddf10\u001b[0m\u001b[0;34m.\u001b[0m\u001b[0mpop_density\u001b[0m \u001b[0;34m/\u001b[0m \u001b[0mdem_all\u001b[0m\u001b[0;34m.\u001b[0m\u001b[0mpop_density\u001b[0m\u001b[0;34m.\u001b[0m\u001b[0mmean\u001b[0m\u001b[0;34m(\u001b[0m\u001b[0;34m)\u001b[0m\u001b[0;34m\u001b[0m\u001b[0m\n\u001b[0m",
      "\u001b[0;31mNameError\u001b[0m: name 'dem_all' is not defined"
     ]
    }
   ],
   "source": [
    "#population density relative to overall population density\n",
    "ddf10['Rel_Pop_Dens'] = ddf10.pop_density / dem_all.pop_density.mean()"
   ]
  },
  {
   "cell_type": "code",
   "execution_count": 39,
   "metadata": {
    "collapsed": true
   },
   "outputs": [],
   "source": [
    "ddf10['Rel_Hous_Dense'] = ddf10['housing_density'] / ddf10['housing_density'].mean() "
   ]
  },
  {
   "cell_type": "code",
   "execution_count": 741,
   "metadata": {
    "collapsed": true
   },
   "outputs": [],
   "source": [
    "#How far from the mean\n",
    "ddf10['RelDif_Pop_Dens'] = (ddf10.pop_density - dem_all.pop_density.mean()) / dem_all.pop_density.mean()\n",
    "ddf10['RelDif_Hous_Dense'] = (ddf10['housing_density'] - ddf10['housing_density'].mean()) / ddf10['housing_density'].mean() "
   ]
  },
  {
   "cell_type": "code",
   "execution_count": 40,
   "metadata": {
    "collapsed": true
   },
   "outputs": [],
   "source": [
    "#Average home value per county relative to overall average home value\n",
    "ddf10['RelDif_ZHVI'] = (ddf10['ZHVI_AllHomes_current'] - ddf10['ZHVI_AllHomes_current'].mean()) / ddf10['ZHVI_AllHomes_current'].mean() \n",
    "ddf85['RelDif_ZHVI'] = (ddf85['ZHVI_AllHomes_current'] - ddf85['ZHVI_AllHomes_current'].mean()) / ddf85['ZHVI_AllHomes_current'].mean() "
   ]
  },
  {
   "cell_type": "code",
   "execution_count": 41,
   "metadata": {},
   "outputs": [
    {
     "name": "stdout",
     "output_type": "stream",
     "text": [
      "Columns matching filter: 22\n",
      "Columns matching filter: 33\n"
     ]
    }
   ],
   "source": [
    "ddf10.drop(column_filter(ddf10, 'med_rental'), axis=1, inplace=True)\n",
    "ddf85.drop(column_filter(ddf85, 'med_rental'), axis=1, inplace=True)"
   ]
  },
  {
   "cell_type": "code",
   "execution_count": 42,
   "metadata": {},
   "outputs": [
    {
     "name": "stdout",
     "output_type": "stream",
     "text": [
      "Columns matching filter: 16\n",
      "Columns matching filter: 25\n"
     ]
    }
   ],
   "source": [
    "ddf10.drop(column_filter(ddf10, 'Med_'), axis=1, inplace=True)\n",
    "ddf85.drop(column_filter(ddf85, 'Med_'), axis=1, inplace=True)"
   ]
  },
  {
   "cell_type": "markdown",
   "metadata": {},
   "source": [
    "### Covariance Feature Selection"
   ]
  },
  {
   "cell_type": "code",
   "execution_count": 212,
   "metadata": {
    "collapsed": true
   },
   "outputs": [],
   "source": [
    "output = 'ZHVI_AllHomes_current'"
   ]
  },
  {
   "cell_type": "markdown",
   "metadata": {},
   "source": [
    "Drop rows where there is no value for the output variable."
   ]
  },
  {
   "cell_type": "code",
   "execution_count": 213,
   "metadata": {},
   "outputs": [
    {
     "name": "stdout",
     "output_type": "stream",
     "text": [
      "cols:  2846 rows:  3377\n",
      "cols:  2846 rows:  3330\n",
      "cols:  484 rows:  12056\n",
      "cols:  484 rows:  10601\n"
     ]
    }
   ],
   "source": [
    "#Check row and column length\n",
    "print ('cols: ', len(ddf10.columns), 'rows: ', len(ddf10))\n",
    "df10 = ddf10.dropna(how='any', subset=[output])\n",
    "#Check row and column length\n",
    "print ('cols: ', len(df10.columns), 'rows: ', len(df10))\n",
    "\n",
    "#Check row and column length\n",
    "print ('cols: ', len(ddf85.columns), 'rows: ', len(ddf85))\n",
    "df85 = ddf85.dropna(how='any', subset=[output])\n",
    "#Check row and column length\n",
    "print ('cols: ', len(df85.columns), 'rows: ', len(df85))"
   ]
  },
  {
   "cell_type": "markdown",
   "metadata": {},
   "source": [
    "Drop features that are too closely associated with home value"
   ]
  },
  {
   "cell_type": "code",
   "execution_count": 214,
   "metadata": {},
   "outputs": [
    {
     "name": "stderr",
     "output_type": "stream",
     "text": [
      "/Users/baileygriswold/anaconda3/lib/python3.6/site-packages/ipykernel_launcher.py:9: SettingWithCopyWarning: \n",
      "A value is trying to be set on a copy of a slice from a DataFrame\n",
      "\n",
      "See the caveats in the documentation: http://pandas.pydata.org/pandas-docs/stable/indexing.html#indexing-view-versus-copy\n",
      "  if __name__ == '__main__':\n",
      "/Users/baileygriswold/anaconda3/lib/python3.6/site-packages/ipykernel_launcher.py:10: SettingWithCopyWarning: \n",
      "A value is trying to be set on a copy of a slice from a DataFrame\n",
      "\n",
      "See the caveats in the documentation: http://pandas.pydata.org/pandas-docs/stable/indexing.html#indexing-view-versus-copy\n",
      "  # Remove the CWD from sys.path while we load stuff.\n"
     ]
    }
   ],
   "source": [
    "zillow_feats = [word+'_next' for word in home_value_indicators] + [word+'_current' for word in home_value_indicators]\n",
    "#Drop home value indicators\n",
    "zillow_feats.remove(output)\n",
    "zillow_feats.remove('Med_Listing_Price_AllHomes_current')\n",
    "zillow_feats.remove('Med_Listing_Price_AllHomes_next')\n",
    "zillow_feats.remove('Med_Listing_Price_Sfr_current')\n",
    "zillow_feats.remove('Med_Listing_Price_Sfr_next')\n",
    "\n",
    "df10.drop(zillow_feats, axis=1, inplace=True)\n",
    "df85.drop(zillow_feats, axis=1, inplace=True)"
   ]
  },
  {
   "cell_type": "markdown",
   "metadata": {},
   "source": [
    "Remove Next period values from covariance model"
   ]
  },
  {
   "cell_type": "code",
   "execution_count": 215,
   "metadata": {},
   "outputs": [
    {
     "name": "stdout",
     "output_type": "stream",
     "text": [
      "Columns matching filter: 16\n",
      "10+ data: cols:  2825 rows:  3330\n",
      "Columns matching filter: 16\n",
      "85+ data: cols:  463 rows:  10601\n"
     ]
    },
    {
     "name": "stderr",
     "output_type": "stream",
     "text": [
      "/Users/baileygriswold/anaconda3/lib/python3.6/site-packages/ipykernel_launcher.py:1: SettingWithCopyWarning: \n",
      "A value is trying to be set on a copy of a slice from a DataFrame\n",
      "\n",
      "See the caveats in the documentation: http://pandas.pydata.org/pandas-docs/stable/indexing.html#indexing-view-versus-copy\n",
      "  \"\"\"Entry point for launching an IPython kernel.\n",
      "/Users/baileygriswold/anaconda3/lib/python3.6/site-packages/ipykernel_launcher.py:5: SettingWithCopyWarning: \n",
      "A value is trying to be set on a copy of a slice from a DataFrame\n",
      "\n",
      "See the caveats in the documentation: http://pandas.pydata.org/pandas-docs/stable/indexing.html#indexing-view-versus-copy\n",
      "  \"\"\"\n"
     ]
    }
   ],
   "source": [
    "df10.drop(column_filter(df10, '_next'), axis=1, inplace=True)\n",
    "#Check row and column length\n",
    "print ('10+ data: cols: ', len(df10.columns), 'rows: ', len(df10))\n",
    "\n",
    "df85.drop(column_filter(df85, '_next'), axis=1, inplace=True)\n",
    "#Check row and column length\n",
    "print ('85+ data: cols: ', len(df85.columns), 'rows: ', len(df85))"
   ]
  },
  {
   "cell_type": "markdown",
   "metadata": {},
   "source": [
    "Drop the columns that are too highly correlated with median home value (they are essentially the same as the output)"
   ]
  },
  {
   "cell_type": "code",
   "execution_count": 216,
   "metadata": {},
   "outputs": [
    {
     "name": "stdout",
     "output_type": "stream",
     "text": [
      "3\n",
      "['ZHVI_AllHomes_current', 'Rel_ZHVI', 'RelDif_ZHVI']\n",
      "cols:  2823 rows:  3330\n"
     ]
    },
    {
     "name": "stderr",
     "output_type": "stream",
     "text": [
      "/Users/baileygriswold/anaconda3/lib/python3.6/site-packages/ipykernel_launcher.py:12: SettingWithCopyWarning: \n",
      "A value is trying to be set on a copy of a slice from a DataFrame\n",
      "\n",
      "See the caveats in the documentation: http://pandas.pydata.org/pandas-docs/stable/indexing.html#indexing-view-versus-copy\n",
      "  if sys.path[0] == '':\n"
     ]
    }
   ],
   "source": [
    "corr = df10.corr()\n",
    "#sns.heatmap(corr, center=0,\n",
    "#        xticklabels=False,\n",
    "#        yticklabels=False)\n",
    "\n",
    "mask = list(corr.loc[output] > .85)\n",
    "corr_feats = list(corr.columns[mask])\n",
    "print (len(corr_feats))\n",
    "print (corr_feats)\n",
    "corr_feats.remove(output)\n",
    "\n",
    "df10.drop(corr_feats, axis=1, inplace=True)\n",
    "print ('cols: ', len(df10.columns), 'rows: ', len(df10))"
   ]
  },
  {
   "cell_type": "code",
   "execution_count": 217,
   "metadata": {},
   "outputs": [
    {
     "name": "stdout",
     "output_type": "stream",
     "text": [
      "3\n",
      "['ZHVI_AllHomes_current', 'Rel_ZHVI', 'RelDif_ZHVI']\n",
      "cols:  461 rows:  10601\n"
     ]
    },
    {
     "name": "stderr",
     "output_type": "stream",
     "text": [
      "/Users/baileygriswold/anaconda3/lib/python3.6/site-packages/ipykernel_launcher.py:12: SettingWithCopyWarning: \n",
      "A value is trying to be set on a copy of a slice from a DataFrame\n",
      "\n",
      "See the caveats in the documentation: http://pandas.pydata.org/pandas-docs/stable/indexing.html#indexing-view-versus-copy\n",
      "  if sys.path[0] == '':\n"
     ]
    }
   ],
   "source": [
    "corr = df85.corr()\n",
    "#sns.heatmap(corr, center=0,\n",
    "#        xticklabels=False,\n",
    "#        yticklabels=False)\n",
    "\n",
    "mask = list(corr.loc[output] > .85)\n",
    "corr_feats = list(corr.columns[mask])\n",
    "print (len(corr_feats))\n",
    "print (corr_feats)\n",
    "corr_feats.remove(output)\n",
    "\n",
    "df85.drop(corr_feats, axis=1, inplace=True)\n",
    "print ('cols: ', len(df85.columns), 'rows: ', len(df85))"
   ]
  },
  {
   "cell_type": "markdown",
   "metadata": {},
   "source": [
    "Random Forest"
   ]
  },
  {
   "cell_type": "code",
   "execution_count": 218,
   "metadata": {
    "collapsed": true
   },
   "outputs": [],
   "source": [
    "features10 = list(set(df10.columns) - set(['FIPS', 'COUNTYNAME', output] + zillow_feats))\n",
    "features85 = list(set(df85.columns) - set(['FIPS', 'COUNTYNAME', output] + zillow_feats))"
   ]
  },
  {
   "cell_type": "code",
   "execution_count": 219,
   "metadata": {},
   "outputs": [
    {
     "name": "stderr",
     "output_type": "stream",
     "text": [
      "/Users/baileygriswold/anaconda3/lib/python3.6/site-packages/ipykernel_launcher.py:1: SettingWithCopyWarning: \n",
      "A value is trying to be set on a copy of a slice from a DataFrame\n",
      "\n",
      "See the caveats in the documentation: http://pandas.pydata.org/pandas-docs/stable/indexing.html#indexing-view-versus-copy\n",
      "  \"\"\"Entry point for launching an IPython kernel.\n"
     ]
    }
   ],
   "source": [
    "df85.replace(to_replace=[-np.inf, np.inf], value=[1, 1], inplace=True)"
   ]
  },
  {
   "cell_type": "code",
   "execution_count": 220,
   "metadata": {},
   "outputs": [
    {
     "name": "stderr",
     "output_type": "stream",
     "text": [
      "/Users/baileygriswold/anaconda3/lib/python3.6/site-packages/sklearn/utils/deprecation.py:57: DeprecationWarning: Class RandomizedLasso is deprecated; The class RandomizedLasso is deprecated in 0.19 and will be removed in 0.21.\n",
      "  warnings.warn(msg, category=DeprecationWarning)\n"
     ]
    },
    {
     "name": "stdout",
     "output_type": "stream",
     "text": [
      "R-Score 0.982550309135\n",
      "rf Feature ranking:         0                                                  1\n",
      "0  0.3288  Estimate__SELECTED_MONTHLY_OWNER_COSTS_SMOC__M...\n",
      "1  0.2019  Estimate__SELECTED_MONTHLY_OWNER_COSTS_SMOC__M...\n",
      "2  0.0808           County_PriceToRentRatio_AllHomes_current\n",
      "3  0.0622  Percent__SELECTED_MONTHLY_OWNER_COSTS_SMOC__70...\n",
      "4  0.0457  Percent__SELECTED_MONTHLY_OWNER_COSTS_SMOC__20...\n"
     ]
    },
    {
     "name": "stderr",
     "output_type": "stream",
     "text": [
      "/Users/baileygriswold/anaconda3/lib/python3.6/site-packages/sklearn/utils/deprecation.py:57: DeprecationWarning: Class RandomizedLasso is deprecated; The class RandomizedLasso is deprecated in 0.19 and will be removed in 0.21.\n",
      "  warnings.warn(msg, category=DeprecationWarning)\n"
     ]
    },
    {
     "name": "stdout",
     "output_type": "stream",
     "text": [
      "R-Score 0.979086119358\n",
      "rf Feature ranking:         0                                         1\n",
      "0  0.1461      Adjusted_gross_income_per_return_log\n",
      "1  0.1411          Adjusted_gross_income_per_return\n",
      "2  0.0895                                 19300_log\n",
      "3  0.0680                                     19300\n",
      "4  0.0395  County_PriceToRentRatio_AllHomes_current\n"
     ]
    },
    {
     "data": {
      "image/png": "[encoded data removed]",
      "text/plain": [
       "<matplotlib.figure.Figure at 0x1c243b2dd8>"
      ]
     },
     "metadata": {},
     "output_type": "display_data"
    },
    {
     "data": {
      "image/png": "[encoded data removed]",
      "text/plain": [
       "<matplotlib.figure.Figure at 0x1c21986a20>"
      ]
     },
     "metadata": {},
     "output_type": "display_data"
    }
   ],
   "source": [
    "rf_res10 = pd.DataFrame(feat_sel(df10, output, features10 , feat_num=50))\n",
    "rf_res85 = pd.DataFrame(feat_sel(df85, output, features85, feat_num=50))\n"
   ]
  },
  {
   "cell_type": "markdown",
   "metadata": {},
   "source": [
    "LASSO Feature Selection"
   ]
  },
  {
   "cell_type": "code",
   "execution_count": 221,
   "metadata": {},
   "outputs": [
    {
     "name": "stderr",
     "output_type": "stream",
     "text": [
      "/Users/baileygriswold/anaconda3/lib/python3.6/site-packages/sklearn/utils/deprecation.py:57: DeprecationWarning: Class RandomizedLasso is deprecated; The class RandomizedLasso is deprecated in 0.19 and will be removed in 0.21.\n",
      "  warnings.warn(msg, category=DeprecationWarning)\n"
     ]
    },
    {
     "name": "stdout",
     "output_type": "stream",
     "text": [
      "lasso Feature ranking:        0                                                  1\n",
      "0  0.495  Estimate__SELECTED_MONTHLY_OWNER_COSTS_SMOC__M...\n",
      "1  0.275                  Percent__GROSS_RENT__1500_or_more\n",
      "2  0.245  Estimate__SELECTED_MONTHLY_OWNER_COSTS_SMOC__M...\n",
      "3  0.180  Percent__SELECTED_MONTHLY_OWNER_COSTS_SMOC__20...\n",
      "4  0.085               Estimate__GROSS_RENT__Median_dollars\n"
     ]
    },
    {
     "name": "stderr",
     "output_type": "stream",
     "text": [
      "/Users/baileygriswold/anaconda3/lib/python3.6/site-packages/sklearn/utils/deprecation.py:57: DeprecationWarning: Class RandomizedLasso is deprecated; The class RandomizedLasso is deprecated in 0.19 and will be removed in 0.21.\n",
      "  warnings.warn(msg, category=DeprecationWarning)\n"
     ]
    },
    {
     "name": "stdout",
     "output_type": "stream",
     "text": [
      "lasso Feature ranking:        0                                         1\n",
      "0  0.540  County_PriceToRentRatio_AllHomes_current\n",
      "1  0.535          Adjusted_gross_income_per_return\n",
      "2  0.530                                     19300\n",
      "3  0.525     Dividends_before_exclusion_per_return\n",
      "4  0.460                                     04800\n"
     ]
    },
    {
     "data": {
      "image/png": "[encoded data removed]",
      "text/plain": [
       "<matplotlib.figure.Figure at 0x1c2199b668>"
      ]
     },
     "metadata": {},
     "output_type": "display_data"
    },
    {
     "data": {
      "image/png": "[encoded data removed]",
      "text/plain": [
       "<matplotlib.figure.Figure at 0x1c255b85f8>"
      ]
     },
     "metadata": {},
     "output_type": "display_data"
    }
   ],
   "source": [
    "lasso_res10 = pd.DataFrame(feat_sel(df10, output, features10, model='lasso',\n",
    "                                    alpha = 1000, feat_num=50))\n",
    "lasso_res85 = pd.DataFrame(feat_sel(df85, output, features85 , model='lasso',\n",
    "                                    alpha = 100, feat_num=50))"
   ]
  },
  {
   "cell_type": "markdown",
   "metadata": {},
   "source": [
    "Comparing the Feature Importance from the Two selection methods"
   ]
  },
  {
   "cell_type": "code",
   "execution_count": 222,
   "metadata": {
    "collapsed": true
   },
   "outputs": [],
   "source": [
    "res10 = pd.merge(lasso_res10, rf_res10,on=1, how='outer', suffixes=('_las', '_rf'))"
   ]
  },
  {
   "cell_type": "code",
   "execution_count": 223,
   "metadata": {
    "collapsed": true
   },
   "outputs": [],
   "source": [
    "res85 = pd.merge(lasso_res85, rf_res85, on=1, how='outer', suffixes=('_las', '_rf'))"
   ]
  },
  {
   "cell_type": "code",
   "execution_count": 224,
   "metadata": {
    "collapsed": true
   },
   "outputs": [],
   "source": [
    "res85['avg_score'] = res85.mean(axis=1)\n",
    "res10['avg_score'] = res10.mean(axis=1)"
   ]
  },
  {
   "cell_type": "code",
   "execution_count": 225,
   "metadata": {
    "collapsed": true
   },
   "outputs": [],
   "source": [
    "res10 = res10.sort_values(by='avg_score', ascending=False)\n",
    "res85 = res85.sort_values(by='avg_score', ascending=False)"
   ]
  },
  {
   "cell_type": "code",
   "execution_count": 226,
   "metadata": {},
   "outputs": [
    {
     "data": {
      "text/plain": [
       "<matplotlib.text.Text at 0x1c24d896d8>"
      ]
     },
     "execution_count": 226,
     "metadata": {},
     "output_type": "execute_result"
    },
    {
     "data": {
      "image/png": "[encoded data removed]",
      "text/plain": [
       "<matplotlib.figure.Figure at 0x1c237e49b0>"
      ]
     },
     "metadata": {},
     "output_type": "display_data"
    }
   ],
   "source": [
    "#feats = pd.merge(lasso_res, rf_res, on=1, suffixes=('_lasso', '_rf'))\n",
    "pl.plot(res10['0_las'], res10['0_rf'], 'o', alpha=.5)\n",
    "pl.plot(res85['0_las'], res85['0_rf'], 'o', alpha=.5, c='orange')\n",
    "pl.xlabel('Lasso Feature Importance')\n",
    "pl.ylabel('Random Forest Feature Importance')"
   ]
  },
  {
   "cell_type": "code",
   "execution_count": 227,
   "metadata": {
    "collapsed": true
   },
   "outputs": [],
   "source": [
    "res85['labels'] = res85[1].str.slice(0, 30)"
   ]
  },
  {
   "cell_type": "code",
   "execution_count": 237,
   "metadata": {},
   "outputs": [
    {
     "data": {
      "text/plain": [
       "<matplotlib.text.Text at 0x1c20f4a208>"
      ]
     },
     "execution_count": 237,
     "metadata": {},
     "output_type": "execute_result"
    },
    {
     "data": {
      "image/png": "[encoded data removed]",
      "text/plain": [
       "<matplotlib.figure.Figure at 0x1c255a2390>"
      ]
     },
     "metadata": {},
     "output_type": "display_data"
    }
   ],
   "source": [
    "pl.figure(figsize=(8,6))\n",
    "pl.title(\"Avg Feature Importance, 1985-2015 Data, Covariance\")\n",
    "pl.bar(np.arange(60), res85['avg_score'][:60], align='center')\n",
    "pl.xticks(np.arange(60), res85['labels'][:60], rotation=90, fontsize=6)\n",
    "pl.ylabel('Importance Score')"
   ]
  },
  {
   "cell_type": "code",
   "execution_count": 229,
   "metadata": {
    "collapsed": true
   },
   "outputs": [],
   "source": [
    "feats85 = res85[1][:60]"
   ]
  },
  {
   "cell_type": "code",
   "execution_count": 230,
   "metadata": {
    "collapsed": true
   },
   "outputs": [],
   "source": [
    "res10['labels'] = res10[1].str.slice(0, 30)"
   ]
  },
  {
   "cell_type": "code",
   "execution_count": 231,
   "metadata": {},
   "outputs": [
    {
     "data": {
      "text/plain": [
       "<matplotlib.text.Text at 0x1c22714908>"
      ]
     },
     "execution_count": 231,
     "metadata": {},
     "output_type": "execute_result"
    },
    {
     "data": {
      "image/png": "[encoded data removed]",
      "text/plain": [
       "<matplotlib.figure.Figure at 0x1c226ffcc0>"
      ]
     },
     "metadata": {},
     "output_type": "display_data"
    }
   ],
   "source": [
    "pl.figure(figsize=(8,6))\n",
    "pl.title(\"Avg Feature Importance, 2010-16 Data, Covariance\")\n",
    "pl.bar(np.arange(30), res10['avg_score'][:30], align='center')\n",
    "pl.xticks(np.arange(30), res10['labels'][:30], rotation=90, fontsize=8)\n",
    "pl.ylabel('Importance Score')"
   ]
  },
  {
   "cell_type": "code",
   "execution_count": 232,
   "metadata": {
    "collapsed": true
   },
   "outputs": [],
   "source": [
    "feats10 = res10[1][:30]"
   ]
  },
  {
   "cell_type": "code",
   "execution_count": 233,
   "metadata": {},
   "outputs": [
    {
     "data": {
      "text/plain": [
       "['Adjusted_gross_income_per_return',\n",
       " '19300',\n",
       " 'County_PriceToRentRatio_AllHomes_current',\n",
       " 'Dividends_before_exclusion_per_return',\n",
       " '04800',\n",
       " '04470',\n",
       " '07100',\n",
       " '18300',\n",
       " '10300',\n",
       " '02500',\n",
       " '01700',\n",
       " '59660_log',\n",
       " 'rent_price_persqft_AllHomes_current',\n",
       " '18500',\n",
       " 'Wages_and_salaries_per_return',\n",
       " '06500',\n",
       " '00200',\n",
       " '00600',\n",
       " 'Adjusted_gross_income',\n",
       " '01400',\n",
       " 'Interest_received_per_return_log',\n",
       " '01000',\n",
       " 'rent_price_persqft_Sfr_current',\n",
       " 'Wages_and_salaries',\n",
       " 'rent_price_persqft_2bedroom_current',\n",
       " 'Dividends_before_exclusion',\n",
       " '59720',\n",
       " '02650',\n",
       " 'County_PriceToRentRatio_AllHomes',\n",
       " 'Number_of_exemptions_per_return',\n",
       " 'Property_crime',\n",
       " 'County_PctOfHomesDecreasingInValues_AllHomes_current',\n",
       " '10600',\n",
       " '00650',\n",
       " 'Number_of_exemptions_log',\n",
       " '18425',\n",
       " 'Dpct',\n",
       " 'N59660_log',\n",
       " '00300',\n",
       " 'Property_crimepercent',\n",
       " 'TotalVotes_log']"
      ]
     },
     "execution_count": 233,
     "metadata": {},
     "output_type": "execute_result"
    }
   ],
   "source": [
    "l = []\n",
    "for i in feats85:\n",
    "    if '_log' in i:\n",
    "        l.append(i)\n",
    "        \n",
    "m = [x.strip('_log')for x in l]\n",
    "p = [x for x in m if (feats85 == x).sum() > 0]\n",
    "q = [x + ('_log')for x in p]\n",
    "feats85 = list(feats85)\n",
    "[feats85.remove(x) for x in q]\n",
    "feats85"
   ]
  },
  {
   "cell_type": "code",
   "execution_count": 234,
   "metadata": {},
   "outputs": [
    {
     "data": {
      "text/plain": [
       "['Estimate__SELECTED_MONTHLY_OWNER_COSTS_SMOC__Median_dollars',\n",
       " 'Percent__GROSS_RENT__1500_or_more',\n",
       " 'Percent__SELECTED_MONTHLY_OWNER_COSTS_SMOC__2000_or_more',\n",
       " 'County_PriceToRentRatio_AllHomes_current',\n",
       " 'Estimate__GROSS_RENT__Median_dollars',\n",
       " 'Percent__SELECTED_MONTHLY_OWNER_COSTS_SMOC__700_to_999_log',\n",
       " 'rent_price_persqft_Sfr_current',\n",
       " 'Percent__HOUSE_HEATING_FUEL__Occupied_housing_units__No_fuel_used',\n",
       " 'rent_price_persqft_Mfr5Plus_current',\n",
       " 'Estimate__INCOME_AND_BENEFITS_IN__INFLATIONADJUSTED_DOLLARS__Mean_household_income_dollars',\n",
       " 'Cumulative Estimates of the Components of Population Change - April 1,  to July 1,  - Total Population Change [1]percent',\n",
       " 'Percent__ROOMS__2_rooms',\n",
       " '07260',\n",
       " 'rent_price_persqft_2bedroom_current',\n",
       " 'Percent__HOUSE_HEATING_FUEL__No_fuel_used',\n",
       " 'Percent__INCOME_AND_BENEFITS_IN__INFLATIONADJUSTED_DOLLARS__200000_or_more',\n",
       " '19300',\n",
       " 'Estimate__INCOME_AND_BENEFITS_IN__INFLATIONADJUSTED_DOLLARS__Nonfamily_households__Mean_nonfamily_income_dollars',\n",
       " 'Percent__GROSS_RENT__500_to_749_log',\n",
       " '00900_log',\n",
       " 'Percent__SELECTED_MONTHLY_OWNER_COSTS_AS_A_PERCENTAGE_OF_HOUSEHOLD_INCOME_SMOCAPI__Housing_unit_without_a_mortgage_excluding_units_where_SMOCAPI_cannot_be_computed__Less_than_100_percent_log',\n",
       " 'rent_price_persqft_CondoCoop_current',\n",
       " 'Percent__INCOME_AND_BENEFITS_IN__INFLATIONADJUSTED_DOLLARS__Families__200000_or_more_log',\n",
       " 'Cumulative Estimates of the Components of Population Change - April 1,  to July 1,  - Net Migration - Totalpercent',\n",
       " 'Percent__SELECTED_MONTHLY_OWNER_COSTS_AS_A_PERCENTAGE_OF_HOUSEHOLD_INCOME_SMOCAPI__Housing_units_with_a_mortgage_excluding_units_where_SMOCAPI_cannot_be_computed__Less_than_200_percent']"
      ]
     },
     "execution_count": 234,
     "metadata": {},
     "output_type": "execute_result"
    }
   ],
   "source": [
    "l = []\n",
    "for i in feats10:\n",
    "    if '_log' in i:\n",
    "        l.append(i)\n",
    "        \n",
    "m = [x.strip('_log')for x in l]\n",
    "p = [x for x in m if (feats10 == x).sum() > 0]\n",
    "q = [x + ('_log')for x in p]\n",
    "feats10 = list(feats10)\n",
    "[feats10.remove(x) for x in q]\n",
    "feats10"
   ]
  },
  {
   "cell_type": "code",
   "execution_count": 235,
   "metadata": {
    "collapsed": true
   },
   "outputs": [],
   "source": [
    "output = 'ZHVI_AllHomes_current'"
   ]
  },
  {
   "cell_type": "code",
   "execution_count": 238,
   "metadata": {
    "collapsed": true
   },
   "outputs": [],
   "source": [
    "covar_85 = df85[feats85 + [output, 'FIPS', 'STATE', 'YEAR']]"
   ]
  },
  {
   "cell_type": "code",
   "execution_count": 239,
   "metadata": {
    "collapsed": true
   },
   "outputs": [],
   "source": [
    "covar_85.to_csv('./data/dataframes/covar85.csv')"
   ]
  },
  {
   "cell_type": "code",
   "execution_count": 240,
   "metadata": {
    "collapsed": true
   },
   "outputs": [],
   "source": [
    "covar_10 = df10[feats10 + [output, 'FIPS', 'STATE', 'YEAR']]\n",
    "covar_10.to_csv('./data/dataframes/covar10.csv')"
   ]
  },
  {
   "cell_type": "markdown",
   "metadata": {},
   "source": [
    "### Alpha Feature Selection"
   ]
  },
  {
   "cell_type": "code",
   "execution_count": 186,
   "metadata": {
    "collapsed": true
   },
   "outputs": [],
   "source": [
    "output = 'ZHVI_AllHomes_next'"
   ]
  },
  {
   "cell_type": "markdown",
   "metadata": {},
   "source": [
    "Drop rows where there is no value for the output variable."
   ]
  },
  {
   "cell_type": "code",
   "execution_count": 187,
   "metadata": {},
   "outputs": [
    {
     "name": "stdout",
     "output_type": "stream",
     "text": [
      "cols:  2846 rows:  3377\n",
      "cols:  2846 rows:  3344\n",
      "cols:  484 rows:  12056\n",
      "cols:  484 rows:  10714\n"
     ]
    }
   ],
   "source": [
    "print ('cols: ', len(ddf10.columns), 'rows: ', len(ddf10))\n",
    "df10 = ddf10.dropna(how='any', subset=[output])\n",
    "#Check row and column length\n",
    "print ('cols: ', len(df10.columns), 'rows: ', len(df10))\n",
    "\n",
    "print ('cols: ', len(ddf85.columns), 'rows: ', len(ddf85))\n",
    "df85 = ddf85.dropna(how='any', subset=[output])\n",
    "#Check row and column length\n",
    "print ('cols: ', len(df85.columns), 'rows: ', len(df85))"
   ]
  },
  {
   "cell_type": "markdown",
   "metadata": {},
   "source": [
    "Drop features that are too closely associated with home value"
   ]
  },
  {
   "cell_type": "code",
   "execution_count": 188,
   "metadata": {},
   "outputs": [
    {
     "name": "stderr",
     "output_type": "stream",
     "text": [
      "/Users/baileygriswold/anaconda3/lib/python3.6/site-packages/ipykernel_launcher.py:9: SettingWithCopyWarning: \n",
      "A value is trying to be set on a copy of a slice from a DataFrame\n",
      "\n",
      "See the caveats in the documentation: http://pandas.pydata.org/pandas-docs/stable/indexing.html#indexing-view-versus-copy\n",
      "  if __name__ == '__main__':\n",
      "/Users/baileygriswold/anaconda3/lib/python3.6/site-packages/ipykernel_launcher.py:10: SettingWithCopyWarning: \n",
      "A value is trying to be set on a copy of a slice from a DataFrame\n",
      "\n",
      "See the caveats in the documentation: http://pandas.pydata.org/pandas-docs/stable/indexing.html#indexing-view-versus-copy\n",
      "  # Remove the CWD from sys.path while we load stuff.\n"
     ]
    }
   ],
   "source": [
    "zillow_feats = [word+'_next' for word in home_value_indicators] + [word+'_current' for word in home_value_indicators]\n",
    "#Drop home value indicators\n",
    "zillow_feats.remove(output)\n",
    "zillow_feats.remove('Med_Listing_Price_AllHomes_current')\n",
    "zillow_feats.remove('Med_Listing_Price_AllHomes_next')\n",
    "zillow_feats.remove('Med_Listing_Price_Sfr_next')\n",
    "zillow_feats.remove('Med_Listing_Price_Sfr_current')\n",
    "\n",
    "df10.drop(zillow_feats, axis=1, inplace=True)\n",
    "df85.drop(zillow_feats, axis=1, inplace=True)"
   ]
  },
  {
   "cell_type": "markdown",
   "metadata": {},
   "source": [
    "Remove other Next period values from"
   ]
  },
  {
   "cell_type": "code",
   "execution_count": 189,
   "metadata": {},
   "outputs": [
    {
     "name": "stdout",
     "output_type": "stream",
     "text": [
      "Columns matching filter: 17\n",
      "Columns matching filter: 17\n"
     ]
    },
    {
     "name": "stderr",
     "output_type": "stream",
     "text": [
      "/Users/baileygriswold/anaconda3/lib/python3.6/site-packages/ipykernel_launcher.py:3: SettingWithCopyWarning: \n",
      "A value is trying to be set on a copy of a slice from a DataFrame\n",
      "\n",
      "See the caveats in the documentation: http://pandas.pydata.org/pandas-docs/stable/indexing.html#indexing-view-versus-copy\n",
      "  This is separate from the ipykernel package so we can avoid doing imports until\n",
      "/Users/baileygriswold/anaconda3/lib/python3.6/site-packages/ipykernel_launcher.py:6: SettingWithCopyWarning: \n",
      "A value is trying to be set on a copy of a slice from a DataFrame\n",
      "\n",
      "See the caveats in the documentation: http://pandas.pydata.org/pandas-docs/stable/indexing.html#indexing-view-versus-copy\n",
      "  \n"
     ]
    }
   ],
   "source": [
    "next_list = column_filter(df85, '_next')\n",
    "next_list.remove(output)\n",
    "df85.drop(next_list, axis=1, inplace=True)\n",
    "next_list = column_filter(df10, '_next')\n",
    "next_list.remove(output)\n",
    "df10.drop(next_list, axis=1, inplace=True)"
   ]
  },
  {
   "cell_type": "markdown",
   "metadata": {},
   "source": [
    "Random Forest"
   ]
  },
  {
   "cell_type": "code",
   "execution_count": 190,
   "metadata": {},
   "outputs": [
    {
     "name": "stderr",
     "output_type": "stream",
     "text": [
      "/Users/baileygriswold/anaconda3/lib/python3.6/site-packages/ipykernel_launcher.py:1: SettingWithCopyWarning: \n",
      "A value is trying to be set on a copy of a slice from a DataFrame\n",
      "\n",
      "See the caveats in the documentation: http://pandas.pydata.org/pandas-docs/stable/indexing.html#indexing-view-versus-copy\n",
      "  \"\"\"Entry point for launching an IPython kernel.\n",
      "/Users/baileygriswold/anaconda3/lib/python3.6/site-packages/ipykernel_launcher.py:2: SettingWithCopyWarning: \n",
      "A value is trying to be set on a copy of a slice from a DataFrame\n",
      "\n",
      "See the caveats in the documentation: http://pandas.pydata.org/pandas-docs/stable/indexing.html#indexing-view-versus-copy\n",
      "  \n"
     ]
    }
   ],
   "source": [
    "df85.replace(to_replace=[-np.inf, np.inf], value=[1, 1], inplace=True)\n",
    "df10.replace(to_replace=[-np.inf, np.inf], value=[1, 1], inplace=True)"
   ]
  },
  {
   "cell_type": "code",
   "execution_count": 191,
   "metadata": {},
   "outputs": [
    {
     "name": "stderr",
     "output_type": "stream",
     "text": [
      "/Users/baileygriswold/anaconda3/lib/python3.6/site-packages/pandas/core/generic.py:3660: SettingWithCopyWarning: \n",
      "A value is trying to be set on a copy of a slice from a DataFrame\n",
      "\n",
      "See the caveats in the documentation: http://pandas.pydata.org/pandas-docs/stable/indexing.html#indexing-view-versus-copy\n",
      "  self._update_inplace(new_data)\n"
     ]
    }
   ],
   "source": [
    "df85['RelDif_ZHVI'].fillna(df85['RelDif_ZHVI'].mean(), inplace=True)\n",
    "df10['RelDif_ZHVI'].fillna(df10['RelDif_ZHVI'].mean(), inplace=True)\n",
    "df85['Rel_ZHVI'].fillna(df85['Rel_ZHVI'].mean(), inplace=True)\n",
    "df10['Rel_ZHVI'].fillna(df10['Rel_ZHVI'].mean(), inplace=True)"
   ]
  },
  {
   "cell_type": "code",
   "execution_count": 192,
   "metadata": {},
   "outputs": [
    {
     "name": "stderr",
     "output_type": "stream",
     "text": [
      "/Users/baileygriswold/anaconda3/lib/python3.6/site-packages/ipykernel_launcher.py:1: SettingWithCopyWarning: \n",
      "A value is trying to be set on a copy of a slice from a DataFrame\n",
      "\n",
      "See the caveats in the documentation: http://pandas.pydata.org/pandas-docs/stable/indexing.html#indexing-view-versus-copy\n",
      "  \"\"\"Entry point for launching an IPython kernel.\n",
      "/Users/baileygriswold/anaconda3/lib/python3.6/site-packages/ipykernel_launcher.py:2: SettingWithCopyWarning: \n",
      "A value is trying to be set on a copy of a slice from a DataFrame\n",
      "\n",
      "See the caveats in the documentation: http://pandas.pydata.org/pandas-docs/stable/indexing.html#indexing-view-versus-copy\n",
      "  \n",
      "/Users/baileygriswold/anaconda3/lib/python3.6/site-packages/ipykernel_launcher.py:3: SettingWithCopyWarning: \n",
      "A value is trying to be set on a copy of a slice from a DataFrame\n",
      "\n",
      "See the caveats in the documentation: http://pandas.pydata.org/pandas-docs/stable/indexing.html#indexing-view-versus-copy\n",
      "  This is separate from the ipykernel package so we can avoid doing imports until\n",
      "/Users/baileygriswold/anaconda3/lib/python3.6/site-packages/ipykernel_launcher.py:4: SettingWithCopyWarning: \n",
      "A value is trying to be set on a copy of a slice from a DataFrame\n",
      "\n",
      "See the caveats in the documentation: http://pandas.pydata.org/pandas-docs/stable/indexing.html#indexing-view-versus-copy\n",
      "  after removing the cwd from sys.path.\n"
     ]
    }
   ],
   "source": [
    "df85.drop(['Rel_ZHVI'], axis=1, inplace=True)\n",
    "df85.drop(['RelDif_ZHVI'], axis=1, inplace=True)#\n",
    "df10.drop(['RelDif_ZHVI'], axis=1, inplace=True)\n",
    "df10.drop(['Rel_ZHVI'], axis=1, inplace=True)"
   ]
  },
  {
   "cell_type": "code",
   "execution_count": 193,
   "metadata": {
    "collapsed": true
   },
   "outputs": [],
   "source": [
    "features10 = list(set(df10.columns) - set(['FIPS', 'COUNTYNAME', 'YEAR', 'YEAR_log', output] + zillow_feats))\n",
    "features85 = list(set(df85.columns) - set(['FIPS', 'COUNTYNAME', 'YEAR', 'YEAR_log', output] + zillow_feats))"
   ]
  },
  {
   "cell_type": "code",
   "execution_count": 194,
   "metadata": {},
   "outputs": [
    {
     "name": "stderr",
     "output_type": "stream",
     "text": [
      "/Users/baileygriswold/anaconda3/lib/python3.6/site-packages/sklearn/utils/deprecation.py:57: DeprecationWarning: Class RandomizedLasso is deprecated; The class RandomizedLasso is deprecated in 0.19 and will be removed in 0.21.\n",
      "  warnings.warn(msg, category=DeprecationWarning)\n"
     ]
    },
    {
     "name": "stdout",
     "output_type": "stream",
     "text": [
      "R-Score 0.980988942733\n",
      "rf Feature ranking:         0                                                  1\n",
      "0  0.2929  Estimate__SELECTED_MONTHLY_OWNER_COSTS_SMOC__M...\n",
      "1  0.0945  Estimate__SELECTED_MONTHLY_OWNER_COSTS_SMOC__M...\n",
      "2  0.0944  Percent__SELECTED_MONTHLY_OWNER_COSTS_SMOC__20...\n",
      "3  0.0584               Estimate__GROSS_RENT__Median_dollars\n",
      "4  0.0562           County_PriceToRentRatio_AllHomes_current\n"
     ]
    },
    {
     "name": "stderr",
     "output_type": "stream",
     "text": [
      "/Users/baileygriswold/anaconda3/lib/python3.6/site-packages/sklearn/utils/deprecation.py:57: DeprecationWarning: Class RandomizedLasso is deprecated; The class RandomizedLasso is deprecated in 0.19 and will be removed in 0.21.\n",
      "  warnings.warn(msg, category=DeprecationWarning)\n"
     ]
    },
    {
     "name": "stdout",
     "output_type": "stream",
     "text": [
      "R-Score 0.974877408842\n",
      "rf Feature ranking:         0                                                  1\n",
      "0  0.1667                   Adjusted_gross_income_per_return\n",
      "1  0.1193               Adjusted_gross_income_per_return_log\n",
      "2  0.0529                                          00200_log\n",
      "3  0.0429  County_PctOfHomesDecreasingInValues_AllHomes_c...\n",
      "4  0.0424                                          19300_log\n"
     ]
    },
    {
     "data": {
      "image/png": "[encoded data removed]",
      "text/plain": [
       "<matplotlib.figure.Figure at 0x1c23458f98>"
      ]
     },
     "metadata": {},
     "output_type": "display_data"
    },
    {
     "data": {
      "image/png": "[encoded data removed]",
      "text/plain": [
       "<matplotlib.figure.Figure at 0x1c2562ab38>"
      ]
     },
     "metadata": {},
     "output_type": "display_data"
    }
   ],
   "source": [
    "rf_res10 = pd.DataFrame(feat_sel(df10, output, features10 , feat_num=50))\n",
    "rf_res85 = pd.DataFrame(feat_sel(df85, output, features85, feat_num=50))\n"
   ]
  },
  {
   "cell_type": "markdown",
   "metadata": {},
   "source": [
    "LASSO Feature Selection"
   ]
  },
  {
   "cell_type": "code",
   "execution_count": 195,
   "metadata": {},
   "outputs": [
    {
     "name": "stderr",
     "output_type": "stream",
     "text": [
      "/Users/baileygriswold/anaconda3/lib/python3.6/site-packages/sklearn/utils/deprecation.py:57: DeprecationWarning: Class RandomizedLasso is deprecated; The class RandomizedLasso is deprecated in 0.19 and will be removed in 0.21.\n",
      "  warnings.warn(msg, category=DeprecationWarning)\n"
     ]
    },
    {
     "name": "stdout",
     "output_type": "stream",
     "text": [
      "lasso Feature ranking:        0                                                  1\n",
      "0  0.505  Estimate__SELECTED_MONTHLY_OWNER_COSTS_SMOC__M...\n",
      "1  0.430                  Percent__GROSS_RENT__1500_or_more\n",
      "2  0.270  Estimate__SELECTED_MONTHLY_OWNER_COSTS_SMOC__M...\n",
      "3  0.195  Percent__SELECTED_MONTHLY_OWNER_COSTS_SMOC__20...\n",
      "4  0.160               Estimate__GROSS_RENT__Median_dollars\n"
     ]
    },
    {
     "name": "stderr",
     "output_type": "stream",
     "text": [
      "/Users/baileygriswold/anaconda3/lib/python3.6/site-packages/sklearn/utils/deprecation.py:57: DeprecationWarning: Class RandomizedLasso is deprecated; The class RandomizedLasso is deprecated in 0.19 and will be removed in 0.21.\n",
      "  warnings.warn(msg, category=DeprecationWarning)\n"
     ]
    },
    {
     "name": "stdout",
     "output_type": "stream",
     "text": [
      "lasso Feature ranking:        0                                         1\n",
      "0  0.585          Adjusted_gross_income_per_return\n",
      "1  0.540  County_PriceToRentRatio_AllHomes_current\n",
      "2  0.520                                     19300\n",
      "3  0.510                                     07100\n",
      "4  0.485                                     04800\n"
     ]
    },
    {
     "data": {
      "image/png": "[encoded data removed]",
      "text/plain": [
       "<matplotlib.figure.Figure at 0x1c2339be48>"
      ]
     },
     "metadata": {},
     "output_type": "display_data"
    },
    {
     "data": {
      "image/png": "[encoded data removed]",
      "text/plain": [
       "<matplotlib.figure.Figure at 0x1c20fa8be0>"
      ]
     },
     "metadata": {},
     "output_type": "display_data"
    }
   ],
   "source": [
    "lasso_res10 = pd.DataFrame(feat_sel(df10, output, features10, model='lasso',\n",
    "                                    alpha = 1000, feat_num=50))\n",
    "lasso_res85 = pd.DataFrame(feat_sel(df85, output, features85 , model='lasso',\n",
    "                                    alpha = 100, feat_num=50))"
   ]
  },
  {
   "cell_type": "markdown",
   "metadata": {},
   "source": [
    "Comparing the Feature Importance from the Two selection methods"
   ]
  },
  {
   "cell_type": "code",
   "execution_count": 196,
   "metadata": {
    "collapsed": true
   },
   "outputs": [],
   "source": [
    "res10 = pd.merge(lasso_res10, rf_res10,on=1, how='outer', suffixes=('_las', '_rf'))"
   ]
  },
  {
   "cell_type": "code",
   "execution_count": 197,
   "metadata": {
    "collapsed": true
   },
   "outputs": [],
   "source": [
    "res85 = pd.merge(lasso_res85, rf_res85, on=1, how='outer', suffixes=('_las', '_rf'))"
   ]
  },
  {
   "cell_type": "code",
   "execution_count": 198,
   "metadata": {
    "collapsed": true
   },
   "outputs": [],
   "source": [
    "res85['avg_score'] = res85.mean(axis=1)\n",
    "res10['avg_score'] = res10.mean(axis=1)"
   ]
  },
  {
   "cell_type": "code",
   "execution_count": 199,
   "metadata": {
    "collapsed": true
   },
   "outputs": [],
   "source": [
    "res10 = res10.sort_values(by='avg_score', ascending=False)\n",
    "res85 = res85.sort_values(by='avg_score', ascending=False)"
   ]
  },
  {
   "cell_type": "code",
   "execution_count": 200,
   "metadata": {},
   "outputs": [
    {
     "data": {
      "text/plain": [
       "<matplotlib.text.Text at 0x1c24674208>"
      ]
     },
     "execution_count": 200,
     "metadata": {},
     "output_type": "execute_result"
    },
    {
     "data": {
      "image/png": "[encoded data removed]",
      "text/plain": [
       "<matplotlib.figure.Figure at 0x1c22b41710>"
      ]
     },
     "metadata": {},
     "output_type": "display_data"
    }
   ],
   "source": [
    "#feats = pd.merge(lasso_res, rf_res, on=1, suffixes=('_lasso', '_rf'))\n",
    "pl.plot(res10['0_las'], res10['0_rf'], 'o', alpha=.5)\n",
    "pl.plot(res85['0_las'], res85['0_rf'], 'o', alpha=.5, c='orange')\n",
    "pl.xlabel('Lasso Feature Importance')\n",
    "pl.ylabel('Random Forest Feature Importance')"
   ]
  },
  {
   "cell_type": "code",
   "execution_count": 201,
   "metadata": {},
   "outputs": [
    {
     "data": {
      "text/plain": [
       "<matplotlib.text.Text at 0x1c2349c780>"
      ]
     },
     "execution_count": 201,
     "metadata": {},
     "output_type": "execute_result"
    },
    {
     "data": {
      "image/png": "[encoded data removed]",
      "text/plain": [
       "<matplotlib.figure.Figure at 0x1c4115a400>"
      ]
     },
     "metadata": {},
     "output_type": "display_data"
    }
   ],
   "source": [
    "pl.figure(figsize=(8,6))\n",
    "#pl.title(\"{} Feature importance\".format(model))\n",
    "pl.bar(np.arange(50), res85['avg_score'][:50], align='center')\n",
    "#pl.xticks(np.arange(feat_num))\n",
    "pl.ylabel('Importance Score')"
   ]
  },
  {
   "cell_type": "code",
   "execution_count": 202,
   "metadata": {
    "collapsed": true
   },
   "outputs": [],
   "source": [
    "feats85 = res85[1][:50]"
   ]
  },
  {
   "cell_type": "code",
   "execution_count": 203,
   "metadata": {
    "collapsed": true
   },
   "outputs": [],
   "source": [
    "res10['labels'] = res10[1].str.slice(0, 30)"
   ]
  },
  {
   "cell_type": "code",
   "execution_count": 204,
   "metadata": {
    "collapsed": true
   },
   "outputs": [],
   "source": [
    "res85['labels'] = res85[1].str.slice(0, 30)"
   ]
  },
  {
   "cell_type": "code",
   "execution_count": 205,
   "metadata": {},
   "outputs": [
    {
     "data": {
      "text/plain": [
       "<matplotlib.text.Text at 0x1c249c48d0>"
      ]
     },
     "execution_count": 205,
     "metadata": {},
     "output_type": "execute_result"
    },
    {
     "data": {
      "image/png": "[encoded data removed]",
      "text/plain": [
       "<matplotlib.figure.Figure at 0x1c249c03c8>"
      ]
     },
     "metadata": {},
     "output_type": "display_data"
    }
   ],
   "source": [
    "pl.figure(figsize=(8,6))\n",
    "pl.title(\"Avg Feature Importance, 2010-16 Data, Alpha\")\n",
    "pl.bar(np.arange(30), res10['avg_score'][:30], align='center')\n",
    "pl.xticks(np.arange(30), res10['labels'][:30], rotation=90, fontsize=8)\n",
    "pl.ylabel('Importance Score')"
   ]
  },
  {
   "cell_type": "code",
   "execution_count": 206,
   "metadata": {
    "collapsed": true
   },
   "outputs": [],
   "source": [
    "feats10 = res10[1][:30]"
   ]
  },
  {
   "cell_type": "code",
   "execution_count": 207,
   "metadata": {},
   "outputs": [
    {
     "data": {
      "text/plain": [
       "['Adjusted_gross_income_per_return',\n",
       " 'County_PriceToRentRatio_AllHomes_current',\n",
       " '19300',\n",
       " '07100',\n",
       " '04800',\n",
       " '04470',\n",
       " 'Property_crimepercent_log',\n",
       " 'Property_crime_log',\n",
       " '02500',\n",
       " 'Dividends_before_exclusion_per_return',\n",
       " '18300',\n",
       " '10300',\n",
       " '01700',\n",
       " 'rent_price_persqft_AllHomes_current',\n",
       " 'Adjusted_gross_income',\n",
       " 'Wages_and_salaries_per_return',\n",
       " '00200',\n",
       " '02650',\n",
       " '06500',\n",
       " '00600',\n",
       " '59720_log',\n",
       " 'rent_price_persqft_Sfr_current',\n",
       " '01400',\n",
       " 'rent_price_persqft_2bedroom_current',\n",
       " 'Interest_received_per_return_log',\n",
       " 'Wages_and_salaries',\n",
       " 'County_PctOfHomesDecreasingInValues_AllHomes_current',\n",
       " '01000',\n",
       " '18500',\n",
       " '10600',\n",
       " 'Dividends_before_exclusion',\n",
       " '59660',\n",
       " '00650',\n",
       " 'Number_of_exemptions_log',\n",
       " 'Number_of_exemptions_per_return']"
      ]
     },
     "execution_count": 207,
     "metadata": {},
     "output_type": "execute_result"
    }
   ],
   "source": [
    "l = []\n",
    "for i in feats85:\n",
    "    if '_log' in i:\n",
    "        l.append(i)\n",
    "        \n",
    "m = [x.strip('_log')for x in l]\n",
    "p = [x for x in m if (feats85 == x).sum() > 0]\n",
    "q = [x + ('_log')for x in p]\n",
    "feats85 = list(feats85)\n",
    "[feats85.remove(x) for x in q]\n",
    "feats85"
   ]
  },
  {
   "cell_type": "code",
   "execution_count": 208,
   "metadata": {},
   "outputs": [
    {
     "data": {
      "text/plain": [
       "['Estimate__SELECTED_MONTHLY_OWNER_COSTS_SMOC__Median_dollars',\n",
       " 'Percent__GROSS_RENT__1500_or_more',\n",
       " 'Percent__SELECTED_MONTHLY_OWNER_COSTS_SMOC__2000_or_more',\n",
       " 'Estimate__GROSS_RENT__Median_dollars',\n",
       " 'rent_price_persqft_Mfr5Plus_current',\n",
       " 'County_PriceToRentRatio_AllHomes_current',\n",
       " 'rent_price_persqft_2bedroom_current',\n",
       " 'Percent__SELECTED_MONTHLY_OWNER_COSTS_SMOC__1000_to_1499',\n",
       " 'Cumulative Estimates of the Components of Population Change - April 1,  to July 1,  - Total Population Change [1]percent',\n",
       " 'Percent__GROSS_RENT__500_to_749_log',\n",
       " 'rent_price_persqft_Sfr_current',\n",
       " 'Percent__GROSS_RENT__750_to_999',\n",
       " 'Estimate__INCOME_AND_BENEFITS_IN__INFLATIONADJUSTED_DOLLARS__Mean_household_income_dollars',\n",
       " 'Percent__SEX_AND_AGE__15_to_19_years',\n",
       " 'Estimate__INCOME_AND_BENEFITS_IN__INFLATIONADJUSTED_DOLLARS__Nonfamily_households__Mean_nonfamily_income_dollars',\n",
       " '19300',\n",
       " '04470',\n",
       " 'Percent__ROOMS__2_rooms_log',\n",
       " 'Percent__HOUSE_HEATING_FUEL__Occupied_housing_units__No_fuel_used',\n",
       " 'Percent__SELECTED_MONTHLY_OWNER_COSTS_SMOC__700_to_999',\n",
       " '07260',\n",
       " 'Percent__MORTGAGE_STATUS__Housing_units_without_a_mortgage_log',\n",
       " 'Percent__INCOME_AND_BENEFITS_IN__INFLATIONADJUSTED_DOLLARS__200000_or_more',\n",
       " 'Percent__RELATIONSHIP__Population_in_households__Nonrelatives_log',\n",
       " 'Percent__SELECTED_MONTHLY_OWNER_COSTS_SMOC__Housing_units_without_a_mortgage__Less_than_250']"
      ]
     },
     "execution_count": 208,
     "metadata": {},
     "output_type": "execute_result"
    }
   ],
   "source": [
    "l = []\n",
    "for i in feats10:\n",
    "    if '_log' in i:\n",
    "        l.append(i)\n",
    "        \n",
    "m = [x.strip('_log')for x in l]\n",
    "p = [x for x in m if (feats10 == x).sum() > 0]\n",
    "q = [x + ('_log')for x in p]\n",
    "feats10 = list(feats10)\n",
    "[feats10.remove(x) for x in q]\n",
    "feats10"
   ]
  },
  {
   "cell_type": "code",
   "execution_count": 209,
   "metadata": {
    "collapsed": true
   },
   "outputs": [],
   "source": [
    "alpha_85 = df85[feats85 + [output, 'FIPS', 'STATE', 'YEAR']]"
   ]
  },
  {
   "cell_type": "code",
   "execution_count": 210,
   "metadata": {
    "collapsed": true
   },
   "outputs": [],
   "source": [
    "alpha_85.to_csv('./data/dataframes/alpha85.csv')"
   ]
  },
  {
   "cell_type": "code",
   "execution_count": 211,
   "metadata": {
    "collapsed": true
   },
   "outputs": [],
   "source": [
    "alpha_10 = df10[feats10 + [output, 'FIPS', 'STATE', 'YEAR']]\n",
    "alpha_10.to_csv('./data/dataframes/alpha10.csv')"
   ]
  },
  {
   "cell_type": "code",
   "execution_count": null,
   "metadata": {
    "collapsed": true
   },
   "outputs": [],
   "source": []
  }
 ],
 "metadata": {
  "kernelspec": {
   "display_name": "Python 3",
   "language": "python",
   "name": "python3"
  },
  "language_info": {
   "codemirror_mode": {
    "name": "ipython",
    "version": 3
   },
   "file_extension": ".py",
   "mimetype": "text/x-python",
   "name": "python",
   "nbconvert_exporter": "python",
   "pygments_lexer": "ipython3",
   "version": "3.6.2"
  }
 },
 "nbformat": 4,
 "nbformat_minor": 2
}
