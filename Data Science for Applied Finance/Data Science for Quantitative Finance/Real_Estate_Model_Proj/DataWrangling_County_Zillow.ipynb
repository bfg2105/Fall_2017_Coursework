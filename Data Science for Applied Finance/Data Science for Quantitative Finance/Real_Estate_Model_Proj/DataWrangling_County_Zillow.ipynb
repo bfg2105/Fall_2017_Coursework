{
 "cells": [
  {
   "cell_type": "markdown",
   "metadata": {},
   "source": [
    "Have a complete notebook for wrangling and cleaning the zillow data\n",
    "- origional data\n",
    "- compiled by dataset and by year\n",
    "- compiled into one dataframe dictionary\n",
    "- made into yearly data\n",
    "- made into monhtly data  \n",
    "-- NANS?"
   ]
  },
  {
   "cell_type": "code",
   "execution_count": 1,
   "metadata": {
    "collapsed": true
   },
   "outputs": [],
   "source": [
    "import pandas as pd\n",
    "import numpy as np\n",
    "%matplotlib inline\n",
    "import matplotlib.pyplot as pl\n",
    "import datetime\n",
    "import pickle\n",
    "\n",
    "colors = ['y', 'm', 'c', 'r', 'g', 'b', 'k', 'DeepPink',\\\n",
    "          'DodgerBlue', 'Aquamarine', 'MediumSpringGreen',\\\n",
    "         'MidnightBlue', 'Gold', 'DarkSlateGray', 'LimeGreen', \\\n",
    "         'LightSeaGreen', 'Salmon', 'Indigo', 'DarkMagenta', \\\n",
    "         'Thistle', 'DeepSkyBlue', 'CadetBlue', \\\n",
    "         'BlueViolet', 'Chocolate', 'SaddleBrown', 'Maroon', \\\n",
    "         'Peru', 'DarkOrange', 'Teal', 'DarkKhaki']"
   ]
  },
  {
   "cell_type": "code",
   "execution_count": 2,
   "metadata": {
    "collapsed": true
   },
   "outputs": [],
   "source": [
    "def merge_check(df1, df2, on1, on2):\n",
    "    '''Input two dataframes to be merged. Returns the percent of \n",
    "    each dataframe that would be preserved on an inner merge. Also\n",
    "    returns merged dataframe.'''\n",
    "    df1_size = len(df1)\n",
    "    df2_size = len(df2)\n",
    "    merged_df = pd.merge(df1, df2, left_on=on1, right_on=on2, how='inner')\n",
    "    inmerge_size = len(merged_df)\n",
    "    print ('df1 = {}%'.format((inmerge_size/df1_size)*100))\n",
    "    print ('df2 = {}%'.format((inmerge_size/df2_size)*100))\n",
    "    return merged_df"
   ]
  },
  {
   "cell_type": "markdown",
   "metadata": {},
   "source": [
    "Load all dataframe dictionaries with county data, and combine multi years into single dataframes, indexed on FIPS  \n",
    "- ZHVI  --> **df_zhvi** \n",
    "    - Time series, FIPS, RegionName, State, feature\n",
    "    - features: \n",
    "        - ZHVI_1bedroom\n",
    "        - ZHVI_2bedroom\n",
    "        - ZHVI_3bedroom\n",
    "        - ZHVI_4bedroom\n",
    "        - ZHVI_5BedroomOrMore\n",
    "        - ZHVI_AllHomes\n",
    "        - ZHVI_BottomTier\n",
    "        - ZHVI_BottomTier_yoy\n",
    "        - ZHVI_Condominum\n",
    "        - ZHVI_MiddleTier\n",
    "        - ZHVI_MiddleTier_yoy\n",
    "        - ZHVI_SingleFamilyResidence\n",
    "        - ZHVI_TopTier\n",
    "        - ZHVI_TopTier_yoy\n",
    "- median listing --> **df_med_list** \n",
    "    - Time series, FIPS, RegionName, State, feature\n",
    "    - features: \n",
    "        - Med_Listing_Price_1bedroom\n",
    "        - Med_Listing_Price_2bedroom\n",
    "        - Med_Listing_Price_3bedroom\n",
    "        - Med_Listing_Price_4bedroom\n",
    "        - Med_Listing_Price_5BedroomOrMore\n",
    "        - Med_Listing_Price_AllHomes\n",
    "        - Med_Listing_Price_CondoCoop\n",
    "        - Med_Listing_Price_DuplexTriplex\n",
    "        - Med_Listing_Price_Sfr\n",
    "- market info --> **df_cnt_mrkts** \n",
    "    - Time series, FIPS, RegionName, State, feature\n",
    "    - features: \n",
    "        - County_MedianValuePerSqft_AllHomes\n",
    "        - County_PriceToRentRatio_AllHomes\n",
    "        - County_PctOfHomesDecreasingInValues_AllHomes\n",
    "        - County_PctOfHomesIncreasingInValues_AllHomes\n",
    "- Rental Price per Square Foot --> **df_rentp_psqft**\n",
    "    - Time series, FIPS, RegionName, State, feature\n",
    "    - features: \n",
    "        - rent_price_persqft_1bedroom\n",
    "        - rent_price_persqft_2bedroom\n",
    "        - rent_price_persqft_3bedroom\n",
    "        - rent_price_persqft_4bedroom\n",
    "        - rent_price_persqft_5BedroomOrMore\n",
    "        - rent_price_persqft_AllHomes\n",
    "        - rent_price_persqft_CondoCoop\n",
    "        - rent_price_persqft_DuplexTriplex\n",
    "        - rent_price_persqft_Sfr\n",
    "        - rent_price_persqft_Studio\n",
    "        - rent_price_persqft_Mfr5Plus \n",
    "- Median rental Price --> **df_med_rental**\n",
    "    - Time series, FIPS, RegionName, State, feature\n",
    "    - features: \n",
    "        - rent_med_rental_1bedroom\n",
    "        - rent_med_rental_2bedroom\n",
    "        - rent_med_rental_3bedroom\n",
    "        - rent_med_rental_4bedroom\n",
    "        - rent_med_rental_5BedroomOrMore\n",
    "        - rent_med_rental_AllHomes\n",
    "        - rent_med_rental_CondoCoop\n",
    "        - rent_med_rental_DuplexTriplex\n",
    "        - rent_med_rental_Sfr\n",
    "        - rent_med_rental_Studio\n",
    "        - rent_med_rental_Mfr5Plus \n",
    "Zillow Data:\n",
    "- z_yrly\n",
    "    - all the monthly values for each features averaged over the entire year\n",
    "- z_mnthly\n",
    "    - all the monthly values for each feature\n",
    "       "
   ]
  },
  {
   "cell_type": "markdown",
   "metadata": {},
   "source": [
    "#### ZILLOW DATA"
   ]
  },
  {
   "cell_type": "markdown",
   "metadata": {},
   "source": [
    "** * County Crosswalk * **"
   ]
  },
  {
   "cell_type": "code",
   "execution_count": 3,
   "metadata": {
    "collapsed": true
   },
   "outputs": [],
   "source": [
    "states = {\n",
    "        'AK': 'Alaska',\n",
    "        'AL': 'Alabama',\n",
    "        'AR': 'Arkansas',\n",
    "        'AS': 'American Samoa',\n",
    "        'AZ': 'Arizona',\n",
    "        'CA': 'California',\n",
    "        'CO': 'Colorado',\n",
    "        'CT': 'Connecticut',\n",
    "        'DC': 'District of Columbia',\n",
    "        'DE': 'Delaware',\n",
    "        'FL': 'Florida',\n",
    "        'GA': 'Georgia',\n",
    "        'GU': 'Guam',\n",
    "        'HI': 'Hawaii',\n",
    "        'IA': 'Iowa',\n",
    "        'ID': 'Idaho',\n",
    "        'IL': 'Illinois',\n",
    "        'IN': 'Indiana',\n",
    "        'KS': 'Kansas',\n",
    "        'KY': 'Kentucky',\n",
    "        'LA': 'Louisiana',\n",
    "        'MA': 'Massachusetts',\n",
    "        'MD': 'Maryland',\n",
    "        'ME': 'Maine',\n",
    "        'MI': 'Michigan',\n",
    "        'MN': 'Minnesota',\n",
    "        'MO': 'Missouri',\n",
    "        'MP': 'Northern Mariana Islands',\n",
    "        'MS': 'Mississippi',\n",
    "        'MT': 'Montana',\n",
    "        'NA': 'National',\n",
    "        'NC': 'North Carolina',\n",
    "        'ND': 'North Dakota',\n",
    "        'NE': 'Nebraska',\n",
    "        'NH': 'New Hampshire',\n",
    "        'NJ': 'New Jersey',\n",
    "        'NM': 'New Mexico',\n",
    "        'NV': 'Nevada',\n",
    "        'NY': 'New York',\n",
    "        'OH': 'Ohio',\n",
    "        'OK': 'Oklahoma',\n",
    "        'OR': 'Oregon',\n",
    "        'PA': 'Pennsylvania',\n",
    "        'PR': 'Puerto Rico',\n",
    "        'RI': 'Rhode Island',\n",
    "        'SC': 'South Carolina',\n",
    "        'SD': 'South Dakota',\n",
    "        'TN': 'Tennessee',\n",
    "        'TX': 'Texas',\n",
    "        'UT': 'Utah',\n",
    "        'VA': 'Virginia',\n",
    "        'VI': 'Virgin Islands',\n",
    "        'VT': 'Vermont',\n",
    "        'WA': 'Washington',\n",
    "        'WI': 'Wisconsin',\n",
    "        'WV': 'West Virginia',\n",
    "        'WY': 'Wyoming'\n",
    "}"
   ]
  },
  {
   "cell_type": "code",
   "execution_count": 4,
   "metadata": {},
   "outputs": [
    {
     "data": {
      "text/html": [
       "<div>\n",
       "<style>\n",
       "    .dataframe thead tr:only-child th {\n",
       "        text-align: right;\n",
       "    }\n",
       "\n",
       "    .dataframe thead th {\n",
       "        text-align: left;\n",
       "    }\n",
       "\n",
       "    .dataframe tbody tr th {\n",
       "        vertical-align: top;\n",
       "    }\n",
       "</style>\n",
       "<table border=\"1\" class=\"dataframe\">\n",
       "  <thead>\n",
       "    <tr style=\"text-align: right;\">\n",
       "      <th></th>\n",
       "      <th>CountyName</th>\n",
       "      <th>StateName</th>\n",
       "      <th>StateFIPS</th>\n",
       "      <th>CountyFIPS</th>\n",
       "      <th>MetroName_Zillow</th>\n",
       "      <th>CBSAName</th>\n",
       "      <th>CountyRegionID_Zillow</th>\n",
       "      <th>MetroRegionID_Zillow</th>\n",
       "      <th>FIPS</th>\n",
       "      <th>CBSACode</th>\n",
       "    </tr>\n",
       "  </thead>\n",
       "  <tbody>\n",
       "    <tr>\n",
       "      <th>0</th>\n",
       "      <td>Pike</td>\n",
       "      <td>Pennsylvania</td>\n",
       "      <td>42</td>\n",
       "      <td>103</td>\n",
       "      <td>New York, NY</td>\n",
       "      <td>New York-Newark-Jersey City, NY-NJ-PA</td>\n",
       "      <td>280</td>\n",
       "      <td>394913.0</td>\n",
       "      <td>42103</td>\n",
       "      <td>35620.0</td>\n",
       "    </tr>\n",
       "    <tr>\n",
       "      <th>1</th>\n",
       "      <td>Bronx</td>\n",
       "      <td>New York</td>\n",
       "      <td>36</td>\n",
       "      <td>5</td>\n",
       "      <td>New York, NY</td>\n",
       "      <td>New York-Newark-Jersey City, NY-NJ-PA</td>\n",
       "      <td>401</td>\n",
       "      <td>394913.0</td>\n",
       "      <td>36005</td>\n",
       "      <td>35620.0</td>\n",
       "    </tr>\n",
       "    <tr>\n",
       "      <th>2</th>\n",
       "      <td>Essex</td>\n",
       "      <td>New Jersey</td>\n",
       "      <td>34</td>\n",
       "      <td>13</td>\n",
       "      <td>New York, NY</td>\n",
       "      <td>New York-Newark-Jersey City, NY-NJ-PA</td>\n",
       "      <td>504</td>\n",
       "      <td>394913.0</td>\n",
       "      <td>34013</td>\n",
       "      <td>35620.0</td>\n",
       "    </tr>\n",
       "  </tbody>\n",
       "</table>\n",
       "</div>"
      ],
      "text/plain": [
       "  CountyName     StateName  StateFIPS  CountyFIPS MetroName_Zillow  \\\n",
       "0       Pike  Pennsylvania         42         103     New York, NY   \n",
       "1      Bronx      New York         36           5     New York, NY   \n",
       "2      Essex    New Jersey         34          13     New York, NY   \n",
       "\n",
       "                                CBSAName  CountyRegionID_Zillow  \\\n",
       "0  New York-Newark-Jersey City, NY-NJ-PA                    280   \n",
       "1  New York-Newark-Jersey City, NY-NJ-PA                    401   \n",
       "2  New York-Newark-Jersey City, NY-NJ-PA                    504   \n",
       "\n",
       "   MetroRegionID_Zillow   FIPS  CBSACode  \n",
       "0              394913.0  42103   35620.0  \n",
       "1              394913.0  36005   35620.0  \n",
       "2              394913.0  34013   35620.0  "
      ]
     },
     "execution_count": 4,
     "metadata": {},
     "output_type": "execute_result"
    }
   ],
   "source": [
    "countyCW = pd.read_csv('./data/Zillow_Data/CountyCrossWalk_Zillow.csv')\n",
    "countyCW.head(3)"
   ]
  },
  {
   "cell_type": "code",
   "execution_count": 5,
   "metadata": {
    "collapsed": true
   },
   "outputs": [],
   "source": [
    "countyCW['FIPS'] = countyCW['FIPS'].apply(str)\n",
    "countyCW['FIPS'] = countyCW['FIPS'].str.zfill(5)"
   ]
  },
  {
   "cell_type": "code",
   "execution_count": 6,
   "metadata": {},
   "outputs": [
    {
     "data": {
      "text/plain": [
       "3144"
      ]
     },
     "execution_count": 6,
     "metadata": {},
     "output_type": "execute_result"
    }
   ],
   "source": [
    "len(countyCW)"
   ]
  },
  {
   "cell_type": "code",
   "execution_count": 7,
   "metadata": {
    "scrolled": true
   },
   "outputs": [
    {
     "name": "stdout",
     "output_type": "stream",
     "text": [
      "df1 = 100.0%\n",
      "df2 = 5515.78947368421%\n"
     ]
    }
   ],
   "source": [
    "df_m = merge_check(countyCW, pd.Series(states).reset_index(), ['StateName'], 0)\n",
    "countyCW = df_m\n",
    "countyCW.rename(columns={'index':'State', 0:'StateFullName'}, inplace=True)"
   ]
  },
  {
   "cell_type": "code",
   "execution_count": 8,
   "metadata": {
    "collapsed": true,
    "scrolled": true
   },
   "outputs": [],
   "source": [
    "countyCW = df_m\n",
    "countyCW.rename(columns={'index':'State', 0:'StateFullName'}, inplace=True)"
   ]
  },
  {
   "cell_type": "code",
   "execution_count": 9,
   "metadata": {
    "collapsed": true
   },
   "outputs": [],
   "source": [
    "countyCW.drop(['StateFIPS', 'CountyFIPS',\n",
    "       'MetroName_Zillow', 'CBSAName', 'CountyRegionID_Zillow',\n",
    "       'MetroRegionID_Zillow', 'CBSACode', 'StateFullName'], axis=1, inplace=True)"
   ]
  },
  {
   "cell_type": "code",
   "execution_count": 10,
   "metadata": {},
   "outputs": [
    {
     "data": {
      "text/html": [
       "<div>\n",
       "<style>\n",
       "    .dataframe thead tr:only-child th {\n",
       "        text-align: right;\n",
       "    }\n",
       "\n",
       "    .dataframe thead th {\n",
       "        text-align: left;\n",
       "    }\n",
       "\n",
       "    .dataframe tbody tr th {\n",
       "        vertical-align: top;\n",
       "    }\n",
       "</style>\n",
       "<table border=\"1\" class=\"dataframe\">\n",
       "  <thead>\n",
       "    <tr style=\"text-align: right;\">\n",
       "      <th></th>\n",
       "      <th>CountyName</th>\n",
       "      <th>StateName</th>\n",
       "      <th>FIPS</th>\n",
       "      <th>State</th>\n",
       "    </tr>\n",
       "  </thead>\n",
       "  <tbody>\n",
       "    <tr>\n",
       "      <th>0</th>\n",
       "      <td>Pike</td>\n",
       "      <td>Pennsylvania</td>\n",
       "      <td>42103</td>\n",
       "      <td>PA</td>\n",
       "    </tr>\n",
       "    <tr>\n",
       "      <th>1</th>\n",
       "      <td>Montgomery</td>\n",
       "      <td>Pennsylvania</td>\n",
       "      <td>42091</td>\n",
       "      <td>PA</td>\n",
       "    </tr>\n",
       "    <tr>\n",
       "      <th>2</th>\n",
       "      <td>Philadelphia</td>\n",
       "      <td>Pennsylvania</td>\n",
       "      <td>42101</td>\n",
       "      <td>PA</td>\n",
       "    </tr>\n",
       "    <tr>\n",
       "      <th>3</th>\n",
       "      <td>Chester</td>\n",
       "      <td>Pennsylvania</td>\n",
       "      <td>42029</td>\n",
       "      <td>PA</td>\n",
       "    </tr>\n",
       "    <tr>\n",
       "      <th>4</th>\n",
       "      <td>Delaware</td>\n",
       "      <td>Pennsylvania</td>\n",
       "      <td>42045</td>\n",
       "      <td>PA</td>\n",
       "    </tr>\n",
       "  </tbody>\n",
       "</table>\n",
       "</div>"
      ],
      "text/plain": [
       "     CountyName     StateName   FIPS State\n",
       "0          Pike  Pennsylvania  42103    PA\n",
       "1    Montgomery  Pennsylvania  42091    PA\n",
       "2  Philadelphia  Pennsylvania  42101    PA\n",
       "3       Chester  Pennsylvania  42029    PA\n",
       "4      Delaware  Pennsylvania  42045    PA"
      ]
     },
     "execution_count": 10,
     "metadata": {},
     "output_type": "execute_result"
    }
   ],
   "source": [
    "countyCW.head()"
   ]
  },
  {
   "cell_type": "markdown",
   "metadata": {},
   "source": [
    "** * ZHVI * **"
   ]
  },
  {
   "cell_type": "code",
   "execution_count": 11,
   "metadata": {
    "collapsed": true
   },
   "outputs": [],
   "source": [
    "homes = ['1bedroom', '2bedroom', '3bedroom', '4bedroom', \n",
    "         '5BedroomOrMore', 'AllHomes', 'BottomTier', 'BottomTier_yoy',\n",
    "        'Condominum', 'MiddleTier', 'MiddleTier_yoy', 'SingleFamilyResidence',\n",
    "        'TopTier', 'TopTier_yoy']\n"
   ]
  },
  {
   "cell_type": "code",
   "execution_count": 12,
   "metadata": {
    "collapsed": true
   },
   "outputs": [],
   "source": [
    "#save data into a dictionary of dataframes for each housing type\n",
    "zhvi = {}\n",
    "for name in homes:\n",
    "    path = './data/Zillow_Data/County/County_Zhvi_{}.csv'.format(name)\n",
    "    zhvi[name] = pd.DataFrame(pd.read_csv(path))"
   ]
  },
  {
   "cell_type": "code",
   "execution_count": 13,
   "metadata": {},
   "outputs": [
    {
     "name": "stdout",
     "output_type": "stream",
     "text": [
      "1bedroom\n",
      "2bedroom\n",
      "3bedroom\n",
      "4bedroom\n",
      "5BedroomOrMore\n",
      "AllHomes\n",
      "BottomTier\n",
      "BottomTier_yoy\n",
      "Condominum\n",
      "MiddleTier\n",
      "MiddleTier_yoy\n",
      "SingleFamilyResidence\n",
      "TopTier\n",
      "TopTier_yoy\n"
     ]
    }
   ],
   "source": [
    "for i in homes:\n",
    "    print (i)\n",
    "    zhvi[i].MunicipalCodeFIPS = zhvi[i].MunicipalCodeFIPS.apply(str)\n",
    "    zhvi[i].MunicipalCodeFIPS = zhvi[i].MunicipalCodeFIPS.str.zfill(3)\n",
    "    zhvi[i].StateCodeFIPS = zhvi[i].StateCodeFIPS.apply(str)\n",
    "    zhvi[i].StateCodeFIPS = zhvi[i].StateCodeFIPS.str.zfill(2)\n",
    "    zhvi[i]['FIPS'] = zhvi[i].StateCodeFIPS + zhvi[i].MunicipalCodeFIPS\n",
    "    zhvi[i].drop(['RegionID', 'Metro', 'StateCodeFIPS', 'MunicipalCodeFIPS', 'SizeRank'], axis=1, inplace=True)\n",
    "    zhvi[i]['feature'] = 'ZHVI_{}'.format(i)"
   ]
  },
  {
   "cell_type": "code",
   "execution_count": 14,
   "metadata": {},
   "outputs": [
    {
     "data": {
      "text/html": [
       "<div>\n",
       "<style>\n",
       "    .dataframe thead tr:only-child th {\n",
       "        text-align: right;\n",
       "    }\n",
       "\n",
       "    .dataframe thead th {\n",
       "        text-align: left;\n",
       "    }\n",
       "\n",
       "    .dataframe tbody tr th {\n",
       "        vertical-align: top;\n",
       "    }\n",
       "</style>\n",
       "<table border=\"1\" class=\"dataframe\">\n",
       "  <thead>\n",
       "    <tr style=\"text-align: right;\">\n",
       "      <th></th>\n",
       "      <th>RegionName</th>\n",
       "      <th>State</th>\n",
       "      <th>1996-04</th>\n",
       "      <th>1996-05</th>\n",
       "      <th>1996-06</th>\n",
       "      <th>1996-07</th>\n",
       "      <th>1996-08</th>\n",
       "      <th>1996-09</th>\n",
       "      <th>1996-10</th>\n",
       "      <th>1996-11</th>\n",
       "      <th>...</th>\n",
       "      <th>2017-02</th>\n",
       "      <th>2017-03</th>\n",
       "      <th>2017-04</th>\n",
       "      <th>2017-05</th>\n",
       "      <th>2017-06</th>\n",
       "      <th>2017-07</th>\n",
       "      <th>2017-08</th>\n",
       "      <th>2017-09</th>\n",
       "      <th>FIPS</th>\n",
       "      <th>feature</th>\n",
       "    </tr>\n",
       "  </thead>\n",
       "  <tbody>\n",
       "    <tr>\n",
       "      <th>0</th>\n",
       "      <td>Los Angeles</td>\n",
       "      <td>CA</td>\n",
       "      <td>159400.0</td>\n",
       "      <td>159500.0</td>\n",
       "      <td>159200.0</td>\n",
       "      <td>158900.0</td>\n",
       "      <td>158700.0</td>\n",
       "      <td>158600.0</td>\n",
       "      <td>158700.0</td>\n",
       "      <td>159000.0</td>\n",
       "      <td>...</td>\n",
       "      <td>554400</td>\n",
       "      <td>558100</td>\n",
       "      <td>561200</td>\n",
       "      <td>563700</td>\n",
       "      <td>565900</td>\n",
       "      <td>568200</td>\n",
       "      <td>571400</td>\n",
       "      <td>574400</td>\n",
       "      <td>06037</td>\n",
       "      <td>ZHVI_AllHomes</td>\n",
       "    </tr>\n",
       "    <tr>\n",
       "      <th>1</th>\n",
       "      <td>Cook</td>\n",
       "      <td>IL</td>\n",
       "      <td>128700.0</td>\n",
       "      <td>129000.0</td>\n",
       "      <td>128900.0</td>\n",
       "      <td>128600.0</td>\n",
       "      <td>128400.0</td>\n",
       "      <td>128400.0</td>\n",
       "      <td>128500.0</td>\n",
       "      <td>128800.0</td>\n",
       "      <td>...</td>\n",
       "      <td>211200</td>\n",
       "      <td>211900</td>\n",
       "      <td>212200</td>\n",
       "      <td>212600</td>\n",
       "      <td>213100</td>\n",
       "      <td>214000</td>\n",
       "      <td>215100</td>\n",
       "      <td>215900</td>\n",
       "      <td>17031</td>\n",
       "      <td>ZHVI_AllHomes</td>\n",
       "    </tr>\n",
       "  </tbody>\n",
       "</table>\n",
       "<p>2 rows × 262 columns</p>\n",
       "</div>"
      ],
      "text/plain": [
       "    RegionName State   1996-04   1996-05   1996-06   1996-07   1996-08  \\\n",
       "0  Los Angeles    CA  159400.0  159500.0  159200.0  158900.0  158700.0   \n",
       "1         Cook    IL  128700.0  129000.0  128900.0  128600.0  128400.0   \n",
       "\n",
       "    1996-09   1996-10   1996-11      ...        2017-02  2017-03  2017-04  \\\n",
       "0  158600.0  158700.0  159000.0      ...         554400   558100   561200   \n",
       "1  128400.0  128500.0  128800.0      ...         211200   211900   212200   \n",
       "\n",
       "   2017-05  2017-06  2017-07  2017-08  2017-09   FIPS        feature  \n",
       "0   563700   565900   568200   571400   574400  06037  ZHVI_AllHomes  \n",
       "1   212600   213100   214000   215100   215900  17031  ZHVI_AllHomes  \n",
       "\n",
       "[2 rows x 262 columns]"
      ]
     },
     "execution_count": 14,
     "metadata": {},
     "output_type": "execute_result"
    }
   ],
   "source": [
    "zhvi['AllHomes'].head(2)"
   ]
  },
  {
   "cell_type": "code",
   "execution_count": 15,
   "metadata": {},
   "outputs": [
    {
     "data": {
      "text/plain": [
       "<matplotlib.text.Text at 0x11561d710>"
      ]
     },
     "execution_count": 15,
     "metadata": {},
     "output_type": "execute_result"
    },
    {
     "data": {
      "image/png": "[encoded data removed]",
      "text/plain": [
       "<matplotlib.figure.Figure at 0x10e6c1cc0>"
      ]
     },
     "metadata": {},
     "output_type": "display_data"
    }
   ],
   "source": [
    "p = {}\n",
    "for name in homes:\n",
    "    p[name] = pd.DataFrame(zhvi[name].mean()[4:])\n",
    "    p[name].reset_index(inplace=True)\n",
    "    p[name].rename(columns=({'index':'Date', 0:'ZHVI'}), inplace=True)\n",
    "    p[name].Date = p[name].Date.apply(datetime.datetime.strptime, args=('%Y-%m',))\n",
    "\n",
    "    \n",
    "#d['1bedroom'].mean()[4:].index.apply(datetime.datetime.strptime, args=('%Y-%m',))\n",
    "# above doesn't work\n",
    "pl.figure(figsize=(12, 10))\n",
    "i=0\n",
    "for name in homes:\n",
    "    pl.plot(p[name].Date, p[name].ZHVI, color=(colors[i]), label = name)\n",
    "    i += 1\n",
    "pl.legend(loc='best')\n",
    "pl.xlabel('Date', fontsize=14)\n",
    "pl.ylabel('ZHVI', fontsize=14)\n",
    "pl.title('Zillow Home Value Index for Various Home Types, averaged over all Counties')"
   ]
  },
  {
   "cell_type": "code",
   "execution_count": 16,
   "metadata": {
    "collapsed": true
   },
   "outputs": [],
   "source": [
    "output = open('./data/County_ZHVI_allhomes.pkl', 'wb')\n",
    "pickle.dump(zhvi, output)\n",
    "output.close()"
   ]
  },
  {
   "cell_type": "code",
   "execution_count": 17,
   "metadata": {
    "collapsed": true
   },
   "outputs": [],
   "source": [
    "df_zhvi = pd.concat(zhvi).reset_index().drop(['level_0', 'level_1'], axis=1)"
   ]
  },
  {
   "cell_type": "code",
   "execution_count": 18,
   "metadata": {
    "collapsed": true
   },
   "outputs": [],
   "source": [
    "#df_zhvi.to_csv('./data/dataframes/df_zhvi.csv')"
   ]
  },
  {
   "cell_type": "markdown",
   "metadata": {},
   "source": [
    "Load all county dateframes into notebook, and merge on FIPS"
   ]
  },
  {
   "cell_type": "markdown",
   "metadata": {},
   "source": [
    "** * Median Listing Price * **"
   ]
  },
  {
   "cell_type": "code",
   "execution_count": 19,
   "metadata": {
    "collapsed": true
   },
   "outputs": [],
   "source": [
    "housing = ['1bedroom', '2bedroom', '3bedroom', '4bedroom', \n",
    "         '5BedroomOrMore', 'AllHomes', 'CondoCoop', 'DuplexTriplex', 'Sfr']\n",
    "med_listing = {}\n",
    "for name in housing:\n",
    "    path = './data/Zillow_Data/County/County_MedianListingPrice_{}.csv'.format(name)\n",
    "    med_listing[name] = pd.DataFrame(pd.read_csv(path))"
   ]
  },
  {
   "cell_type": "code",
   "execution_count": 20,
   "metadata": {},
   "outputs": [
    {
     "name": "stdout",
     "output_type": "stream",
     "text": [
      "1bedroom\n",
      "2bedroom\n",
      "3bedroom\n",
      "4bedroom\n",
      "5BedroomOrMore\n",
      "AllHomes\n",
      "CondoCoop\n",
      "DuplexTriplex\n",
      "Sfr\n"
     ]
    }
   ],
   "source": [
    "for i in housing:\n",
    "    print (i)\n",
    "    med_listing[i].MunicipalCodeFIPS = med_listing[i].MunicipalCodeFIPS.apply(str)\n",
    "    med_listing[i].MunicipalCodeFIPS = med_listing[i].MunicipalCodeFIPS.str.zfill(3)\n",
    "    med_listing[i].StateCodeFIPS = med_listing[i].StateCodeFIPS.apply(str)\n",
    "    med_listing[i].StateCodeFIPS = med_listing[i].StateCodeFIPS.str.zfill(2)\n",
    "    med_listing[i]['FIPS'] = med_listing[i].StateCodeFIPS + med_listing[i].MunicipalCodeFIPS\n",
    "    med_listing[i].drop([ 'Metro', 'StateCodeFIPS', 'MunicipalCodeFIPS', 'SizeRank'], axis=1, inplace=True)\n",
    "    med_listing[i]['feature'] = 'Med_Listing_Price_{}'.format(i)"
   ]
  },
  {
   "cell_type": "code",
   "execution_count": 21,
   "metadata": {},
   "outputs": [
    {
     "data": {
      "text/plain": [
       "<matplotlib.text.Text at 0x114dfce10>"
      ]
     },
     "execution_count": 21,
     "metadata": {},
     "output_type": "execute_result"
    },
    {
     "data": {
      "image/png": "[encoded data removed]",
      "text/plain": [
       "<matplotlib.figure.Figure at 0x11724b320>"
      ]
     },
     "metadata": {},
     "output_type": "display_data"
    }
   ],
   "source": [
    "p = {}\n",
    "for name in housing:\n",
    "    p[name] = pd.DataFrame(med_listing[name].mean()[4:])\n",
    "    p[name].reset_index(inplace=True)\n",
    "    p[name].rename(columns=({'index':'Date', 0:'med_listing'}), inplace=True)\n",
    "    p[name].Date = p[name].Date.apply(datetime.datetime.strptime, args=('%Y-%m',))\n",
    "\n",
    "    \n",
    "#d['1bedroom'].mean()[4:].index.apply(datetime.datetime.strptime, args=('%Y-%m',))\n",
    "# above doesn't work\n",
    "pl.figure(figsize=(12, 10))\n",
    "i=0\n",
    "for name in housing:\n",
    "    pl.plot(p[name].Date, p[name].med_listing, color=(colors[i]), label = name)\n",
    "    i += 1\n",
    "pl.legend(loc='best')\n",
    "pl.xlabel('Date', fontsize=14)\n",
    "pl.ylabel('med_listing', fontsize=14)\n",
    "pl.title('Median Listing Price for Various Home Types, averaged over all Counties')"
   ]
  },
  {
   "cell_type": "code",
   "execution_count": 22,
   "metadata": {
    "collapsed": true
   },
   "outputs": [],
   "source": [
    "output = open('./data/Zillow_Data/County_MedianListing.pkl', 'wb')\n",
    "pickle.dump(med_listing, output)\n",
    "output.close()"
   ]
  },
  {
   "cell_type": "code",
   "execution_count": 23,
   "metadata": {
    "collapsed": true
   },
   "outputs": [],
   "source": [
    "df_med_list = pd.concat(med_listing).reset_index().drop(['level_0', 'level_1'], axis=1)"
   ]
  },
  {
   "cell_type": "code",
   "execution_count": 24,
   "metadata": {},
   "outputs": [
    {
     "data": {
      "text/html": [
       "<div>\n",
       "<style>\n",
       "    .dataframe thead tr:only-child th {\n",
       "        text-align: right;\n",
       "    }\n",
       "\n",
       "    .dataframe thead th {\n",
       "        text-align: left;\n",
       "    }\n",
       "\n",
       "    .dataframe tbody tr th {\n",
       "        vertical-align: top;\n",
       "    }\n",
       "</style>\n",
       "<table border=\"1\" class=\"dataframe\">\n",
       "  <thead>\n",
       "    <tr style=\"text-align: right;\">\n",
       "      <th></th>\n",
       "      <th>RegionName</th>\n",
       "      <th>State</th>\n",
       "      <th>2010-01</th>\n",
       "      <th>2010-02</th>\n",
       "      <th>2010-03</th>\n",
       "      <th>2010-04</th>\n",
       "      <th>2010-05</th>\n",
       "      <th>2010-06</th>\n",
       "      <th>2010-07</th>\n",
       "      <th>2010-08</th>\n",
       "      <th>...</th>\n",
       "      <th>2017-02</th>\n",
       "      <th>2017-03</th>\n",
       "      <th>2017-04</th>\n",
       "      <th>2017-05</th>\n",
       "      <th>2017-06</th>\n",
       "      <th>2017-07</th>\n",
       "      <th>2017-08</th>\n",
       "      <th>2017-09</th>\n",
       "      <th>FIPS</th>\n",
       "      <th>feature</th>\n",
       "    </tr>\n",
       "  </thead>\n",
       "  <tbody>\n",
       "    <tr>\n",
       "      <th>0</th>\n",
       "      <td>Los Angeles</td>\n",
       "      <td>CA</td>\n",
       "      <td>NaN</td>\n",
       "      <td>NaN</td>\n",
       "      <td>NaN</td>\n",
       "      <td>NaN</td>\n",
       "      <td>NaN</td>\n",
       "      <td>NaN</td>\n",
       "      <td>NaN</td>\n",
       "      <td>NaN</td>\n",
       "      <td>...</td>\n",
       "      <td>425000.0</td>\n",
       "      <td>425250.0</td>\n",
       "      <td>435000.0</td>\n",
       "      <td>445000.0</td>\n",
       "      <td>439000.0</td>\n",
       "      <td>435000.0</td>\n",
       "      <td>439250.0</td>\n",
       "      <td>449000.0</td>\n",
       "      <td>06037</td>\n",
       "      <td>Med_Listing_Price_1bedroom</td>\n",
       "    </tr>\n",
       "    <tr>\n",
       "      <th>1</th>\n",
       "      <td>Cook</td>\n",
       "      <td>IL</td>\n",
       "      <td>NaN</td>\n",
       "      <td>NaN</td>\n",
       "      <td>NaN</td>\n",
       "      <td>NaN</td>\n",
       "      <td>NaN</td>\n",
       "      <td>NaN</td>\n",
       "      <td>NaN</td>\n",
       "      <td>NaN</td>\n",
       "      <td>...</td>\n",
       "      <td>163000.0</td>\n",
       "      <td>171400.0</td>\n",
       "      <td>171400.0</td>\n",
       "      <td>160000.0</td>\n",
       "      <td>155450.0</td>\n",
       "      <td>172400.0</td>\n",
       "      <td>165900.0</td>\n",
       "      <td>164900.0</td>\n",
       "      <td>17031</td>\n",
       "      <td>Med_Listing_Price_1bedroom</td>\n",
       "    </tr>\n",
       "    <tr>\n",
       "      <th>2</th>\n",
       "      <td>Harris</td>\n",
       "      <td>TX</td>\n",
       "      <td>NaN</td>\n",
       "      <td>NaN</td>\n",
       "      <td>NaN</td>\n",
       "      <td>NaN</td>\n",
       "      <td>NaN</td>\n",
       "      <td>NaN</td>\n",
       "      <td>NaN</td>\n",
       "      <td>NaN</td>\n",
       "      <td>...</td>\n",
       "      <td>167500.0</td>\n",
       "      <td>168995.0</td>\n",
       "      <td>167500.0</td>\n",
       "      <td>159950.0</td>\n",
       "      <td>160000.0</td>\n",
       "      <td>155260.0</td>\n",
       "      <td>149945.0</td>\n",
       "      <td>149900.0</td>\n",
       "      <td>48201</td>\n",
       "      <td>Med_Listing_Price_1bedroom</td>\n",
       "    </tr>\n",
       "  </tbody>\n",
       "</table>\n",
       "<p>3 rows × 97 columns</p>\n",
       "</div>"
      ],
      "text/plain": [
       "    RegionName State  2010-01  2010-02  2010-03  2010-04  2010-05  2010-06  \\\n",
       "0  Los Angeles    CA      NaN      NaN      NaN      NaN      NaN      NaN   \n",
       "1         Cook    IL      NaN      NaN      NaN      NaN      NaN      NaN   \n",
       "2       Harris    TX      NaN      NaN      NaN      NaN      NaN      NaN   \n",
       "\n",
       "   2010-07  2010-08             ...               2017-02   2017-03   2017-04  \\\n",
       "0      NaN      NaN             ...              425000.0  425250.0  435000.0   \n",
       "1      NaN      NaN             ...              163000.0  171400.0  171400.0   \n",
       "2      NaN      NaN             ...              167500.0  168995.0  167500.0   \n",
       "\n",
       "    2017-05   2017-06   2017-07   2017-08   2017-09   FIPS  \\\n",
       "0  445000.0  439000.0  435000.0  439250.0  449000.0  06037   \n",
       "1  160000.0  155450.0  172400.0  165900.0  164900.0  17031   \n",
       "2  159950.0  160000.0  155260.0  149945.0  149900.0  48201   \n",
       "\n",
       "                      feature  \n",
       "0  Med_Listing_Price_1bedroom  \n",
       "1  Med_Listing_Price_1bedroom  \n",
       "2  Med_Listing_Price_1bedroom  \n",
       "\n",
       "[3 rows x 97 columns]"
      ]
     },
     "execution_count": 24,
     "metadata": {},
     "output_type": "execute_result"
    }
   ],
   "source": [
    "df_med_list.head(3)"
   ]
  },
  {
   "cell_type": "code",
   "execution_count": 25,
   "metadata": {
    "collapsed": true
   },
   "outputs": [],
   "source": [
    "#df_med_list.to_csv('./data/dataframes/df_med_list.csv')"
   ]
  },
  {
   "cell_type": "markdown",
   "metadata": {},
   "source": [
    "** * County Market Data * **  \n"
   ]
  },
  {
   "cell_type": "code",
   "execution_count": 26,
   "metadata": {
    "collapsed": true
   },
   "outputs": [],
   "source": [
    "markets = [\"County_MedianValuePerSqft_AllHomes\", \"InventoryMeasure_SSA_County_Public\",\n",
    "\"InventoryMeasure_County_Public\", \"DaysOnZillow_Public_County\", \"County_PriceToRentRatio_AllHomes\",\n",
    "\"County_PctOfHomesDecreasingInValues_AllHomes\", \"County_PctOfHomesIncreasingInValues_AllHomes\"]\n",
    "# \"MarketHealthIndex_County\""
   ]
  },
  {
   "cell_type": "code",
   "execution_count": 27,
   "metadata": {},
   "outputs": [
    {
     "name": "stdout",
     "output_type": "stream",
     "text": [
      "County_MedianValuePerSqft_AllHomes\n",
      "InventoryMeasure_SSA_County_Public\n",
      "InventoryMeasure_County_Public\n",
      "DaysOnZillow_Public_County\n",
      "County_PriceToRentRatio_AllHomes\n",
      "County_PctOfHomesDecreasingInValues_AllHomes\n",
      "County_PctOfHomesIncreasingInValues_AllHomes\n"
     ]
    }
   ],
   "source": [
    "#save data into a dictionary of dataframes for each housing type\n",
    "cnty_mrkt = {}\n",
    "for name in markets:\n",
    "    print (name)\n",
    "    path = './data/Zillow_Data/County/{}.csv'.format(name)\n",
    "    cnty_mrkt[name] = pd.DataFrame(pd.read_csv(path))"
   ]
  },
  {
   "cell_type": "code",
   "execution_count": 28,
   "metadata": {
    "scrolled": true
   },
   "outputs": [
    {
     "name": "stdout",
     "output_type": "stream",
     "text": [
      "df1 = 99.94591671173607%\n",
      "df2 = 58.778625954198475%\n"
     ]
    },
    {
     "data": {
      "text/html": [
       "<div>\n",
       "<style>\n",
       "    .dataframe thead tr:only-child th {\n",
       "        text-align: right;\n",
       "    }\n",
       "\n",
       "    .dataframe thead th {\n",
       "        text-align: left;\n",
       "    }\n",
       "\n",
       "    .dataframe tbody tr th {\n",
       "        vertical-align: top;\n",
       "    }\n",
       "</style>\n",
       "<table border=\"1\" class=\"dataframe\">\n",
       "  <thead>\n",
       "    <tr style=\"text-align: right;\">\n",
       "      <th></th>\n",
       "      <th>RegionName</th>\n",
       "      <th>RegionType</th>\n",
       "      <th>CountyName</th>\n",
       "      <th>Metro</th>\n",
       "      <th>StateFullName</th>\n",
       "      <th>DataTypeDescription</th>\n",
       "      <th>2010-01</th>\n",
       "      <th>2010-02</th>\n",
       "      <th>2010-03</th>\n",
       "      <th>2010-04</th>\n",
       "      <th>...</th>\n",
       "      <th>2017-03</th>\n",
       "      <th>2017-04</th>\n",
       "      <th>2017-05</th>\n",
       "      <th>2017-06</th>\n",
       "      <th>2017-07</th>\n",
       "      <th>2017-08</th>\n",
       "      <th>2017-09</th>\n",
       "      <th>StateName</th>\n",
       "      <th>FIPS</th>\n",
       "      <th>State</th>\n",
       "    </tr>\n",
       "  </thead>\n",
       "  <tbody>\n",
       "    <tr>\n",
       "      <th>0</th>\n",
       "      <td>Los Angeles</td>\n",
       "      <td>County</td>\n",
       "      <td>Los Angeles</td>\n",
       "      <td>Los Angeles-Long Beach-Anaheim</td>\n",
       "      <td>California</td>\n",
       "      <td>All Homes</td>\n",
       "      <td>30760</td>\n",
       "      <td>29938</td>\n",
       "      <td>29104</td>\n",
       "      <td>28639</td>\n",
       "      <td>...</td>\n",
       "      <td>11698</td>\n",
       "      <td>11404</td>\n",
       "      <td>11292</td>\n",
       "      <td>11038</td>\n",
       "      <td>10556</td>\n",
       "      <td>10282</td>\n",
       "      <td>10201</td>\n",
       "      <td>California</td>\n",
       "      <td>06037</td>\n",
       "      <td>CA</td>\n",
       "    </tr>\n",
       "    <tr>\n",
       "      <th>1</th>\n",
       "      <td>Cook</td>\n",
       "      <td>County</td>\n",
       "      <td>Cook</td>\n",
       "      <td>Chicago</td>\n",
       "      <td>Illinois</td>\n",
       "      <td>All Homes</td>\n",
       "      <td>32421</td>\n",
       "      <td>32700</td>\n",
       "      <td>33421</td>\n",
       "      <td>33560</td>\n",
       "      <td>...</td>\n",
       "      <td>17680</td>\n",
       "      <td>17142</td>\n",
       "      <td>16906</td>\n",
       "      <td>16931</td>\n",
       "      <td>16995</td>\n",
       "      <td>17355</td>\n",
       "      <td>17877</td>\n",
       "      <td>Illinois</td>\n",
       "      <td>17031</td>\n",
       "      <td>IL</td>\n",
       "    </tr>\n",
       "  </tbody>\n",
       "</table>\n",
       "<p>2 rows × 102 columns</p>\n",
       "</div>"
      ],
      "text/plain": [
       "    RegionName RegionType   CountyName                           Metro  \\\n",
       "0  Los Angeles     County  Los Angeles  Los Angeles-Long Beach-Anaheim   \n",
       "1         Cook     County         Cook                         Chicago   \n",
       "\n",
       "  StateFullName DataTypeDescription  2010-01  2010-02  2010-03  2010-04  \\\n",
       "0    California           All Homes    30760    29938    29104    28639   \n",
       "1      Illinois           All Homes    32421    32700    33421    33560   \n",
       "\n",
       "   ...    2017-03  2017-04  2017-05  2017-06  2017-07  2017-08  2017-09  \\\n",
       "0  ...      11698    11404    11292    11038    10556    10282    10201   \n",
       "1  ...      17680    17142    16906    16931    16995    17355    17877   \n",
       "\n",
       "    StateName   FIPS  State  \n",
       "0  California  06037     CA  \n",
       "1    Illinois  17031     IL  \n",
       "\n",
       "[2 rows x 102 columns]"
      ]
     },
     "execution_count": 28,
     "metadata": {},
     "output_type": "execute_result"
    }
   ],
   "source": [
    "df_m = merge_check(cnty_mrkt[markets[1]], countyCW,['CountyName', 'StateFullName'], \n",
    "            ['CountyName', 'StateName'])\n",
    "cnty_mrkt[markets[1]] = df_m\n",
    "cnty_mrkt[markets[1]].head(2)"
   ]
  },
  {
   "cell_type": "code",
   "execution_count": 29,
   "metadata": {},
   "outputs": [
    {
     "name": "stdout",
     "output_type": "stream",
     "text": [
      "df1 = 99.7560975609756%\n",
      "df2 = 13.008905852417302%\n"
     ]
    },
    {
     "data": {
      "text/html": [
       "<div>\n",
       "<style>\n",
       "    .dataframe thead tr:only-child th {\n",
       "        text-align: right;\n",
       "    }\n",
       "\n",
       "    .dataframe thead th {\n",
       "        text-align: left;\n",
       "    }\n",
       "\n",
       "    .dataframe tbody tr th {\n",
       "        vertical-align: top;\n",
       "    }\n",
       "</style>\n",
       "<table border=\"1\" class=\"dataframe\">\n",
       "  <thead>\n",
       "    <tr style=\"text-align: right;\">\n",
       "      <th></th>\n",
       "      <th>RegionName</th>\n",
       "      <th>StateName_x</th>\n",
       "      <th>RegionType</th>\n",
       "      <th>CBSA Title</th>\n",
       "      <th>SizeRank</th>\n",
       "      <th>2010-01</th>\n",
       "      <th>2010-02</th>\n",
       "      <th>2010-03</th>\n",
       "      <th>2010-04</th>\n",
       "      <th>2010-05</th>\n",
       "      <th>...</th>\n",
       "      <th>2017-03</th>\n",
       "      <th>2017-04</th>\n",
       "      <th>2017-05</th>\n",
       "      <th>2017-06</th>\n",
       "      <th>2017-07</th>\n",
       "      <th>2017-08</th>\n",
       "      <th>CountyName</th>\n",
       "      <th>StateName_y</th>\n",
       "      <th>FIPS</th>\n",
       "      <th>State</th>\n",
       "    </tr>\n",
       "  </thead>\n",
       "  <tbody>\n",
       "    <tr>\n",
       "      <th>0</th>\n",
       "      <td>Ada</td>\n",
       "      <td>ID</td>\n",
       "      <td>County</td>\n",
       "      <td>\"Boise City, ID\"</td>\n",
       "      <td>169</td>\n",
       "      <td>145.0</td>\n",
       "      <td>151.500</td>\n",
       "      <td>161.75</td>\n",
       "      <td>155.0</td>\n",
       "      <td>134.75</td>\n",
       "      <td>...</td>\n",
       "      <td>65.25</td>\n",
       "      <td>52.75</td>\n",
       "      <td>50.75</td>\n",
       "      <td>52.00</td>\n",
       "      <td>52.250</td>\n",
       "      <td>52.0</td>\n",
       "      <td>Ada</td>\n",
       "      <td>Idaho</td>\n",
       "      <td>16001</td>\n",
       "      <td>ID</td>\n",
       "    </tr>\n",
       "    <tr>\n",
       "      <th>1</th>\n",
       "      <td>Bay</td>\n",
       "      <td>FL</td>\n",
       "      <td>County</td>\n",
       "      <td>\"Panama City, FL\"</td>\n",
       "      <td>338</td>\n",
       "      <td>152.5</td>\n",
       "      <td>186.875</td>\n",
       "      <td>191.25</td>\n",
       "      <td>201.5</td>\n",
       "      <td>210.00</td>\n",
       "      <td>...</td>\n",
       "      <td>123.75</td>\n",
       "      <td>118.75</td>\n",
       "      <td>107.50</td>\n",
       "      <td>98.25</td>\n",
       "      <td>95.125</td>\n",
       "      <td>101.5</td>\n",
       "      <td>Bay</td>\n",
       "      <td>Florida</td>\n",
       "      <td>12005</td>\n",
       "      <td>FL</td>\n",
       "    </tr>\n",
       "  </tbody>\n",
       "</table>\n",
       "<p>2 rows × 101 columns</p>\n",
       "</div>"
      ],
      "text/plain": [
       "  RegionName StateName_x RegionType         CBSA Title  SizeRank  2010-01  \\\n",
       "0        Ada          ID     County   \"Boise City, ID\"       169    145.0   \n",
       "1        Bay          FL     County  \"Panama City, FL\"       338    152.5   \n",
       "\n",
       "   2010-02  2010-03  2010-04  2010-05  ...    2017-03  2017-04  2017-05  \\\n",
       "0  151.500   161.75    155.0   134.75  ...      65.25    52.75    50.75   \n",
       "1  186.875   191.25    201.5   210.00  ...     123.75   118.75   107.50   \n",
       "\n",
       "   2017-06  2017-07  2017-08  CountyName  StateName_y   FIPS  State  \n",
       "0    52.00   52.250     52.0         Ada        Idaho  16001     ID  \n",
       "1    98.25   95.125    101.5         Bay      Florida  12005     FL  \n",
       "\n",
       "[2 rows x 101 columns]"
      ]
     },
     "execution_count": 29,
     "metadata": {},
     "output_type": "execute_result"
    }
   ],
   "source": [
    "df_m = merge_check(cnty_mrkt[markets[3]], countyCW,['RegionName', 'StateName'], \n",
    "            ['CountyName', 'State'])\n",
    "cnty_mrkt[markets[3]] = df_m\n",
    "cnty_mrkt[markets[3]].head(2)"
   ]
  },
  {
   "cell_type": "markdown",
   "metadata": {},
   "source": [
    "this probably won't be a good feature to use because it only has data for 13% of the counties in the US"
   ]
  },
  {
   "cell_type": "code",
   "execution_count": 30,
   "metadata": {
    "scrolled": true
   },
   "outputs": [
    {
     "data": {
      "text/html": [
       "<div>\n",
       "<style>\n",
       "    .dataframe thead tr:only-child th {\n",
       "        text-align: right;\n",
       "    }\n",
       "\n",
       "    .dataframe thead th {\n",
       "        text-align: left;\n",
       "    }\n",
       "\n",
       "    .dataframe tbody tr th {\n",
       "        vertical-align: top;\n",
       "    }\n",
       "</style>\n",
       "<table border=\"1\" class=\"dataframe\">\n",
       "  <thead>\n",
       "    <tr style=\"text-align: right;\">\n",
       "      <th></th>\n",
       "      <th>2010-01</th>\n",
       "      <th>2010-02</th>\n",
       "      <th>2010-03</th>\n",
       "      <th>2010-04</th>\n",
       "      <th>2010-05</th>\n",
       "      <th>2010-06</th>\n",
       "      <th>2010-07</th>\n",
       "      <th>2010-08</th>\n",
       "      <th>2010-09</th>\n",
       "      <th>2010-10</th>\n",
       "      <th>...</th>\n",
       "      <th>2017-03</th>\n",
       "      <th>2017-04</th>\n",
       "      <th>2017-05</th>\n",
       "      <th>2017-06</th>\n",
       "      <th>2017-07</th>\n",
       "      <th>2017-08</th>\n",
       "      <th>CountyName</th>\n",
       "      <th>FIPS</th>\n",
       "      <th>State</th>\n",
       "      <th>feature</th>\n",
       "    </tr>\n",
       "  </thead>\n",
       "  <tbody>\n",
       "    <tr>\n",
       "      <th>0</th>\n",
       "      <td>145.0</td>\n",
       "      <td>151.500</td>\n",
       "      <td>161.75</td>\n",
       "      <td>155.0</td>\n",
       "      <td>134.75</td>\n",
       "      <td>123.5</td>\n",
       "      <td>126.125</td>\n",
       "      <td>130.875</td>\n",
       "      <td>125.375</td>\n",
       "      <td>120.375</td>\n",
       "      <td>...</td>\n",
       "      <td>65.25</td>\n",
       "      <td>52.75</td>\n",
       "      <td>50.75</td>\n",
       "      <td>52.00</td>\n",
       "      <td>52.250</td>\n",
       "      <td>52.0</td>\n",
       "      <td>Ada</td>\n",
       "      <td>16001</td>\n",
       "      <td>ID</td>\n",
       "      <td>DaysOnZillow_Public_County</td>\n",
       "    </tr>\n",
       "    <tr>\n",
       "      <th>1</th>\n",
       "      <td>152.5</td>\n",
       "      <td>186.875</td>\n",
       "      <td>191.25</td>\n",
       "      <td>201.5</td>\n",
       "      <td>210.00</td>\n",
       "      <td>200.5</td>\n",
       "      <td>192.500</td>\n",
       "      <td>163.875</td>\n",
       "      <td>142.125</td>\n",
       "      <td>147.500</td>\n",
       "      <td>...</td>\n",
       "      <td>123.75</td>\n",
       "      <td>118.75</td>\n",
       "      <td>107.50</td>\n",
       "      <td>98.25</td>\n",
       "      <td>95.125</td>\n",
       "      <td>101.5</td>\n",
       "      <td>Bay</td>\n",
       "      <td>12005</td>\n",
       "      <td>FL</td>\n",
       "      <td>DaysOnZillow_Public_County</td>\n",
       "    </tr>\n",
       "  </tbody>\n",
       "</table>\n",
       "<p>2 rows × 96 columns</p>\n",
       "</div>"
      ],
      "text/plain": [
       "   2010-01  2010-02  2010-03  2010-04  2010-05  2010-06  2010-07  2010-08  \\\n",
       "0    145.0  151.500   161.75    155.0   134.75    123.5  126.125  130.875   \n",
       "1    152.5  186.875   191.25    201.5   210.00    200.5  192.500  163.875   \n",
       "\n",
       "   2010-09  2010-10             ...              2017-03  2017-04  2017-05  \\\n",
       "0  125.375  120.375             ...                65.25    52.75    50.75   \n",
       "1  142.125  147.500             ...               123.75   118.75   107.50   \n",
       "\n",
       "   2017-06  2017-07  2017-08  CountyName   FIPS  State  \\\n",
       "0    52.00   52.250     52.0         Ada  16001     ID   \n",
       "1    98.25   95.125    101.5         Bay  12005     FL   \n",
       "\n",
       "                      feature  \n",
       "0  DaysOnZillow_Public_County  \n",
       "1  DaysOnZillow_Public_County  \n",
       "\n",
       "[2 rows x 96 columns]"
      ]
     },
     "execution_count": 30,
     "metadata": {},
     "output_type": "execute_result"
    }
   ],
   "source": [
    "cnty_mrkt[markets[3]].drop(['RegionName', 'RegionType', 'StateName_x', 'CBSA Title', \n",
    "                         'StateName_y', 'SizeRank'], axis=1, inplace=True)\n",
    "cnty_mrkt[markets[3]]['feature'] = markets[3]\n",
    "cnty_mrkt[markets[3]].head(2)"
   ]
  },
  {
   "cell_type": "code",
   "execution_count": 31,
   "metadata": {},
   "outputs": [
    {
     "data": {
      "text/plain": [
       "0"
      ]
     },
     "execution_count": 31,
     "metadata": {},
     "output_type": "execute_result"
    }
   ],
   "source": [
    "cnty_mrkt[markets[3]].FIPS.isnull().sum()"
   ]
  },
  {
   "cell_type": "code",
   "execution_count": 32,
   "metadata": {},
   "outputs": [
    {
     "data": {
      "text/html": [
       "<div>\n",
       "<style>\n",
       "    .dataframe thead tr:only-child th {\n",
       "        text-align: right;\n",
       "    }\n",
       "\n",
       "    .dataframe thead th {\n",
       "        text-align: left;\n",
       "    }\n",
       "\n",
       "    .dataframe tbody tr th {\n",
       "        vertical-align: top;\n",
       "    }\n",
       "</style>\n",
       "<table border=\"1\" class=\"dataframe\">\n",
       "  <thead>\n",
       "    <tr style=\"text-align: right;\">\n",
       "      <th></th>\n",
       "      <th>CountyName</th>\n",
       "      <th>2010-01</th>\n",
       "      <th>2010-02</th>\n",
       "      <th>2010-03</th>\n",
       "      <th>2010-04</th>\n",
       "      <th>2010-05</th>\n",
       "      <th>2010-06</th>\n",
       "      <th>2010-07</th>\n",
       "      <th>2010-08</th>\n",
       "      <th>2010-09</th>\n",
       "      <th>...</th>\n",
       "      <th>2017-03</th>\n",
       "      <th>2017-04</th>\n",
       "      <th>2017-05</th>\n",
       "      <th>2017-06</th>\n",
       "      <th>2017-07</th>\n",
       "      <th>2017-08</th>\n",
       "      <th>2017-09</th>\n",
       "      <th>FIPS</th>\n",
       "      <th>State</th>\n",
       "      <th>feature</th>\n",
       "    </tr>\n",
       "  </thead>\n",
       "  <tbody>\n",
       "    <tr>\n",
       "      <th>0</th>\n",
       "      <td>Los Angeles</td>\n",
       "      <td>30760</td>\n",
       "      <td>29938</td>\n",
       "      <td>29104</td>\n",
       "      <td>28639</td>\n",
       "      <td>28302</td>\n",
       "      <td>28102</td>\n",
       "      <td>27942</td>\n",
       "      <td>28091</td>\n",
       "      <td>28850</td>\n",
       "      <td>...</td>\n",
       "      <td>11698</td>\n",
       "      <td>11404</td>\n",
       "      <td>11292</td>\n",
       "      <td>11038</td>\n",
       "      <td>10556</td>\n",
       "      <td>10282</td>\n",
       "      <td>10201</td>\n",
       "      <td>06037</td>\n",
       "      <td>CA</td>\n",
       "      <td>InventoryMeasure_SSA_County_Public</td>\n",
       "    </tr>\n",
       "    <tr>\n",
       "      <th>1</th>\n",
       "      <td>Cook</td>\n",
       "      <td>32421</td>\n",
       "      <td>32700</td>\n",
       "      <td>33421</td>\n",
       "      <td>33560</td>\n",
       "      <td>33055</td>\n",
       "      <td>33154</td>\n",
       "      <td>33341</td>\n",
       "      <td>32836</td>\n",
       "      <td>32388</td>\n",
       "      <td>...</td>\n",
       "      <td>17680</td>\n",
       "      <td>17142</td>\n",
       "      <td>16906</td>\n",
       "      <td>16931</td>\n",
       "      <td>16995</td>\n",
       "      <td>17355</td>\n",
       "      <td>17877</td>\n",
       "      <td>17031</td>\n",
       "      <td>IL</td>\n",
       "      <td>InventoryMeasure_SSA_County_Public</td>\n",
       "    </tr>\n",
       "  </tbody>\n",
       "</table>\n",
       "<p>2 rows × 97 columns</p>\n",
       "</div>"
      ],
      "text/plain": [
       "    CountyName  2010-01  2010-02  2010-03  2010-04  2010-05  2010-06  2010-07  \\\n",
       "0  Los Angeles    30760    29938    29104    28639    28302    28102    27942   \n",
       "1         Cook    32421    32700    33421    33560    33055    33154    33341   \n",
       "\n",
       "   2010-08  2010-09                 ...                  2017-03  2017-04  \\\n",
       "0    28091    28850                 ...                    11698    11404   \n",
       "1    32836    32388                 ...                    17680    17142   \n",
       "\n",
       "   2017-05  2017-06  2017-07  2017-08  2017-09   FIPS  State  \\\n",
       "0    11292    11038    10556    10282    10201  06037     CA   \n",
       "1    16906    16931    16995    17355    17877  17031     IL   \n",
       "\n",
       "                              feature  \n",
       "0  InventoryMeasure_SSA_County_Public  \n",
       "1  InventoryMeasure_SSA_County_Public  \n",
       "\n",
       "[2 rows x 97 columns]"
      ]
     },
     "execution_count": 32,
     "metadata": {},
     "output_type": "execute_result"
    }
   ],
   "source": [
    "cnty_mrkt[markets[1]].drop(['RegionName', 'RegionType', 'StateName', \n",
    "                        'Metro', 'StateFullName', 'DataTypeDescription'], axis=1, inplace=True)\n",
    "cnty_mrkt[markets[1]]['feature'] = markets[1]\n",
    "cnty_mrkt[markets[1]].head(2)"
   ]
  },
  {
   "cell_type": "code",
   "execution_count": 33,
   "metadata": {},
   "outputs": [
    {
     "name": "stdout",
     "output_type": "stream",
     "text": [
      "df1 = 99.94591671173607%\n",
      "df2 = 58.778625954198475%\n"
     ]
    },
    {
     "data": {
      "text/html": [
       "<div>\n",
       "<style>\n",
       "    .dataframe thead tr:only-child th {\n",
       "        text-align: right;\n",
       "    }\n",
       "\n",
       "    .dataframe thead th {\n",
       "        text-align: left;\n",
       "    }\n",
       "\n",
       "    .dataframe tbody tr th {\n",
       "        vertical-align: top;\n",
       "    }\n",
       "</style>\n",
       "<table border=\"1\" class=\"dataframe\">\n",
       "  <thead>\n",
       "    <tr style=\"text-align: right;\">\n",
       "      <th></th>\n",
       "      <th>RegionName</th>\n",
       "      <th>RegionType</th>\n",
       "      <th>CountyName</th>\n",
       "      <th>Metro</th>\n",
       "      <th>StateFullName</th>\n",
       "      <th>DataTypeDescription</th>\n",
       "      <th>2010-01</th>\n",
       "      <th>2010-02</th>\n",
       "      <th>2010-03</th>\n",
       "      <th>2010-04</th>\n",
       "      <th>...</th>\n",
       "      <th>2017-03</th>\n",
       "      <th>2017-04</th>\n",
       "      <th>2017-05</th>\n",
       "      <th>2017-06</th>\n",
       "      <th>2017-07</th>\n",
       "      <th>2017-08</th>\n",
       "      <th>2017-09</th>\n",
       "      <th>StateName</th>\n",
       "      <th>FIPS</th>\n",
       "      <th>State</th>\n",
       "    </tr>\n",
       "  </thead>\n",
       "  <tbody>\n",
       "    <tr>\n",
       "      <th>0</th>\n",
       "      <td>Los Angeles</td>\n",
       "      <td>County</td>\n",
       "      <td>Los Angeles</td>\n",
       "      <td>Los Angeles-Long Beach-Anaheim</td>\n",
       "      <td>California</td>\n",
       "      <td>All Homes</td>\n",
       "      <td>30098</td>\n",
       "      <td>28988</td>\n",
       "      <td>28609</td>\n",
       "      <td>28311</td>\n",
       "      <td>...</td>\n",
       "      <td>10713</td>\n",
       "      <td>10572</td>\n",
       "      <td>10948</td>\n",
       "      <td>11568</td>\n",
       "      <td>11578</td>\n",
       "      <td>11653</td>\n",
       "      <td>11575</td>\n",
       "      <td>California</td>\n",
       "      <td>06037</td>\n",
       "      <td>CA</td>\n",
       "    </tr>\n",
       "    <tr>\n",
       "      <th>1</th>\n",
       "      <td>Cook</td>\n",
       "      <td>County</td>\n",
       "      <td>Cook</td>\n",
       "      <td>Chicago</td>\n",
       "      <td>Illinois</td>\n",
       "      <td>All Homes</td>\n",
       "      <td>29698</td>\n",
       "      <td>30106</td>\n",
       "      <td>32870</td>\n",
       "      <td>34568</td>\n",
       "      <td>...</td>\n",
       "      <td>16595</td>\n",
       "      <td>16779</td>\n",
       "      <td>17514</td>\n",
       "      <td>18284</td>\n",
       "      <td>18482</td>\n",
       "      <td>19192</td>\n",
       "      <td>19704</td>\n",
       "      <td>Illinois</td>\n",
       "      <td>17031</td>\n",
       "      <td>IL</td>\n",
       "    </tr>\n",
       "  </tbody>\n",
       "</table>\n",
       "<p>2 rows × 102 columns</p>\n",
       "</div>"
      ],
      "text/plain": [
       "    RegionName RegionType   CountyName                           Metro  \\\n",
       "0  Los Angeles     County  Los Angeles  Los Angeles-Long Beach-Anaheim   \n",
       "1         Cook     County         Cook                         Chicago   \n",
       "\n",
       "  StateFullName DataTypeDescription  2010-01  2010-02  2010-03  2010-04  \\\n",
       "0    California           All Homes    30098    28988    28609    28311   \n",
       "1      Illinois           All Homes    29698    30106    32870    34568   \n",
       "\n",
       "   ...    2017-03  2017-04  2017-05  2017-06  2017-07  2017-08  2017-09  \\\n",
       "0  ...      10713    10572    10948    11568    11578    11653    11575   \n",
       "1  ...      16595    16779    17514    18284    18482    19192    19704   \n",
       "\n",
       "    StateName   FIPS  State  \n",
       "0  California  06037     CA  \n",
       "1    Illinois  17031     IL  \n",
       "\n",
       "[2 rows x 102 columns]"
      ]
     },
     "execution_count": 33,
     "metadata": {},
     "output_type": "execute_result"
    }
   ],
   "source": [
    "df_m = merge_check(cnty_mrkt[markets[2]], countyCW,['CountyName', 'StateFullName'], \n",
    "            ['CountyName', 'StateName'])\n",
    "cnty_mrkt[markets[2]] = df_m\n",
    "cnty_mrkt[markets[2]].head(2)"
   ]
  },
  {
   "cell_type": "code",
   "execution_count": 34,
   "metadata": {},
   "outputs": [
    {
     "data": {
      "text/html": [
       "<div>\n",
       "<style>\n",
       "    .dataframe thead tr:only-child th {\n",
       "        text-align: right;\n",
       "    }\n",
       "\n",
       "    .dataframe thead th {\n",
       "        text-align: left;\n",
       "    }\n",
       "\n",
       "    .dataframe tbody tr th {\n",
       "        vertical-align: top;\n",
       "    }\n",
       "</style>\n",
       "<table border=\"1\" class=\"dataframe\">\n",
       "  <thead>\n",
       "    <tr style=\"text-align: right;\">\n",
       "      <th></th>\n",
       "      <th>CountyName</th>\n",
       "      <th>2010-01</th>\n",
       "      <th>2010-02</th>\n",
       "      <th>2010-03</th>\n",
       "      <th>2010-04</th>\n",
       "      <th>2010-05</th>\n",
       "      <th>2010-06</th>\n",
       "      <th>2010-07</th>\n",
       "      <th>2010-08</th>\n",
       "      <th>2010-09</th>\n",
       "      <th>...</th>\n",
       "      <th>2017-03</th>\n",
       "      <th>2017-04</th>\n",
       "      <th>2017-05</th>\n",
       "      <th>2017-06</th>\n",
       "      <th>2017-07</th>\n",
       "      <th>2017-08</th>\n",
       "      <th>2017-09</th>\n",
       "      <th>FIPS</th>\n",
       "      <th>State</th>\n",
       "      <th>feature</th>\n",
       "    </tr>\n",
       "  </thead>\n",
       "  <tbody>\n",
       "    <tr>\n",
       "      <th>0</th>\n",
       "      <td>Los Angeles</td>\n",
       "      <td>30098</td>\n",
       "      <td>28988</td>\n",
       "      <td>28609</td>\n",
       "      <td>28311</td>\n",
       "      <td>27698</td>\n",
       "      <td>28432</td>\n",
       "      <td>28511</td>\n",
       "      <td>28806</td>\n",
       "      <td>29573</td>\n",
       "      <td>...</td>\n",
       "      <td>10713</td>\n",
       "      <td>10572</td>\n",
       "      <td>10948</td>\n",
       "      <td>11568</td>\n",
       "      <td>11578</td>\n",
       "      <td>11653</td>\n",
       "      <td>11575</td>\n",
       "      <td>06037</td>\n",
       "      <td>CA</td>\n",
       "      <td>InventoryMeasure_County_Public</td>\n",
       "    </tr>\n",
       "    <tr>\n",
       "      <th>1</th>\n",
       "      <td>Cook</td>\n",
       "      <td>29698</td>\n",
       "      <td>30106</td>\n",
       "      <td>32870</td>\n",
       "      <td>34568</td>\n",
       "      <td>33383</td>\n",
       "      <td>34646</td>\n",
       "      <td>35396</td>\n",
       "      <td>34643</td>\n",
       "      <td>33013</td>\n",
       "      <td>...</td>\n",
       "      <td>16595</td>\n",
       "      <td>16779</td>\n",
       "      <td>17514</td>\n",
       "      <td>18284</td>\n",
       "      <td>18482</td>\n",
       "      <td>19192</td>\n",
       "      <td>19704</td>\n",
       "      <td>17031</td>\n",
       "      <td>IL</td>\n",
       "      <td>InventoryMeasure_County_Public</td>\n",
       "    </tr>\n",
       "  </tbody>\n",
       "</table>\n",
       "<p>2 rows × 97 columns</p>\n",
       "</div>"
      ],
      "text/plain": [
       "    CountyName  2010-01  2010-02  2010-03  2010-04  2010-05  2010-06  2010-07  \\\n",
       "0  Los Angeles    30098    28988    28609    28311    27698    28432    28511   \n",
       "1         Cook    29698    30106    32870    34568    33383    34646    35396   \n",
       "\n",
       "   2010-08  2010-09               ...                2017-03  2017-04  \\\n",
       "0    28806    29573               ...                  10713    10572   \n",
       "1    34643    33013               ...                  16595    16779   \n",
       "\n",
       "   2017-05  2017-06  2017-07  2017-08  2017-09   FIPS  State  \\\n",
       "0    10948    11568    11578    11653    11575  06037     CA   \n",
       "1    17514    18284    18482    19192    19704  17031     IL   \n",
       "\n",
       "                          feature  \n",
       "0  InventoryMeasure_County_Public  \n",
       "1  InventoryMeasure_County_Public  \n",
       "\n",
       "[2 rows x 97 columns]"
      ]
     },
     "execution_count": 34,
     "metadata": {},
     "output_type": "execute_result"
    }
   ],
   "source": [
    "cnty_mrkt[markets[2]].drop(['RegionName', 'RegionType', 'StateName', \n",
    "                        'Metro', 'StateFullName', 'DataTypeDescription'], axis=1, inplace=True)\n",
    "cnty_mrkt[markets[2]]['feature'] = markets[2]\n",
    "cnty_mrkt[markets[2]].head(2)"
   ]
  },
  {
   "cell_type": "code",
   "execution_count": 35,
   "metadata": {},
   "outputs": [
    {
     "name": "stdout",
     "output_type": "stream",
     "text": [
      "County_MedianValuePerSqft_AllHomes\n",
      "County_PriceToRentRatio_AllHomes\n",
      "County_PctOfHomesDecreasingInValues_AllHomes\n",
      "County_PctOfHomesIncreasingInValues_AllHomes\n"
     ]
    }
   ],
   "source": [
    "# work around\n",
    "kees_trunc = ['County_MedianValuePerSqft_AllHomes',\n",
    " 'County_PriceToRentRatio_AllHomes',\n",
    " 'County_PctOfHomesDecreasingInValues_AllHomes',\n",
    " 'County_PctOfHomesIncreasingInValues_AllHomes']\n",
    "for i in kees_trunc:\n",
    "    print (i)\n",
    "    cnty_mrkt[i].MunicipalCodeFIPS = cnty_mrkt[i].MunicipalCodeFIPS.apply(str)\n",
    "    cnty_mrkt[i].MunicipalCodeFIPS = cnty_mrkt[i].MunicipalCodeFIPS.str.zfill(3)\n",
    "    cnty_mrkt[i].StateCodeFIPS = cnty_mrkt[i].StateCodeFIPS.apply(str)\n",
    "    cnty_mrkt[i].StateCodeFIPS = cnty_mrkt[i].StateCodeFIPS.str.zfill(2)\n",
    "    cnty_mrkt[i]['FIPS'] = cnty_mrkt[i].StateCodeFIPS + cnty_mrkt[i].MunicipalCodeFIPS\n",
    "    cnty_mrkt[i].drop(['RegionID', 'Metro', 'StateCodeFIPS', 'MunicipalCodeFIPS', 'SizeRank'], axis=1, inplace=True)\n",
    "    cnty_mrkt[i]['feature'] = i"
   ]
  },
  {
   "cell_type": "code",
   "execution_count": 36,
   "metadata": {
    "collapsed": true
   },
   "outputs": [],
   "source": [
    "output = open('./data/Zillow_Data/County_Market_Data.pkl', 'wb')\n",
    "pickle.dump(cnty_mrkt, output)\n",
    "output.close()"
   ]
  },
  {
   "cell_type": "code",
   "execution_count": 37,
   "metadata": {
    "collapsed": true
   },
   "outputs": [],
   "source": [
    "df_cnt_mrkts = pd.concat([cnty_mrkt[markets[0]], cnty_mrkt[markets[1]],\n",
    "                          cnty_mrkt[markets[2]], cnty_mrkt[markets[3]],\n",
    "                         cnty_mrkt[markets[4]], cnty_mrkt[markets[5]]])\n"
   ]
  },
  {
   "cell_type": "code",
   "execution_count": 38,
   "metadata": {},
   "outputs": [
    {
     "data": {
      "text/html": [
       "<div>\n",
       "<style>\n",
       "    .dataframe thead tr:only-child th {\n",
       "        text-align: right;\n",
       "    }\n",
       "\n",
       "    .dataframe thead th {\n",
       "        text-align: left;\n",
       "    }\n",
       "\n",
       "    .dataframe tbody tr th {\n",
       "        vertical-align: top;\n",
       "    }\n",
       "</style>\n",
       "<table border=\"1\" class=\"dataframe\">\n",
       "  <thead>\n",
       "    <tr style=\"text-align: right;\">\n",
       "      <th></th>\n",
       "      <th>1996-04</th>\n",
       "      <th>1996-05</th>\n",
       "      <th>1996-06</th>\n",
       "      <th>1996-07</th>\n",
       "      <th>1996-08</th>\n",
       "      <th>1996-09</th>\n",
       "      <th>1996-10</th>\n",
       "      <th>1996-11</th>\n",
       "      <th>1996-12</th>\n",
       "      <th>1997-01</th>\n",
       "      <th>...</th>\n",
       "      <th>2017-05</th>\n",
       "      <th>2017-06</th>\n",
       "      <th>2017-07</th>\n",
       "      <th>2017-08</th>\n",
       "      <th>2017-09</th>\n",
       "      <th>CountyName</th>\n",
       "      <th>FIPS</th>\n",
       "      <th>RegionName</th>\n",
       "      <th>State</th>\n",
       "      <th>feature</th>\n",
       "    </tr>\n",
       "  </thead>\n",
       "  <tbody>\n",
       "    <tr>\n",
       "      <th>0</th>\n",
       "      <td>113.0</td>\n",
       "      <td>113.0</td>\n",
       "      <td>113.0</td>\n",
       "      <td>112.0</td>\n",
       "      <td>112.0</td>\n",
       "      <td>112.0</td>\n",
       "      <td>112.0</td>\n",
       "      <td>112.0</td>\n",
       "      <td>113.0</td>\n",
       "      <td>113.0</td>\n",
       "      <td>...</td>\n",
       "      <td>394.0</td>\n",
       "      <td>395.0</td>\n",
       "      <td>396.0</td>\n",
       "      <td>398.0</td>\n",
       "      <td>400.0</td>\n",
       "      <td>NaN</td>\n",
       "      <td>06037</td>\n",
       "      <td>Los Angeles</td>\n",
       "      <td>CA</td>\n",
       "      <td>County_MedianValuePerSqft_AllHomes</td>\n",
       "    </tr>\n",
       "    <tr>\n",
       "      <th>1</th>\n",
       "      <td>103.0</td>\n",
       "      <td>103.0</td>\n",
       "      <td>103.0</td>\n",
       "      <td>102.0</td>\n",
       "      <td>102.0</td>\n",
       "      <td>102.0</td>\n",
       "      <td>102.0</td>\n",
       "      <td>102.0</td>\n",
       "      <td>102.0</td>\n",
       "      <td>103.0</td>\n",
       "      <td>...</td>\n",
       "      <td>165.0</td>\n",
       "      <td>165.0</td>\n",
       "      <td>164.0</td>\n",
       "      <td>164.0</td>\n",
       "      <td>165.0</td>\n",
       "      <td>NaN</td>\n",
       "      <td>17031</td>\n",
       "      <td>Cook</td>\n",
       "      <td>IL</td>\n",
       "      <td>County_MedianValuePerSqft_AllHomes</td>\n",
       "    </tr>\n",
       "    <tr>\n",
       "      <th>2</th>\n",
       "      <td>62.0</td>\n",
       "      <td>62.0</td>\n",
       "      <td>62.0</td>\n",
       "      <td>63.0</td>\n",
       "      <td>63.0</td>\n",
       "      <td>63.0</td>\n",
       "      <td>63.0</td>\n",
       "      <td>64.0</td>\n",
       "      <td>64.0</td>\n",
       "      <td>64.0</td>\n",
       "      <td>...</td>\n",
       "      <td>141.0</td>\n",
       "      <td>142.0</td>\n",
       "      <td>143.0</td>\n",
       "      <td>144.0</td>\n",
       "      <td>144.0</td>\n",
       "      <td>NaN</td>\n",
       "      <td>04013</td>\n",
       "      <td>Maricopa</td>\n",
       "      <td>AZ</td>\n",
       "      <td>County_MedianValuePerSqft_AllHomes</td>\n",
       "    </tr>\n",
       "  </tbody>\n",
       "</table>\n",
       "<p>3 rows × 263 columns</p>\n",
       "</div>"
      ],
      "text/plain": [
       "   1996-04  1996-05  1996-06  1996-07  1996-08  1996-09  1996-10  1996-11  \\\n",
       "0    113.0    113.0    113.0    112.0    112.0    112.0    112.0    112.0   \n",
       "1    103.0    103.0    103.0    102.0    102.0    102.0    102.0    102.0   \n",
       "2     62.0     62.0     62.0     63.0     63.0     63.0     63.0     64.0   \n",
       "\n",
       "   1996-12  1997-01                 ...                  2017-05  2017-06  \\\n",
       "0    113.0    113.0                 ...                    394.0    395.0   \n",
       "1    102.0    103.0                 ...                    165.0    165.0   \n",
       "2     64.0     64.0                 ...                    141.0    142.0   \n",
       "\n",
       "   2017-07  2017-08  2017-09  CountyName   FIPS   RegionName  State  \\\n",
       "0    396.0    398.0    400.0         NaN  06037  Los Angeles     CA   \n",
       "1    164.0    164.0    165.0         NaN  17031         Cook     IL   \n",
       "2    143.0    144.0    144.0         NaN  04013     Maricopa     AZ   \n",
       "\n",
       "                              feature  \n",
       "0  County_MedianValuePerSqft_AllHomes  \n",
       "1  County_MedianValuePerSqft_AllHomes  \n",
       "2  County_MedianValuePerSqft_AllHomes  \n",
       "\n",
       "[3 rows x 263 columns]"
      ]
     },
     "execution_count": 38,
     "metadata": {},
     "output_type": "execute_result"
    }
   ],
   "source": [
    "df_cnt_mrkts.head(3)"
   ]
  },
  {
   "cell_type": "code",
   "execution_count": 39,
   "metadata": {
    "collapsed": true
   },
   "outputs": [],
   "source": [
    "#df_cnt_mrkts.to_csv('./data/dataframes/df_cnt_mrkts.csv')"
   ]
  },
  {
   "cell_type": "markdown",
   "metadata": {},
   "source": [
    "** * Rental: Price per SqFt and median price * **"
   ]
  },
  {
   "cell_type": "code",
   "execution_count": 40,
   "metadata": {
    "collapsed": true
   },
   "outputs": [],
   "source": [
    "housing = ['1bedroom', '2bedroom', '3bedroom', '4bedroom', \n",
    "         '5BedroomOrMore', 'AllHomes', 'CondoCoop', 'DuplexTriplex', 'Sfr',\n",
    "        'Studio', 'Mfr5Plus']\n",
    "rentp_psqft = {}\n",
    "for name in housing:\n",
    "    path = './data/Zillow_Data/County/County_MedianRentalPricePerSqft_{}.csv'.format(name)\n",
    "    rentp_psqft[name] = pd.DataFrame(pd.read_csv(path))"
   ]
  },
  {
   "cell_type": "code",
   "execution_count": 41,
   "metadata": {},
   "outputs": [
    {
     "name": "stdout",
     "output_type": "stream",
     "text": [
      "1bedroom\n",
      "2bedroom\n",
      "3bedroom\n",
      "4bedroom\n",
      "5BedroomOrMore\n",
      "AllHomes\n",
      "CondoCoop\n",
      "DuplexTriplex\n",
      "Sfr\n",
      "Studio\n",
      "Mfr5Plus\n"
     ]
    }
   ],
   "source": [
    "for i in list(rentp_psqft.keys()):\n",
    "    print (i)\n",
    "    rentp_psqft[i].MunicipalCodeFIPS = rentp_psqft[i].MunicipalCodeFIPS.apply(str)\n",
    "    rentp_psqft[i].MunicipalCodeFIPS = rentp_psqft[i].MunicipalCodeFIPS.str.zfill(3)\n",
    "    rentp_psqft[i].StateCodeFIPS = rentp_psqft[i].StateCodeFIPS.apply(str)\n",
    "    rentp_psqft[i].StateCodeFIPS = rentp_psqft[i].StateCodeFIPS.str.zfill(2)\n",
    "    rentp_psqft[i]['FIPS'] = rentp_psqft[i].StateCodeFIPS + rentp_psqft[i].MunicipalCodeFIPS\n",
    "    rentp_psqft[i].drop(['Metro', 'StateCodeFIPS', 'MunicipalCodeFIPS', 'SizeRank'], axis=1, inplace=True)\n",
    "    rentp_psqft[i]['feature'] = 'rent_price_persqft_{}'.format(i)"
   ]
  },
  {
   "cell_type": "code",
   "execution_count": 42,
   "metadata": {
    "collapsed": true
   },
   "outputs": [],
   "source": [
    "output = open('./data/County_RentalPPSQft.pkl', 'wb')\n",
    "pickle.dump(rentp_psqft, output)\n",
    "output.close()"
   ]
  },
  {
   "cell_type": "code",
   "execution_count": 43,
   "metadata": {},
   "outputs": [
    {
     "data": {
      "text/html": [
       "<div>\n",
       "<style>\n",
       "    .dataframe thead tr:only-child th {\n",
       "        text-align: right;\n",
       "    }\n",
       "\n",
       "    .dataframe thead th {\n",
       "        text-align: left;\n",
       "    }\n",
       "\n",
       "    .dataframe tbody tr th {\n",
       "        vertical-align: top;\n",
       "    }\n",
       "</style>\n",
       "<table border=\"1\" class=\"dataframe\">\n",
       "  <thead>\n",
       "    <tr style=\"text-align: right;\">\n",
       "      <th></th>\n",
       "      <th>2010-01</th>\n",
       "      <th>2010-02</th>\n",
       "      <th>2010-03</th>\n",
       "      <th>2010-04</th>\n",
       "      <th>2010-05</th>\n",
       "      <th>2010-06</th>\n",
       "      <th>2010-07</th>\n",
       "      <th>2010-08</th>\n",
       "      <th>2010-09</th>\n",
       "      <th>2010-10</th>\n",
       "      <th>...</th>\n",
       "      <th>2017-04</th>\n",
       "      <th>2017-05</th>\n",
       "      <th>2017-06</th>\n",
       "      <th>2017-07</th>\n",
       "      <th>2017-08</th>\n",
       "      <th>2017-09</th>\n",
       "      <th>FIPS</th>\n",
       "      <th>RegionName</th>\n",
       "      <th>State</th>\n",
       "      <th>feature</th>\n",
       "    </tr>\n",
       "  </thead>\n",
       "  <tbody>\n",
       "    <tr>\n",
       "      <th>0</th>\n",
       "      <td>NaN</td>\n",
       "      <td>1.876072</td>\n",
       "      <td>1.900000</td>\n",
       "      <td>1.993623</td>\n",
       "      <td>1.993333</td>\n",
       "      <td>1.978114</td>\n",
       "      <td>1.932825</td>\n",
       "      <td>1.954321</td>\n",
       "      <td>1.900000</td>\n",
       "      <td>1.816487</td>\n",
       "      <td>...</td>\n",
       "      <td>2.915550</td>\n",
       "      <td>2.915385</td>\n",
       "      <td>2.923381</td>\n",
       "      <td>2.933333</td>\n",
       "      <td>2.918342</td>\n",
       "      <td>2.919563</td>\n",
       "      <td>06037</td>\n",
       "      <td>Los Angeles</td>\n",
       "      <td>CA</td>\n",
       "      <td>rent_price_persqft_1bedroom</td>\n",
       "    </tr>\n",
       "    <tr>\n",
       "      <th>1</th>\n",
       "      <td>NaN</td>\n",
       "      <td>1.766968</td>\n",
       "      <td>1.698396</td>\n",
       "      <td>1.678571</td>\n",
       "      <td>1.644231</td>\n",
       "      <td>1.616696</td>\n",
       "      <td>1.679544</td>\n",
       "      <td>1.481033</td>\n",
       "      <td>1.656367</td>\n",
       "      <td>1.735088</td>\n",
       "      <td>...</td>\n",
       "      <td>2.144242</td>\n",
       "      <td>2.187500</td>\n",
       "      <td>2.222964</td>\n",
       "      <td>2.207478</td>\n",
       "      <td>2.233506</td>\n",
       "      <td>2.316891</td>\n",
       "      <td>17031</td>\n",
       "      <td>Cook</td>\n",
       "      <td>IL</td>\n",
       "      <td>rent_price_persqft_1bedroom</td>\n",
       "    </tr>\n",
       "    <tr>\n",
       "      <th>2</th>\n",
       "      <td>NaN</td>\n",
       "      <td>NaN</td>\n",
       "      <td>NaN</td>\n",
       "      <td>NaN</td>\n",
       "      <td>NaN</td>\n",
       "      <td>NaN</td>\n",
       "      <td>NaN</td>\n",
       "      <td>NaN</td>\n",
       "      <td>NaN</td>\n",
       "      <td>NaN</td>\n",
       "      <td>...</td>\n",
       "      <td>1.542272</td>\n",
       "      <td>1.564718</td>\n",
       "      <td>1.532950</td>\n",
       "      <td>1.526165</td>\n",
       "      <td>1.545861</td>\n",
       "      <td>1.552696</td>\n",
       "      <td>48201</td>\n",
       "      <td>Harris</td>\n",
       "      <td>TX</td>\n",
       "      <td>rent_price_persqft_1bedroom</td>\n",
       "    </tr>\n",
       "  </tbody>\n",
       "</table>\n",
       "<p>3 rows × 97 columns</p>\n",
       "</div>"
      ],
      "text/plain": [
       "   2010-01   2010-02   2010-03   2010-04   2010-05   2010-06   2010-07  \\\n",
       "0      NaN  1.876072  1.900000  1.993623  1.993333  1.978114  1.932825   \n",
       "1      NaN  1.766968  1.698396  1.678571  1.644231  1.616696  1.679544   \n",
       "2      NaN       NaN       NaN       NaN       NaN       NaN       NaN   \n",
       "\n",
       "    2010-08   2010-09   2010-10             ...                2017-04  \\\n",
       "0  1.954321  1.900000  1.816487             ...               2.915550   \n",
       "1  1.481033  1.656367  1.735088             ...               2.144242   \n",
       "2       NaN       NaN       NaN             ...               1.542272   \n",
       "\n",
       "    2017-05   2017-06   2017-07   2017-08   2017-09   FIPS   RegionName  \\\n",
       "0  2.915385  2.923381  2.933333  2.918342  2.919563  06037  Los Angeles   \n",
       "1  2.187500  2.222964  2.207478  2.233506  2.316891  17031         Cook   \n",
       "2  1.564718  1.532950  1.526165  1.545861  1.552696  48201       Harris   \n",
       "\n",
       "   State                      feature  \n",
       "0     CA  rent_price_persqft_1bedroom  \n",
       "1     IL  rent_price_persqft_1bedroom  \n",
       "2     TX  rent_price_persqft_1bedroom  \n",
       "\n",
       "[3 rows x 97 columns]"
      ]
     },
     "execution_count": 43,
     "metadata": {},
     "output_type": "execute_result"
    }
   ],
   "source": [
    "df_rentp_psqft = pd.concat(rentp_psqft).reset_index().drop(['level_0', 'level_1'], axis=1)\n",
    "df_rentp_psqft.head(3)"
   ]
  },
  {
   "cell_type": "code",
   "execution_count": 44,
   "metadata": {
    "collapsed": true
   },
   "outputs": [],
   "source": [
    "#df_rentp_psqft.to_csv('./data/dataframes/df_rentp_psqft.csv')"
   ]
  },
  {
   "cell_type": "code",
   "execution_count": 76,
   "metadata": {
    "collapsed": true
   },
   "outputs": [],
   "source": [
    "med_rental = {}\n",
    "for name in housing:\n",
    "    path = './data/Zillow_Data/County/County_MedianRentalPrice_{}.csv'.format(name)\n",
    "    med_rental[name] = pd.DataFrame(pd.read_csv(path))"
   ]
  },
  {
   "cell_type": "code",
   "execution_count": 77,
   "metadata": {},
   "outputs": [
    {
     "name": "stdout",
     "output_type": "stream",
     "text": [
      "1bedroom\n",
      "2bedroom\n",
      "3bedroom\n",
      "4bedroom\n",
      "5BedroomOrMore\n",
      "AllHomes\n",
      "CondoCoop\n",
      "DuplexTriplex\n",
      "Sfr\n",
      "Studio\n",
      "Mfr5Plus\n"
     ]
    }
   ],
   "source": [
    "for i in list(med_rental.keys()):\n",
    "    print (i)\n",
    "    med_rental[i].MunicipalCodeFIPS = med_rental[i].MunicipalCodeFIPS.apply(str)\n",
    "    med_rental[i].MunicipalCodeFIPS = med_rental[i].MunicipalCodeFIPS.str.zfill(3)\n",
    "    med_rental[i].StateCodeFIPS = med_rental[i].StateCodeFIPS.apply(str)\n",
    "    med_rental[i].StateCodeFIPS = med_rental[i].StateCodeFIPS.str.zfill(2)\n",
    "    med_rental[i]['FIPS'] = med_rental[i].StateCodeFIPS + med_rental[i].MunicipalCodeFIPS\n",
    "    med_rental[i].drop(['Metro', 'StateCodeFIPS', 'MunicipalCodeFIPS', 'SizeRank'], axis=1, inplace=True)\n",
    "    med_rental[i]['feature'] = 'med_rental_{}'.format(i)"
   ]
  },
  {
   "cell_type": "code",
   "execution_count": 78,
   "metadata": {
    "collapsed": true
   },
   "outputs": [],
   "source": [
    "output = open('./data/County_RentalPrice.pkl', 'wb')\n",
    "pickle.dump(med_rental, output)\n",
    "output.close()"
   ]
  },
  {
   "cell_type": "code",
   "execution_count": 79,
   "metadata": {},
   "outputs": [
    {
     "data": {
      "text/html": [
       "<div>\n",
       "<style>\n",
       "    .dataframe thead tr:only-child th {\n",
       "        text-align: right;\n",
       "    }\n",
       "\n",
       "    .dataframe thead th {\n",
       "        text-align: left;\n",
       "    }\n",
       "\n",
       "    .dataframe tbody tr th {\n",
       "        vertical-align: top;\n",
       "    }\n",
       "</style>\n",
       "<table border=\"1\" class=\"dataframe\">\n",
       "  <thead>\n",
       "    <tr style=\"text-align: right;\">\n",
       "      <th></th>\n",
       "      <th>2010-01</th>\n",
       "      <th>2010-02</th>\n",
       "      <th>2010-03</th>\n",
       "      <th>2010-04</th>\n",
       "      <th>2010-05</th>\n",
       "      <th>2010-06</th>\n",
       "      <th>2010-07</th>\n",
       "      <th>2010-08</th>\n",
       "      <th>2010-09</th>\n",
       "      <th>2010-10</th>\n",
       "      <th>...</th>\n",
       "      <th>2017-04</th>\n",
       "      <th>2017-05</th>\n",
       "      <th>2017-06</th>\n",
       "      <th>2017-07</th>\n",
       "      <th>2017-08</th>\n",
       "      <th>2017-09</th>\n",
       "      <th>FIPS</th>\n",
       "      <th>RegionName</th>\n",
       "      <th>State</th>\n",
       "      <th>feature</th>\n",
       "    </tr>\n",
       "  </thead>\n",
       "  <tbody>\n",
       "    <tr>\n",
       "      <th>0</th>\n",
       "      <td>NaN</td>\n",
       "      <td>NaN</td>\n",
       "      <td>1375.0</td>\n",
       "      <td>1450.0</td>\n",
       "      <td>1500.0</td>\n",
       "      <td>1495.0</td>\n",
       "      <td>1495.0</td>\n",
       "      <td>1500.0</td>\n",
       "      <td>1337.5</td>\n",
       "      <td>1295.0</td>\n",
       "      <td>...</td>\n",
       "      <td>1990.0</td>\n",
       "      <td>1965.0</td>\n",
       "      <td>1995.0</td>\n",
       "      <td>1995.0</td>\n",
       "      <td>1990.5</td>\n",
       "      <td>1975.0</td>\n",
       "      <td>06037</td>\n",
       "      <td>Los Angeles</td>\n",
       "      <td>CA</td>\n",
       "      <td>med_rental_1bedroom</td>\n",
       "    </tr>\n",
       "    <tr>\n",
       "      <th>1</th>\n",
       "      <td>NaN</td>\n",
       "      <td>NaN</td>\n",
       "      <td>1100.0</td>\n",
       "      <td>1130.5</td>\n",
       "      <td>1099.5</td>\n",
       "      <td>1097.0</td>\n",
       "      <td>1020.5</td>\n",
       "      <td>985.0</td>\n",
       "      <td>1140.0</td>\n",
       "      <td>1300.0</td>\n",
       "      <td>...</td>\n",
       "      <td>1450.0</td>\n",
       "      <td>1474.5</td>\n",
       "      <td>1475.0</td>\n",
       "      <td>1465.0</td>\n",
       "      <td>1475.0</td>\n",
       "      <td>1550.0</td>\n",
       "      <td>17031</td>\n",
       "      <td>Cook</td>\n",
       "      <td>IL</td>\n",
       "      <td>med_rental_1bedroom</td>\n",
       "    </tr>\n",
       "    <tr>\n",
       "      <th>2</th>\n",
       "      <td>NaN</td>\n",
       "      <td>NaN</td>\n",
       "      <td>NaN</td>\n",
       "      <td>NaN</td>\n",
       "      <td>NaN</td>\n",
       "      <td>NaN</td>\n",
       "      <td>NaN</td>\n",
       "      <td>NaN</td>\n",
       "      <td>NaN</td>\n",
       "      <td>NaN</td>\n",
       "      <td>...</td>\n",
       "      <td>1199.0</td>\n",
       "      <td>1201.0</td>\n",
       "      <td>1183.0</td>\n",
       "      <td>1180.0</td>\n",
       "      <td>1195.0</td>\n",
       "      <td>1204.5</td>\n",
       "      <td>48201</td>\n",
       "      <td>Harris</td>\n",
       "      <td>TX</td>\n",
       "      <td>med_rental_1bedroom</td>\n",
       "    </tr>\n",
       "  </tbody>\n",
       "</table>\n",
       "<p>3 rows × 97 columns</p>\n",
       "</div>"
      ],
      "text/plain": [
       "   2010-01  2010-02  2010-03  2010-04  2010-05  2010-06  2010-07  2010-08  \\\n",
       "0      NaN      NaN   1375.0   1450.0   1500.0   1495.0   1495.0   1500.0   \n",
       "1      NaN      NaN   1100.0   1130.5   1099.5   1097.0   1020.5    985.0   \n",
       "2      NaN      NaN      NaN      NaN      NaN      NaN      NaN      NaN   \n",
       "\n",
       "   2010-09  2010-10         ...           2017-04  2017-05  2017-06  2017-07  \\\n",
       "0   1337.5   1295.0         ...            1990.0   1965.0   1995.0   1995.0   \n",
       "1   1140.0   1300.0         ...            1450.0   1474.5   1475.0   1465.0   \n",
       "2      NaN      NaN         ...            1199.0   1201.0   1183.0   1180.0   \n",
       "\n",
       "   2017-08  2017-09   FIPS   RegionName  State              feature  \n",
       "0   1990.5   1975.0  06037  Los Angeles     CA  med_rental_1bedroom  \n",
       "1   1475.0   1550.0  17031         Cook     IL  med_rental_1bedroom  \n",
       "2   1195.0   1204.5  48201       Harris     TX  med_rental_1bedroom  \n",
       "\n",
       "[3 rows x 97 columns]"
      ]
     },
     "execution_count": 79,
     "metadata": {},
     "output_type": "execute_result"
    }
   ],
   "source": [
    "df_med_rental = pd.concat(med_rental).reset_index().drop(['level_0', 'level_1'], axis=1)\n",
    "df_med_rental.head(3)"
   ]
  },
  {
   "cell_type": "markdown",
   "metadata": {},
   "source": [
    "#### Combine datasets"
   ]
  },
  {
   "cell_type": "code",
   "execution_count": 80,
   "metadata": {
    "collapsed": true
   },
   "outputs": [],
   "source": [
    "# all data sets to combine\n",
    "df_list = [df_zhvi, df_med_list, df_cnt_mrkts, df_rentp_psqft, df_med_rental]"
   ]
  },
  {
   "cell_type": "code",
   "execution_count": 81,
   "metadata": {},
   "outputs": [
    {
     "name": "stdout",
     "output_type": "stream",
     "text": [
      "Total Nan FIPS 0\n",
      "Total Nan FIPS 0\n",
      "Total Nan FIPS 0\n",
      "Total Nan FIPS 0\n",
      "Total Nan FIPS 0\n"
     ]
    }
   ],
   "source": [
    "# make columns headers all in string format BEFORE they all get concatonated\n",
    "for df in df_list:\n",
    "    df.columns = df.columns.astype(str)\n",
    "    print ('Total Nan FIPS', df.FIPS.isnull().sum())"
   ]
  },
  {
   "cell_type": "code",
   "execution_count": null,
   "metadata": {
    "collapsed": true
   },
   "outputs": [],
   "source": []
  },
  {
   "cell_type": "markdown",
   "metadata": {},
   "source": [
    "Make a new dataframe with zillow monthly values recombined to be a yearly value (the average over the year)"
   ]
  },
  {
   "cell_type": "code",
   "execution_count": 82,
   "metadata": {
    "collapsed": true
   },
   "outputs": [],
   "source": [
    "zillows = pd.concat(df_list)"
   ]
  },
  {
   "cell_type": "code",
   "execution_count": 83,
   "metadata": {},
   "outputs": [
    {
     "data": {
      "text/html": [
       "<div>\n",
       "<style>\n",
       "    .dataframe thead tr:only-child th {\n",
       "        text-align: right;\n",
       "    }\n",
       "\n",
       "    .dataframe thead th {\n",
       "        text-align: left;\n",
       "    }\n",
       "\n",
       "    .dataframe tbody tr th {\n",
       "        vertical-align: top;\n",
       "    }\n",
       "</style>\n",
       "<table border=\"1\" class=\"dataframe\">\n",
       "  <thead>\n",
       "    <tr style=\"text-align: right;\">\n",
       "      <th></th>\n",
       "      <th>1996-04</th>\n",
       "      <th>1996-05</th>\n",
       "      <th>1996-06</th>\n",
       "      <th>1996-07</th>\n",
       "      <th>1996-08</th>\n",
       "      <th>1996-09</th>\n",
       "      <th>1996-10</th>\n",
       "      <th>1996-11</th>\n",
       "      <th>1996-12</th>\n",
       "      <th>1997-01</th>\n",
       "      <th>...</th>\n",
       "      <th>2017-05</th>\n",
       "      <th>2017-06</th>\n",
       "      <th>2017-07</th>\n",
       "      <th>2017-08</th>\n",
       "      <th>2017-09</th>\n",
       "      <th>CountyName</th>\n",
       "      <th>FIPS</th>\n",
       "      <th>RegionName</th>\n",
       "      <th>State</th>\n",
       "      <th>feature</th>\n",
       "    </tr>\n",
       "  </thead>\n",
       "  <tbody>\n",
       "    <tr>\n",
       "      <th>0</th>\n",
       "      <td>95700.0</td>\n",
       "      <td>94500.0</td>\n",
       "      <td>93700.0</td>\n",
       "      <td>93100.0</td>\n",
       "      <td>93000.0</td>\n",
       "      <td>93100.0</td>\n",
       "      <td>92800.0</td>\n",
       "      <td>92500.0</td>\n",
       "      <td>92400.0</td>\n",
       "      <td>92500.0</td>\n",
       "      <td>...</td>\n",
       "      <td>405000.0</td>\n",
       "      <td>407400.0</td>\n",
       "      <td>410200.0</td>\n",
       "      <td>414200.0</td>\n",
       "      <td>418400.0</td>\n",
       "      <td>NaN</td>\n",
       "      <td>06037</td>\n",
       "      <td>Los Angeles</td>\n",
       "      <td>CA</td>\n",
       "      <td>ZHVI_1bedroom</td>\n",
       "    </tr>\n",
       "    <tr>\n",
       "      <th>1</th>\n",
       "      <td>90200.0</td>\n",
       "      <td>90000.0</td>\n",
       "      <td>89400.0</td>\n",
       "      <td>89000.0</td>\n",
       "      <td>89100.0</td>\n",
       "      <td>89200.0</td>\n",
       "      <td>89000.0</td>\n",
       "      <td>89200.0</td>\n",
       "      <td>89600.0</td>\n",
       "      <td>90000.0</td>\n",
       "      <td>...</td>\n",
       "      <td>171600.0</td>\n",
       "      <td>172000.0</td>\n",
       "      <td>171800.0</td>\n",
       "      <td>171600.0</td>\n",
       "      <td>171900.0</td>\n",
       "      <td>NaN</td>\n",
       "      <td>17031</td>\n",
       "      <td>Cook</td>\n",
       "      <td>IL</td>\n",
       "      <td>ZHVI_1bedroom</td>\n",
       "    </tr>\n",
       "  </tbody>\n",
       "</table>\n",
       "<p>2 rows × 263 columns</p>\n",
       "</div>"
      ],
      "text/plain": [
       "   1996-04  1996-05  1996-06  1996-07  1996-08  1996-09  1996-10  1996-11  \\\n",
       "0  95700.0  94500.0  93700.0  93100.0  93000.0  93100.0  92800.0  92500.0   \n",
       "1  90200.0  90000.0  89400.0  89000.0  89100.0  89200.0  89000.0  89200.0   \n",
       "\n",
       "   1996-12  1997-01      ...         2017-05   2017-06   2017-07   2017-08  \\\n",
       "0  92400.0  92500.0      ...        405000.0  407400.0  410200.0  414200.0   \n",
       "1  89600.0  90000.0      ...        171600.0  172000.0  171800.0  171600.0   \n",
       "\n",
       "    2017-09  CountyName   FIPS   RegionName  State        feature  \n",
       "0  418400.0         NaN  06037  Los Angeles     CA  ZHVI_1bedroom  \n",
       "1  171900.0         NaN  17031         Cook     IL  ZHVI_1bedroom  \n",
       "\n",
       "[2 rows x 263 columns]"
      ]
     },
     "execution_count": 83,
     "metadata": {},
     "output_type": "execute_result"
    }
   ],
   "source": [
    "zillows.head(2)"
   ]
  },
  {
   "cell_type": "code",
   "execution_count": 84,
   "metadata": {},
   "outputs": [
    {
     "data": {
      "text/plain": [
       "39707"
      ]
     },
     "execution_count": 84,
     "metadata": {},
     "output_type": "execute_result"
    }
   ],
   "source": [
    "zillows.CountyName.isnull().sum()"
   ]
  },
  {
   "cell_type": "code",
   "execution_count": 85,
   "metadata": {
    "collapsed": true
   },
   "outputs": [],
   "source": [
    "zillows.CountyName.fillna(zillows.RegionName, inplace = True)"
   ]
  },
  {
   "cell_type": "code",
   "execution_count": 86,
   "metadata": {
    "collapsed": true
   },
   "outputs": [],
   "source": [
    "zillows.RegionName.fillna(zillows.CountyName, inplace = True)"
   ]
  },
  {
   "cell_type": "code",
   "execution_count": 87,
   "metadata": {
    "collapsed": true
   },
   "outputs": [],
   "source": [
    "zillows['1996'] = zillows.iloc[:,0:9].mean(axis=1)"
   ]
  },
  {
   "cell_type": "code",
   "execution_count": 88,
   "metadata": {
    "collapsed": true
   },
   "outputs": [],
   "source": [
    "zillows['1997'] = zillows.iloc[:,9:21].mean(axis=1)\n",
    "zillows['1998'] = zillows.iloc[:,21:33].mean(axis=1)\n",
    "zillows['1999'] = zillows.iloc[:,33:45].mean(axis=1)\n",
    "zillows['2000'] = zillows.iloc[:,45:57].mean(axis=1)\n",
    "zillows['2001'] = zillows.iloc[:,57:69].mean(axis=1)\n",
    "zillows['2002'] = zillows.iloc[:,69:81].mean(axis=1)\n",
    "zillows['2003'] = zillows.iloc[:,81:93].mean(axis=1)\n",
    "zillows['2004'] = zillows.iloc[:,93:105].mean(axis=1)\n",
    "zillows['2005'] = zillows.iloc[:,105:117].mean(axis=1)\n",
    "zillows['2006'] = zillows.iloc[:,117:129].mean(axis=1)\n",
    "zillows['2007'] = zillows.iloc[:,129:141].mean(axis=1)\n",
    "zillows['2008'] = zillows.iloc[:,141:153].mean(axis=1)\n",
    "zillows['2009'] = zillows.iloc[:,153:165].mean(axis=1)\n",
    "zillows['2010'] = zillows.iloc[:,165:177].mean(axis=1)\n",
    "zillows['2011'] = zillows.iloc[:,177:189].mean(axis=1)\n",
    "zillows['2012'] = zillows.iloc[:,189:201].mean(axis=1)\n",
    "zillows['2013'] = zillows.iloc[:,201:213].mean(axis=1)\n",
    "zillows['2014'] = zillows.iloc[:,213:225].mean(axis=1)\n",
    "zillows['2015'] = zillows.iloc[:,225:237].mean(axis=1)\n",
    "zillows['2016'] = zillows.iloc[:,237:249].mean(axis=1)\n",
    "zillows['2017'] = zillows.iloc[:,249:258].mean(axis=1)"
   ]
  },
  {
   "cell_type": "code",
   "execution_count": 89,
   "metadata": {
    "collapsed": true
   },
   "outputs": [],
   "source": [
    "z_yrly = zillows.iloc[:, 258:]"
   ]
  },
  {
   "cell_type": "code",
   "execution_count": 90,
   "metadata": {
    "collapsed": true
   },
   "outputs": [],
   "source": [
    "z_mnthly = zillows.iloc[:, :262]"
   ]
  },
  {
   "cell_type": "code",
   "execution_count": 93,
   "metadata": {
    "collapsed": true
   },
   "outputs": [],
   "source": [
    "z_yrly.drop(['CountyName'],axis=1, inplace=True)\n",
    "z_mnthly.drop(['CountyName'],axis=1, inplace=True)"
   ]
  },
  {
   "cell_type": "code",
   "execution_count": 94,
   "metadata": {
    "collapsed": true
   },
   "outputs": [],
   "source": [
    "z_mnthly.to_csv('./data/dataframes/z_mnthly.csv')\n",
    "z_yrly.to_csv('./data/dataframes/z_yrly.csv')"
   ]
  }
 ],
 "metadata": {
  "kernelspec": {
   "display_name": "Python 3",
   "language": "python",
   "name": "python3"
  },
  "language_info": {
   "codemirror_mode": {
    "name": "ipython",
    "version": 3
   },
   "file_extension": ".py",
   "mimetype": "text/x-python",
   "name": "python",
   "nbconvert_exporter": "python",
   "pygments_lexer": "ipython3",
   "version": "3.6.2"
  }
 },
 "nbformat": 4,
 "nbformat_minor": 2
}
