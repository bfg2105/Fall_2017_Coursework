{
 "cells": [
  {
   "cell_type": "markdown",
   "metadata": {},
   "source": [
    "# Voting Data\n",
    "- Create df with all the voting results for each county for each year (2000-2016)\n",
    "    - Number of votes\n",
    "    - % republican votes\n",
    "    - % democrat votes\n",
    "    - State abbrev, RegionName, FIPS\n",
    "  \n",
    "Saved here: './data/dataframes/voting.csv'"
   ]
  },
  {
   "cell_type": "code",
   "execution_count": 1,
   "metadata": {
    "collapsed": true
   },
   "outputs": [],
   "source": [
    "import pandas as pd\n",
    "import numpy as np\n",
    "%matplotlib inline\n",
    "import matplotlib.pyplot as pl\n",
    "import datetime\n",
    "import pickle\n",
    "from pygeocoder import Geocoder\n",
    "\n",
    "colors = ['y', 'm', 'c', 'r', 'g', 'b', 'k', 'DeepPink',\\\n",
    "          'DodgerBlue', 'Aquamarine', 'MediumSpringGreen',\\\n",
    "         'MidnightBlue', 'Gold', 'DarkSlateGray', 'LimeGreen', \\\n",
    "         'LightSeaGreen', 'Salmon', 'Indigo', 'DarkMagenta', \\\n",
    "         'Thistle', 'DeepSkyBlue', 'CadetBlue', \\\n",
    "         'BlueViolet', 'Chocolate', 'SaddleBrown', 'Maroon', \\\n",
    "         'Peru', 'DarkOrange', 'Teal', 'DarkKhaki']"
   ]
  },
  {
   "cell_type": "code",
   "execution_count": 2,
   "metadata": {},
   "outputs": [
    {
     "data": {
      "text/html": [
       "<div>\n",
       "<style>\n",
       "    .dataframe thead tr:only-child th {\n",
       "        text-align: right;\n",
       "    }\n",
       "\n",
       "    .dataframe thead th {\n",
       "        text-align: left;\n",
       "    }\n",
       "\n",
       "    .dataframe tbody tr th {\n",
       "        vertical-align: top;\n",
       "    }\n",
       "</style>\n",
       "<table border=\"1\" class=\"dataframe\">\n",
       "  <thead>\n",
       "    <tr style=\"text-align: right;\">\n",
       "      <th></th>\n",
       "      <th>State</th>\n",
       "      <th>County Name</th>\n",
       "      <th>FIPS State</th>\n",
       "      <th>FIPS County</th>\n",
       "    </tr>\n",
       "  </thead>\n",
       "  <tbody>\n",
       "    <tr>\n",
       "      <th>1</th>\n",
       "      <td>Alabama</td>\n",
       "      <td>Autauga</td>\n",
       "      <td>01</td>\n",
       "      <td>001</td>\n",
       "    </tr>\n",
       "    <tr>\n",
       "      <th>2</th>\n",
       "      <td>Alabama</td>\n",
       "      <td>Baldwin</td>\n",
       "      <td>01</td>\n",
       "      <td>003</td>\n",
       "    </tr>\n",
       "    <tr>\n",
       "      <th>3</th>\n",
       "      <td>Alabama</td>\n",
       "      <td>Barbour</td>\n",
       "      <td>01</td>\n",
       "      <td>005</td>\n",
       "    </tr>\n",
       "  </tbody>\n",
       "</table>\n",
       "</div>"
      ],
      "text/plain": [
       "0    State County Name FIPS State FIPS County\n",
       "1  Alabama     Autauga         01         001\n",
       "2  Alabama     Baldwin         01         003\n",
       "3  Alabama     Barbour         01         005"
      ]
     },
     "execution_count": 2,
     "metadata": {},
     "output_type": "execute_result"
    }
   ],
   "source": [
    "# DL FIPS reference dataframe\n",
    "fips_codes = pd.read_excel('US_FIPS_Codes.xls')\n",
    "fips_codes.columns = fips_codes.iloc[0]\n",
    "fips_codes.drop(0, inplace=True)\n",
    "fips_codes.head(3)"
   ]
  },
  {
   "cell_type": "code",
   "execution_count": 3,
   "metadata": {
    "collapsed": true
   },
   "outputs": [],
   "source": [
    "#download State Abbreviations\n",
    "pkl_file = open('./data/dataframes/states_abbrev.pkl', 'rb')\n",
    "states = pickle.load(pkl_file)\n",
    "pkl_file.close()"
   ]
  },
  {
   "cell_type": "code",
   "execution_count": 4,
   "metadata": {
    "scrolled": true
   },
   "outputs": [
    {
     "data": {
      "text/html": [
       "<div>\n",
       "<style>\n",
       "    .dataframe thead tr:only-child th {\n",
       "        text-align: right;\n",
       "    }\n",
       "\n",
       "    .dataframe thead th {\n",
       "        text-align: left;\n",
       "    }\n",
       "\n",
       "    .dataframe tbody tr th {\n",
       "        vertical-align: top;\n",
       "    }\n",
       "</style>\n",
       "<table border=\"1\" class=\"dataframe\">\n",
       "  <thead>\n",
       "    <tr style=\"text-align: right;\">\n",
       "      <th></th>\n",
       "      <th>State</th>\n",
       "      <th>RegionName</th>\n",
       "      <th>FIPS State</th>\n",
       "      <th>FIPS County</th>\n",
       "      <th>FIPS</th>\n",
       "    </tr>\n",
       "  </thead>\n",
       "  <tbody>\n",
       "    <tr>\n",
       "      <th>1</th>\n",
       "      <td>AL</td>\n",
       "      <td>Autauga</td>\n",
       "      <td>01</td>\n",
       "      <td>001</td>\n",
       "      <td>01001</td>\n",
       "    </tr>\n",
       "    <tr>\n",
       "      <th>2</th>\n",
       "      <td>AL</td>\n",
       "      <td>Baldwin</td>\n",
       "      <td>01</td>\n",
       "      <td>003</td>\n",
       "      <td>01003</td>\n",
       "    </tr>\n",
       "    <tr>\n",
       "      <th>3</th>\n",
       "      <td>AL</td>\n",
       "      <td>Barbour</td>\n",
       "      <td>01</td>\n",
       "      <td>005</td>\n",
       "      <td>01005</td>\n",
       "    </tr>\n",
       "  </tbody>\n",
       "</table>\n",
       "</div>"
      ],
      "text/plain": [
       "0 State RegionName FIPS State FIPS County   FIPS\n",
       "1    AL    Autauga         01         001  01001\n",
       "2    AL    Baldwin         01         003  01003\n",
       "3    AL    Barbour         01         005  01005"
      ]
     },
     "execution_count": 4,
     "metadata": {},
     "output_type": "execute_result"
    }
   ],
   "source": [
    "#replace state full names with abbreviations and rename county column\n",
    "fips_codes.State = fips_codes.State.replace(states)\n",
    "fips_codes['FIPS'] = fips_codes['FIPS State'] + fips_codes['FIPS County']\n",
    "fips_codes.rename(columns={'County Name': 'RegionName'}, inplace=True)\n",
    "fips_codes.head(3)"
   ]
  },
  {
   "cell_type": "code",
   "execution_count": 5,
   "metadata": {
    "collapsed": true
   },
   "outputs": [],
   "source": [
    "fips_codes.to_csv('./data/dataframes/FIPS_codes.csv')"
   ]
  },
  {
   "cell_type": "markdown",
   "metadata": {},
   "source": [
    "# voting data"
   ]
  },
  {
   "cell_type": "code",
   "execution_count": 6,
   "metadata": {
    "collapsed": true
   },
   "outputs": [],
   "source": [
    "elections= ['00', '04', '08', '12', '16']"
   ]
  },
  {
   "cell_type": "code",
   "execution_count": 7,
   "metadata": {
    "collapsed": true
   },
   "outputs": [],
   "source": [
    "elections = ['2008_general_NYT', '2008_general_wiki', 'general_FIPS12', 'general_FIPS16',\n",
    "             'general_FIPS00', 'general_FIPS04']"
   ]
  },
  {
   "cell_type": "code",
   "execution_count": 8,
   "metadata": {
    "scrolled": true
   },
   "outputs": [
    {
     "name": "stdout",
     "output_type": "stream",
     "text": [
      "2008_general_NYT\n",
      "2008_general_wiki\n",
      "general_FIPS12\n",
      "general_FIPS16\n",
      "general_FIPS00\n",
      "general_FIPS04\n"
     ]
    }
   ],
   "source": [
    "voting = {}\n",
    "for fil in elections:\n",
    "    print (fil)\n",
    "    path = './data/County_Elections/{}.csv'.format(fil)\n",
    "    #path = './data/County_Elections/general_FIPS{}.csv'.format(fil)\n",
    "    voting[fil] =  pd.read_csv(path)\n",
    "    voting[fil].FIPS = voting[fil].FIPS.fillna('00000')\n",
    "    voting[fil].FIPS = voting[fil].FIPS.apply(int).apply(str).str.zfill(5)\n",
    "    voting[fil]['TotalVotes'] = voting[fil][['votes1', 'votes2', 'votes3']].sum(axis=1)"
   ]
  },
  {
   "cell_type": "code",
   "execution_count": 9,
   "metadata": {},
   "outputs": [
    {
     "data": {
      "text/html": [
       "<div>\n",
       "<style>\n",
       "    .dataframe thead tr:only-child th {\n",
       "        text-align: right;\n",
       "    }\n",
       "\n",
       "    .dataframe thead th {\n",
       "        text-align: left;\n",
       "    }\n",
       "\n",
       "    .dataframe tbody tr th {\n",
       "        vertical-align: top;\n",
       "    }\n",
       "</style>\n",
       "<table border=\"1\" class=\"dataframe\">\n",
       "  <thead>\n",
       "    <tr style=\"text-align: right;\">\n",
       "      <th></th>\n",
       "      <th>Unnamed: 0</th>\n",
       "      <th>Unnamed: 0.1</th>\n",
       "      <th>state</th>\n",
       "      <th>county</th>\n",
       "      <th>1st</th>\n",
       "      <th>2nd</th>\n",
       "      <th>3rd</th>\n",
       "      <th>votes1</th>\n",
       "      <th>votes2</th>\n",
       "      <th>votes3</th>\n",
       "      <th>pct1</th>\n",
       "      <th>pct2</th>\n",
       "      <th>pct3</th>\n",
       "      <th>party1</th>\n",
       "      <th>party2</th>\n",
       "      <th>party3</th>\n",
       "      <th>Abbreviation</th>\n",
       "      <th>FIPS</th>\n",
       "      <th>TotalVotes</th>\n",
       "    </tr>\n",
       "  </thead>\n",
       "  <tbody>\n",
       "    <tr>\n",
       "      <th>3115</th>\n",
       "      <td>3115</td>\n",
       "      <td>0</td>\n",
       "      <td>Wyoming</td>\n",
       "      <td>Uinta</td>\n",
       "      <td>McCain</td>\n",
       "      <td>Obama</td>\n",
       "      <td>NaN</td>\n",
       "      <td>5759</td>\n",
       "      <td>2317</td>\n",
       "      <td>NaN</td>\n",
       "      <td>69.0</td>\n",
       "      <td>28.0</td>\n",
       "      <td>NaN</td>\n",
       "      <td>R</td>\n",
       "      <td>D</td>\n",
       "      <td>NaN</td>\n",
       "      <td>WY</td>\n",
       "      <td>56041</td>\n",
       "      <td>8076.0</td>\n",
       "    </tr>\n",
       "    <tr>\n",
       "      <th>3116</th>\n",
       "      <td>3116</td>\n",
       "      <td>0</td>\n",
       "      <td>Wyoming</td>\n",
       "      <td>Washakie</td>\n",
       "      <td>McCain</td>\n",
       "      <td>Obama</td>\n",
       "      <td>NaN</td>\n",
       "      <td>2956</td>\n",
       "      <td>1042</td>\n",
       "      <td>NaN</td>\n",
       "      <td>73.0</td>\n",
       "      <td>26.0</td>\n",
       "      <td>NaN</td>\n",
       "      <td>R</td>\n",
       "      <td>D</td>\n",
       "      <td>NaN</td>\n",
       "      <td>WY</td>\n",
       "      <td>56043</td>\n",
       "      <td>3998.0</td>\n",
       "    </tr>\n",
       "    <tr>\n",
       "      <th>3117</th>\n",
       "      <td>3117</td>\n",
       "      <td>0</td>\n",
       "      <td>Wyoming</td>\n",
       "      <td>Weston</td>\n",
       "      <td>McCain</td>\n",
       "      <td>Obama</td>\n",
       "      <td>NaN</td>\n",
       "      <td>2618</td>\n",
       "      <td>658</td>\n",
       "      <td>NaN</td>\n",
       "      <td>78.0</td>\n",
       "      <td>20.0</td>\n",
       "      <td>NaN</td>\n",
       "      <td>R</td>\n",
       "      <td>D</td>\n",
       "      <td>NaN</td>\n",
       "      <td>WY</td>\n",
       "      <td>56045</td>\n",
       "      <td>3276.0</td>\n",
       "    </tr>\n",
       "  </tbody>\n",
       "</table>\n",
       "</div>"
      ],
      "text/plain": [
       "      Unnamed: 0  Unnamed: 0.1    state    county     1st    2nd  3rd  votes1  \\\n",
       "3115        3115             0  Wyoming     Uinta  McCain  Obama  NaN    5759   \n",
       "3116        3116             0  Wyoming  Washakie  McCain  Obama  NaN    2956   \n",
       "3117        3117             0  Wyoming    Weston  McCain  Obama  NaN    2618   \n",
       "\n",
       "      votes2  votes3  pct1  pct2  pct3 party1 party2  party3 Abbreviation  \\\n",
       "3115    2317     NaN  69.0  28.0   NaN      R      D     NaN           WY   \n",
       "3116    1042     NaN  73.0  26.0   NaN      R      D     NaN           WY   \n",
       "3117     658     NaN  78.0  20.0   NaN      R      D     NaN           WY   \n",
       "\n",
       "       FIPS  TotalVotes  \n",
       "3115  56041      8076.0  \n",
       "3116  56043      3998.0  \n",
       "3117  56045      3276.0  "
      ]
     },
     "execution_count": 9,
     "metadata": {},
     "output_type": "execute_result"
    }
   ],
   "source": [
    "voting[elections[0]].tail(3)"
   ]
  },
  {
   "cell_type": "code",
   "execution_count": 10,
   "metadata": {
    "collapsed": true
   },
   "outputs": [],
   "source": [
    "def party_pct(df):\n",
    "    df['Rpct'] = 'x'\n",
    "    df['Dpct'] = 'x'\n",
    "    for i in df.index:\n",
    "        if df.iloc[i]['party1'] == 'R':\n",
    "            df['Rpct'].iloc[i] = df.iloc[i]['pct1']\n",
    "            df['Dpct'].iloc[i] = df.iloc[i]['pct2']\n",
    "        else:\n",
    "            df['Rpct'].iloc[i] = df.iloc[i]['pct2']\n",
    "            df['Dpct'].iloc[i] = df.iloc[i]['pct1']\n",
    "    return df"
   ]
  },
  {
   "cell_type": "code",
   "execution_count": null,
   "metadata": {
    "scrolled": true
   },
   "outputs": [
    {
     "name": "stderr",
     "output_type": "stream",
     "text": [
      "/Users/baileygriswold/anaconda3/lib/python3.6/site-packages/pandas/core/indexing.py:179: SettingWithCopyWarning: \n",
      "A value is trying to be set on a copy of a slice from a DataFrame\n",
      "\n",
      "See the caveats in the documentation: http://pandas.pydata.org/pandas-docs/stable/indexing.html#indexing-view-versus-copy\n",
      "  self._setitem_with_indexer(indexer, value)\n"
     ]
    }
   ],
   "source": [
    "for df in elections:\n",
    "    voting[df] = party_pct(voting[df])"
   ]
  },
  {
   "cell_type": "code",
   "execution_count": null,
   "metadata": {
    "collapsed": true
   },
   "outputs": [],
   "source": [
    "output = open('./data/County_Elections/Voting.pkl', 'wb')\n",
    "pickle.dump(voting, output)\n",
    "output.close()"
   ]
  },
  {
   "cell_type": "code",
   "execution_count": 17,
   "metadata": {},
   "outputs": [
    {
     "data": {
      "text/html": [
       "<div>\n",
       "<style>\n",
       "    .dataframe thead tr:only-child th {\n",
       "        text-align: right;\n",
       "    }\n",
       "\n",
       "    .dataframe thead th {\n",
       "        text-align: left;\n",
       "    }\n",
       "\n",
       "    .dataframe tbody tr th {\n",
       "        vertical-align: top;\n",
       "    }\n",
       "</style>\n",
       "<table border=\"1\" class=\"dataframe\">\n",
       "  <thead>\n",
       "    <tr style=\"text-align: right;\">\n",
       "      <th></th>\n",
       "      <th>Unnamed: 0</th>\n",
       "      <th>Unnamed: 0.1</th>\n",
       "      <th>state</th>\n",
       "      <th>county</th>\n",
       "      <th>1st</th>\n",
       "      <th>2nd</th>\n",
       "      <th>3rd</th>\n",
       "      <th>votes1</th>\n",
       "      <th>votes2</th>\n",
       "      <th>votes3</th>\n",
       "      <th>...</th>\n",
       "      <th>pct2</th>\n",
       "      <th>pct3</th>\n",
       "      <th>party1</th>\n",
       "      <th>party2</th>\n",
       "      <th>party3</th>\n",
       "      <th>Abbreviation</th>\n",
       "      <th>FIPS</th>\n",
       "      <th>TotalVotes</th>\n",
       "      <th>Rpct</th>\n",
       "      <th>Dpct</th>\n",
       "    </tr>\n",
       "  </thead>\n",
       "  <tbody>\n",
       "    <tr>\n",
       "      <th>1189</th>\n",
       "      <td>1189</td>\n",
       "      <td>0</td>\n",
       "      <td>Massachusetts</td>\n",
       "      <td>Bristol</td>\n",
       "      <td>Obama</td>\n",
       "      <td>McCain</td>\n",
       "      <td>NaN</td>\n",
       "      <td>146311</td>\n",
       "      <td>90284</td>\n",
       "      <td>NaN</td>\n",
       "      <td>...</td>\n",
       "      <td>37.0</td>\n",
       "      <td>NaN</td>\n",
       "      <td>D</td>\n",
       "      <td>R</td>\n",
       "      <td>NaN</td>\n",
       "      <td>MA</td>\n",
       "      <td>25005</td>\n",
       "      <td>236595.0</td>\n",
       "      <td>37</td>\n",
       "      <td>61</td>\n",
       "    </tr>\n",
       "    <tr>\n",
       "      <th>2281</th>\n",
       "      <td>2281</td>\n",
       "      <td>0</td>\n",
       "      <td>Rhode Island</td>\n",
       "      <td>Bristol</td>\n",
       "      <td>Obama</td>\n",
       "      <td>McCain</td>\n",
       "      <td>NaN</td>\n",
       "      <td>15185</td>\n",
       "      <td>8701</td>\n",
       "      <td>NaN</td>\n",
       "      <td>...</td>\n",
       "      <td>36.0</td>\n",
       "      <td>NaN</td>\n",
       "      <td>D</td>\n",
       "      <td>R</td>\n",
       "      <td>NaN</td>\n",
       "      <td>NaN</td>\n",
       "      <td>00000</td>\n",
       "      <td>23886.0</td>\n",
       "      <td>36</td>\n",
       "      <td>63</td>\n",
       "    </tr>\n",
       "    <tr>\n",
       "      <th>2805</th>\n",
       "      <td>2805</td>\n",
       "      <td>0</td>\n",
       "      <td>Virginia</td>\n",
       "      <td>Bristol</td>\n",
       "      <td>McCain</td>\n",
       "      <td>Obama</td>\n",
       "      <td>NaN</td>\n",
       "      <td>4579</td>\n",
       "      <td>2665</td>\n",
       "      <td>NaN</td>\n",
       "      <td>...</td>\n",
       "      <td>36.0</td>\n",
       "      <td>NaN</td>\n",
       "      <td>R</td>\n",
       "      <td>D</td>\n",
       "      <td>NaN</td>\n",
       "      <td>VA</td>\n",
       "      <td>51520</td>\n",
       "      <td>7244.0</td>\n",
       "      <td>62</td>\n",
       "      <td>36</td>\n",
       "    </tr>\n",
       "  </tbody>\n",
       "</table>\n",
       "<p>3 rows × 21 columns</p>\n",
       "</div>"
      ],
      "text/plain": [
       "      Unnamed: 0  Unnamed: 0.1          state   county     1st     2nd  3rd  \\\n",
       "1189        1189             0  Massachusetts  Bristol   Obama  McCain  NaN   \n",
       "2281        2281             0   Rhode Island  Bristol   Obama  McCain  NaN   \n",
       "2805        2805             0       Virginia  Bristol  McCain   Obama  NaN   \n",
       "\n",
       "      votes1  votes2  votes3 ...   pct2  pct3  party1 party2 party3  \\\n",
       "1189  146311   90284     NaN ...   37.0   NaN       D      R    NaN   \n",
       "2281   15185    8701     NaN ...   36.0   NaN       D      R    NaN   \n",
       "2805    4579    2665     NaN ...   36.0   NaN       R      D    NaN   \n",
       "\n",
       "      Abbreviation   FIPS TotalVotes  Rpct Dpct  \n",
       "1189            MA  25005   236595.0    37   61  \n",
       "2281           NaN  00000    23886.0    36   63  \n",
       "2805            VA  51520     7244.0    62   36  \n",
       "\n",
       "[3 rows x 21 columns]"
      ]
     },
     "execution_count": 17,
     "metadata": {},
     "output_type": "execute_result"
    }
   ],
   "source": [
    "voting[elections[0]][voting[elections[0]].county == 'Bristol']"
   ]
  },
  {
   "cell_type": "code",
   "execution_count": 74,
   "metadata": {
    "collapsed": true
   },
   "outputs": [],
   "source": [
    "pkl_file = open('./data/County_Elections/Voting.pkl', 'rb')\n",
    "voting = pickle.load(pkl_file)\n",
    "pkl_file.close()"
   ]
  },
  {
   "cell_type": "code",
   "execution_count": 75,
   "metadata": {
    "collapsed": true
   },
   "outputs": [],
   "source": [
    "for df in elections:\n",
    "    voting[df] =  voting[df][['Abbreviation','state', 'FIPS', 'county', 'TotalVotes', 'Rpct', 'Dpct']]"
   ]
  },
  {
   "cell_type": "code",
   "execution_count": 97,
   "metadata": {},
   "outputs": [
    {
     "name": "stdout",
     "output_type": "stream",
     "text": [
      "State         0\n",
      "state         0\n",
      "FIPS          0\n",
      "RegionName    0\n",
      "TotalVotes    0\n",
      "Rpct          0\n",
      "Dpct          0\n",
      "dtype: int64\n",
      "State          0\n",
      "state          0\n",
      "FIPS           0\n",
      "RegionName     0\n",
      "TotalVotes     0\n",
      "Rpct          83\n",
      "Dpct          83\n",
      "dtype: int64\n",
      "State         0\n",
      "state         0\n",
      "FIPS          0\n",
      "RegionName    0\n",
      "TotalVotes    0\n",
      "Rpct          0\n",
      "Dpct          0\n",
      "dtype: int64\n",
      "State         0\n",
      "state         0\n",
      "FIPS          0\n",
      "RegionName    0\n",
      "TotalVotes    0\n",
      "Rpct          0\n",
      "Dpct          0\n",
      "dtype: int64\n",
      "State         0\n",
      "state         0\n",
      "FIPS          0\n",
      "RegionName    1\n",
      "TotalVotes    0\n",
      "Rpct          0\n",
      "Dpct          0\n",
      "dtype: int64\n"
     ]
    }
   ],
   "source": [
    "for df in elections:\n",
    "    print (voting[df].isnull().sum())"
   ]
  },
  {
   "cell_type": "code",
   "execution_count": null,
   "metadata": {
    "collapsed": true
   },
   "outputs": [],
   "source": [
    "for df in elections:\n",
    "    voting[df].Abbreviation.fillna(value=voting[df].state, inplace=True)"
   ]
  },
  {
   "cell_type": "code",
   "execution_count": 110,
   "metadata": {
    "collapsed": true
   },
   "outputs": [],
   "source": [
    "for df in elections:\n",
    "    voting[df].State = voting[df].State.replace(states)"
   ]
  },
  {
   "cell_type": "code",
   "execution_count": 116,
   "metadata": {
    "collapsed": true
   },
   "outputs": [
    {
     "name": "stdout",
     "output_type": "stream",
     "text": [
      "GA    159\n",
      "IL    102\n",
      "VA    100\n",
      "IA     99\n",
      "OH     88\n",
      "AR     75\n",
      "FL     67\n",
      "AL     67\n",
      "CO     63\n",
      "CA     58\n",
      "ID     44\n",
      "WA     39\n",
      "OR     36\n",
      "NV     16\n",
      "ME     16\n",
      "AZ     15\n",
      "MA     14\n",
      "VT     14\n",
      "NH     10\n",
      "CT      8\n",
      "RI      5\n",
      "HI      4\n",
      "DE      3\n",
      "Name: State, dtype: int64\n",
      "TX    254\n",
      "GA    159\n",
      "VA    144\n",
      "KY    120\n",
      "MO    116\n",
      "KS    105\n",
      "IL    102\n",
      "NC    100\n",
      "IA     99\n",
      "TN     95\n",
      "NE     93\n",
      "IN     92\n",
      "OH     88\n",
      "MN     87\n",
      "MI     83\n",
      "MS     82\n",
      "OK     77\n",
      "AR     75\n",
      "WI     72\n",
      "FL     67\n",
      "PA     67\n",
      "AL     67\n",
      "SD     66\n",
      "LA     64\n",
      "CO     64\n",
      "NY     62\n",
      "CA     58\n",
      "MT     56\n",
      "WV     55\n",
      "ND     53\n",
      "SC     46\n",
      "ID     44\n",
      "WA     39\n",
      "OR     36\n",
      "NM     33\n",
      "UT     29\n",
      "MD     24\n",
      "WY     23\n",
      "NJ     21\n",
      "NV     17\n",
      "AZ     15\n",
      "MA     14\n",
      "VT     14\n",
      "NH     10\n",
      "CT      8\n",
      "HI      5\n",
      "RI      5\n",
      "DE      3\n",
      "Name: State, dtype: int64\n",
      "TX    254\n",
      "GA    159\n",
      "VA    139\n",
      "KY    120\n",
      "MO    115\n",
      "KS    105\n",
      "IL    102\n",
      "NC    100\n",
      "IA     99\n",
      "TN     95\n",
      "NE     93\n",
      "IN     92\n",
      "OH     88\n",
      "MN     87\n",
      "MI     83\n",
      "MS     82\n",
      "OK     77\n",
      "AR     75\n",
      "WI     72\n",
      "FL     67\n",
      "PA     67\n",
      "AL     67\n",
      "SD     66\n",
      "LA     64\n",
      "CO     64\n",
      "NY     62\n",
      "CA     58\n",
      "MT     56\n",
      "WV     55\n",
      "ND     53\n",
      "SC     46\n",
      "ID     44\n",
      "WA     39\n",
      "OR     36\n",
      "NM     33\n",
      "UT     29\n",
      "MD     25\n",
      "WY     23\n",
      "NJ     21\n",
      "NV     17\n",
      "ME     16\n",
      "AZ     15\n",
      "MA     14\n",
      "VT     14\n",
      "NH     10\n",
      "CT      8\n",
      "RI      5\n",
      "HI      4\n",
      "DE      3\n",
      "Name: State, dtype: int64\n",
      "TX                      254\n",
      "GA                      159\n",
      "VA                      139\n",
      "KY                      120\n",
      "MO                      115\n",
      "KS                      105\n",
      "IL                      102\n",
      "NC                      100\n",
      "IA                       99\n",
      "TN                       95\n",
      "NE                       93\n",
      "IN                       92\n",
      "OH                       88\n",
      "MN                       87\n",
      "MI                       83\n",
      "MS                       82\n",
      "OK                       77\n",
      "AR                       75\n",
      "WI                       72\n",
      "AL                       67\n",
      "FL                       67\n",
      "PA                       67\n",
      "SD                       66\n",
      "LA                       64\n",
      "CO                       64\n",
      "NY                       62\n",
      "CA                       58\n",
      "MT                       56\n",
      "WV                       55\n",
      "ND                       53\n",
      "SC                       46\n",
      "ID                       44\n",
      "WA                       39\n",
      "OR                       36\n",
      "NM                       33\n",
      "UT                       29\n",
      "MD                       25\n",
      "WY                       23\n",
      "NJ                       21\n",
      "NV                       17\n",
      "ME                       16\n",
      "AZ                       15\n",
      "VT                       14\n",
      "MA                       14\n",
      "NH                       10\n",
      "CT                        8\n",
      "RI                        5\n",
      "HI                        4\n",
      "DE                        3\n",
      "AK                        1\n",
      "District of Columbia      1\n",
      "Name: State, dtype: int64\n",
      "TX                      254\n",
      "GA                      159\n",
      "VA                      142\n",
      "KY                      120\n",
      "MO                      117\n",
      "KS                      105\n",
      "IL                      102\n",
      "NC                      100\n",
      "IA                       99\n",
      "TN                       95\n",
      "NE                       93\n",
      "IN                       92\n",
      "OH                       88\n",
      "MN                       87\n",
      "MI                       83\n",
      "MS                       82\n",
      "OK                       77\n",
      "AR                       75\n",
      "WI                       72\n",
      "AL                       67\n",
      "FL                       67\n",
      "PA                       67\n",
      "SD                       66\n",
      "LA                       64\n",
      "CO                       64\n",
      "NY                       62\n",
      "CA                       58\n",
      "MT                       56\n",
      "WV                       55\n",
      "ND                       53\n",
      "SC                       46\n",
      "ID                       44\n",
      "WA                       39\n",
      "OR                       36\n",
      "NM                       33\n",
      "UT                       29\n",
      "MD                       26\n",
      "WY                       23\n",
      "NJ                       21\n",
      "NV                       17\n",
      "ME                       16\n",
      "AZ                       15\n",
      "VT                       14\n",
      "MA                       14\n",
      "NH                       10\n",
      "CT                        8\n",
      "RI                        5\n",
      "HI                        4\n",
      "DE                        3\n",
      "AK                        1\n",
      "District of Columbia      1\n",
      "Name: State, dtype: int64\n"
     ]
    }
   ],
   "source": [
    "for df in elections:\n",
    "    print (voting[df].State.value_counts())"
   ]
  },
  {
   "cell_type": "code",
   "execution_count": 115,
   "metadata": {
    "collapsed": true
   },
   "outputs": [],
   "source": [
    "voting[df].State.replace(to_replace='District-Of-Columbia', value='District of Columbia', inplace=True)"
   ]
  },
  {
   "cell_type": "code",
   "execution_count": 95,
   "metadata": {
    "collapsed": true
   },
   "outputs": [],
   "source": [
    "for df in elections:\n",
    "    #voting[df] = pd.melt(voting[df], id_vars=['Abbreviation', 'county', 'FIPS']).sort_values(['Abbreviation', 'county'])\n",
    "    voting[df].rename(columns={'Abbreviation':'State', 'county':'RegionName'.format(df)}, inplace=True)\n",
    "    \n",
    "    \n",
    "    "
   ]
  },
  {
   "cell_type": "code",
   "execution_count": 118,
   "metadata": {
    "collapsed": true
   },
   "outputs": [],
   "source": [
    "for df in elections:\n",
    "    voting[df] = pd.merge(voting[df], fips_codes, on=['State', 'RegionName'])\n",
    "    voting[df].FIPS_x.replace(to_replace='00000', value=voting[df].FIPS_y, inplace=True)"
   ]
  },
  {
   "cell_type": "code",
   "execution_count": 130,
   "metadata": {
    "collapsed": true
   },
   "outputs": [],
   "source": [
    "for df in elections:\n",
    "    #voting[df].drop(['FIPS State', 'FIPS County', 'FIPS_y', 'state'], axis=1, inplace=True)\n",
    "    voting[df] = pd.melt(voting[df], id_vars=['State', 'RegionName', 'FIPS_x']).sort_values(['State', 'RegionName'])\n",
    "    voting[df].rename(columns={'FIPS_x':'FIPS',\n",
    "                              'variable':'feature', 'value': '20{}'.format(df)}, inplace=True)"
   ]
  },
  {
   "cell_type": "code",
   "execution_count": 176,
   "metadata": {},
   "outputs": [
    {
     "name": "stdout",
     "output_type": "stream",
     "text": [
      "9048\n",
      "9048\n"
     ]
    }
   ],
   "source": [
    "df = '16'\n",
    "print (len(voting[df]))\n",
    "print (len(voting[df].drop_duplicates(keep='first')))"
   ]
  },
  {
   "cell_type": "code",
   "execution_count": null,
   "metadata": {
    "collapsed": true
   },
   "outputs": [],
   "source": [
    "for df in elections:\n",
    "    voting[df]"
   ]
  },
  {
   "cell_type": "markdown",
   "metadata": {},
   "source": [
    "### fixing cities and counties that are miscoded"
   ]
  },
  {
   "cell_type": "code",
   "execution_count": 359,
   "metadata": {
    "collapsed": true
   },
   "outputs": [],
   "source": [
    "voting['00'].drop([951, 2036, 3121], inplace=True)"
   ]
  },
  {
   "cell_type": "code",
   "execution_count": 347,
   "metadata": {
    "collapsed": true
   },
   "outputs": [],
   "source": [
    "voting['16'].drop([2733, 5749, 8765], inplace=True)\n",
    "voting['12'].drop([2735, 5753, 8771], inplace=True)\n",
    "voting['04'].drop([2703, 5686, 8673, 2702, 5687, 8672], inplace=True)\n",
    "voting['04'].loc[[2704, 5689, 8674], 'RegionName'] = 'Bedford City'\n",
    "voting['00'].loc[[958, 2043, 3128], 'RegionName'] = 'Bedford City'"
   ]
  },
  {
   "cell_type": "code",
   "execution_count": 320,
   "metadata": {
    "collapsed": true
   },
   "outputs": [],
   "source": [
    "voting['08'].drop([1130, 4146, 7162], inplace=True)\n",
    "voting['12'].drop([1131, 4149, 7167], inplace=True)\n",
    "voting['16'].drop([1133, 4149, 7165, 1132, 4148, 7164], inplace=True)\n",
    "voting['16'].loc[[1134, 4150, 7166], 'RegionName'] = 'Baltimore City'"
   ]
  },
  {
   "cell_type": "code",
   "execution_count": 294,
   "metadata": {
    "collapsed": true
   },
   "outputs": [],
   "source": [
    "voting['16'].loc[[2754, 5770, 8786], 'RegionName'] = 'Fairfax City'\n",
    "voting['16'].drop([2753, 5769, 8785, 2752, 5768, 8784], inplace=True)\n",
    "voting['12'].drop([2756, 5774, 8792], inplace=True)\n",
    "voting['08'].drop([2754, 5770, 8786], inplace=True)\n",
    "voting['04'].loc[[2726, 5711, 8696], 'RegionName'] = 'Fairfax City'\n",
    "voting['04'].drop([2725, 5710, 8695, 2724, 5709, 8694], inplace=True)"
   ]
  },
  {
   "cell_type": "code",
   "execution_count": 180,
   "metadata": {
    "collapsed": true
   },
   "outputs": [],
   "source": [
    "#distinguishing between Richmond Coutny (FIPS = 51159) and Richmond City\n",
    "voting['04'].loc[[2779,5764,8749], 'RegionName'] = 'Richmond City'\n",
    "voting['04'].loc[[2777, 5762, 8747], 'FIPS'] = '51159'\n",
    "voting['00'].loc[[1025, 2110, 3195], 'RegionName'] = 'Richmond City'\n",
    "voting['08'].loc[[2806, 5822, 8838], 'FIPS'] = '51159'\n",
    "voting['16'].loc[[2805, 5821, 8837], 'FIPS'] = '51159'\n",
    "voting['16'].loc[[2807, 5823, 8839], 'RegionName'] = 'Richmond City'\n",
    "voting['16'].drop([2805, 2806, 5821, 5822, 8837, 8838], inplace=True)\n",
    "voting['12'].drop([2807, 5825, 8843], inplace=True)\n",
    "voting['08'].drop([2805, 5821, 8837], inplace=True)\n",
    "voting['04'].drop([2778, 1778, 5762, 5763, 8747, 8748], inplace=True)"
   ]
  },
  {
   "cell_type": "code",
   "execution_count": 193,
   "metadata": {
    "collapsed": true
   },
   "outputs": [],
   "source": [
    "voting['16'].loc[[2759, 5775, 8791], 'FIPS'] = '51067'\n",
    "voting['16'].drop([2759, 2760, 5775, 5776, 8791, 8792], inplace=True)\n",
    "voting['16'].loc[[2761, 5777, 8793], 'RegionName'] = 'Franklin City'\n",
    "voting['12'].drop([2762, 5780, 8798], inplace=True)\n",
    "voting['08'].drop([2760, 5776, 8792], inplace=True)\n",
    "voting['04'].loc[[2733, 5718, 8703], 'RegionName'] = 'Franklin City'\n",
    "voting['04'].drop([2731, 5716, 8701, 2732, 5717, 8702], inplace=True)\n",
    "voting['00'].loc[[983, 2068, 3153], 'RegionName'] = 'Franklin City'"
   ]
  },
  {
   "cell_type": "code",
   "execution_count": 227,
   "metadata": {
    "collapsed": true
   },
   "outputs": [],
   "source": [
    "voting['00'].loc[[1027, 2112, 3197], 'RegionName'] = 'Roanoke City'\n",
    "voting['04'].drop([2782, 5767, 8750, 2781, 5766, 8751], inplace=True)\n",
    "voting['04'].loc[[2783, 5768, 8753], 'RegionName'] = 'Roanoke City'\n",
    "voting['08'].drop([2809, 5825, 8841], inplace=True)\n",
    "voting['12'].drop([2811, 5829, 8847], inplace=True)\n",
    "voting['16'].drop([2810, 5826, 8842, 2809, 5825, 8841], inplace=True)\n",
    "voting['16'].loc[[2811, 5827, 8843], 'RegionName'] = 'Roanoke City'"
   ]
  },
  {
   "cell_type": "code",
   "execution_count": null,
   "metadata": {
    "collapsed": true
   },
   "outputs": [],
   "source": []
  },
  {
   "cell_type": "markdown",
   "metadata": {},
   "source": [
    "### Merge together all the year dataframes"
   ]
  },
  {
   "cell_type": "code",
   "execution_count": 416,
   "metadata": {
    "scrolled": false
   },
   "outputs": [
    {
     "name": "stdout",
     "output_type": "stream",
     "text": [
      "Vot_df[0]: 3252\n",
      "Vot_df[1]: 8924\n",
      "merged_Df: 8975\n"
     ]
    }
   ],
   "source": [
    "print ('Vot_df[0]: {}'.format(len(voting[elections[0]])))\n",
    "print ('Vot_df[1]: {}'.format(len(voting[elections[1]])))\n",
    "df_vot = pd.merge(voting[elections[0]], voting[elections[1]], on=['State', 'FIPS', 'RegionName', 'feature', ], how='outer')\n",
    "print ('merged_Df: {}'.format(len(df_vot)))"
   ]
  },
  {
   "cell_type": "code",
   "execution_count": 417,
   "metadata": {},
   "outputs": [
    {
     "name": "stdout",
     "output_type": "stream",
     "text": [
      "Vot_df[2]: 9030\n",
      "merged: 8975\n",
      "new merged_Df: 9054\n"
     ]
    }
   ],
   "source": [
    "print ('Vot_df[2]: {}'.format(len(voting[elections[2]])))\n",
    "print ('merged: {}'.format(len(df_vot)))\n",
    "df_vot = pd.merge(df_vot, voting[elections[2]], on=['State', 'RegionName','FIPS', 'feature'], how='outer')\n",
    "print ('new merged_Df: {}'.format(len(df_vot)))"
   ]
  },
  {
   "cell_type": "code",
   "execution_count": 418,
   "metadata": {},
   "outputs": [
    {
     "name": "stdout",
     "output_type": "stream",
     "text": [
      "Vot_df[3]: 9036\n",
      "merged: 9054\n",
      "new merged_Df: 9060\n"
     ]
    }
   ],
   "source": [
    "print ('Vot_df[3]: {}'.format(len(voting[elections[3]])))\n",
    "print ('merged: {}'.format(len(df_vot)))\n",
    "df_vot = pd.merge(df_vot, voting[elections[3]], on=['State', 'RegionName','FIPS', 'feature'], how='outer')\n",
    "print ('new merged_Df: {}'.format(len(df_vot)))"
   ]
  },
  {
   "cell_type": "code",
   "execution_count": 419,
   "metadata": {
    "scrolled": false
   },
   "outputs": [
    {
     "name": "stdout",
     "output_type": "stream",
     "text": [
      "Vot_df[4]: 9030\n",
      "merged: 9060\n",
      "new merged_Df: 9081\n"
     ]
    }
   ],
   "source": [
    "print ('Vot_df[4]: {}'.format(len(voting[elections[2]])))\n",
    "print ('merged: {}'.format(len(df_vot)))\n",
    "df_vot = pd.merge(df_vot, voting[elections[4]], on=['State', 'RegionName','FIPS', 'feature'], how='outer')\n",
    "print ('new merged_Df: {}'.format(len(df_vot)))"
   ]
  },
  {
   "cell_type": "code",
   "execution_count": 421,
   "metadata": {
    "collapsed": true
   },
   "outputs": [],
   "source": [
    "df_vot.to_csv('./data/dataframes/voting.csv')"
   ]
  },
  {
   "cell_type": "code",
   "execution_count": 423,
   "metadata": {},
   "outputs": [
    {
     "data": {
      "text/html": [
       "<div>\n",
       "<style>\n",
       "    .dataframe thead tr:only-child th {\n",
       "        text-align: right;\n",
       "    }\n",
       "\n",
       "    .dataframe thead th {\n",
       "        text-align: left;\n",
       "    }\n",
       "\n",
       "    .dataframe tbody tr th {\n",
       "        vertical-align: top;\n",
       "    }\n",
       "</style>\n",
       "<table border=\"1\" class=\"dataframe\">\n",
       "  <thead>\n",
       "    <tr style=\"text-align: right;\">\n",
       "      <th></th>\n",
       "      <th>State</th>\n",
       "      <th>RegionName</th>\n",
       "      <th>FIPS</th>\n",
       "      <th>feature</th>\n",
       "      <th>2000</th>\n",
       "      <th>2004</th>\n",
       "      <th>2008</th>\n",
       "      <th>2012</th>\n",
       "      <th>2016</th>\n",
       "    </tr>\n",
       "  </thead>\n",
       "  <tbody>\n",
       "    <tr>\n",
       "      <th>0</th>\n",
       "      <td>AL</td>\n",
       "      <td>Autauga</td>\n",
       "      <td>01001</td>\n",
       "      <td>TotalVotes</td>\n",
       "      <td>17208</td>\n",
       "      <td>20081</td>\n",
       "      <td>23489</td>\n",
       "      <td>23856</td>\n",
       "      <td>24556</td>\n",
       "    </tr>\n",
       "    <tr>\n",
       "      <th>1</th>\n",
       "      <td>AL</td>\n",
       "      <td>Autauga</td>\n",
       "      <td>01001</td>\n",
       "      <td>Rpct</td>\n",
       "      <td>69.69</td>\n",
       "      <td>75.7</td>\n",
       "      <td>74</td>\n",
       "      <td>0.726</td>\n",
       "      <td>0.734</td>\n",
       "    </tr>\n",
       "    <tr>\n",
       "      <th>2</th>\n",
       "      <td>AL</td>\n",
       "      <td>Autauga</td>\n",
       "      <td>01001</td>\n",
       "      <td>Dpct</td>\n",
       "      <td>28.72</td>\n",
       "      <td>23.7</td>\n",
       "      <td>26</td>\n",
       "      <td>0.266</td>\n",
       "      <td>0.24</td>\n",
       "    </tr>\n",
       "    <tr>\n",
       "      <th>3</th>\n",
       "      <td>AL</td>\n",
       "      <td>Baldwin</td>\n",
       "      <td>01003</td>\n",
       "      <td>TotalVotes</td>\n",
       "      <td>56480</td>\n",
       "      <td>69320</td>\n",
       "      <td>80554</td>\n",
       "      <td>84698</td>\n",
       "      <td>93637</td>\n",
       "    </tr>\n",
       "    <tr>\n",
       "      <th>4</th>\n",
       "      <td>AL</td>\n",
       "      <td>Baldwin</td>\n",
       "      <td>01003</td>\n",
       "      <td>Rpct</td>\n",
       "      <td>72.37</td>\n",
       "      <td>76.4</td>\n",
       "      <td>75</td>\n",
       "      <td>0.774</td>\n",
       "      <td>0.774</td>\n",
       "    </tr>\n",
       "  </tbody>\n",
       "</table>\n",
       "</div>"
      ],
      "text/plain": [
       "  State RegionName   FIPS     feature   2000   2004   2008   2012   2016\n",
       "0    AL    Autauga  01001  TotalVotes  17208  20081  23489  23856  24556\n",
       "1    AL    Autauga  01001        Rpct  69.69   75.7     74  0.726  0.734\n",
       "2    AL    Autauga  01001        Dpct  28.72   23.7     26  0.266   0.24\n",
       "3    AL    Baldwin  01003  TotalVotes  56480  69320  80554  84698  93637\n",
       "4    AL    Baldwin  01003        Rpct  72.37   76.4     75  0.774  0.774"
      ]
     },
     "execution_count": 423,
     "metadata": {},
     "output_type": "execute_result"
    }
   ],
   "source": [
    "df_vot.head()"
   ]
  },
  {
   "cell_type": "code",
   "execution_count": null,
   "metadata": {
    "collapsed": true
   },
   "outputs": [],
   "source": []
  }
 ],
 "metadata": {
  "kernelspec": {
   "display_name": "Python 3",
   "language": "python",
   "name": "python3"
  },
  "language_info": {
   "codemirror_mode": {
    "name": "ipython",
    "version": 3
   },
   "file_extension": ".py",
   "mimetype": "text/x-python",
   "name": "python",
   "nbconvert_exporter": "python",
   "pygments_lexer": "ipython3",
   "version": "3.6.2"
  }
 },
 "nbformat": 4,
 "nbformat_minor": 2
}
